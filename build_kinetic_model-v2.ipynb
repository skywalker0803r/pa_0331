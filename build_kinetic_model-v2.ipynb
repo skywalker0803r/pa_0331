{
 "cells": [
  {
   "cell_type": "code",
   "execution_count": 1,
   "metadata": {},
   "outputs": [
    {
     "data": {
      "text/plain": [
       "['train_preprocessed',\n",
       " 'PA_201605-2020001更新R8(20200423).csv',\n",
       " 'tag盤點表20200423.xlsx',\n",
       " 'pred_0997_all.csv',\n",
       " 'train_cleaned.csv',\n",
       " 'tag_cleaned.csv']"
      ]
     },
     "execution_count": 1,
     "metadata": {},
     "output_type": "execute_result"
    }
   ],
   "source": [
    "import pandas as pd\n",
    "import numpy as np\n",
    "import torch.nn.functional as F\n",
    "import warnings\n",
    "warnings.simplefilter('ignore')\n",
    "import torchviz\n",
    "import seaborn as sns\n",
    "import matplotlib.pyplot as plt\n",
    "from tqdm import tqdm_notebook as tqdm\n",
    "from torch.utils.tensorboard import SummaryWriter\n",
    "import torch\n",
    "import torch.nn as nn\n",
    "import torch.utils.data as Data\n",
    "import torchvision\n",
    "import joblib\n",
    "import os\n",
    "from sklearn.preprocessing import StandardScaler\n",
    "import time\n",
    "def get_col(df,name):\n",
    "    return df.columns[df.columns.str.contains(name)].tolist()\n",
    "os.listdir('./data')"
   ]
  },
  {
   "cell_type": "code",
   "execution_count": 2,
   "metadata": {},
   "outputs": [],
   "source": [
    "tag = pd.read_csv('./data/tag_cleaned.csv',index_col=0)\n",
    "tag = tag.loc[tag.category=='可控制因子']"
   ]
  },
  {
   "cell_type": "markdown",
   "metadata": {},
   "source": [
    "# load X,y"
   ]
  },
  {
   "cell_type": "code",
   "execution_count": 3,
   "metadata": {},
   "outputs": [],
   "source": [
    "data = joblib.load('./data/train_preprocessed')\n",
    "X = data['X']\n",
    "Y = data['Y']\n",
    "x_col = data['x_col']\n",
    "y_col = data['y_col']\n",
    "c_col = data['c_col']\n",
    "idx = data['idx']"
   ]
  },
  {
   "cell_type": "markdown",
   "metadata": {},
   "source": [
    "# select data range"
   ]
  },
  {
   "cell_type": "code",
   "execution_count": 4,
   "metadata": {},
   "outputs": [
    {
     "name": "stdout",
     "output_type": "stream",
     "text": [
      "(120912, 508)\n",
      "(120912, 508)\n"
     ]
    },
    {
     "data": {
      "text/html": [
       "<div>\n",
       "<style scoped>\n",
       "    .dataframe tbody tr th:only-of-type {\n",
       "        vertical-align: middle;\n",
       "    }\n",
       "\n",
       "    .dataframe tbody tr th {\n",
       "        vertical-align: top;\n",
       "    }\n",
       "\n",
       "    .dataframe thead th {\n",
       "        text-align: right;\n",
       "    }\n",
       "</style>\n",
       "<table border=\"1\" class=\"dataframe\">\n",
       "  <thead>\n",
       "    <tr style=\"text-align: right;\">\n",
       "      <th></th>\n",
       "      <th>0</th>\n",
       "      <th>1</th>\n",
       "      <th>2</th>\n",
       "      <th>3</th>\n",
       "      <th>4</th>\n",
       "      <th>5</th>\n",
       "      <th>6</th>\n",
       "      <th>7</th>\n",
       "      <th>8</th>\n",
       "      <th>9</th>\n",
       "      <th>...</th>\n",
       "      <th>498</th>\n",
       "      <th>499</th>\n",
       "      <th>500</th>\n",
       "      <th>501</th>\n",
       "      <th>502</th>\n",
       "      <th>503</th>\n",
       "      <th>504</th>\n",
       "      <th>505</th>\n",
       "      <th>506</th>\n",
       "      <th>0997_real</th>\n",
       "    </tr>\n",
       "  </thead>\n",
       "  <tbody>\n",
       "    <tr>\n",
       "      <th>2016-06-01 02:40:00</th>\n",
       "      <td>5695.2363</td>\n",
       "      <td>85.35249</td>\n",
       "      <td>36.090110</td>\n",
       "      <td>34.696857</td>\n",
       "      <td>49.382782</td>\n",
       "      <td>362.26434</td>\n",
       "      <td>144.97864</td>\n",
       "      <td>361.02557</td>\n",
       "      <td>60.061237</td>\n",
       "      <td>184.79726</td>\n",
       "      <td>...</td>\n",
       "      <td>49.402733</td>\n",
       "      <td>362.18622</td>\n",
       "      <td>144.94327</td>\n",
       "      <td>361.01324</td>\n",
       "      <td>60.350594</td>\n",
       "      <td>184.75967</td>\n",
       "      <td>180.01015</td>\n",
       "      <td>364.79498</td>\n",
       "      <td>179.32439</td>\n",
       "      <td>6467.7600</td>\n",
       "    </tr>\n",
       "    <tr>\n",
       "      <th>2016-06-01 02:50:00</th>\n",
       "      <td>5709.7036</td>\n",
       "      <td>85.65336</td>\n",
       "      <td>35.959490</td>\n",
       "      <td>35.388890</td>\n",
       "      <td>49.400085</td>\n",
       "      <td>362.33936</td>\n",
       "      <td>144.83496</td>\n",
       "      <td>361.09380</td>\n",
       "      <td>60.353172</td>\n",
       "      <td>184.53937</td>\n",
       "      <td>...</td>\n",
       "      <td>49.417633</td>\n",
       "      <td>362.19500</td>\n",
       "      <td>145.05249</td>\n",
       "      <td>361.01670</td>\n",
       "      <td>60.989777</td>\n",
       "      <td>184.67749</td>\n",
       "      <td>180.01030</td>\n",
       "      <td>364.68997</td>\n",
       "      <td>181.94745</td>\n",
       "      <td>6450.8740</td>\n",
       "    </tr>\n",
       "    <tr>\n",
       "      <th>2016-06-01 03:00:00</th>\n",
       "      <td>5687.0700</td>\n",
       "      <td>85.30193</td>\n",
       "      <td>36.018215</td>\n",
       "      <td>34.879738</td>\n",
       "      <td>49.394993</td>\n",
       "      <td>362.22006</td>\n",
       "      <td>145.24248</td>\n",
       "      <td>361.02510</td>\n",
       "      <td>61.337530</td>\n",
       "      <td>184.71124</td>\n",
       "      <td>...</td>\n",
       "      <td>49.374767</td>\n",
       "      <td>362.24260</td>\n",
       "      <td>144.96265</td>\n",
       "      <td>361.03952</td>\n",
       "      <td>60.260216</td>\n",
       "      <td>184.69803</td>\n",
       "      <td>179.80000</td>\n",
       "      <td>364.90765</td>\n",
       "      <td>182.75210</td>\n",
       "      <td>6443.6900</td>\n",
       "    </tr>\n",
       "    <tr>\n",
       "      <th>2020-01-14 05:40:00</th>\n",
       "      <td>6367.5283</td>\n",
       "      <td>73.98054</td>\n",
       "      <td>45.000237</td>\n",
       "      <td>45.371227</td>\n",
       "      <td>49.314957</td>\n",
       "      <td>354.47400</td>\n",
       "      <td>157.24790</td>\n",
       "      <td>354.49103</td>\n",
       "      <td>60.136830</td>\n",
       "      <td>184.46994</td>\n",
       "      <td>...</td>\n",
       "      <td>49.275066</td>\n",
       "      <td>353.76144</td>\n",
       "      <td>157.25260</td>\n",
       "      <td>354.19500</td>\n",
       "      <td>59.758490</td>\n",
       "      <td>184.15498</td>\n",
       "      <td>169.20000</td>\n",
       "      <td>357.93130</td>\n",
       "      <td>182.64577</td>\n",
       "      <td>7043.8457</td>\n",
       "    </tr>\n",
       "    <tr>\n",
       "      <th>2020-01-14 05:50:00</th>\n",
       "      <td>6364.0490</td>\n",
       "      <td>73.96333</td>\n",
       "      <td>44.991646</td>\n",
       "      <td>44.629050</td>\n",
       "      <td>49.305027</td>\n",
       "      <td>354.53460</td>\n",
       "      <td>156.87878</td>\n",
       "      <td>354.45895</td>\n",
       "      <td>60.264366</td>\n",
       "      <td>184.68086</td>\n",
       "      <td>...</td>\n",
       "      <td>49.289955</td>\n",
       "      <td>353.95400</td>\n",
       "      <td>157.62437</td>\n",
       "      <td>354.24960</td>\n",
       "      <td>60.053062</td>\n",
       "      <td>184.19705</td>\n",
       "      <td>169.69403</td>\n",
       "      <td>357.94086</td>\n",
       "      <td>181.58392</td>\n",
       "      <td>7033.7056</td>\n",
       "    </tr>\n",
       "    <tr>\n",
       "      <th>2020-01-14 06:00:00</th>\n",
       "      <td>6369.2188</td>\n",
       "      <td>74.00121</td>\n",
       "      <td>44.981342</td>\n",
       "      <td>45.265470</td>\n",
       "      <td>49.332806</td>\n",
       "      <td>354.53064</td>\n",
       "      <td>157.16945</td>\n",
       "      <td>354.41605</td>\n",
       "      <td>59.644386</td>\n",
       "      <td>184.87167</td>\n",
       "      <td>...</td>\n",
       "      <td>49.263416</td>\n",
       "      <td>353.93338</td>\n",
       "      <td>156.90755</td>\n",
       "      <td>354.20886</td>\n",
       "      <td>60.199993</td>\n",
       "      <td>183.97824</td>\n",
       "      <td>170.00595</td>\n",
       "      <td>358.01227</td>\n",
       "      <td>177.30852</td>\n",
       "      <td>7021.6743</td>\n",
       "    </tr>\n",
       "  </tbody>\n",
       "</table>\n",
       "<p>6 rows × 508 columns</p>\n",
       "</div>"
      ],
      "text/plain": [
       "                             0         1          2          3          4  \\\n",
       "2016-06-01 02:40:00  5695.2363  85.35249  36.090110  34.696857  49.382782   \n",
       "2016-06-01 02:50:00  5709.7036  85.65336  35.959490  35.388890  49.400085   \n",
       "2016-06-01 03:00:00  5687.0700  85.30193  36.018215  34.879738  49.394993   \n",
       "2020-01-14 05:40:00  6367.5283  73.98054  45.000237  45.371227  49.314957   \n",
       "2020-01-14 05:50:00  6364.0490  73.96333  44.991646  44.629050  49.305027   \n",
       "2020-01-14 06:00:00  6369.2188  74.00121  44.981342  45.265470  49.332806   \n",
       "\n",
       "                             5          6          7          8          9  \\\n",
       "2016-06-01 02:40:00  362.26434  144.97864  361.02557  60.061237  184.79726   \n",
       "2016-06-01 02:50:00  362.33936  144.83496  361.09380  60.353172  184.53937   \n",
       "2016-06-01 03:00:00  362.22006  145.24248  361.02510  61.337530  184.71124   \n",
       "2020-01-14 05:40:00  354.47400  157.24790  354.49103  60.136830  184.46994   \n",
       "2020-01-14 05:50:00  354.53460  156.87878  354.45895  60.264366  184.68086   \n",
       "2020-01-14 06:00:00  354.53064  157.16945  354.41605  59.644386  184.87167   \n",
       "\n",
       "                     ...        498        499        500        501  \\\n",
       "2016-06-01 02:40:00  ...  49.402733  362.18622  144.94327  361.01324   \n",
       "2016-06-01 02:50:00  ...  49.417633  362.19500  145.05249  361.01670   \n",
       "2016-06-01 03:00:00  ...  49.374767  362.24260  144.96265  361.03952   \n",
       "2020-01-14 05:40:00  ...  49.275066  353.76144  157.25260  354.19500   \n",
       "2020-01-14 05:50:00  ...  49.289955  353.95400  157.62437  354.24960   \n",
       "2020-01-14 06:00:00  ...  49.263416  353.93338  156.90755  354.20886   \n",
       "\n",
       "                           502        503        504        505        506  \\\n",
       "2016-06-01 02:40:00  60.350594  184.75967  180.01015  364.79498  179.32439   \n",
       "2016-06-01 02:50:00  60.989777  184.67749  180.01030  364.68997  181.94745   \n",
       "2016-06-01 03:00:00  60.260216  184.69803  179.80000  364.90765  182.75210   \n",
       "2020-01-14 05:40:00  59.758490  184.15498  169.20000  357.93130  182.64577   \n",
       "2020-01-14 05:50:00  60.053062  184.19705  169.69403  357.94086  181.58392   \n",
       "2020-01-14 06:00:00  60.199993  183.97824  170.00595  358.01227  177.30852   \n",
       "\n",
       "                     0997_real  \n",
       "2016-06-01 02:40:00  6467.7600  \n",
       "2016-06-01 02:50:00  6450.8740  \n",
       "2016-06-01 03:00:00  6443.6900  \n",
       "2020-01-14 05:40:00  7043.8457  \n",
       "2020-01-14 05:50:00  7033.7056  \n",
       "2020-01-14 06:00:00  7021.6743  \n",
       "\n",
       "[6 rows x 508 columns]"
      ]
     },
     "execution_count": 4,
     "metadata": {},
     "output_type": "execute_result"
    }
   ],
   "source": [
    "df = pd.DataFrame(X,index=idx)\n",
    "df['0997_real'] = Y\n",
    "print(df.shape)\n",
    "#df = df.loc['2016-06-20':'2017-02-20']\n",
    "idx = df.index\n",
    "print(df.shape)\n",
    "df.head(3).append(df.tail(3))"
   ]
  },
  {
   "cell_type": "markdown",
   "metadata": {},
   "source": [
    "# time_step num_sensor"
   ]
  },
  {
   "cell_type": "code",
   "execution_count": 5,
   "metadata": {},
   "outputs": [
    {
     "name": "stdout",
     "output_type": "stream",
     "text": [
      "39 13\n"
     ]
    }
   ],
   "source": [
    "num_sensor = len(x_col)\n",
    "time_step = int(X.shape[1]/len(x_col))\n",
    "print(time_step,num_sensor)"
   ]
  },
  {
   "cell_type": "markdown",
   "metadata": {},
   "source": [
    "# split train test"
   ]
  },
  {
   "cell_type": "code",
   "execution_count": 6,
   "metadata": {},
   "outputs": [
    {
     "name": "stdout",
     "output_type": "stream",
     "text": [
      "(84638, 507)\n",
      "(84638, 1)\n",
      "(18137, 507)\n",
      "(18137, 1)\n",
      "(18137, 507)\n",
      "(18137, 1)\n"
     ]
    }
   ],
   "source": [
    "X = df.iloc[:,:-1]\n",
    "Y = df.iloc[:,-1:]\n",
    "sp1 = int(len(X)*0.7)\n",
    "sp2 = int(len(X)*0.85)\n",
    "X_train,X_valid,X_test = X[:sp1],X[sp1:sp2],X[sp2:]\n",
    "Y_train,Y_valid,Y_test = Y[:sp1],Y[sp1:sp2],Y[sp2:]\n",
    "print(X_train.shape)\n",
    "print(Y_train.shape)\n",
    "print(X_valid.shape)\n",
    "print(Y_valid.shape)\n",
    "print(X_test.shape)\n",
    "print(Y_test.shape)"
   ]
  },
  {
   "cell_type": "markdown",
   "metadata": {},
   "source": [
    "# plot split result"
   ]
  },
  {
   "cell_type": "code",
   "execution_count": 7,
   "metadata": {},
   "outputs": [
    {
     "data": {
      "image/png": "[encoded data removed]",
      "text/plain": [
       "<Figure size 432x288 with 1 Axes>"
      ]
     },
     "metadata": {
      "needs_background": "light"
     },
     "output_type": "display_data"
    }
   ],
   "source": [
    "t1 = df.iloc[[sp1]].index[0]\n",
    "t2 = df.iloc[[sp2]].index[0]\n",
    "df['0997_real'].plot(label='train')\n",
    "df['0997_real'][(df.index > t1)&(df.index < t2)].plot(color = 'red',label='valid')\n",
    "df['0997_real'][(df.index > t2)].plot(color = 'orange',label='test')\n",
    "plt.legend()\n",
    "plt.show()"
   ]
  },
  {
   "cell_type": "markdown",
   "metadata": {},
   "source": [
    "# MinMaxScaler"
   ]
  },
  {
   "cell_type": "code",
   "execution_count": 8,
   "metadata": {},
   "outputs": [
    {
     "name": "stdout",
     "output_type": "stream",
     "text": [
      "save done!\n"
     ]
    }
   ],
   "source": [
    "from sklearn.preprocessing import MinMaxScaler\n",
    "\n",
    "mm_x = MinMaxScaler().fit(X)\n",
    "mm_y = MinMaxScaler().fit(Y)\n",
    "\n",
    "X_train = mm_x.transform(X_train)\n",
    "X_valid = mm_x.transform(X_valid)\n",
    "X_test = mm_x.transform(X_test)\n",
    "\n",
    "Y_train = mm_y.transform(Y_train)\n",
    "Y_valid = mm_y.transform(Y_valid)\n",
    "Y_test = mm_y.transform(Y_test)\n",
    "\n",
    "joblib.dump(mm_x,'./model/mm_x.pkl')\n",
    "joblib.dump(mm_y,'./model/mm_y.pkl')\n",
    "print('save done!')"
   ]
  },
  {
   "cell_type": "markdown",
   "metadata": {},
   "source": [
    "# convert to torch tensor"
   ]
  },
  {
   "cell_type": "code",
   "execution_count": 9,
   "metadata": {},
   "outputs": [
    {
     "name": "stdout",
     "output_type": "stream",
     "text": [
      "torch.Size([84638, 507]) torch.Size([18137, 507]) torch.Size([18137, 507])\n",
      "torch.Size([84638, 1]) torch.Size([18137, 1]) torch.Size([18137, 1])\n"
     ]
    }
   ],
   "source": [
    "import torch\n",
    "\n",
    "X_train = torch.tensor(X_train).cuda()\n",
    "X_test = torch.tensor(X_test).cuda()\n",
    "\n",
    "X_valid = torch.tensor(X_valid).cuda()\n",
    "Y_valid = torch.tensor(Y_valid).cuda()\n",
    "\n",
    "Y_train = torch.tensor(Y_train).cuda()\n",
    "Y_test = torch.tensor(Y_test).cuda()\n",
    "\n",
    "print(X_train.shape,X_valid.shape,X_test.shape)\n",
    "print(Y_train.shape,Y_valid.shape,Y_test.shape)"
   ]
  },
  {
   "cell_type": "markdown",
   "metadata": {},
   "source": [
    "# create data_iter"
   ]
  },
  {
   "cell_type": "code",
   "execution_count": 10,
   "metadata": {},
   "outputs": [],
   "source": [
    "train = torch.utils.data.TensorDataset(X_train, Y_train)\n",
    "valid = torch.utils.data.TensorDataset(X_valid, Y_valid)\n",
    "train_iter = torch.utils.data.DataLoader(train, batch_size=256, shuffle=True)\n",
    "valid_iter = torch.utils.data.DataLoader(valid, batch_size=256, shuffle=True)"
   ]
  },
  {
   "cell_type": "markdown",
   "metadata": {},
   "source": [
    "# Construct the neural network"
   ]
  },
  {
   "cell_type": "code",
   "execution_count": 11,
   "metadata": {},
   "outputs": [],
   "source": [
    "class panet(nn.Module):\n",
    "    def __init__(self):\n",
    "        super().__init__()\n",
    "        self.linear_1 = nn.Linear(time_step,1)\n",
    "        self.block_1 = nn.Sequential(nn.Linear(1,128),nn.ReLU(),nn.Linear(128,1))\n",
    "        self.conv_1 = nn.Conv1d(in_channels = num_sensor-1,\n",
    "                                out_channels = 1, \n",
    "                                kernel_size = 1,\n",
    "                                padding = 0)\n",
    "        \n",
    "        self.pool = nn.MaxPool1d(kernel_size = 1)\n",
    "        \n",
    "        self.block_2 = nn.Sequential(nn.Linear(39,128),nn.ReLU(),nn.Linear(128,1))\n",
    "        \n",
    "    def forward(self,x):\n",
    "        feed,factor = self.fetch(x)\n",
    "        \n",
    "        z1 = self.linear_1(feed)\n",
    "        \n",
    "        z2 = self.block_1(z1)\n",
    "        \n",
    "        z3 = self.pool(F.relu(self.conv_1(factor)))\n",
    "        z3 = z3.view(-1,z3.shape[1]*z3.shape[2])\n",
    "        z3 = self.block_2(z3)\n",
    "        \n",
    "        return F.sigmoid(z1+z2+z3)\n",
    "        \n",
    "    def fetch(self,x):\n",
    "        x_resize = x.view(-1,time_step,num_sensor)\n",
    "        feed = x_resize[:,:,0]\n",
    "        \n",
    "        # batch,time,sensor -> batch,sensor,time \n",
    "        factor = x_resize[:,:,1:].permute(0,2,1) \n",
    "        \n",
    "        return feed,factor"
   ]
  },
  {
   "cell_type": "code",
   "execution_count": 12,
   "metadata": {},
   "outputs": [],
   "source": [
    "def init_weights(m):\n",
    "    if hasattr(m,'weight'):\n",
    "        try:\n",
    "            torch.nn.init.xavier_uniform(m.weight)\n",
    "        except:\n",
    "            pass\n",
    "    if hasattr(m,'bias'):\n",
    "        try:\n",
    "            m.bias.data.fill_(0)\n",
    "        except:\n",
    "            pass"
   ]
  },
  {
   "cell_type": "code",
   "execution_count": 13,
   "metadata": {},
   "outputs": [
    {
     "data": {
      "text/plain": [
       "panet(\n",
       "  (linear_1): Linear(in_features=39, out_features=1, bias=True)\n",
       "  (block_1): Sequential(\n",
       "    (0): Linear(in_features=1, out_features=128, bias=True)\n",
       "    (1): ReLU()\n",
       "    (2): Linear(in_features=128, out_features=1, bias=True)\n",
       "  )\n",
       "  (conv_1): Conv1d(12, 1, kernel_size=(1,), stride=(1,))\n",
       "  (pool): MaxPool1d(kernel_size=1, stride=1, padding=0, dilation=1, ceil_mode=False)\n",
       "  (block_2): Sequential(\n",
       "    (0): Linear(in_features=39, out_features=128, bias=True)\n",
       "    (1): ReLU()\n",
       "    (2): Linear(in_features=128, out_features=1, bias=True)\n",
       "  )\n",
       ")"
      ]
     },
     "execution_count": 13,
     "metadata": {},
     "output_type": "execute_result"
    }
   ],
   "source": [
    "net = panet().cuda().double()\n",
    "net.apply(init_weights)"
   ]
  },
  {
   "cell_type": "code",
   "execution_count": 14,
   "metadata": {},
   "outputs": [
    {
     "data": {
      "text/plain": [
       "torch.Size([18137, 507])"
      ]
     },
     "execution_count": 14,
     "metadata": {},
     "output_type": "execute_result"
    }
   ],
   "source": [
    "X_test.shape"
   ]
  },
  {
   "cell_type": "code",
   "execution_count": 15,
   "metadata": {},
   "outputs": [
    {
     "data": {
      "text/plain": [
       "tensor([[0.7381],\n",
       "        [0.7382],\n",
       "        [0.7381],\n",
       "        ...,\n",
       "        [0.6500],\n",
       "        [0.6453],\n",
       "        [0.6430]], device='cuda:0', dtype=torch.float64,\n",
       "       grad_fn=<SigmoidBackward>)"
      ]
     },
     "execution_count": 15,
     "metadata": {},
     "output_type": "execute_result"
    }
   ],
   "source": [
    "net(X_test)"
   ]
  },
  {
   "cell_type": "markdown",
   "metadata": {},
   "source": [
    "# tensorboard"
   ]
  },
  {
   "cell_type": "code",
   "execution_count": 16,
   "metadata": {},
   "outputs": [],
   "source": [
    "with SummaryWriter(comment='Net')as w:\n",
    "    w.add_graph(net, (X_test,))"
   ]
  },
  {
   "cell_type": "markdown",
   "metadata": {},
   "source": [
    "# torchviz"
   ]
  },
  {
   "cell_type": "code",
   "execution_count": 17,
   "metadata": {},
   "outputs": [],
   "source": [
    "#torchviz.make_dot(net(X_test).mean(),params=dict(net.named_parameters()))"
   ]
  },
  {
   "cell_type": "markdown",
   "metadata": {},
   "source": [
    "# loss_function and optimizer"
   ]
  },
  {
   "cell_type": "code",
   "execution_count": 18,
   "metadata": {},
   "outputs": [],
   "source": [
    "optimizer = torch.optim.Adam(net.parameters(),lr=1e-4)\n",
    "loss_function = nn.MSELoss()"
   ]
  },
  {
   "cell_type": "markdown",
   "metadata": {},
   "source": [
    "# Training and evaluation"
   ]
  },
  {
   "cell_type": "code",
   "execution_count": 19,
   "metadata": {},
   "outputs": [],
   "source": [
    "def train(net,train_iter,loss_function,optimizer,num_epochs=100):\n",
    "    train_history = []\n",
    "    valid_history = []\n",
    "    best_loss = np.inf\n",
    "    for epoch in range(num_epochs): \n",
    "        \n",
    "        # train model\n",
    "        net.train()\n",
    "        train_loss,i = 0,0\n",
    "        for x,y in train_iter:\n",
    "            loss = loss_function(net(x),y)\n",
    "            loss.backward()\n",
    "            optimizer.step()\n",
    "            optimizer.zero_grad()\n",
    "            train_loss += loss.item()\n",
    "            i += 1\n",
    "        \n",
    "        # eval model\n",
    "        with torch.no_grad():\n",
    "            net.eval()\n",
    "            val_loss,j = 0,0\n",
    "            for x, y in valid_iter:\n",
    "                loss = loss_function(net(x),y)\n",
    "                val_loss += loss.item()\n",
    "                j += 1\n",
    "        \n",
    "        # caculate avg loss\n",
    "        train_avg_loss = train_loss/i\n",
    "        val_avg_loss = val_loss/j\n",
    "        \n",
    "        # save the best model\n",
    "        if val_avg_loss <= best_loss:\n",
    "            best_loss = val_avg_loss\n",
    "            joblib.dump(net,'./model/net.pkl')\n",
    "            print('model saved')\n",
    "        \n",
    "        # record history and print loss of the epoch\n",
    "        train_history.append(train_avg_loss)\n",
    "        valid_history.append(val_avg_loss)\n",
    "        print(\"epochs {} train_avg_loss {:.4f} valid_avg_loss {:.4f}\".format(epoch,train_avg_loss,val_avg_loss))\n",
    "        \n",
    "    # plot result\n",
    "    print('best val_avg_loss is ',best_loss)\n",
    "    fig = plt.figure(figsize=(20,5))\n",
    "    plt.plot(np.array(train_history),label='train')\n",
    "    plt.plot(np.array(valid_history),label='valid')\n",
    "    plt.legend()\n",
    "    plt.title('loss')\n",
    "    plt.show()\n",
    "    print('model save at ./model/net.pkl')"
   ]
  },
  {
   "cell_type": "code",
   "execution_count": 20,
   "metadata": {},
   "outputs": [
    {
     "name": "stdout",
     "output_type": "stream",
     "text": [
      "model saved\n",
      "epochs 0 train_avg_loss 0.0053 valid_avg_loss 0.0042\n",
      "model saved\n",
      "epochs 1 train_avg_loss 0.0029 valid_avg_loss 0.0019\n",
      "model saved\n",
      "epochs 2 train_avg_loss 0.0014 valid_avg_loss 0.0011\n",
      "model saved\n",
      "epochs 3 train_avg_loss 0.0010 valid_avg_loss 0.0009\n",
      "model saved\n",
      "epochs 4 train_avg_loss 0.0010 valid_avg_loss 0.0009\n",
      "epochs 5 train_avg_loss 0.0010 valid_avg_loss 0.0009\n",
      "epochs 6 train_avg_loss 0.0010 valid_avg_loss 0.0009\n",
      "epochs 7 train_avg_loss 0.0010 valid_avg_loss 0.0009\n",
      "epochs 8 train_avg_loss 0.0009 valid_avg_loss 0.0009\n",
      "epochs 9 train_avg_loss 0.0009 valid_avg_loss 0.0009\n",
      "epochs 10 train_avg_loss 0.0009 valid_avg_loss 0.0010\n",
      "epochs 11 train_avg_loss 0.0009 valid_avg_loss 0.0010\n",
      "epochs 12 train_avg_loss 0.0009 valid_avg_loss 0.0010\n",
      "epochs 13 train_avg_loss 0.0009 valid_avg_loss 0.0010\n",
      "epochs 14 train_avg_loss 0.0009 valid_avg_loss 0.0009\n",
      "epochs 15 train_avg_loss 0.0009 valid_avg_loss 0.0009\n",
      "epochs 16 train_avg_loss 0.0009 valid_avg_loss 0.0009\n",
      "epochs 17 train_avg_loss 0.0009 valid_avg_loss 0.0010\n",
      "epochs 18 train_avg_loss 0.0009 valid_avg_loss 0.0009\n",
      "epochs 19 train_avg_loss 0.0009 valid_avg_loss 0.0009\n",
      "best val_avg_loss is  0.0008982008779681519\n"
     ]
    },
    {
     "data": {
      "image/png": "[encoded data removed]",
      "text/plain": [
       "<Figure size 1440x360 with 1 Axes>"
      ]
     },
     "metadata": {
      "needs_background": "light"
     },
     "output_type": "display_data"
    },
    {
     "name": "stdout",
     "output_type": "stream",
     "text": [
      "model save at ./model/net.pkl\n",
      "34.58915448188782\n"
     ]
    }
   ],
   "source": [
    "s = time.time()\n",
    "train(net,train_iter,loss_function,optimizer,num_epochs=20)\n",
    "print(time.time()-s)"
   ]
  },
  {
   "cell_type": "markdown",
   "metadata": {},
   "source": [
    "# load best net"
   ]
  },
  {
   "cell_type": "code",
   "execution_count": 21,
   "metadata": {},
   "outputs": [
    {
     "data": {
      "text/plain": [
       "panet(\n",
       "  (linear_1): Linear(in_features=39, out_features=1, bias=True)\n",
       "  (block_1): Sequential(\n",
       "    (0): Linear(in_features=1, out_features=128, bias=True)\n",
       "    (1): ReLU()\n",
       "    (2): Linear(in_features=128, out_features=1, bias=True)\n",
       "  )\n",
       "  (conv_1): Conv1d(12, 1, kernel_size=(1,), stride=(1,))\n",
       "  (pool): MaxPool1d(kernel_size=1, stride=1, padding=0, dilation=1, ceil_mode=False)\n",
       "  (block_2): Sequential(\n",
       "    (0): Linear(in_features=39, out_features=128, bias=True)\n",
       "    (1): ReLU()\n",
       "    (2): Linear(in_features=128, out_features=1, bias=True)\n",
       "  )\n",
       ")"
      ]
     },
     "execution_count": 21,
     "metadata": {},
     "output_type": "execute_result"
    }
   ],
   "source": [
    "net = joblib.load('./model/net.pkl')\n",
    "net = net.eval()\n",
    "net"
   ]
  },
  {
   "cell_type": "markdown",
   "metadata": {},
   "source": [
    "# metrics"
   ]
  },
  {
   "cell_type": "code",
   "execution_count": 22,
   "metadata": {},
   "outputs": [],
   "source": [
    "from sklearn.metrics import r2_score,mean_absolute_error,mean_squared_error\n",
    "from math import sqrt\n",
    "\n",
    "def mape(y_true, y_pred): \n",
    "    y_true, y_pred = np.array(y_true), np.array(y_pred)\n",
    "    return np.mean(np.abs((y_true - y_pred) / y_true))*100\n",
    "\n",
    "\n",
    "feed = X.values.reshape(-1,time_step,num_sensor).mean(axis=1)\n",
    "feed = pd.DataFrame(feed,columns=x_col,index=idx)\n",
    "feed = feed['MLPAP_FQ-0619.PV']\n",
    "\n",
    "def show_result(X,Y,index,tag):\n",
    "    t = pd.DataFrame(index=index)\n",
    "    t['0619'] = feed[index]\n",
    "    t['0997_real'] = mm_y.inverse_transform(Y.detach().cpu().numpy().reshape(-1,1)).ravel()\n",
    "    t['0997_pred'] = mm_y.inverse_transform(net(X).detach().cpu().numpy().reshape(-1,1)).ravel()\n",
    "    t['單耗_real'] = t['0619']/t['0997_real']\n",
    "    t['單耗_pred'] = t['0619']/t['0997_pred']\n",
    "    t['0997_R2'] = r2_score(t['0997_real'],t['0997_pred'])\n",
    "    t['0997_MAPE'] = mape(t['0997_real'],t['0997_pred'])\n",
    "    t['單耗RMSE'] = sqrt(mean_squared_error(t['單耗_real'],t['單耗_pred']))\n",
    "    t['單耗MAPE'] = mape(t['單耗_real'],t['單耗_pred'])\n",
    "    m = t.iloc[[0],-2:]\n",
    "    m.index = [tag]\n",
    "    t = t.iloc[:,:-2]\n",
    "    return t,m"
   ]
  },
  {
   "cell_type": "markdown",
   "metadata": {},
   "source": [
    "# make prediction(train)"
   ]
  },
  {
   "cell_type": "code",
   "execution_count": 23,
   "metadata": {},
   "outputs": [
    {
     "data": {
      "text/html": [
       "<div>\n",
       "<style scoped>\n",
       "    .dataframe tbody tr th:only-of-type {\n",
       "        vertical-align: middle;\n",
       "    }\n",
       "\n",
       "    .dataframe tbody tr th {\n",
       "        vertical-align: top;\n",
       "    }\n",
       "\n",
       "    .dataframe thead th {\n",
       "        text-align: right;\n",
       "    }\n",
       "</style>\n",
       "<table border=\"1\" class=\"dataframe\">\n",
       "  <thead>\n",
       "    <tr style=\"text-align: right;\">\n",
       "      <th></th>\n",
       "      <th>單耗RMSE</th>\n",
       "      <th>單耗MAPE</th>\n",
       "    </tr>\n",
       "  </thead>\n",
       "  <tbody>\n",
       "    <tr>\n",
       "      <th>train</th>\n",
       "      <td>0.018906</td>\n",
       "      <td>1.165733</td>\n",
       "    </tr>\n",
       "  </tbody>\n",
       "</table>\n",
       "</div>"
      ],
      "text/plain": [
       "         單耗RMSE    單耗MAPE\n",
       "train  0.018906  1.165733"
      ]
     },
     "execution_count": 23,
     "metadata": {},
     "output_type": "execute_result"
    }
   ],
   "source": [
    "t1,m1 = show_result(X_train,Y_train,idx[:sp1],'train')\n",
    "m1.head()"
   ]
  },
  {
   "cell_type": "code",
   "execution_count": 24,
   "metadata": {},
   "outputs": [
    {
     "data": {
      "text/html": [
       "<div>\n",
       "<style scoped>\n",
       "    .dataframe tbody tr th:only-of-type {\n",
       "        vertical-align: middle;\n",
       "    }\n",
       "\n",
       "    .dataframe tbody tr th {\n",
       "        vertical-align: top;\n",
       "    }\n",
       "\n",
       "    .dataframe thead th {\n",
       "        text-align: right;\n",
       "    }\n",
       "</style>\n",
       "<table border=\"1\" class=\"dataframe\">\n",
       "  <thead>\n",
       "    <tr style=\"text-align: right;\">\n",
       "      <th></th>\n",
       "      <th>0619</th>\n",
       "      <th>0997_real</th>\n",
       "      <th>0997_pred</th>\n",
       "      <th>單耗_real</th>\n",
       "      <th>單耗_pred</th>\n",
       "      <th>0997_R2</th>\n",
       "      <th>0997_MAPE</th>\n",
       "    </tr>\n",
       "  </thead>\n",
       "  <tbody>\n",
       "    <tr>\n",
       "      <th>2016-06-01 02:40:00</th>\n",
       "      <td>5694.148613</td>\n",
       "      <td>6467.7600</td>\n",
       "      <td>6400.453475</td>\n",
       "      <td>0.880390</td>\n",
       "      <td>0.889648</td>\n",
       "      <td>0.902327</td>\n",
       "      <td>1.173461</td>\n",
       "    </tr>\n",
       "    <tr>\n",
       "      <th>2016-06-01 02:50:00</th>\n",
       "      <td>5694.210400</td>\n",
       "      <td>6450.8740</td>\n",
       "      <td>6411.103606</td>\n",
       "      <td>0.882704</td>\n",
       "      <td>0.888179</td>\n",
       "      <td>0.902327</td>\n",
       "      <td>1.173461</td>\n",
       "    </tr>\n",
       "    <tr>\n",
       "      <th>2016-06-01 03:00:00</th>\n",
       "      <td>5693.874564</td>\n",
       "      <td>6443.6900</td>\n",
       "      <td>6388.449922</td>\n",
       "      <td>0.883636</td>\n",
       "      <td>0.891276</td>\n",
       "      <td>0.902327</td>\n",
       "      <td>1.173461</td>\n",
       "    </tr>\n",
       "    <tr>\n",
       "      <th>2016-06-01 03:10:00</th>\n",
       "      <td>5694.258010</td>\n",
       "      <td>6430.3833</td>\n",
       "      <td>6398.419452</td>\n",
       "      <td>0.885524</td>\n",
       "      <td>0.889948</td>\n",
       "      <td>0.902327</td>\n",
       "      <td>1.173461</td>\n",
       "    </tr>\n",
       "    <tr>\n",
       "      <th>2016-06-01 03:20:00</th>\n",
       "      <td>5694.593251</td>\n",
       "      <td>6446.3940</td>\n",
       "      <td>6398.552884</td>\n",
       "      <td>0.883377</td>\n",
       "      <td>0.889981</td>\n",
       "      <td>0.902327</td>\n",
       "      <td>1.173461</td>\n",
       "    </tr>\n",
       "  </tbody>\n",
       "</table>\n",
       "</div>"
      ],
      "text/plain": [
       "                            0619  0997_real    0997_pred   單耗_real   單耗_pred  \\\n",
       "2016-06-01 02:40:00  5694.148613  6467.7600  6400.453475  0.880390  0.889648   \n",
       "2016-06-01 02:50:00  5694.210400  6450.8740  6411.103606  0.882704  0.888179   \n",
       "2016-06-01 03:00:00  5693.874564  6443.6900  6388.449922  0.883636  0.891276   \n",
       "2016-06-01 03:10:00  5694.258010  6430.3833  6398.419452  0.885524  0.889948   \n",
       "2016-06-01 03:20:00  5694.593251  6446.3940  6398.552884  0.883377  0.889981   \n",
       "\n",
       "                      0997_R2  0997_MAPE  \n",
       "2016-06-01 02:40:00  0.902327   1.173461  \n",
       "2016-06-01 02:50:00  0.902327   1.173461  \n",
       "2016-06-01 03:00:00  0.902327   1.173461  \n",
       "2016-06-01 03:10:00  0.902327   1.173461  \n",
       "2016-06-01 03:20:00  0.902327   1.173461  "
      ]
     },
     "execution_count": 24,
     "metadata": {},
     "output_type": "execute_result"
    }
   ],
   "source": [
    "t1.head()"
   ]
  },
  {
   "cell_type": "markdown",
   "metadata": {},
   "source": [
    "# make prediction(valid)"
   ]
  },
  {
   "cell_type": "code",
   "execution_count": 25,
   "metadata": {},
   "outputs": [
    {
     "data": {
      "text/html": [
       "<div>\n",
       "<style scoped>\n",
       "    .dataframe tbody tr th:only-of-type {\n",
       "        vertical-align: middle;\n",
       "    }\n",
       "\n",
       "    .dataframe tbody tr th {\n",
       "        vertical-align: top;\n",
       "    }\n",
       "\n",
       "    .dataframe thead th {\n",
       "        text-align: right;\n",
       "    }\n",
       "</style>\n",
       "<table border=\"1\" class=\"dataframe\">\n",
       "  <thead>\n",
       "    <tr style=\"text-align: right;\">\n",
       "      <th></th>\n",
       "      <th>單耗RMSE</th>\n",
       "      <th>單耗MAPE</th>\n",
       "    </tr>\n",
       "  </thead>\n",
       "  <tbody>\n",
       "    <tr>\n",
       "      <th>valid</th>\n",
       "      <td>0.018359</td>\n",
       "      <td>1.170615</td>\n",
       "    </tr>\n",
       "  </tbody>\n",
       "</table>\n",
       "</div>"
      ],
      "text/plain": [
       "         單耗RMSE    單耗MAPE\n",
       "valid  0.018359  1.170615"
      ]
     },
     "execution_count": 25,
     "metadata": {},
     "output_type": "execute_result"
    }
   ],
   "source": [
    "t2,m2 = show_result(X_valid,Y_valid,idx[sp1:sp2],'valid')\n",
    "m2.head()"
   ]
  },
  {
   "cell_type": "code",
   "execution_count": 26,
   "metadata": {},
   "outputs": [
    {
     "data": {
      "text/html": [
       "<div>\n",
       "<style scoped>\n",
       "    .dataframe tbody tr th:only-of-type {\n",
       "        vertical-align: middle;\n",
       "    }\n",
       "\n",
       "    .dataframe tbody tr th {\n",
       "        vertical-align: top;\n",
       "    }\n",
       "\n",
       "    .dataframe thead th {\n",
       "        text-align: right;\n",
       "    }\n",
       "</style>\n",
       "<table border=\"1\" class=\"dataframe\">\n",
       "  <thead>\n",
       "    <tr style=\"text-align: right;\">\n",
       "      <th></th>\n",
       "      <th>0619</th>\n",
       "      <th>0997_real</th>\n",
       "      <th>0997_pred</th>\n",
       "      <th>單耗_real</th>\n",
       "      <th>單耗_pred</th>\n",
       "      <th>0997_R2</th>\n",
       "      <th>0997_MAPE</th>\n",
       "    </tr>\n",
       "  </thead>\n",
       "  <tbody>\n",
       "    <tr>\n",
       "      <th>2018-09-07 13:00:00</th>\n",
       "      <td>7726.111903</td>\n",
       "      <td>8574.377</td>\n",
       "      <td>8503.219892</td>\n",
       "      <td>0.901070</td>\n",
       "      <td>0.908610</td>\n",
       "      <td>0.895954</td>\n",
       "      <td>1.173678</td>\n",
       "    </tr>\n",
       "    <tr>\n",
       "      <th>2018-09-07 13:10:00</th>\n",
       "      <td>7726.742331</td>\n",
       "      <td>8558.691</td>\n",
       "      <td>8509.596261</td>\n",
       "      <td>0.902795</td>\n",
       "      <td>0.908003</td>\n",
       "      <td>0.895954</td>\n",
       "      <td>1.173678</td>\n",
       "    </tr>\n",
       "    <tr>\n",
       "      <th>2018-09-07 13:20:00</th>\n",
       "      <td>7727.409244</td>\n",
       "      <td>8552.359</td>\n",
       "      <td>8516.022592</td>\n",
       "      <td>0.903541</td>\n",
       "      <td>0.907397</td>\n",
       "      <td>0.895954</td>\n",
       "      <td>1.173678</td>\n",
       "    </tr>\n",
       "    <tr>\n",
       "      <th>2018-09-07 13:30:00</th>\n",
       "      <td>7727.952138</td>\n",
       "      <td>8558.983</td>\n",
       "      <td>8480.137871</td>\n",
       "      <td>0.902905</td>\n",
       "      <td>0.911300</td>\n",
       "      <td>0.895954</td>\n",
       "      <td>1.173678</td>\n",
       "    </tr>\n",
       "    <tr>\n",
       "      <th>2018-09-07 13:40:00</th>\n",
       "      <td>7728.790531</td>\n",
       "      <td>8559.570</td>\n",
       "      <td>8497.845605</td>\n",
       "      <td>0.902941</td>\n",
       "      <td>0.909500</td>\n",
       "      <td>0.895954</td>\n",
       "      <td>1.173678</td>\n",
       "    </tr>\n",
       "  </tbody>\n",
       "</table>\n",
       "</div>"
      ],
      "text/plain": [
       "                            0619  0997_real    0997_pred   單耗_real   單耗_pred  \\\n",
       "2018-09-07 13:00:00  7726.111903   8574.377  8503.219892  0.901070  0.908610   \n",
       "2018-09-07 13:10:00  7726.742331   8558.691  8509.596261  0.902795  0.908003   \n",
       "2018-09-07 13:20:00  7727.409244   8552.359  8516.022592  0.903541  0.907397   \n",
       "2018-09-07 13:30:00  7727.952138   8558.983  8480.137871  0.902905  0.911300   \n",
       "2018-09-07 13:40:00  7728.790531   8559.570  8497.845605  0.902941  0.909500   \n",
       "\n",
       "                      0997_R2  0997_MAPE  \n",
       "2018-09-07 13:00:00  0.895954   1.173678  \n",
       "2018-09-07 13:10:00  0.895954   1.173678  \n",
       "2018-09-07 13:20:00  0.895954   1.173678  \n",
       "2018-09-07 13:30:00  0.895954   1.173678  \n",
       "2018-09-07 13:40:00  0.895954   1.173678  "
      ]
     },
     "execution_count": 26,
     "metadata": {},
     "output_type": "execute_result"
    }
   ],
   "source": [
    "t2.head()"
   ]
  },
  {
   "cell_type": "markdown",
   "metadata": {},
   "source": [
    "# make prediction(test)"
   ]
  },
  {
   "cell_type": "code",
   "execution_count": 27,
   "metadata": {},
   "outputs": [
    {
     "data": {
      "text/html": [
       "<div>\n",
       "<style scoped>\n",
       "    .dataframe tbody tr th:only-of-type {\n",
       "        vertical-align: middle;\n",
       "    }\n",
       "\n",
       "    .dataframe tbody tr th {\n",
       "        vertical-align: top;\n",
       "    }\n",
       "\n",
       "    .dataframe thead th {\n",
       "        text-align: right;\n",
       "    }\n",
       "</style>\n",
       "<table border=\"1\" class=\"dataframe\">\n",
       "  <thead>\n",
       "    <tr style=\"text-align: right;\">\n",
       "      <th></th>\n",
       "      <th>單耗RMSE</th>\n",
       "      <th>單耗MAPE</th>\n",
       "    </tr>\n",
       "  </thead>\n",
       "  <tbody>\n",
       "    <tr>\n",
       "      <th>test</th>\n",
       "      <td>0.028169</td>\n",
       "      <td>1.816477</td>\n",
       "    </tr>\n",
       "  </tbody>\n",
       "</table>\n",
       "</div>"
      ],
      "text/plain": [
       "        單耗RMSE    單耗MAPE\n",
       "test  0.028169  1.816477"
      ]
     },
     "execution_count": 27,
     "metadata": {},
     "output_type": "execute_result"
    }
   ],
   "source": [
    "t3,m3 = show_result(X_test,Y_test,idx[sp2:],'test')\n",
    "m3.head()"
   ]
  },
  {
   "cell_type": "code",
   "execution_count": 28,
   "metadata": {},
   "outputs": [
    {
     "data": {
      "text/html": [
       "<div>\n",
       "<style scoped>\n",
       "    .dataframe tbody tr th:only-of-type {\n",
       "        vertical-align: middle;\n",
       "    }\n",
       "\n",
       "    .dataframe tbody tr th {\n",
       "        vertical-align: top;\n",
       "    }\n",
       "\n",
       "    .dataframe thead th {\n",
       "        text-align: right;\n",
       "    }\n",
       "</style>\n",
       "<table border=\"1\" class=\"dataframe\">\n",
       "  <thead>\n",
       "    <tr style=\"text-align: right;\">\n",
       "      <th></th>\n",
       "      <th>0619</th>\n",
       "      <th>0997_real</th>\n",
       "      <th>0997_pred</th>\n",
       "      <th>單耗_real</th>\n",
       "      <th>單耗_pred</th>\n",
       "      <th>0997_R2</th>\n",
       "      <th>0997_MAPE</th>\n",
       "    </tr>\n",
       "  </thead>\n",
       "  <tbody>\n",
       "    <tr>\n",
       "      <th>2019-04-15 19:00:00</th>\n",
       "      <td>7483.497254</td>\n",
       "      <td>8226.883</td>\n",
       "      <td>8133.793412</td>\n",
       "      <td>0.909639</td>\n",
       "      <td>0.920050</td>\n",
       "      <td>0.847492</td>\n",
       "      <td>1.878737</td>\n",
       "    </tr>\n",
       "    <tr>\n",
       "      <th>2019-04-15 19:10:00</th>\n",
       "      <td>7483.339126</td>\n",
       "      <td>8249.652</td>\n",
       "      <td>8211.716283</td>\n",
       "      <td>0.907110</td>\n",
       "      <td>0.911300</td>\n",
       "      <td>0.847492</td>\n",
       "      <td>1.878737</td>\n",
       "    </tr>\n",
       "    <tr>\n",
       "      <th>2019-04-15 19:20:00</th>\n",
       "      <td>7482.915685</td>\n",
       "      <td>8266.681</td>\n",
       "      <td>8159.800615</td>\n",
       "      <td>0.905190</td>\n",
       "      <td>0.917046</td>\n",
       "      <td>0.847492</td>\n",
       "      <td>1.878737</td>\n",
       "    </tr>\n",
       "    <tr>\n",
       "      <th>2019-04-15 19:30:00</th>\n",
       "      <td>7482.441633</td>\n",
       "      <td>8281.450</td>\n",
       "      <td>8171.541691</td>\n",
       "      <td>0.903518</td>\n",
       "      <td>0.915671</td>\n",
       "      <td>0.847492</td>\n",
       "      <td>1.878737</td>\n",
       "    </tr>\n",
       "    <tr>\n",
       "      <th>2019-04-15 19:40:00</th>\n",
       "      <td>7482.044923</td>\n",
       "      <td>8263.153</td>\n",
       "      <td>8122.289780</td>\n",
       "      <td>0.905471</td>\n",
       "      <td>0.921174</td>\n",
       "      <td>0.847492</td>\n",
       "      <td>1.878737</td>\n",
       "    </tr>\n",
       "  </tbody>\n",
       "</table>\n",
       "</div>"
      ],
      "text/plain": [
       "                            0619  0997_real    0997_pred   單耗_real   單耗_pred  \\\n",
       "2019-04-15 19:00:00  7483.497254   8226.883  8133.793412  0.909639  0.920050   \n",
       "2019-04-15 19:10:00  7483.339126   8249.652  8211.716283  0.907110  0.911300   \n",
       "2019-04-15 19:20:00  7482.915685   8266.681  8159.800615  0.905190  0.917046   \n",
       "2019-04-15 19:30:00  7482.441633   8281.450  8171.541691  0.903518  0.915671   \n",
       "2019-04-15 19:40:00  7482.044923   8263.153  8122.289780  0.905471  0.921174   \n",
       "\n",
       "                      0997_R2  0997_MAPE  \n",
       "2019-04-15 19:00:00  0.847492   1.878737  \n",
       "2019-04-15 19:10:00  0.847492   1.878737  \n",
       "2019-04-15 19:20:00  0.847492   1.878737  \n",
       "2019-04-15 19:30:00  0.847492   1.878737  \n",
       "2019-04-15 19:40:00  0.847492   1.878737  "
      ]
     },
     "execution_count": 28,
     "metadata": {},
     "output_type": "execute_result"
    }
   ],
   "source": [
    "t3.head()"
   ]
  },
  {
   "cell_type": "code",
   "execution_count": 29,
   "metadata": {},
   "outputs": [
    {
     "data": {
      "text/plain": [
       "2016-06-01 02:40:00    6400.453475\n",
       "2016-06-01 02:50:00    6411.103606\n",
       "2016-06-01 03:00:00    6388.449922\n",
       "2016-06-01 03:10:00    6398.419452\n",
       "2016-06-01 03:20:00    6398.552884\n",
       "Name: 0997_pred, dtype: float64"
      ]
     },
     "execution_count": 29,
     "metadata": {},
     "output_type": "execute_result"
    }
   ],
   "source": [
    "pred_0997_all = t1.append(t2).append(t3)['0997_pred']\n",
    "pred_0997_all.head()"
   ]
  },
  {
   "cell_type": "code",
   "execution_count": 30,
   "metadata": {},
   "outputs": [
    {
     "name": "stdout",
     "output_type": "stream",
     "text": [
      "save done\n"
     ]
    }
   ],
   "source": [
    "pred_0997_all.to_csv('./data/pred_0997_all.csv')\n",
    "print('save done')"
   ]
  },
  {
   "cell_type": "markdown",
   "metadata": {},
   "source": [
    "# check net"
   ]
  },
  {
   "cell_type": "code",
   "execution_count": 31,
   "metadata": {},
   "outputs": [
    {
     "data": {
      "text/plain": [
       "tensor([[ 0.0892, -0.0482, -0.3012, -0.2736, -0.1576,  0.2832,  0.2858, -0.0735,\n",
       "          0.2176,  0.3120, -0.2344,  0.2927, -0.3572,  0.2719,  0.0878, -0.2083,\n",
       "          0.0847,  0.1194, -0.1365,  0.2250, -0.3013,  0.0709,  0.0700,  0.1319,\n",
       "          0.1151, -0.1560, -0.1563,  0.1144, -0.1346,  0.2668,  0.1152,  0.0634,\n",
       "          0.2856, -0.3364,  0.2832,  0.2913,  0.2962, -0.0448, -0.0564]],\n",
       "       device='cuda:0', dtype=torch.float64)"
      ]
     },
     "execution_count": 31,
     "metadata": {},
     "output_type": "execute_result"
    }
   ],
   "source": [
    "net.linear_1.weight.data"
   ]
  },
  {
   "cell_type": "code",
   "execution_count": 32,
   "metadata": {},
   "outputs": [
    {
     "data": {
      "text/plain": [
       "tensor(9, device='cuda:0')"
      ]
     },
     "execution_count": 32,
     "metadata": {},
     "output_type": "execute_result"
    }
   ],
   "source": [
    "net.linear_1.weight.data.argmax()"
   ]
  },
  {
   "cell_type": "code",
   "execution_count": null,
   "metadata": {},
   "outputs": [],
   "source": []
  },
  {
   "cell_type": "code",
   "execution_count": null,
   "metadata": {},
   "outputs": [],
   "source": []
  }
 ],
 "metadata": {
  "kernelspec": {
   "display_name": "Python 3",
   "language": "python",
   "name": "python3"
  },
  "language_info": {
   "codemirror_mode": {
    "name": "ipython",
    "version": 3
   },
   "file_extension": ".py",
   "mimetype": "text/x-python",
   "name": "python",
   "nbconvert_exporter": "python",
   "pygments_lexer": "ipython3",
   "version": "3.7.6"
  }
 },
 "nbformat": 4,
 "nbformat_minor": 2
}
