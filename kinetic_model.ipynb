{
 "cells": [
  {
   "cell_type": "code",
   "execution_count": 1,
   "metadata": {},
   "outputs": [
    {
     "data": {
      "text/plain": [
       "['PA_201605-2012001更新R7(20200323).xlsx',\n",
       " 'pred_0997_all.csv',\n",
       " 'tag盤點表20200323.xlsx',\n",
       " 'tag盤點表_cleaned.csv',\n",
       " 'train_cleaned.csv',\n",
       " 'train_preprocessed']"
      ]
     },
     "execution_count": 1,
     "metadata": {},
     "output_type": "execute_result"
    }
   ],
   "source": [
    "import pandas as pd\n",
    "import numpy as np\n",
    "import torch.nn.functional as F\n",
    "import warnings\n",
    "warnings.simplefilter('ignore')\n",
    "import torchviz\n",
    "import seaborn as sns\n",
    "import matplotlib.pyplot as plt\n",
    "from tqdm import tqdm_notebook as tqdm\n",
    "from torch.utils.tensorboard import SummaryWriter\n",
    "import torch\n",
    "import torch.nn as nn\n",
    "import torch.utils.data as Data\n",
    "import torchvision\n",
    "import joblib\n",
    "import os\n",
    "from sklearn.preprocessing import StandardScaler\n",
    "import time\n",
    "def get_col(df,name):\n",
    "    return df.columns[df.columns.str.contains(name)].tolist()\n",
    "os.listdir('./data')"
   ]
  },
  {
   "cell_type": "code",
   "execution_count": 2,
   "metadata": {},
   "outputs": [],
   "source": [
    "tag = pd.read_csv('./data/tag盤點表_cleaned.csv',index_col=0)\n",
    "tag = tag.loc[tag.category=='可控制因子']"
   ]
  },
  {
   "cell_type": "markdown",
   "metadata": {},
   "source": [
    "# load X,y"
   ]
  },
  {
   "cell_type": "code",
   "execution_count": 3,
   "metadata": {},
   "outputs": [
    {
     "name": "stdout",
     "output_type": "stream",
     "text": [
      "(134869, 547)\n"
     ]
    },
    {
     "data": {
      "text/html": [
       "<div>\n",
       "<style scoped>\n",
       "    .dataframe tbody tr th:only-of-type {\n",
       "        vertical-align: middle;\n",
       "    }\n",
       "\n",
       "    .dataframe tbody tr th {\n",
       "        vertical-align: top;\n",
       "    }\n",
       "\n",
       "    .dataframe thead th {\n",
       "        text-align: right;\n",
       "    }\n",
       "</style>\n",
       "<table border=\"1\" class=\"dataframe\">\n",
       "  <thead>\n",
       "    <tr style=\"text-align: right;\">\n",
       "      <th></th>\n",
       "      <th>0</th>\n",
       "      <th>1</th>\n",
       "      <th>2</th>\n",
       "      <th>3</th>\n",
       "      <th>4</th>\n",
       "      <th>5</th>\n",
       "      <th>6</th>\n",
       "      <th>7</th>\n",
       "      <th>8</th>\n",
       "      <th>9</th>\n",
       "      <th>...</th>\n",
       "      <th>537</th>\n",
       "      <th>538</th>\n",
       "      <th>539</th>\n",
       "      <th>540</th>\n",
       "      <th>541</th>\n",
       "      <th>542</th>\n",
       "      <th>543</th>\n",
       "      <th>544</th>\n",
       "      <th>545</th>\n",
       "      <th>0997_real</th>\n",
       "    </tr>\n",
       "  </thead>\n",
       "  <tbody>\n",
       "    <tr>\n",
       "      <td>2016-06-01 02:40:00</td>\n",
       "      <td>5695.2363</td>\n",
       "      <td>85.352490</td>\n",
       "      <td>36.090110</td>\n",
       "      <td>34.696857</td>\n",
       "      <td>49.382782</td>\n",
       "      <td>362.26434</td>\n",
       "      <td>144.97864</td>\n",
       "      <td>2.442607</td>\n",
       "      <td>361.02557</td>\n",
       "      <td>60.061237</td>\n",
       "      <td>...</td>\n",
       "      <td>362.18622</td>\n",
       "      <td>144.94327</td>\n",
       "      <td>2.347922</td>\n",
       "      <td>361.01324</td>\n",
       "      <td>60.350594</td>\n",
       "      <td>184.75967</td>\n",
       "      <td>180.01015</td>\n",
       "      <td>364.79498</td>\n",
       "      <td>179.32439</td>\n",
       "      <td>6467.7600</td>\n",
       "    </tr>\n",
       "    <tr>\n",
       "      <td>2016-06-01 02:50:00</td>\n",
       "      <td>5709.7036</td>\n",
       "      <td>85.653360</td>\n",
       "      <td>35.959490</td>\n",
       "      <td>35.388890</td>\n",
       "      <td>49.400085</td>\n",
       "      <td>362.33936</td>\n",
       "      <td>144.83496</td>\n",
       "      <td>2.486111</td>\n",
       "      <td>361.09380</td>\n",
       "      <td>60.353172</td>\n",
       "      <td>...</td>\n",
       "      <td>362.19500</td>\n",
       "      <td>145.05249</td>\n",
       "      <td>2.342792</td>\n",
       "      <td>361.01670</td>\n",
       "      <td>60.989777</td>\n",
       "      <td>184.67749</td>\n",
       "      <td>180.01030</td>\n",
       "      <td>364.68997</td>\n",
       "      <td>181.94745</td>\n",
       "      <td>6450.8740</td>\n",
       "    </tr>\n",
       "    <tr>\n",
       "      <td>2016-06-01 03:00:00</td>\n",
       "      <td>5687.0700</td>\n",
       "      <td>85.301930</td>\n",
       "      <td>36.018215</td>\n",
       "      <td>34.879738</td>\n",
       "      <td>49.394993</td>\n",
       "      <td>362.22006</td>\n",
       "      <td>145.24248</td>\n",
       "      <td>2.369419</td>\n",
       "      <td>361.02510</td>\n",
       "      <td>61.337530</td>\n",
       "      <td>...</td>\n",
       "      <td>362.24260</td>\n",
       "      <td>144.96265</td>\n",
       "      <td>2.392348</td>\n",
       "      <td>361.03952</td>\n",
       "      <td>60.260216</td>\n",
       "      <td>184.69803</td>\n",
       "      <td>179.80000</td>\n",
       "      <td>364.90765</td>\n",
       "      <td>182.75210</td>\n",
       "      <td>6443.6900</td>\n",
       "    </tr>\n",
       "    <tr>\n",
       "      <td>2016-06-01 03:10:00</td>\n",
       "      <td>5689.3900</td>\n",
       "      <td>85.273994</td>\n",
       "      <td>35.984818</td>\n",
       "      <td>35.051820</td>\n",
       "      <td>49.394978</td>\n",
       "      <td>362.19617</td>\n",
       "      <td>145.12143</td>\n",
       "      <td>2.425157</td>\n",
       "      <td>360.96103</td>\n",
       "      <td>60.153100</td>\n",
       "      <td>...</td>\n",
       "      <td>362.23618</td>\n",
       "      <td>144.99008</td>\n",
       "      <td>2.396329</td>\n",
       "      <td>361.01053</td>\n",
       "      <td>60.237118</td>\n",
       "      <td>184.61932</td>\n",
       "      <td>180.03043</td>\n",
       "      <td>364.81244</td>\n",
       "      <td>180.19040</td>\n",
       "      <td>6430.3833</td>\n",
       "    </tr>\n",
       "    <tr>\n",
       "      <td>2016-06-01 03:20:00</td>\n",
       "      <td>5695.1797</td>\n",
       "      <td>85.347840</td>\n",
       "      <td>36.002686</td>\n",
       "      <td>34.899242</td>\n",
       "      <td>49.394980</td>\n",
       "      <td>362.21060</td>\n",
       "      <td>144.92728</td>\n",
       "      <td>2.340548</td>\n",
       "      <td>361.02005</td>\n",
       "      <td>60.312088</td>\n",
       "      <td>...</td>\n",
       "      <td>362.24550</td>\n",
       "      <td>145.02303</td>\n",
       "      <td>2.359308</td>\n",
       "      <td>361.05435</td>\n",
       "      <td>60.822850</td>\n",
       "      <td>184.64757</td>\n",
       "      <td>179.91011</td>\n",
       "      <td>364.80770</td>\n",
       "      <td>181.87064</td>\n",
       "      <td>6446.3940</td>\n",
       "    </tr>\n",
       "  </tbody>\n",
       "</table>\n",
       "<p>5 rows × 547 columns</p>\n",
       "</div>"
      ],
      "text/plain": [
       "                             0          1          2          3          4  \\\n",
       "2016-06-01 02:40:00  5695.2363  85.352490  36.090110  34.696857  49.382782   \n",
       "2016-06-01 02:50:00  5709.7036  85.653360  35.959490  35.388890  49.400085   \n",
       "2016-06-01 03:00:00  5687.0700  85.301930  36.018215  34.879738  49.394993   \n",
       "2016-06-01 03:10:00  5689.3900  85.273994  35.984818  35.051820  49.394978   \n",
       "2016-06-01 03:20:00  5695.1797  85.347840  36.002686  34.899242  49.394980   \n",
       "\n",
       "                             5          6         7          8          9  \\\n",
       "2016-06-01 02:40:00  362.26434  144.97864  2.442607  361.02557  60.061237   \n",
       "2016-06-01 02:50:00  362.33936  144.83496  2.486111  361.09380  60.353172   \n",
       "2016-06-01 03:00:00  362.22006  145.24248  2.369419  361.02510  61.337530   \n",
       "2016-06-01 03:10:00  362.19617  145.12143  2.425157  360.96103  60.153100   \n",
       "2016-06-01 03:20:00  362.21060  144.92728  2.340548  361.02005  60.312088   \n",
       "\n",
       "                     ...        537        538       539        540  \\\n",
       "2016-06-01 02:40:00  ...  362.18622  144.94327  2.347922  361.01324   \n",
       "2016-06-01 02:50:00  ...  362.19500  145.05249  2.342792  361.01670   \n",
       "2016-06-01 03:00:00  ...  362.24260  144.96265  2.392348  361.03952   \n",
       "2016-06-01 03:10:00  ...  362.23618  144.99008  2.396329  361.01053   \n",
       "2016-06-01 03:20:00  ...  362.24550  145.02303  2.359308  361.05435   \n",
       "\n",
       "                           541        542        543        544        545  \\\n",
       "2016-06-01 02:40:00  60.350594  184.75967  180.01015  364.79498  179.32439   \n",
       "2016-06-01 02:50:00  60.989777  184.67749  180.01030  364.68997  181.94745   \n",
       "2016-06-01 03:00:00  60.260216  184.69803  179.80000  364.90765  182.75210   \n",
       "2016-06-01 03:10:00  60.237118  184.61932  180.03043  364.81244  180.19040   \n",
       "2016-06-01 03:20:00  60.822850  184.64757  179.91011  364.80770  181.87064   \n",
       "\n",
       "                     0997_real  \n",
       "2016-06-01 02:40:00  6467.7600  \n",
       "2016-06-01 02:50:00  6450.8740  \n",
       "2016-06-01 03:00:00  6443.6900  \n",
       "2016-06-01 03:10:00  6430.3833  \n",
       "2016-06-01 03:20:00  6446.3940  \n",
       "\n",
       "[5 rows x 547 columns]"
      ]
     },
     "execution_count": 3,
     "metadata": {},
     "output_type": "execute_result"
    }
   ],
   "source": [
    "data = joblib.load('./data/train_preprocessed')\n",
    "X = data['X']\n",
    "Y = data['Y']\n",
    "x_col = data['x_col']\n",
    "y_col = data['y_col']\n",
    "idx = data['idx']\n",
    "# build df\n",
    "df = pd.DataFrame(X,index=idx)\n",
    "df['0997_real'] = Y\n",
    "print(df.shape)\n",
    "df.head()"
   ]
  },
  {
   "cell_type": "markdown",
   "metadata": {},
   "source": [
    "# time_step num_sensor"
   ]
  },
  {
   "cell_type": "code",
   "execution_count": 4,
   "metadata": {},
   "outputs": [
    {
     "name": "stdout",
     "output_type": "stream",
     "text": [
      "39 14\n"
     ]
    }
   ],
   "source": [
    "num_sensor = len(x_col)\n",
    "time_step = int(X.shape[1]/len(x_col))\n",
    "print(time_step,num_sensor)"
   ]
  },
  {
   "cell_type": "markdown",
   "metadata": {},
   "source": [
    "# select data range"
   ]
  },
  {
   "cell_type": "code",
   "execution_count": 5,
   "metadata": {},
   "outputs": [
    {
     "data": {
      "text/html": [
       "<div>\n",
       "<style scoped>\n",
       "    .dataframe tbody tr th:only-of-type {\n",
       "        vertical-align: middle;\n",
       "    }\n",
       "\n",
       "    .dataframe tbody tr th {\n",
       "        vertical-align: top;\n",
       "    }\n",
       "\n",
       "    .dataframe thead th {\n",
       "        text-align: right;\n",
       "    }\n",
       "</style>\n",
       "<table border=\"1\" class=\"dataframe\">\n",
       "  <thead>\n",
       "    <tr style=\"text-align: right;\">\n",
       "      <th></th>\n",
       "      <th>0</th>\n",
       "      <th>1</th>\n",
       "      <th>2</th>\n",
       "      <th>3</th>\n",
       "      <th>4</th>\n",
       "      <th>5</th>\n",
       "      <th>6</th>\n",
       "      <th>7</th>\n",
       "      <th>8</th>\n",
       "      <th>9</th>\n",
       "      <th>...</th>\n",
       "      <th>537</th>\n",
       "      <th>538</th>\n",
       "      <th>539</th>\n",
       "      <th>540</th>\n",
       "      <th>541</th>\n",
       "      <th>542</th>\n",
       "      <th>543</th>\n",
       "      <th>544</th>\n",
       "      <th>545</th>\n",
       "      <th>0997_real</th>\n",
       "    </tr>\n",
       "  </thead>\n",
       "  <tbody>\n",
       "    <tr>\n",
       "      <td>2016-06-20 00:00:00</td>\n",
       "      <td>7116.3180</td>\n",
       "      <td>85.148020</td>\n",
       "      <td>35.955723</td>\n",
       "      <td>35.209538</td>\n",
       "      <td>49.485020</td>\n",
       "      <td>355.62590</td>\n",
       "      <td>145.03008</td>\n",
       "      <td>2.790372</td>\n",
       "      <td>354.24045</td>\n",
       "      <td>60.712350</td>\n",
       "      <td>...</td>\n",
       "      <td>355.52545</td>\n",
       "      <td>145.00943</td>\n",
       "      <td>2.644965</td>\n",
       "      <td>354.20547</td>\n",
       "      <td>60.619260</td>\n",
       "      <td>184.06555</td>\n",
       "      <td>176.28226</td>\n",
       "      <td>358.51508</td>\n",
       "      <td>182.41208</td>\n",
       "      <td>7904.0625</td>\n",
       "    </tr>\n",
       "    <tr>\n",
       "      <td>2016-06-20 00:10:00</td>\n",
       "      <td>7128.8555</td>\n",
       "      <td>85.397430</td>\n",
       "      <td>36.091790</td>\n",
       "      <td>34.759377</td>\n",
       "      <td>49.489960</td>\n",
       "      <td>355.57956</td>\n",
       "      <td>145.01405</td>\n",
       "      <td>2.794634</td>\n",
       "      <td>354.19500</td>\n",
       "      <td>60.305283</td>\n",
       "      <td>...</td>\n",
       "      <td>355.51508</td>\n",
       "      <td>144.95656</td>\n",
       "      <td>2.569579</td>\n",
       "      <td>354.21500</td>\n",
       "      <td>60.278030</td>\n",
       "      <td>184.14162</td>\n",
       "      <td>176.13545</td>\n",
       "      <td>358.69263</td>\n",
       "      <td>181.79498</td>\n",
       "      <td>7913.4487</td>\n",
       "    </tr>\n",
       "    <tr>\n",
       "      <td>2016-06-20 00:20:00</td>\n",
       "      <td>7128.2476</td>\n",
       "      <td>85.294334</td>\n",
       "      <td>36.039870</td>\n",
       "      <td>35.170166</td>\n",
       "      <td>49.489960</td>\n",
       "      <td>355.58040</td>\n",
       "      <td>144.97540</td>\n",
       "      <td>2.774529</td>\n",
       "      <td>354.19543</td>\n",
       "      <td>60.403633</td>\n",
       "      <td>...</td>\n",
       "      <td>355.61456</td>\n",
       "      <td>144.98909</td>\n",
       "      <td>2.690484</td>\n",
       "      <td>354.27950</td>\n",
       "      <td>60.554530</td>\n",
       "      <td>184.01282</td>\n",
       "      <td>176.40000</td>\n",
       "      <td>358.52423</td>\n",
       "      <td>178.33656</td>\n",
       "      <td>7911.7050</td>\n",
       "    </tr>\n",
       "    <tr>\n",
       "      <td>2017-02-17 06:00:00</td>\n",
       "      <td>7318.1200</td>\n",
       "      <td>76.992160</td>\n",
       "      <td>36.130260</td>\n",
       "      <td>35.061035</td>\n",
       "      <td>49.505020</td>\n",
       "      <td>346.96830</td>\n",
       "      <td>146.49484</td>\n",
       "      <td>1.646714</td>\n",
       "      <td>346.12830</td>\n",
       "      <td>60.520720</td>\n",
       "      <td>...</td>\n",
       "      <td>346.95000</td>\n",
       "      <td>146.57059</td>\n",
       "      <td>1.660524</td>\n",
       "      <td>346.11940</td>\n",
       "      <td>60.531060</td>\n",
       "      <td>181.40356</td>\n",
       "      <td>171.90000</td>\n",
       "      <td>351.18213</td>\n",
       "      <td>177.66031</td>\n",
       "      <td>8041.7900</td>\n",
       "    </tr>\n",
       "    <tr>\n",
       "      <td>2017-02-17 06:10:00</td>\n",
       "      <td>7315.9420</td>\n",
       "      <td>76.972176</td>\n",
       "      <td>36.005604</td>\n",
       "      <td>34.951060</td>\n",
       "      <td>49.490055</td>\n",
       "      <td>346.96457</td>\n",
       "      <td>146.42587</td>\n",
       "      <td>1.624964</td>\n",
       "      <td>346.14395</td>\n",
       "      <td>60.758606</td>\n",
       "      <td>...</td>\n",
       "      <td>346.66315</td>\n",
       "      <td>146.53949</td>\n",
       "      <td>1.471631</td>\n",
       "      <td>345.91745</td>\n",
       "      <td>60.654694</td>\n",
       "      <td>181.55270</td>\n",
       "      <td>171.80660</td>\n",
       "      <td>351.08212</td>\n",
       "      <td>174.84160</td>\n",
       "      <td>8039.3890</td>\n",
       "    </tr>\n",
       "    <tr>\n",
       "      <td>2017-02-17 06:20:00</td>\n",
       "      <td>7306.1675</td>\n",
       "      <td>76.976906</td>\n",
       "      <td>35.855827</td>\n",
       "      <td>34.771680</td>\n",
       "      <td>49.489944</td>\n",
       "      <td>346.97110</td>\n",
       "      <td>146.52061</td>\n",
       "      <td>1.665420</td>\n",
       "      <td>346.13565</td>\n",
       "      <td>60.293194</td>\n",
       "      <td>...</td>\n",
       "      <td>345.78055</td>\n",
       "      <td>146.76909</td>\n",
       "      <td>0.466979</td>\n",
       "      <td>345.54070</td>\n",
       "      <td>60.545030</td>\n",
       "      <td>182.09363</td>\n",
       "      <td>171.79341</td>\n",
       "      <td>350.99005</td>\n",
       "      <td>178.14595</td>\n",
       "      <td>8021.1885</td>\n",
       "    </tr>\n",
       "  </tbody>\n",
       "</table>\n",
       "<p>6 rows × 547 columns</p>\n",
       "</div>"
      ],
      "text/plain": [
       "                             0          1          2          3          4  \\\n",
       "2016-06-20 00:00:00  7116.3180  85.148020  35.955723  35.209538  49.485020   \n",
       "2016-06-20 00:10:00  7128.8555  85.397430  36.091790  34.759377  49.489960   \n",
       "2016-06-20 00:20:00  7128.2476  85.294334  36.039870  35.170166  49.489960   \n",
       "2017-02-17 06:00:00  7318.1200  76.992160  36.130260  35.061035  49.505020   \n",
       "2017-02-17 06:10:00  7315.9420  76.972176  36.005604  34.951060  49.490055   \n",
       "2017-02-17 06:20:00  7306.1675  76.976906  35.855827  34.771680  49.489944   \n",
       "\n",
       "                             5          6         7          8          9  \\\n",
       "2016-06-20 00:00:00  355.62590  145.03008  2.790372  354.24045  60.712350   \n",
       "2016-06-20 00:10:00  355.57956  145.01405  2.794634  354.19500  60.305283   \n",
       "2016-06-20 00:20:00  355.58040  144.97540  2.774529  354.19543  60.403633   \n",
       "2017-02-17 06:00:00  346.96830  146.49484  1.646714  346.12830  60.520720   \n",
       "2017-02-17 06:10:00  346.96457  146.42587  1.624964  346.14395  60.758606   \n",
       "2017-02-17 06:20:00  346.97110  146.52061  1.665420  346.13565  60.293194   \n",
       "\n",
       "                     ...        537        538       539        540  \\\n",
       "2016-06-20 00:00:00  ...  355.52545  145.00943  2.644965  354.20547   \n",
       "2016-06-20 00:10:00  ...  355.51508  144.95656  2.569579  354.21500   \n",
       "2016-06-20 00:20:00  ...  355.61456  144.98909  2.690484  354.27950   \n",
       "2017-02-17 06:00:00  ...  346.95000  146.57059  1.660524  346.11940   \n",
       "2017-02-17 06:10:00  ...  346.66315  146.53949  1.471631  345.91745   \n",
       "2017-02-17 06:20:00  ...  345.78055  146.76909  0.466979  345.54070   \n",
       "\n",
       "                           541        542        543        544        545  \\\n",
       "2016-06-20 00:00:00  60.619260  184.06555  176.28226  358.51508  182.41208   \n",
       "2016-06-20 00:10:00  60.278030  184.14162  176.13545  358.69263  181.79498   \n",
       "2016-06-20 00:20:00  60.554530  184.01282  176.40000  358.52423  178.33656   \n",
       "2017-02-17 06:00:00  60.531060  181.40356  171.90000  351.18213  177.66031   \n",
       "2017-02-17 06:10:00  60.654694  181.55270  171.80660  351.08212  174.84160   \n",
       "2017-02-17 06:20:00  60.545030  182.09363  171.79341  350.99005  178.14595   \n",
       "\n",
       "                     0997_real  \n",
       "2016-06-20 00:00:00  7904.0625  \n",
       "2016-06-20 00:10:00  7913.4487  \n",
       "2016-06-20 00:20:00  7911.7050  \n",
       "2017-02-17 06:00:00  8041.7900  \n",
       "2017-02-17 06:10:00  8039.3890  \n",
       "2017-02-17 06:20:00  8021.1885  \n",
       "\n",
       "[6 rows x 547 columns]"
      ]
     },
     "execution_count": 5,
     "metadata": {},
     "output_type": "execute_result"
    }
   ],
   "source": [
    "df = df.loc['2016-06-20':'2017-02-20']\n",
    "idx = df.index\n",
    "df.head(3).append(df.tail(3))"
   ]
  },
  {
   "cell_type": "markdown",
   "metadata": {},
   "source": [
    "# split train test"
   ]
  },
  {
   "cell_type": "code",
   "execution_count": 6,
   "metadata": {},
   "outputs": [],
   "source": [
    "X = df.iloc[:,:-1]\n",
    "Y = df.iloc[:,-1:]"
   ]
  },
  {
   "cell_type": "code",
   "execution_count": 7,
   "metadata": {},
   "outputs": [
    {
     "name": "stdout",
     "output_type": "stream",
     "text": [
      "(22339, 546)\n",
      "(22339, 1)\n",
      "(4787, 546)\n",
      "(4787, 1)\n",
      "(4788, 546)\n",
      "(4788, 1)\n"
     ]
    }
   ],
   "source": [
    "sp1 = int(len(X)*0.7)\n",
    "sp2 = int(len(X)*0.85)\n",
    "X_train,X_valid,X_test = X[:sp1],X[sp1:sp2],X[sp2:]\n",
    "Y_train,Y_valid,Y_test = Y[:sp1],Y[sp1:sp2],Y[sp2:]\n",
    "print(X_train.shape)\n",
    "print(Y_train.shape)\n",
    "print(X_valid.shape)\n",
    "print(Y_valid.shape)\n",
    "print(X_test.shape)\n",
    "print(Y_test.shape)"
   ]
  },
  {
   "cell_type": "markdown",
   "metadata": {},
   "source": [
    "# plot"
   ]
  },
  {
   "cell_type": "code",
   "execution_count": 8,
   "metadata": {},
   "outputs": [],
   "source": [
    "t1 = df.iloc[[sp1]].index[0]\n",
    "t2 = df.iloc[[sp2]].index[0]"
   ]
  },
  {
   "cell_type": "code",
   "execution_count": 9,
   "metadata": {},
   "outputs": [
    {
     "data": {
      "image/png": "[encoded data removed]",
      "text/plain": [
       "<Figure size 432x288 with 1 Axes>"
      ]
     },
     "metadata": {
      "needs_background": "light"
     },
     "output_type": "display_data"
    }
   ],
   "source": [
    "df['0997_real'].plot(label='train')\n",
    "df['0997_real'][(df.index > t1)&(df.index < t2)].plot(color = 'red',label='valid')\n",
    "df['0997_real'][(df.index > t2)].plot(color = 'orange',label='test')\n",
    "plt.legend()\n",
    "plt.show()"
   ]
  },
  {
   "cell_type": "markdown",
   "metadata": {},
   "source": [
    "# MinMaxScaler"
   ]
  },
  {
   "cell_type": "code",
   "execution_count": 10,
   "metadata": {},
   "outputs": [],
   "source": [
    "from sklearn.preprocessing import MinMaxScaler\n",
    "mm_x = MinMaxScaler().fit(X)\n",
    "mm_y = MinMaxScaler().fit(Y)"
   ]
  },
  {
   "cell_type": "code",
   "execution_count": 11,
   "metadata": {},
   "outputs": [
    {
     "name": "stdout",
     "output_type": "stream",
     "text": [
      "save done!\n"
     ]
    }
   ],
   "source": [
    "joblib.dump(mm_x,'./model/mm_x.pkl')\n",
    "joblib.dump(mm_y,'./model/mm_y.pkl')\n",
    "print('save done!')"
   ]
  },
  {
   "cell_type": "markdown",
   "metadata": {},
   "source": [
    "# scale "
   ]
  },
  {
   "cell_type": "code",
   "execution_count": 12,
   "metadata": {},
   "outputs": [],
   "source": [
    "X_train = mm_x.transform(X_train)\n",
    "X_valid = mm_x.transform(X_valid)\n",
    "X_test = mm_x.transform(X_test)\n",
    "\n",
    "Y_train = mm_y.transform(Y_train)\n",
    "Y_valid = mm_y.transform(Y_valid)\n",
    "Y_test = mm_y.transform(Y_test)"
   ]
  },
  {
   "cell_type": "markdown",
   "metadata": {},
   "source": [
    "# torch tensor"
   ]
  },
  {
   "cell_type": "code",
   "execution_count": 13,
   "metadata": {},
   "outputs": [],
   "source": [
    "import torch\n",
    "\n",
    "X_train = torch.tensor(X_train).cuda()\n",
    "X_test = torch.tensor(X_test).cuda()\n",
    "\n",
    "X_valid = torch.tensor(X_valid).cuda()\n",
    "Y_valid = torch.tensor(Y_valid).cuda()\n",
    "\n",
    "Y_train = torch.tensor(Y_train).cuda()\n",
    "Y_test = torch.tensor(Y_test).cuda()"
   ]
  },
  {
   "cell_type": "code",
   "execution_count": 14,
   "metadata": {},
   "outputs": [
    {
     "name": "stdout",
     "output_type": "stream",
     "text": [
      "torch.Size([22339, 546]) torch.Size([4787, 546]) torch.Size([4788, 546])\n"
     ]
    }
   ],
   "source": [
    "print(X_train.shape,X_valid.shape,X_test.shape)"
   ]
  },
  {
   "cell_type": "markdown",
   "metadata": {},
   "source": [
    "# data_iter"
   ]
  },
  {
   "cell_type": "code",
   "execution_count": 15,
   "metadata": {},
   "outputs": [],
   "source": [
    "train = torch.utils.data.TensorDataset(X_train, Y_train)\n",
    "valid = torch.utils.data.TensorDataset(X_valid, Y_valid)\n",
    "train_iter = torch.utils.data.DataLoader(train, batch_size=256, shuffle=True)\n",
    "valid_iter = torch.utils.data.DataLoader(valid, batch_size=256, shuffle=True)"
   ]
  },
  {
   "cell_type": "markdown",
   "metadata": {},
   "source": [
    "# Construct the neural network"
   ]
  },
  {
   "cell_type": "code",
   "execution_count": 16,
   "metadata": {},
   "outputs": [
    {
     "data": {
      "text/plain": [
       "(546, 39, 14)"
      ]
     },
     "execution_count": 16,
     "metadata": {},
     "output_type": "execute_result"
    }
   ],
   "source": [
    "flat_size = X_train.shape[1]\n",
    "flat_size,time_step,num_sensor"
   ]
  },
  {
   "cell_type": "code",
   "execution_count": 17,
   "metadata": {},
   "outputs": [],
   "source": [
    "class panet(nn.Module):\n",
    "    def __init__(self):\n",
    "        super().__init__()\n",
    "        self.w = nn.Sequential(nn.Linear(flat_size,128),\n",
    "                               nn.Sigmoid(),\n",
    "                               nn.Linear(128,time_step))\n",
    "        \n",
    "        self.b = nn.Sequential(nn.Linear(flat_size,128),\n",
    "                               nn.Sigmoid(),\n",
    "                               nn.Linear(128,1))\n",
    "        \n",
    "        self.p = nn.Linear(1,1,bias=False)\n",
    "        self.history_weight = []\n",
    "        self.history_b = []\n",
    "        \n",
    "    def forward(self,x):\n",
    "        W = F.softmax(self.w(x)**2,dim=1)\n",
    "        b = self.b(x)\n",
    "        feed,factor = self.fetch(x)\n",
    "        WX = torch.sum(feed*W,dim=1).view(-1,1)\n",
    "        output = self.p(WX) + b\n",
    "        self.history_weight.append(W)\n",
    "        self.history_b.append(b)\n",
    "        return F.sigmoid(output)\n",
    "        \n",
    "    def fetch(self,x):\n",
    "        x_resize = x.view(-1,time_step,num_sensor)\n",
    "        feed = x_resize[:,:,0]\n",
    "        factor = x_resize[:,:,1:]\n",
    "        factor = factor.reshape(-1,time_step*(num_sensor-1))\n",
    "        return feed,factor "
   ]
  },
  {
   "cell_type": "code",
   "execution_count": 18,
   "metadata": {},
   "outputs": [],
   "source": [
    "def init_weights(m):\n",
    "    if hasattr(m,'weight'):\n",
    "        try:\n",
    "            torch.nn.init.xavier_uniform(m.weight)\n",
    "        except:\n",
    "            pass\n",
    "    if hasattr(m,'bias'):\n",
    "        try:\n",
    "            m.bias.data.fill_(0)\n",
    "        except:\n",
    "            pass"
   ]
  },
  {
   "cell_type": "code",
   "execution_count": 19,
   "metadata": {},
   "outputs": [
    {
     "data": {
      "text/plain": [
       "panet(\n",
       "  (w): Sequential(\n",
       "    (0): Linear(in_features=546, out_features=128, bias=True)\n",
       "    (1): Sigmoid()\n",
       "    (2): Linear(in_features=128, out_features=39, bias=True)\n",
       "  )\n",
       "  (b): Sequential(\n",
       "    (0): Linear(in_features=546, out_features=128, bias=True)\n",
       "    (1): Sigmoid()\n",
       "    (2): Linear(in_features=128, out_features=1, bias=True)\n",
       "  )\n",
       "  (p): Linear(in_features=1, out_features=1, bias=False)\n",
       ")"
      ]
     },
     "execution_count": 19,
     "metadata": {},
     "output_type": "execute_result"
    }
   ],
   "source": [
    "net = panet().cuda().double()\n",
    "net.apply(init_weights)"
   ]
  },
  {
   "cell_type": "code",
   "execution_count": 20,
   "metadata": {},
   "outputs": [
    {
     "data": {
      "text/plain": [
       "tensor([[0.4994],\n",
       "        [0.4966],\n",
       "        [0.4954],\n",
       "        ...,\n",
       "        [0.4994],\n",
       "        [0.4958],\n",
       "        [0.4946]], device='cuda:0', dtype=torch.float64,\n",
       "       grad_fn=<SigmoidBackward>)"
      ]
     },
     "execution_count": 20,
     "metadata": {},
     "output_type": "execute_result"
    }
   ],
   "source": [
    "net(X_test)"
   ]
  },
  {
   "cell_type": "markdown",
   "metadata": {},
   "source": [
    "# tensorboard"
   ]
  },
  {
   "cell_type": "code",
   "execution_count": 21,
   "metadata": {},
   "outputs": [],
   "source": [
    "with SummaryWriter(comment='Net')as w:\n",
    "    w.add_graph(net, (X_test,))"
   ]
  },
  {
   "cell_type": "markdown",
   "metadata": {},
   "source": [
    "# torchviz"
   ]
  },
  {
   "cell_type": "code",
   "execution_count": 22,
   "metadata": {},
   "outputs": [
    {
     "data": {
      "image/svg+xml": [
       "<?xml version=\"1.0\" encoding=\"UTF-8\" standalone=\"no\"?>\r\n",
       "<!DOCTYPE svg PUBLIC \"-//W3C//DTD SVG 1.1//EN\"\r\n",
       " \"http://www.w3.org/Graphics/SVG/1.1/DTD/svg11.dtd\">\r\n",
       "<!-- Generated by graphviz version 2.38.0 (20140413.2041)\r\n",
       " -->\r\n",
       "<!-- Title: %3 Pages: 1 -->\r\n",
       "<svg width=\"540pt\" height=\"864pt\"\r\n",
       " viewBox=\"0.00 0.00 539.75 864.00\" xmlns=\"http://www.w3.org/2000/svg\" xmlns:xlink=\"http://www.w3.org/1999/xlink\">\r\n",
       "<g id=\"graph0\" class=\"graph\" transform=\"scale(0.988558 0.988558) rotate(0) translate(4 870)\">\r\n",
       "<title>%3</title>\r\n",
       "<polygon fill=\"white\" stroke=\"none\" points=\"-4,4 -4,-870 542,-870 542,4 -4,4\"/>\r\n",
       "<!-- 2325138578568 -->\r\n",
       "<g id=\"node1\" class=\"node\"><title>2325138578568</title>\r\n",
       "<polygon fill=\"#caff70\" stroke=\"black\" points=\"340.5,-21 244.5,-21 244.5,-0 340.5,-0 340.5,-21\"/>\r\n",
       "<text text-anchor=\"middle\" x=\"292.5\" y=\"-7.4\" font-family=\"Times New Roman,serif\" font-size=\"12.00\">MeanBackward0</text>\r\n",
       "</g>\r\n",
       "<!-- 2325138575688 -->\r\n",
       "<g id=\"node2\" class=\"node\"><title>2325138575688</title>\r\n",
       "<polygon fill=\"lightgrey\" stroke=\"black\" points=\"343,-78 242,-78 242,-57 343,-57 343,-78\"/>\r\n",
       "<text text-anchor=\"middle\" x=\"292.5\" y=\"-64.4\" font-family=\"Times New Roman,serif\" font-size=\"12.00\">SigmoidBackward</text>\r\n",
       "</g>\r\n",
       "<!-- 2325138575688&#45;&gt;2325138578568 -->\r\n",
       "<g id=\"edge1\" class=\"edge\"><title>2325138575688&#45;&gt;2325138578568</title>\r\n",
       "<path fill=\"none\" stroke=\"black\" d=\"M292.5,-56.9197C292.5,-49.9083 292.5,-40.1442 292.5,-31.4652\"/>\r\n",
       "<polygon fill=\"black\" stroke=\"black\" points=\"296,-31.3408 292.5,-21.3408 289,-31.3409 296,-31.3408\"/>\r\n",
       "</g>\r\n",
       "<!-- 2325138577416 -->\r\n",
       "<g id=\"node3\" class=\"node\"><title>2325138577416</title>\r\n",
       "<polygon fill=\"lightgrey\" stroke=\"black\" points=\"337.5,-135 247.5,-135 247.5,-114 337.5,-114 337.5,-135\"/>\r\n",
       "<text text-anchor=\"middle\" x=\"292.5\" y=\"-121.4\" font-family=\"Times New Roman,serif\" font-size=\"12.00\">AddBackward0</text>\r\n",
       "</g>\r\n",
       "<!-- 2325138577416&#45;&gt;2325138575688 -->\r\n",
       "<g id=\"edge2\" class=\"edge\"><title>2325138577416&#45;&gt;2325138575688</title>\r\n",
       "<path fill=\"none\" stroke=\"black\" d=\"M292.5,-113.92C292.5,-106.908 292.5,-97.1442 292.5,-88.4652\"/>\r\n",
       "<polygon fill=\"black\" stroke=\"black\" points=\"296,-88.3408 292.5,-78.3408 289,-88.3409 296,-88.3408\"/>\r\n",
       "</g>\r\n",
       "<!-- 2325138577224 -->\r\n",
       "<g id=\"node4\" class=\"node\"><title>2325138577224</title>\r\n",
       "<polygon fill=\"lightgrey\" stroke=\"black\" points=\"263,-192 180,-192 180,-171 263,-171 263,-192\"/>\r\n",
       "<text text-anchor=\"middle\" x=\"221.5\" y=\"-178.4\" font-family=\"Times New Roman,serif\" font-size=\"12.00\">MmBackward</text>\r\n",
       "</g>\r\n",
       "<!-- 2325138577224&#45;&gt;2325138577416 -->\r\n",
       "<g id=\"edge3\" class=\"edge\"><title>2325138577224&#45;&gt;2325138577416</title>\r\n",
       "<path fill=\"none\" stroke=\"black\" d=\"M233.867,-170.92C244.326,-162.818 259.53,-151.04 271.835,-141.508\"/>\r\n",
       "<polygon fill=\"black\" stroke=\"black\" points=\"274.034,-144.232 279.796,-135.341 269.747,-138.698 274.034,-144.232\"/>\r\n",
       "</g>\r\n",
       "<!-- 2325138576392 -->\r\n",
       "<g id=\"node5\" class=\"node\"><title>2325138576392</title>\r\n",
       "<polygon fill=\"lightgrey\" stroke=\"black\" points=\"167.5,-255.5 79.5,-255.5 79.5,-234.5 167.5,-234.5 167.5,-255.5\"/>\r\n",
       "<text text-anchor=\"middle\" x=\"123.5\" y=\"-241.9\" font-family=\"Times New Roman,serif\" font-size=\"12.00\">ViewBackward</text>\r\n",
       "</g>\r\n",
       "<!-- 2325138576392&#45;&gt;2325138577224 -->\r\n",
       "<g id=\"edge4\" class=\"edge\"><title>2325138576392&#45;&gt;2325138577224</title>\r\n",
       "<path fill=\"none\" stroke=\"black\" d=\"M138.813,-234.391C154.562,-224.507 179.312,-208.975 197.634,-197.477\"/>\r\n",
       "<polygon fill=\"black\" stroke=\"black\" points=\"199.685,-200.322 206.295,-192.042 195.964,-194.393 199.685,-200.322\"/>\r\n",
       "</g>\r\n",
       "<!-- 2325138576520 -->\r\n",
       "<g id=\"node6\" class=\"node\"><title>2325138576520</title>\r\n",
       "<polygon fill=\"lightgrey\" stroke=\"black\" points=\"168.5,-325.5 78.5,-325.5 78.5,-304.5 168.5,-304.5 168.5,-325.5\"/>\r\n",
       "<text text-anchor=\"middle\" x=\"123.5\" y=\"-311.9\" font-family=\"Times New Roman,serif\" font-size=\"12.00\">SumBackward1</text>\r\n",
       "</g>\r\n",
       "<!-- 2325138576520&#45;&gt;2325138576392 -->\r\n",
       "<g id=\"edge5\" class=\"edge\"><title>2325138576520&#45;&gt;2325138576392</title>\r\n",
       "<path fill=\"none\" stroke=\"black\" d=\"M123.5,-304.257C123.5,-294.259 123.5,-278.422 123.5,-265.782\"/>\r\n",
       "<polygon fill=\"black\" stroke=\"black\" points=\"127,-265.725 123.5,-255.725 120,-265.725 127,-265.725\"/>\r\n",
       "</g>\r\n",
       "<!-- 2325138630728 -->\r\n",
       "<g id=\"node7\" class=\"node\"><title>2325138630728</title>\r\n",
       "<polygon fill=\"lightgrey\" stroke=\"black\" points=\"167.5,-395.5 79.5,-395.5 79.5,-374.5 167.5,-374.5 167.5,-395.5\"/>\r\n",
       "<text text-anchor=\"middle\" x=\"123.5\" y=\"-381.9\" font-family=\"Times New Roman,serif\" font-size=\"12.00\">MulBackward0</text>\r\n",
       "</g>\r\n",
       "<!-- 2325138630728&#45;&gt;2325138576520 -->\r\n",
       "<g id=\"edge6\" class=\"edge\"><title>2325138630728&#45;&gt;2325138576520</title>\r\n",
       "<path fill=\"none\" stroke=\"black\" d=\"M123.5,-374.257C123.5,-364.259 123.5,-348.422 123.5,-335.782\"/>\r\n",
       "<polygon fill=\"black\" stroke=\"black\" points=\"127,-335.725 123.5,-325.725 120,-335.725 127,-335.725\"/>\r\n",
       "</g>\r\n",
       "<!-- 2325138631560 -->\r\n",
       "<g id=\"node8\" class=\"node\"><title>2325138631560</title>\r\n",
       "<polygon fill=\"lightgrey\" stroke=\"black\" points=\"174,-465.5 73,-465.5 73,-444.5 174,-444.5 174,-465.5\"/>\r\n",
       "<text text-anchor=\"middle\" x=\"123.5\" y=\"-451.9\" font-family=\"Times New Roman,serif\" font-size=\"12.00\">SoftmaxBackward</text>\r\n",
       "</g>\r\n",
       "<!-- 2325138631560&#45;&gt;2325138630728 -->\r\n",
       "<g id=\"edge7\" class=\"edge\"><title>2325138631560&#45;&gt;2325138630728</title>\r\n",
       "<path fill=\"none\" stroke=\"black\" d=\"M123.5,-444.257C123.5,-434.259 123.5,-418.422 123.5,-405.782\"/>\r\n",
       "<polygon fill=\"black\" stroke=\"black\" points=\"127,-405.725 123.5,-395.725 120,-405.725 127,-405.725\"/>\r\n",
       "</g>\r\n",
       "<!-- 2325138631496 -->\r\n",
       "<g id=\"node9\" class=\"node\"><title>2325138631496</title>\r\n",
       "<polygon fill=\"lightgrey\" stroke=\"black\" points=\"169,-529 78,-529 78,-508 169,-508 169,-529\"/>\r\n",
       "<text text-anchor=\"middle\" x=\"123.5\" y=\"-515.4\" font-family=\"Times New Roman,serif\" font-size=\"12.00\">PowBackward0</text>\r\n",
       "</g>\r\n",
       "<!-- 2325138631496&#45;&gt;2325138631560 -->\r\n",
       "<g id=\"edge8\" class=\"edge\"><title>2325138631496&#45;&gt;2325138631560</title>\r\n",
       "<path fill=\"none\" stroke=\"black\" d=\"M123.5,-507.891C123.5,-499.366 123.5,-486.639 123.5,-475.923\"/>\r\n",
       "<polygon fill=\"black\" stroke=\"black\" points=\"127,-475.745 123.5,-465.745 120,-475.745 127,-475.745\"/>\r\n",
       "</g>\r\n",
       "<!-- 2325138630216 -->\r\n",
       "<g id=\"node10\" class=\"node\"><title>2325138630216</title>\r\n",
       "<polygon fill=\"lightgrey\" stroke=\"black\" points=\"174,-586 73,-586 73,-565 174,-565 174,-586\"/>\r\n",
       "<text text-anchor=\"middle\" x=\"123.5\" y=\"-572.4\" font-family=\"Times New Roman,serif\" font-size=\"12.00\">AddmmBackward</text>\r\n",
       "</g>\r\n",
       "<!-- 2325138630216&#45;&gt;2325138631496 -->\r\n",
       "<g id=\"edge9\" class=\"edge\"><title>2325138630216&#45;&gt;2325138631496</title>\r\n",
       "<path fill=\"none\" stroke=\"black\" d=\"M123.5,-564.92C123.5,-557.908 123.5,-548.144 123.5,-539.465\"/>\r\n",
       "<polygon fill=\"black\" stroke=\"black\" points=\"127,-539.341 123.5,-529.341 120,-539.341 127,-539.341\"/>\r\n",
       "</g>\r\n",
       "<!-- 2325138629256 -->\r\n",
       "<g id=\"node11\" class=\"node\"><title>2325138629256</title>\r\n",
       "<polygon fill=\"lightblue\" stroke=\"black\" points=\"55,-656 0,-656 0,-622 55,-622 55,-656\"/>\r\n",
       "<text text-anchor=\"middle\" x=\"27.5\" y=\"-642.4\" font-family=\"Times New Roman,serif\" font-size=\"12.00\">w.2.bias</text>\r\n",
       "<text text-anchor=\"middle\" x=\"27.5\" y=\"-629.4\" font-family=\"Times New Roman,serif\" font-size=\"12.00\"> (39)</text>\r\n",
       "</g>\r\n",
       "<!-- 2325138629256&#45;&gt;2325138630216 -->\r\n",
       "<g id=\"edge10\" class=\"edge\"><title>2325138629256&#45;&gt;2325138630216</title>\r\n",
       "<path fill=\"none\" stroke=\"black\" d=\"M52.7229,-621.842C67.3055,-612.5 85.5395,-600.818 99.8476,-591.652\"/>\r\n",
       "<polygon fill=\"black\" stroke=\"black\" points=\"102.073,-594.383 108.605,-586.042 98.297,-588.489 102.073,-594.383\"/>\r\n",
       "</g>\r\n",
       "<!-- 2325138629128 -->\r\n",
       "<g id=\"node12\" class=\"node\"><title>2325138629128</title>\r\n",
       "<polygon fill=\"lightgrey\" stroke=\"black\" points=\"174,-649.5 73,-649.5 73,-628.5 174,-628.5 174,-649.5\"/>\r\n",
       "<text text-anchor=\"middle\" x=\"123.5\" y=\"-635.9\" font-family=\"Times New Roman,serif\" font-size=\"12.00\">SigmoidBackward</text>\r\n",
       "</g>\r\n",
       "<!-- 2325138629128&#45;&gt;2325138630216 -->\r\n",
       "<g id=\"edge11\" class=\"edge\"><title>2325138629128&#45;&gt;2325138630216</title>\r\n",
       "<path fill=\"none\" stroke=\"black\" d=\"M123.5,-628.391C123.5,-619.866 123.5,-607.139 123.5,-596.423\"/>\r\n",
       "<polygon fill=\"black\" stroke=\"black\" points=\"127,-596.245 123.5,-586.245 120,-596.245 127,-596.245\"/>\r\n",
       "</g>\r\n",
       "<!-- 2325138629704 -->\r\n",
       "<g id=\"node13\" class=\"node\"><title>2325138629704</title>\r\n",
       "<polygon fill=\"lightgrey\" stroke=\"black\" points=\"174,-719.5 73,-719.5 73,-698.5 174,-698.5 174,-719.5\"/>\r\n",
       "<text text-anchor=\"middle\" x=\"123.5\" y=\"-705.9\" font-family=\"Times New Roman,serif\" font-size=\"12.00\">AddmmBackward</text>\r\n",
       "</g>\r\n",
       "<!-- 2325138629704&#45;&gt;2325138629128 -->\r\n",
       "<g id=\"edge12\" class=\"edge\"><title>2325138629704&#45;&gt;2325138629128</title>\r\n",
       "<path fill=\"none\" stroke=\"black\" d=\"M123.5,-698.257C123.5,-688.259 123.5,-672.422 123.5,-659.782\"/>\r\n",
       "<polygon fill=\"black\" stroke=\"black\" points=\"127,-659.725 123.5,-649.725 120,-659.725 127,-659.725\"/>\r\n",
       "</g>\r\n",
       "<!-- 2325138629320 -->\r\n",
       "<g id=\"node14\" class=\"node\"><title>2325138629320</title>\r\n",
       "<polygon fill=\"lightblue\" stroke=\"black\" points=\"111,-796 56,-796 56,-762 111,-762 111,-796\"/>\r\n",
       "<text text-anchor=\"middle\" x=\"83.5\" y=\"-782.4\" font-family=\"Times New Roman,serif\" font-size=\"12.00\">w.0.bias</text>\r\n",
       "<text text-anchor=\"middle\" x=\"83.5\" y=\"-769.4\" font-family=\"Times New Roman,serif\" font-size=\"12.00\"> (128)</text>\r\n",
       "</g>\r\n",
       "<!-- 2325138629320&#45;&gt;2325138629704 -->\r\n",
       "<g id=\"edge13\" class=\"edge\"><title>2325138629320&#45;&gt;2325138629704</title>\r\n",
       "<path fill=\"none\" stroke=\"black\" d=\"M92.9794,-761.885C98.8518,-751.902 106.416,-739.043 112.545,-728.624\"/>\r\n",
       "<polygon fill=\"black\" stroke=\"black\" points=\"115.626,-730.289 117.68,-719.895 109.593,-726.739 115.626,-730.289\"/>\r\n",
       "</g>\r\n",
       "<!-- 2325138629384 -->\r\n",
       "<g id=\"node15\" class=\"node\"><title>2325138629384</title>\r\n",
       "<polygon fill=\"lightgrey\" stroke=\"black\" points=\"200,-789.5 129,-789.5 129,-768.5 200,-768.5 200,-789.5\"/>\r\n",
       "<text text-anchor=\"middle\" x=\"164.5\" y=\"-775.9\" font-family=\"Times New Roman,serif\" font-size=\"12.00\">TBackward</text>\r\n",
       "</g>\r\n",
       "<!-- 2325138629384&#45;&gt;2325138629704 -->\r\n",
       "<g id=\"edge14\" class=\"edge\"><title>2325138629384&#45;&gt;2325138629704</title>\r\n",
       "<path fill=\"none\" stroke=\"black\" d=\"M158.626,-768.257C152.415,-757.956 142.467,-741.457 134.74,-728.642\"/>\r\n",
       "<polygon fill=\"black\" stroke=\"black\" points=\"137.524,-726.481 129.363,-719.725 131.53,-730.096 137.524,-726.481\"/>\r\n",
       "</g>\r\n",
       "<!-- 2325138630152 -->\r\n",
       "<g id=\"node16\" class=\"node\"><title>2325138630152</title>\r\n",
       "<polygon fill=\"lightblue\" stroke=\"black\" points=\"199,-866 130,-866 130,-832 199,-832 199,-866\"/>\r\n",
       "<text text-anchor=\"middle\" x=\"164.5\" y=\"-852.4\" font-family=\"Times New Roman,serif\" font-size=\"12.00\">w.0.weight</text>\r\n",
       "<text text-anchor=\"middle\" x=\"164.5\" y=\"-839.4\" font-family=\"Times New Roman,serif\" font-size=\"12.00\"> (128, 546)</text>\r\n",
       "</g>\r\n",
       "<!-- 2325138630152&#45;&gt;2325138629384 -->\r\n",
       "<g id=\"edge15\" class=\"edge\"><title>2325138630152&#45;&gt;2325138629384</title>\r\n",
       "<path fill=\"none\" stroke=\"black\" d=\"M164.5,-831.885C164.5,-822.309 164.5,-810.088 164.5,-799.912\"/>\r\n",
       "<polygon fill=\"black\" stroke=\"black\" points=\"168,-799.895 164.5,-789.895 161,-799.895 168,-799.895\"/>\r\n",
       "</g>\r\n",
       "<!-- 2325138629896 -->\r\n",
       "<g id=\"node17\" class=\"node\"><title>2325138629896</title>\r\n",
       "<polygon fill=\"lightgrey\" stroke=\"black\" points=\"263,-649.5 192,-649.5 192,-628.5 263,-628.5 263,-649.5\"/>\r\n",
       "<text text-anchor=\"middle\" x=\"227.5\" y=\"-635.9\" font-family=\"Times New Roman,serif\" font-size=\"12.00\">TBackward</text>\r\n",
       "</g>\r\n",
       "<!-- 2325138629896&#45;&gt;2325138630216 -->\r\n",
       "<g id=\"edge16\" class=\"edge\"><title>2325138629896&#45;&gt;2325138630216</title>\r\n",
       "<path fill=\"none\" stroke=\"black\" d=\"M211.25,-628.391C194.383,-618.416 167.79,-602.691 148.297,-591.163\"/>\r\n",
       "<polygon fill=\"black\" stroke=\"black\" points=\"150.025,-588.119 139.636,-586.042 146.462,-594.145 150.025,-588.119\"/>\r\n",
       "</g>\r\n",
       "<!-- 2325138629960 -->\r\n",
       "<g id=\"node18\" class=\"node\"><title>2325138629960</title>\r\n",
       "<polygon fill=\"lightblue\" stroke=\"black\" points=\"260.5,-726 194.5,-726 194.5,-692 260.5,-692 260.5,-726\"/>\r\n",
       "<text text-anchor=\"middle\" x=\"227.5\" y=\"-712.4\" font-family=\"Times New Roman,serif\" font-size=\"12.00\">w.2.weight</text>\r\n",
       "<text text-anchor=\"middle\" x=\"227.5\" y=\"-699.4\" font-family=\"Times New Roman,serif\" font-size=\"12.00\"> (39, 128)</text>\r\n",
       "</g>\r\n",
       "<!-- 2325138629960&#45;&gt;2325138629896 -->\r\n",
       "<g id=\"edge17\" class=\"edge\"><title>2325138629960&#45;&gt;2325138629896</title>\r\n",
       "<path fill=\"none\" stroke=\"black\" d=\"M227.5,-691.885C227.5,-682.309 227.5,-670.088 227.5,-659.912\"/>\r\n",
       "<polygon fill=\"black\" stroke=\"black\" points=\"231,-659.895 227.5,-649.895 224,-659.895 231,-659.895\"/>\r\n",
       "</g>\r\n",
       "<!-- 2325138576200 -->\r\n",
       "<g id=\"node19\" class=\"node\"><title>2325138576200</title>\r\n",
       "<polygon fill=\"lightgrey\" stroke=\"black\" points=\"257,-255.5 186,-255.5 186,-234.5 257,-234.5 257,-255.5\"/>\r\n",
       "<text text-anchor=\"middle\" x=\"221.5\" y=\"-241.9\" font-family=\"Times New Roman,serif\" font-size=\"12.00\">TBackward</text>\r\n",
       "</g>\r\n",
       "<!-- 2325138576200&#45;&gt;2325138577224 -->\r\n",
       "<g id=\"edge18\" class=\"edge\"><title>2325138576200&#45;&gt;2325138577224</title>\r\n",
       "<path fill=\"none\" stroke=\"black\" d=\"M221.5,-234.391C221.5,-225.866 221.5,-213.139 221.5,-202.423\"/>\r\n",
       "<polygon fill=\"black\" stroke=\"black\" points=\"225,-202.245 221.5,-192.245 218,-202.245 225,-202.245\"/>\r\n",
       "</g>\r\n",
       "<!-- 2325138632072 -->\r\n",
       "<g id=\"node20\" class=\"node\"><title>2325138632072</title>\r\n",
       "<polygon fill=\"lightblue\" stroke=\"black\" points=\"249,-332 194,-332 194,-298 249,-298 249,-332\"/>\r\n",
       "<text text-anchor=\"middle\" x=\"221.5\" y=\"-318.4\" font-family=\"Times New Roman,serif\" font-size=\"12.00\">p.weight</text>\r\n",
       "<text text-anchor=\"middle\" x=\"221.5\" y=\"-305.4\" font-family=\"Times New Roman,serif\" font-size=\"12.00\"> (1, 1)</text>\r\n",
       "</g>\r\n",
       "<!-- 2325138632072&#45;&gt;2325138576200 -->\r\n",
       "<g id=\"edge19\" class=\"edge\"><title>2325138632072&#45;&gt;2325138576200</title>\r\n",
       "<path fill=\"none\" stroke=\"black\" d=\"M221.5,-297.885C221.5,-288.309 221.5,-276.088 221.5,-265.912\"/>\r\n",
       "<polygon fill=\"black\" stroke=\"black\" points=\"225,-265.895 221.5,-255.895 218,-265.895 225,-265.895\"/>\r\n",
       "</g>\r\n",
       "<!-- 2325138577160 -->\r\n",
       "<g id=\"node21\" class=\"node\"><title>2325138577160</title>\r\n",
       "<polygon fill=\"lightgrey\" stroke=\"black\" points=\"415,-192 314,-192 314,-171 415,-171 415,-192\"/>\r\n",
       "<text text-anchor=\"middle\" x=\"364.5\" y=\"-178.4\" font-family=\"Times New Roman,serif\" font-size=\"12.00\">AddmmBackward</text>\r\n",
       "</g>\r\n",
       "<!-- 2325138577160&#45;&gt;2325138577416 -->\r\n",
       "<g id=\"edge20\" class=\"edge\"><title>2325138577160&#45;&gt;2325138577416</title>\r\n",
       "<path fill=\"none\" stroke=\"black\" d=\"M351.959,-170.92C341.352,-162.818 325.934,-151.04 313.456,-141.508\"/>\r\n",
       "<polygon fill=\"black\" stroke=\"black\" points=\"315.454,-138.63 305.383,-135.341 311.205,-144.193 315.454,-138.63\"/>\r\n",
       "</g>\r\n",
       "<!-- 2325138576136 -->\r\n",
       "<g id=\"node22\" class=\"node\"><title>2325138576136</title>\r\n",
       "<polygon fill=\"lightblue\" stroke=\"black\" points=\"329.5,-262 275.5,-262 275.5,-228 329.5,-228 329.5,-262\"/>\r\n",
       "<text text-anchor=\"middle\" x=\"302.5\" y=\"-248.4\" font-family=\"Times New Roman,serif\" font-size=\"12.00\">b.2.bias</text>\r\n",
       "<text text-anchor=\"middle\" x=\"302.5\" y=\"-235.4\" font-family=\"Times New Roman,serif\" font-size=\"12.00\"> (1)</text>\r\n",
       "</g>\r\n",
       "<!-- 2325138576136&#45;&gt;2325138577160 -->\r\n",
       "<g id=\"edge21\" class=\"edge\"><title>2325138576136&#45;&gt;2325138577160</title>\r\n",
       "<path fill=\"none\" stroke=\"black\" d=\"M318.79,-227.842C327.67,-219.033 338.646,-208.146 347.616,-199.247\"/>\r\n",
       "<polygon fill=\"black\" stroke=\"black\" points=\"350.246,-201.569 354.881,-192.042 345.316,-196.599 350.246,-201.569\"/>\r\n",
       "</g>\r\n",
       "<!-- 2325138631944 -->\r\n",
       "<g id=\"node23\" class=\"node\"><title>2325138631944</title>\r\n",
       "<polygon fill=\"lightgrey\" stroke=\"black\" points=\"449,-255.5 348,-255.5 348,-234.5 449,-234.5 449,-255.5\"/>\r\n",
       "<text text-anchor=\"middle\" x=\"398.5\" y=\"-241.9\" font-family=\"Times New Roman,serif\" font-size=\"12.00\">SigmoidBackward</text>\r\n",
       "</g>\r\n",
       "<!-- 2325138631944&#45;&gt;2325138577160 -->\r\n",
       "<g id=\"edge22\" class=\"edge\"><title>2325138631944&#45;&gt;2325138577160</title>\r\n",
       "<path fill=\"none\" stroke=\"black\" d=\"M393.188,-234.391C388.276,-225.507 380.842,-212.06 374.772,-201.081\"/>\r\n",
       "<polygon fill=\"black\" stroke=\"black\" points=\"377.789,-199.303 369.887,-192.245 371.663,-202.69 377.789,-199.303\"/>\r\n",
       "</g>\r\n",
       "<!-- 2325138628744 -->\r\n",
       "<g id=\"node24\" class=\"node\"><title>2325138628744</title>\r\n",
       "<polygon fill=\"lightgrey\" stroke=\"black\" points=\"449,-325.5 348,-325.5 348,-304.5 449,-304.5 449,-325.5\"/>\r\n",
       "<text text-anchor=\"middle\" x=\"398.5\" y=\"-311.9\" font-family=\"Times New Roman,serif\" font-size=\"12.00\">AddmmBackward</text>\r\n",
       "</g>\r\n",
       "<!-- 2325138628744&#45;&gt;2325138631944 -->\r\n",
       "<g id=\"edge23\" class=\"edge\"><title>2325138628744&#45;&gt;2325138631944</title>\r\n",
       "<path fill=\"none\" stroke=\"black\" d=\"M398.5,-304.257C398.5,-294.259 398.5,-278.422 398.5,-265.782\"/>\r\n",
       "<polygon fill=\"black\" stroke=\"black\" points=\"402,-265.725 398.5,-255.725 395,-265.725 402,-265.725\"/>\r\n",
       "</g>\r\n",
       "<!-- 2325138628936 -->\r\n",
       "<g id=\"node25\" class=\"node\"><title>2325138628936</title>\r\n",
       "<polygon fill=\"lightblue\" stroke=\"black\" points=\"384.5,-402 330.5,-402 330.5,-368 384.5,-368 384.5,-402\"/>\r\n",
       "<text text-anchor=\"middle\" x=\"357.5\" y=\"-388.4\" font-family=\"Times New Roman,serif\" font-size=\"12.00\">b.0.bias</text>\r\n",
       "<text text-anchor=\"middle\" x=\"357.5\" y=\"-375.4\" font-family=\"Times New Roman,serif\" font-size=\"12.00\"> (128)</text>\r\n",
       "</g>\r\n",
       "<!-- 2325138628936&#45;&gt;2325138628744 -->\r\n",
       "<g id=\"edge24\" class=\"edge\"><title>2325138628936&#45;&gt;2325138628744</title>\r\n",
       "<path fill=\"none\" stroke=\"black\" d=\"M367.216,-367.885C373.236,-357.902 380.989,-345.043 387.271,-334.624\"/>\r\n",
       "<polygon fill=\"black\" stroke=\"black\" points=\"390.368,-336.266 392.534,-325.895 384.373,-332.651 390.368,-336.266\"/>\r\n",
       "</g>\r\n",
       "<!-- 2325138631048 -->\r\n",
       "<g id=\"node26\" class=\"node\"><title>2325138631048</title>\r\n",
       "<polygon fill=\"lightgrey\" stroke=\"black\" points=\"474,-395.5 403,-395.5 403,-374.5 474,-374.5 474,-395.5\"/>\r\n",
       "<text text-anchor=\"middle\" x=\"438.5\" y=\"-381.9\" font-family=\"Times New Roman,serif\" font-size=\"12.00\">TBackward</text>\r\n",
       "</g>\r\n",
       "<!-- 2325138631048&#45;&gt;2325138628744 -->\r\n",
       "<g id=\"edge25\" class=\"edge\"><title>2325138631048&#45;&gt;2325138628744</title>\r\n",
       "<path fill=\"none\" stroke=\"black\" d=\"M432.769,-374.257C426.71,-363.956 417.004,-347.457 409.466,-334.642\"/>\r\n",
       "<polygon fill=\"black\" stroke=\"black\" points=\"412.307,-332.569 404.22,-325.725 406.274,-336.119 412.307,-332.569\"/>\r\n",
       "</g>\r\n",
       "<!-- 2325138629512 -->\r\n",
       "<g id=\"node27\" class=\"node\"><title>2325138629512</title>\r\n",
       "<polygon fill=\"lightblue\" stroke=\"black\" points=\"473,-472 404,-472 404,-438 473,-438 473,-472\"/>\r\n",
       "<text text-anchor=\"middle\" x=\"438.5\" y=\"-458.4\" font-family=\"Times New Roman,serif\" font-size=\"12.00\">b.0.weight</text>\r\n",
       "<text text-anchor=\"middle\" x=\"438.5\" y=\"-445.4\" font-family=\"Times New Roman,serif\" font-size=\"12.00\"> (128, 546)</text>\r\n",
       "</g>\r\n",
       "<!-- 2325138629512&#45;&gt;2325138631048 -->\r\n",
       "<g id=\"edge26\" class=\"edge\"><title>2325138629512&#45;&gt;2325138631048</title>\r\n",
       "<path fill=\"none\" stroke=\"black\" d=\"M438.5,-437.885C438.5,-428.309 438.5,-416.088 438.5,-405.912\"/>\r\n",
       "<polygon fill=\"black\" stroke=\"black\" points=\"442,-405.895 438.5,-395.895 435,-405.895 442,-405.895\"/>\r\n",
       "</g>\r\n",
       "<!-- 2325138628808 -->\r\n",
       "<g id=\"node28\" class=\"node\"><title>2325138628808</title>\r\n",
       "<polygon fill=\"lightgrey\" stroke=\"black\" points=\"538,-255.5 467,-255.5 467,-234.5 538,-234.5 538,-255.5\"/>\r\n",
       "<text text-anchor=\"middle\" x=\"502.5\" y=\"-241.9\" font-family=\"Times New Roman,serif\" font-size=\"12.00\">TBackward</text>\r\n",
       "</g>\r\n",
       "<!-- 2325138628808&#45;&gt;2325138577160 -->\r\n",
       "<g id=\"edge27\" class=\"edge\"><title>2325138628808&#45;&gt;2325138577160</title>\r\n",
       "<path fill=\"none\" stroke=\"black\" d=\"M480.938,-234.391C457.949,-224.146 421.344,-207.833 395.318,-196.234\"/>\r\n",
       "<polygon fill=\"black\" stroke=\"black\" points=\"396.47,-192.916 385.911,-192.042 393.62,-199.309 396.47,-192.916\"/>\r\n",
       "</g>\r\n",
       "<!-- 2325138630536 -->\r\n",
       "<g id=\"node29\" class=\"node\"><title>2325138630536</title>\r\n",
       "<polygon fill=\"lightblue\" stroke=\"black\" points=\"534.5,-332 470.5,-332 470.5,-298 534.5,-298 534.5,-332\"/>\r\n",
       "<text text-anchor=\"middle\" x=\"502.5\" y=\"-318.4\" font-family=\"Times New Roman,serif\" font-size=\"12.00\">b.2.weight</text>\r\n",
       "<text text-anchor=\"middle\" x=\"502.5\" y=\"-305.4\" font-family=\"Times New Roman,serif\" font-size=\"12.00\"> (1, 128)</text>\r\n",
       "</g>\r\n",
       "<!-- 2325138630536&#45;&gt;2325138628808 -->\r\n",
       "<g id=\"edge28\" class=\"edge\"><title>2325138630536&#45;&gt;2325138628808</title>\r\n",
       "<path fill=\"none\" stroke=\"black\" d=\"M502.5,-297.885C502.5,-288.309 502.5,-276.088 502.5,-265.912\"/>\r\n",
       "<polygon fill=\"black\" stroke=\"black\" points=\"506,-265.895 502.5,-255.895 499,-265.895 506,-265.895\"/>\r\n",
       "</g>\r\n",
       "</g>\r\n",
       "</svg>\r\n"
      ],
      "text/plain": [
       "<graphviz.dot.Digraph at 0x21d5d0f1c48>"
      ]
     },
     "execution_count": 22,
     "metadata": {},
     "output_type": "execute_result"
    }
   ],
   "source": [
    "torchviz.make_dot(net(X_test).mean(),params=dict(net.named_parameters()))"
   ]
  },
  {
   "cell_type": "markdown",
   "metadata": {},
   "source": [
    "# loss_function and optimizer"
   ]
  },
  {
   "cell_type": "code",
   "execution_count": 23,
   "metadata": {},
   "outputs": [],
   "source": [
    "optimizer = torch.optim.Adam(net.parameters(),lr=1e-4)\n",
    "loss_function = nn.MSELoss()"
   ]
  },
  {
   "cell_type": "markdown",
   "metadata": {},
   "source": [
    "# Training and evaluation"
   ]
  },
  {
   "cell_type": "code",
   "execution_count": 24,
   "metadata": {},
   "outputs": [],
   "source": [
    "def train(net,train_iter,loss_function,optimizer,num_epochs=100):\n",
    "    train_history = []\n",
    "    valid_history = []\n",
    "    best_loss = np.inf\n",
    "    for epoch in range(num_epochs): \n",
    "        \n",
    "        # train model\n",
    "        net.train()\n",
    "        train_loss,i = 0,0\n",
    "        for x,y in train_iter:\n",
    "            loss = loss_function(net(x),y)\n",
    "            loss.backward()\n",
    "            optimizer.step()\n",
    "            optimizer.zero_grad()\n",
    "            train_loss += loss.item()\n",
    "            i += 1\n",
    "        \n",
    "        # eval model\n",
    "        with torch.no_grad():\n",
    "            net.eval()\n",
    "            val_loss,j = 0,0\n",
    "            for x, y in valid_iter:\n",
    "                loss = loss_function(net(x),y)\n",
    "                val_loss += loss.item()\n",
    "                j += 1\n",
    "        \n",
    "        # caculate avg loss\n",
    "        train_avg_loss = train_loss/i\n",
    "        val_avg_loss = val_loss/j\n",
    "        \n",
    "        # save the best model\n",
    "        if val_avg_loss <= best_loss:\n",
    "            best_loss = val_avg_loss\n",
    "            joblib.dump(net,'./model/net.pkl')\n",
    "            print('model saved')\n",
    "        \n",
    "        # record history and print loss of the epoch\n",
    "        train_history.append(train_avg_loss)\n",
    "        valid_history.append(val_avg_loss)\n",
    "        print(\"epochs {} train_avg_loss {:.4f} valid_avg_loss {:.4f}\".format(epoch,train_avg_loss,val_avg_loss))\n",
    "        \n",
    "    # plot result\n",
    "    print('best val_avg_loss is ',best_loss)\n",
    "    fig = plt.figure(figsize=(20,5))\n",
    "    plt.plot(np.array(train_history),label='train')\n",
    "    plt.plot(np.array(valid_history),label='valid')\n",
    "    plt.legend()\n",
    "    plt.title('loss')\n",
    "    plt.show()\n",
    "    print('model save at ./model/net.pkl')"
   ]
  },
  {
   "cell_type": "code",
   "execution_count": 25,
   "metadata": {},
   "outputs": [
    {
     "name": "stdout",
     "output_type": "stream",
     "text": [
      "model saved\n",
      "epochs 0 train_avg_loss 0.0022 valid_avg_loss 0.0010\n",
      "model saved\n",
      "epochs 1 train_avg_loss 0.0015 valid_avg_loss 0.0008\n",
      "epochs 2 train_avg_loss 0.0013 valid_avg_loss 0.0008\n",
      "model saved\n",
      "epochs 3 train_avg_loss 0.0012 valid_avg_loss 0.0008\n",
      "epochs 4 train_avg_loss 0.0011 valid_avg_loss 0.0009\n",
      "epochs 5 train_avg_loss 0.0011 valid_avg_loss 0.0008\n",
      "epochs 6 train_avg_loss 0.0011 valid_avg_loss 0.0009\n",
      "epochs 7 train_avg_loss 0.0011 valid_avg_loss 0.0009\n",
      "model saved\n",
      "epochs 8 train_avg_loss 0.0011 valid_avg_loss 0.0008\n",
      "epochs 9 train_avg_loss 0.0011 valid_avg_loss 0.0009\n",
      "model saved\n",
      "epochs 10 train_avg_loss 0.0011 valid_avg_loss 0.0008\n",
      "epochs 11 train_avg_loss 0.0011 valid_avg_loss 0.0008\n",
      "epochs 12 train_avg_loss 0.0011 valid_avg_loss 0.0008\n",
      "epochs 13 train_avg_loss 0.0011 valid_avg_loss 0.0009\n",
      "epochs 14 train_avg_loss 0.0011 valid_avg_loss 0.0009\n",
      "epochs 15 train_avg_loss 0.0011 valid_avg_loss 0.0009\n",
      "epochs 16 train_avg_loss 0.0011 valid_avg_loss 0.0009\n",
      "epochs 17 train_avg_loss 0.0011 valid_avg_loss 0.0008\n",
      "epochs 18 train_avg_loss 0.0011 valid_avg_loss 0.0009\n",
      "epochs 19 train_avg_loss 0.0011 valid_avg_loss 0.0009\n",
      "epochs 20 train_avg_loss 0.0011 valid_avg_loss 0.0009\n",
      "epochs 21 train_avg_loss 0.0011 valid_avg_loss 0.0009\n",
      "epochs 22 train_avg_loss 0.0011 valid_avg_loss 0.0008\n",
      "epochs 23 train_avg_loss 0.0011 valid_avg_loss 0.0009\n",
      "epochs 24 train_avg_loss 0.0011 valid_avg_loss 0.0008\n",
      "epochs 25 train_avg_loss 0.0011 valid_avg_loss 0.0009\n",
      "epochs 26 train_avg_loss 0.0011 valid_avg_loss 0.0009\n",
      "epochs 27 train_avg_loss 0.0011 valid_avg_loss 0.0008\n",
      "model saved\n",
      "epochs 28 train_avg_loss 0.0011 valid_avg_loss 0.0008\n",
      "epochs 29 train_avg_loss 0.0011 valid_avg_loss 0.0009\n",
      "best val_avg_loss is  0.0008224410197812543\n"
     ]
    },
    {
     "data": {
      "image/png": "[encoded data removed]",
      "text/plain": [
       "<Figure size 1440x360 with 1 Axes>"
      ]
     },
     "metadata": {
      "needs_background": "light"
     },
     "output_type": "display_data"
    },
    {
     "name": "stdout",
     "output_type": "stream",
     "text": [
      "model save at ./model/net.pkl\n",
      "54.97016215324402\n"
     ]
    }
   ],
   "source": [
    "s = time.time()\n",
    "train(net,train_iter,loss_function,optimizer,num_epochs=30)\n",
    "print(time.time()-s)"
   ]
  },
  {
   "cell_type": "markdown",
   "metadata": {},
   "source": [
    "# load best net"
   ]
  },
  {
   "cell_type": "code",
   "execution_count": 26,
   "metadata": {},
   "outputs": [
    {
     "data": {
      "text/plain": [
       "panet(\n",
       "  (w): Sequential(\n",
       "    (0): Linear(in_features=546, out_features=128, bias=True)\n",
       "    (1): Sigmoid()\n",
       "    (2): Linear(in_features=128, out_features=39, bias=True)\n",
       "  )\n",
       "  (b): Sequential(\n",
       "    (0): Linear(in_features=546, out_features=128, bias=True)\n",
       "    (1): Sigmoid()\n",
       "    (2): Linear(in_features=128, out_features=1, bias=True)\n",
       "  )\n",
       "  (p): Linear(in_features=1, out_features=1, bias=False)\n",
       ")"
      ]
     },
     "execution_count": 26,
     "metadata": {},
     "output_type": "execute_result"
    }
   ],
   "source": [
    "net = joblib.load('./model/net.pkl')\n",
    "net = net.eval()\n",
    "net"
   ]
  },
  {
   "cell_type": "code",
   "execution_count": 27,
   "metadata": {},
   "outputs": [
    {
     "data": {
      "text/html": [
       "<style  type=\"text/css\" >\n",
       "    #T_4f9e9138_871b_11ea_a382_38d547dfbd4arow0_col0 {\n",
       "            background-color:  #fff7fb;\n",
       "            color:  #000000;\n",
       "        }    #T_4f9e9138_871b_11ea_a382_38d547dfbd4arow0_col1 {\n",
       "            background-color:  #fff7fb;\n",
       "            color:  #000000;\n",
       "        }    #T_4f9e9138_871b_11ea_a382_38d547dfbd4arow0_col2 {\n",
       "            background-color:  #fff7fb;\n",
       "            color:  #000000;\n",
       "        }    #T_4f9e9138_871b_11ea_a382_38d547dfbd4arow0_col3 {\n",
       "            background-color:  #023858;\n",
       "            color:  #f1f1f1;\n",
       "        }    #T_4f9e9138_871b_11ea_a382_38d547dfbd4arow0_col4 {\n",
       "            background-color:  #fff7fb;\n",
       "            color:  #000000;\n",
       "        }    #T_4f9e9138_871b_11ea_a382_38d547dfbd4arow0_col5 {\n",
       "            background-color:  #fff7fb;\n",
       "            color:  #000000;\n",
       "        }    #T_4f9e9138_871b_11ea_a382_38d547dfbd4arow0_col6 {\n",
       "            background-color:  #fff7fb;\n",
       "            color:  #000000;\n",
       "        }    #T_4f9e9138_871b_11ea_a382_38d547dfbd4arow0_col7 {\n",
       "            background-color:  #fff7fb;\n",
       "            color:  #000000;\n",
       "        }    #T_4f9e9138_871b_11ea_a382_38d547dfbd4arow0_col8 {\n",
       "            background-color:  #fff7fb;\n",
       "            color:  #000000;\n",
       "        }    #T_4f9e9138_871b_11ea_a382_38d547dfbd4arow0_col9 {\n",
       "            background-color:  #fff7fb;\n",
       "            color:  #000000;\n",
       "        }    #T_4f9e9138_871b_11ea_a382_38d547dfbd4arow0_col10 {\n",
       "            background-color:  #fff7fb;\n",
       "            color:  #000000;\n",
       "        }    #T_4f9e9138_871b_11ea_a382_38d547dfbd4arow0_col11 {\n",
       "            background-color:  #fff7fb;\n",
       "            color:  #000000;\n",
       "        }    #T_4f9e9138_871b_11ea_a382_38d547dfbd4arow0_col12 {\n",
       "            background-color:  #fff7fb;\n",
       "            color:  #000000;\n",
       "        }    #T_4f9e9138_871b_11ea_a382_38d547dfbd4arow0_col13 {\n",
       "            background-color:  #fff7fb;\n",
       "            color:  #000000;\n",
       "        }    #T_4f9e9138_871b_11ea_a382_38d547dfbd4arow0_col14 {\n",
       "            background-color:  #fff7fb;\n",
       "            color:  #000000;\n",
       "        }    #T_4f9e9138_871b_11ea_a382_38d547dfbd4arow0_col15 {\n",
       "            background-color:  #fff7fb;\n",
       "            color:  #000000;\n",
       "        }    #T_4f9e9138_871b_11ea_a382_38d547dfbd4arow0_col16 {\n",
       "            background-color:  #fff7fb;\n",
       "            color:  #000000;\n",
       "        }    #T_4f9e9138_871b_11ea_a382_38d547dfbd4arow0_col17 {\n",
       "            background-color:  #fff7fb;\n",
       "            color:  #000000;\n",
       "        }    #T_4f9e9138_871b_11ea_a382_38d547dfbd4arow0_col18 {\n",
       "            background-color:  #fff7fb;\n",
       "            color:  #000000;\n",
       "        }    #T_4f9e9138_871b_11ea_a382_38d547dfbd4arow0_col19 {\n",
       "            background-color:  #fff7fb;\n",
       "            color:  #000000;\n",
       "        }    #T_4f9e9138_871b_11ea_a382_38d547dfbd4arow0_col20 {\n",
       "            background-color:  #fff7fb;\n",
       "            color:  #000000;\n",
       "        }    #T_4f9e9138_871b_11ea_a382_38d547dfbd4arow0_col21 {\n",
       "            background-color:  #fff7fb;\n",
       "            color:  #000000;\n",
       "        }    #T_4f9e9138_871b_11ea_a382_38d547dfbd4arow0_col22 {\n",
       "            background-color:  #fff7fb;\n",
       "            color:  #000000;\n",
       "        }    #T_4f9e9138_871b_11ea_a382_38d547dfbd4arow0_col23 {\n",
       "            background-color:  #fff7fb;\n",
       "            color:  #000000;\n",
       "        }    #T_4f9e9138_871b_11ea_a382_38d547dfbd4arow0_col24 {\n",
       "            background-color:  #fff7fb;\n",
       "            color:  #000000;\n",
       "        }    #T_4f9e9138_871b_11ea_a382_38d547dfbd4arow0_col25 {\n",
       "            background-color:  #fff7fb;\n",
       "            color:  #000000;\n",
       "        }    #T_4f9e9138_871b_11ea_a382_38d547dfbd4arow0_col26 {\n",
       "            background-color:  #fff7fb;\n",
       "            color:  #000000;\n",
       "        }    #T_4f9e9138_871b_11ea_a382_38d547dfbd4arow0_col27 {\n",
       "            background-color:  #fff7fb;\n",
       "            color:  #000000;\n",
       "        }    #T_4f9e9138_871b_11ea_a382_38d547dfbd4arow0_col28 {\n",
       "            background-color:  #fff7fb;\n",
       "            color:  #000000;\n",
       "        }    #T_4f9e9138_871b_11ea_a382_38d547dfbd4arow0_col29 {\n",
       "            background-color:  #fff7fb;\n",
       "            color:  #000000;\n",
       "        }    #T_4f9e9138_871b_11ea_a382_38d547dfbd4arow0_col30 {\n",
       "            background-color:  #fff7fb;\n",
       "            color:  #000000;\n",
       "        }    #T_4f9e9138_871b_11ea_a382_38d547dfbd4arow0_col31 {\n",
       "            background-color:  #fff7fb;\n",
       "            color:  #000000;\n",
       "        }    #T_4f9e9138_871b_11ea_a382_38d547dfbd4arow0_col32 {\n",
       "            background-color:  #fff7fb;\n",
       "            color:  #000000;\n",
       "        }    #T_4f9e9138_871b_11ea_a382_38d547dfbd4arow0_col33 {\n",
       "            background-color:  #fff7fb;\n",
       "            color:  #000000;\n",
       "        }    #T_4f9e9138_871b_11ea_a382_38d547dfbd4arow0_col34 {\n",
       "            background-color:  #fff7fb;\n",
       "            color:  #000000;\n",
       "        }    #T_4f9e9138_871b_11ea_a382_38d547dfbd4arow0_col35 {\n",
       "            background-color:  #f7f0f7;\n",
       "            color:  #000000;\n",
       "        }    #T_4f9e9138_871b_11ea_a382_38d547dfbd4arow0_col36 {\n",
       "            background-color:  #fff7fb;\n",
       "            color:  #000000;\n",
       "        }    #T_4f9e9138_871b_11ea_a382_38d547dfbd4arow0_col37 {\n",
       "            background-color:  #fff7fb;\n",
       "            color:  #000000;\n",
       "        }    #T_4f9e9138_871b_11ea_a382_38d547dfbd4arow0_col38 {\n",
       "            background-color:  #fff7fb;\n",
       "            color:  #000000;\n",
       "        }</style><table id=\"T_4f9e9138_871b_11ea_a382_38d547dfbd4a\" ><thead>    <tr>        <th class=\"blank level0\" ></th>        <th class=\"col_heading level0 col0\" >t-39</th>        <th class=\"col_heading level0 col1\" >t-38</th>        <th class=\"col_heading level0 col2\" >t-37</th>        <th class=\"col_heading level0 col3\" >t-36</th>        <th class=\"col_heading level0 col4\" >t-35</th>        <th class=\"col_heading level0 col5\" >t-34</th>        <th class=\"col_heading level0 col6\" >t-33</th>        <th class=\"col_heading level0 col7\" >t-32</th>        <th class=\"col_heading level0 col8\" >t-31</th>        <th class=\"col_heading level0 col9\" >t-30</th>        <th class=\"col_heading level0 col10\" >t-29</th>        <th class=\"col_heading level0 col11\" >t-28</th>        <th class=\"col_heading level0 col12\" >t-27</th>        <th class=\"col_heading level0 col13\" >t-26</th>        <th class=\"col_heading level0 col14\" >t-25</th>        <th class=\"col_heading level0 col15\" >t-24</th>        <th class=\"col_heading level0 col16\" >t-23</th>        <th class=\"col_heading level0 col17\" >t-22</th>        <th class=\"col_heading level0 col18\" >t-21</th>        <th class=\"col_heading level0 col19\" >t-20</th>        <th class=\"col_heading level0 col20\" >t-19</th>        <th class=\"col_heading level0 col21\" >t-18</th>        <th class=\"col_heading level0 col22\" >t-17</th>        <th class=\"col_heading level0 col23\" >t-16</th>        <th class=\"col_heading level0 col24\" >t-15</th>        <th class=\"col_heading level0 col25\" >t-14</th>        <th class=\"col_heading level0 col26\" >t-13</th>        <th class=\"col_heading level0 col27\" >t-12</th>        <th class=\"col_heading level0 col28\" >t-11</th>        <th class=\"col_heading level0 col29\" >t-10</th>        <th class=\"col_heading level0 col30\" >t-9</th>        <th class=\"col_heading level0 col31\" >t-8</th>        <th class=\"col_heading level0 col32\" >t-7</th>        <th class=\"col_heading level0 col33\" >t-6</th>        <th class=\"col_heading level0 col34\" >t-5</th>        <th class=\"col_heading level0 col35\" >t-4</th>        <th class=\"col_heading level0 col36\" >t-3</th>        <th class=\"col_heading level0 col37\" >t-2</th>        <th class=\"col_heading level0 col38\" >t-1</th>    </tr></thead><tbody>\n",
       "                <tr>\n",
       "                        <th id=\"T_4f9e9138_871b_11ea_a382_38d547dfbd4alevel0_row0\" class=\"row_heading level0 row0\" >0</th>\n",
       "                        <td id=\"T_4f9e9138_871b_11ea_a382_38d547dfbd4arow0_col0\" class=\"data row0 col0\" >6.66903e-08</td>\n",
       "                        <td id=\"T_4f9e9138_871b_11ea_a382_38d547dfbd4arow0_col1\" class=\"data row0 col1\" >1.91638e-07</td>\n",
       "                        <td id=\"T_4f9e9138_871b_11ea_a382_38d547dfbd4arow0_col2\" class=\"data row0 col2\" >7.6938e-07</td>\n",
       "                        <td id=\"T_4f9e9138_871b_11ea_a382_38d547dfbd4arow0_col3\" class=\"data row0 col3\" >0.949693</td>\n",
       "                        <td id=\"T_4f9e9138_871b_11ea_a382_38d547dfbd4arow0_col4\" class=\"data row0 col4\" >8.44032e-08</td>\n",
       "                        <td id=\"T_4f9e9138_871b_11ea_a382_38d547dfbd4arow0_col5\" class=\"data row0 col5\" >1.24888e-07</td>\n",
       "                        <td id=\"T_4f9e9138_871b_11ea_a382_38d547dfbd4arow0_col6\" class=\"data row0 col6\" >4.13937e-07</td>\n",
       "                        <td id=\"T_4f9e9138_871b_11ea_a382_38d547dfbd4arow0_col7\" class=\"data row0 col7\" >1.04861e-07</td>\n",
       "                        <td id=\"T_4f9e9138_871b_11ea_a382_38d547dfbd4arow0_col8\" class=\"data row0 col8\" >8.72244e-08</td>\n",
       "                        <td id=\"T_4f9e9138_871b_11ea_a382_38d547dfbd4arow0_col9\" class=\"data row0 col9\" >7.06197e-08</td>\n",
       "                        <td id=\"T_4f9e9138_871b_11ea_a382_38d547dfbd4arow0_col10\" class=\"data row0 col10\" >1.84492e-07</td>\n",
       "                        <td id=\"T_4f9e9138_871b_11ea_a382_38d547dfbd4arow0_col11\" class=\"data row0 col11\" >6.8385e-08</td>\n",
       "                        <td id=\"T_4f9e9138_871b_11ea_a382_38d547dfbd4arow0_col12\" class=\"data row0 col12\" >6.96539e-08</td>\n",
       "                        <td id=\"T_4f9e9138_871b_11ea_a382_38d547dfbd4arow0_col13\" class=\"data row0 col13\" >6.73333e-08</td>\n",
       "                        <td id=\"T_4f9e9138_871b_11ea_a382_38d547dfbd4arow0_col14\" class=\"data row0 col14\" >1.52126e-07</td>\n",
       "                        <td id=\"T_4f9e9138_871b_11ea_a382_38d547dfbd4arow0_col15\" class=\"data row0 col15\" >2.0122e-07</td>\n",
       "                        <td id=\"T_4f9e9138_871b_11ea_a382_38d547dfbd4arow0_col16\" class=\"data row0 col16\" >3.71613e-07</td>\n",
       "                        <td id=\"T_4f9e9138_871b_11ea_a382_38d547dfbd4arow0_col17\" class=\"data row0 col17\" >6.66398e-08</td>\n",
       "                        <td id=\"T_4f9e9138_871b_11ea_a382_38d547dfbd4arow0_col18\" class=\"data row0 col18\" >1.2878e-07</td>\n",
       "                        <td id=\"T_4f9e9138_871b_11ea_a382_38d547dfbd4arow0_col19\" class=\"data row0 col19\" >6.94973e-08</td>\n",
       "                        <td id=\"T_4f9e9138_871b_11ea_a382_38d547dfbd4arow0_col20\" class=\"data row0 col20\" >7.54927e-08</td>\n",
       "                        <td id=\"T_4f9e9138_871b_11ea_a382_38d547dfbd4arow0_col21\" class=\"data row0 col21\" >7.28124e-08</td>\n",
       "                        <td id=\"T_4f9e9138_871b_11ea_a382_38d547dfbd4arow0_col22\" class=\"data row0 col22\" >7.18901e-08</td>\n",
       "                        <td id=\"T_4f9e9138_871b_11ea_a382_38d547dfbd4arow0_col23\" class=\"data row0 col23\" >9.96179e-08</td>\n",
       "                        <td id=\"T_4f9e9138_871b_11ea_a382_38d547dfbd4arow0_col24\" class=\"data row0 col24\" >8.50547e-08</td>\n",
       "                        <td id=\"T_4f9e9138_871b_11ea_a382_38d547dfbd4arow0_col25\" class=\"data row0 col25\" >6.66122e-08</td>\n",
       "                        <td id=\"T_4f9e9138_871b_11ea_a382_38d547dfbd4arow0_col26\" class=\"data row0 col26\" >1.13885e-07</td>\n",
       "                        <td id=\"T_4f9e9138_871b_11ea_a382_38d547dfbd4arow0_col27\" class=\"data row0 col27\" >7.58017e-08</td>\n",
       "                        <td id=\"T_4f9e9138_871b_11ea_a382_38d547dfbd4arow0_col28\" class=\"data row0 col28\" >6.66592e-08</td>\n",
       "                        <td id=\"T_4f9e9138_871b_11ea_a382_38d547dfbd4arow0_col29\" class=\"data row0 col29\" >6.89412e-08</td>\n",
       "                        <td id=\"T_4f9e9138_871b_11ea_a382_38d547dfbd4arow0_col30\" class=\"data row0 col30\" >6.76561e-08</td>\n",
       "                        <td id=\"T_4f9e9138_871b_11ea_a382_38d547dfbd4arow0_col31\" class=\"data row0 col31\" >1.37799e-07</td>\n",
       "                        <td id=\"T_4f9e9138_871b_11ea_a382_38d547dfbd4arow0_col32\" class=\"data row0 col32\" >6.66547e-08</td>\n",
       "                        <td id=\"T_4f9e9138_871b_11ea_a382_38d547dfbd4arow0_col33\" class=\"data row0 col33\" >7.37975e-08</td>\n",
       "                        <td id=\"T_4f9e9138_871b_11ea_a382_38d547dfbd4arow0_col34\" class=\"data row0 col34\" >8.16073e-08</td>\n",
       "                        <td id=\"T_4f9e9138_871b_11ea_a382_38d547dfbd4arow0_col35\" class=\"data row0 col35\" >0.0503016</td>\n",
       "                        <td id=\"T_4f9e9138_871b_11ea_a382_38d547dfbd4arow0_col36\" class=\"data row0 col36\" >3.263e-07</td>\n",
       "                        <td id=\"T_4f9e9138_871b_11ea_a382_38d547dfbd4arow0_col37\" class=\"data row0 col37\" >8.5641e-08</td>\n",
       "                        <td id=\"T_4f9e9138_871b_11ea_a382_38d547dfbd4arow0_col38\" class=\"data row0 col38\" >6.66535e-08</td>\n",
       "            </tr>\n",
       "    </tbody></table>"
      ],
      "text/plain": [
       "<pandas.io.formats.style.Styler at 0x21d7ee5ce88>"
      ]
     },
     "execution_count": 27,
     "metadata": {},
     "output_type": "execute_result"
    }
   ],
   "source": [
    "temp = pd.DataFrame(net.history_weight[-1].detach().cpu().numpy()[0]).T\n",
    "temp.columns = ['t-'+str(temp.shape[1]-i)for i in range(temp.shape[1])]\n",
    "temp.style.background_gradient(axis=1)"
   ]
  },
  {
   "cell_type": "code",
   "execution_count": 28,
   "metadata": {},
   "outputs": [
    {
     "data": {
      "text/plain": [
       "tensor([[0.5687]], device='cuda:0', dtype=torch.float64)"
      ]
     },
     "execution_count": 28,
     "metadata": {},
     "output_type": "execute_result"
    }
   ],
   "source": [
    "net.p.weight.data"
   ]
  },
  {
   "cell_type": "code",
   "execution_count": 29,
   "metadata": {},
   "outputs": [
    {
     "data": {
      "text/plain": [
       "-0.01655737419436886"
      ]
     },
     "execution_count": 29,
     "metadata": {},
     "output_type": "execute_result"
    }
   ],
   "source": [
    "net.history_b[-1].detach().cpu().numpy().mean()"
   ]
  },
  {
   "cell_type": "markdown",
   "metadata": {},
   "source": [
    "# metrics"
   ]
  },
  {
   "cell_type": "code",
   "execution_count": 30,
   "metadata": {},
   "outputs": [],
   "source": [
    "from sklearn.metrics import r2_score,mean_absolute_error,mean_squared_error\n",
    "from math import sqrt\n",
    "\n",
    "def mape(y_true, y_pred): \n",
    "    y_true, y_pred = np.array(y_true), np.array(y_pred)\n",
    "    return np.mean(np.abs((y_true - y_pred) / y_true))*100\n",
    "\n",
    "\n",
    "feed = X.values.reshape(-1,time_step,num_sensor).mean(axis=1)\n",
    "feed = pd.DataFrame(feed,columns=x_col,index=idx)\n",
    "feed = feed['MLPAP_FQ-0619.PV']\n",
    "\n",
    "def show_result(X,Y,index,tag):\n",
    "    t = pd.DataFrame(index=index)\n",
    "    t['0619'] = feed[index]\n",
    "    t['0997_real'] = mm_y.inverse_transform(Y.detach().cpu().numpy().reshape(-1,1)).ravel()\n",
    "    t['0997_pred'] = mm_y.inverse_transform(net(X).detach().cpu().numpy().reshape(-1,1)).ravel()\n",
    "    t['單耗_real'] = t['0619']/t['0997_real']\n",
    "    t['單耗_pred'] = t['0619']/t['0997_pred']\n",
    "    #t['0997_R2'] = r2_score(t['0997_real'],t['0997_pred'])\n",
    "    #t['0997_MAPE'] = mape(t['0997_real'],t['0997_pred'])\n",
    "    t['單耗RMSE'] = sqrt(mean_squared_error(t['單耗_real'],t['單耗_pred']))\n",
    "    t['單耗MAPE'] = mape(t['單耗_real'],t['單耗_pred'])\n",
    "    m = t.iloc[[0],-2:]\n",
    "    m.index = [tag]\n",
    "    t = t.iloc[:,:-2]\n",
    "    return t,m"
   ]
  },
  {
   "cell_type": "markdown",
   "metadata": {},
   "source": [
    "# make prediction(train)"
   ]
  },
  {
   "cell_type": "code",
   "execution_count": 31,
   "metadata": {},
   "outputs": [
    {
     "data": {
      "text/html": [
       "<div>\n",
       "<style scoped>\n",
       "    .dataframe tbody tr th:only-of-type {\n",
       "        vertical-align: middle;\n",
       "    }\n",
       "\n",
       "    .dataframe tbody tr th {\n",
       "        vertical-align: top;\n",
       "    }\n",
       "\n",
       "    .dataframe thead th {\n",
       "        text-align: right;\n",
       "    }\n",
       "</style>\n",
       "<table border=\"1\" class=\"dataframe\">\n",
       "  <thead>\n",
       "    <tr style=\"text-align: right;\">\n",
       "      <th></th>\n",
       "      <th>單耗RMSE</th>\n",
       "      <th>單耗MAPE</th>\n",
       "    </tr>\n",
       "  </thead>\n",
       "  <tbody>\n",
       "    <tr>\n",
       "      <td>train</td>\n",
       "      <td>0.020757</td>\n",
       "      <td>1.214134</td>\n",
       "    </tr>\n",
       "  </tbody>\n",
       "</table>\n",
       "</div>"
      ],
      "text/plain": [
       "         單耗RMSE    單耗MAPE\n",
       "train  0.020757  1.214134"
      ]
     },
     "execution_count": 31,
     "metadata": {},
     "output_type": "execute_result"
    }
   ],
   "source": [
    "t1,m1 = show_result(X_train,Y_train,idx[:sp1],'train')\n",
    "m1.head()"
   ]
  },
  {
   "cell_type": "code",
   "execution_count": 32,
   "metadata": {},
   "outputs": [
    {
     "data": {
      "text/html": [
       "<div>\n",
       "<style scoped>\n",
       "    .dataframe tbody tr th:only-of-type {\n",
       "        vertical-align: middle;\n",
       "    }\n",
       "\n",
       "    .dataframe tbody tr th {\n",
       "        vertical-align: top;\n",
       "    }\n",
       "\n",
       "    .dataframe thead th {\n",
       "        text-align: right;\n",
       "    }\n",
       "</style>\n",
       "<table border=\"1\" class=\"dataframe\">\n",
       "  <thead>\n",
       "    <tr style=\"text-align: right;\">\n",
       "      <th></th>\n",
       "      <th>0619</th>\n",
       "      <th>0997_real</th>\n",
       "      <th>0997_pred</th>\n",
       "      <th>單耗_real</th>\n",
       "      <th>單耗_pred</th>\n",
       "    </tr>\n",
       "  </thead>\n",
       "  <tbody>\n",
       "    <tr>\n",
       "      <td>2016-06-20 00:00:00</td>\n",
       "      <td>7121.605462</td>\n",
       "      <td>7904.0625</td>\n",
       "      <td>7760.167343</td>\n",
       "      <td>0.901006</td>\n",
       "      <td>0.917713</td>\n",
       "    </tr>\n",
       "    <tr>\n",
       "      <td>2016-06-20 00:10:00</td>\n",
       "      <td>7121.600718</td>\n",
       "      <td>7913.4487</td>\n",
       "      <td>7755.199422</td>\n",
       "      <td>0.899936</td>\n",
       "      <td>0.918300</td>\n",
       "    </tr>\n",
       "    <tr>\n",
       "      <td>2016-06-20 00:20:00</td>\n",
       "      <td>7121.406505</td>\n",
       "      <td>7911.7050</td>\n",
       "      <td>7760.804536</td>\n",
       "      <td>0.900110</td>\n",
       "      <td>0.917612</td>\n",
       "    </tr>\n",
       "    <tr>\n",
       "      <td>2016-06-20 00:30:00</td>\n",
       "      <td>7120.891579</td>\n",
       "      <td>7896.0980</td>\n",
       "      <td>7771.228252</td>\n",
       "      <td>0.901824</td>\n",
       "      <td>0.916315</td>\n",
       "    </tr>\n",
       "    <tr>\n",
       "      <td>2016-06-20 00:40:00</td>\n",
       "      <td>7120.652221</td>\n",
       "      <td>7889.9550</td>\n",
       "      <td>7756.965673</td>\n",
       "      <td>0.902496</td>\n",
       "      <td>0.917969</td>\n",
       "    </tr>\n",
       "  </tbody>\n",
       "</table>\n",
       "</div>"
      ],
      "text/plain": [
       "                            0619  0997_real    0997_pred   單耗_real   單耗_pred\n",
       "2016-06-20 00:00:00  7121.605462  7904.0625  7760.167343  0.901006  0.917713\n",
       "2016-06-20 00:10:00  7121.600718  7913.4487  7755.199422  0.899936  0.918300\n",
       "2016-06-20 00:20:00  7121.406505  7911.7050  7760.804536  0.900110  0.917612\n",
       "2016-06-20 00:30:00  7120.891579  7896.0980  7771.228252  0.901824  0.916315\n",
       "2016-06-20 00:40:00  7120.652221  7889.9550  7756.965673  0.902496  0.917969"
      ]
     },
     "execution_count": 32,
     "metadata": {},
     "output_type": "execute_result"
    }
   ],
   "source": [
    "t1.head()"
   ]
  },
  {
   "cell_type": "markdown",
   "metadata": {},
   "source": [
    "# make prediction(valid)"
   ]
  },
  {
   "cell_type": "code",
   "execution_count": 33,
   "metadata": {},
   "outputs": [
    {
     "data": {
      "text/html": [
       "<div>\n",
       "<style scoped>\n",
       "    .dataframe tbody tr th:only-of-type {\n",
       "        vertical-align: middle;\n",
       "    }\n",
       "\n",
       "    .dataframe tbody tr th {\n",
       "        vertical-align: top;\n",
       "    }\n",
       "\n",
       "    .dataframe thead th {\n",
       "        text-align: right;\n",
       "    }\n",
       "</style>\n",
       "<table border=\"1\" class=\"dataframe\">\n",
       "  <thead>\n",
       "    <tr style=\"text-align: right;\">\n",
       "      <th></th>\n",
       "      <th>單耗RMSE</th>\n",
       "      <th>單耗MAPE</th>\n",
       "    </tr>\n",
       "  </thead>\n",
       "  <tbody>\n",
       "    <tr>\n",
       "      <td>valid</td>\n",
       "      <td>0.018973</td>\n",
       "      <td>0.904659</td>\n",
       "    </tr>\n",
       "  </tbody>\n",
       "</table>\n",
       "</div>"
      ],
      "text/plain": [
       "         單耗RMSE    單耗MAPE\n",
       "valid  0.018973  0.904659"
      ]
     },
     "execution_count": 33,
     "metadata": {},
     "output_type": "execute_result"
    }
   ],
   "source": [
    "t2,m2 = show_result(X_valid,Y_valid,idx[sp1:sp2],'valid')\n",
    "m2.head()"
   ]
  },
  {
   "cell_type": "code",
   "execution_count": 34,
   "metadata": {},
   "outputs": [
    {
     "data": {
      "text/html": [
       "<div>\n",
       "<style scoped>\n",
       "    .dataframe tbody tr th:only-of-type {\n",
       "        vertical-align: middle;\n",
       "    }\n",
       "\n",
       "    .dataframe tbody tr th {\n",
       "        vertical-align: top;\n",
       "    }\n",
       "\n",
       "    .dataframe thead th {\n",
       "        text-align: right;\n",
       "    }\n",
       "</style>\n",
       "<table border=\"1\" class=\"dataframe\">\n",
       "  <thead>\n",
       "    <tr style=\"text-align: right;\">\n",
       "      <th></th>\n",
       "      <th>0619</th>\n",
       "      <th>0997_real</th>\n",
       "      <th>0997_pred</th>\n",
       "      <th>單耗_real</th>\n",
       "      <th>單耗_pred</th>\n",
       "    </tr>\n",
       "  </thead>\n",
       "  <tbody>\n",
       "    <tr>\n",
       "      <td>2016-12-10 07:10:00</td>\n",
       "      <td>7283.197213</td>\n",
       "      <td>8307.570</td>\n",
       "      <td>8035.108710</td>\n",
       "      <td>0.876694</td>\n",
       "      <td>0.906422</td>\n",
       "    </tr>\n",
       "    <tr>\n",
       "      <td>2016-12-10 07:20:00</td>\n",
       "      <td>7283.186315</td>\n",
       "      <td>8512.873</td>\n",
       "      <td>8049.507852</td>\n",
       "      <td>0.855550</td>\n",
       "      <td>0.904799</td>\n",
       "    </tr>\n",
       "    <tr>\n",
       "      <td>2016-12-10 07:30:00</td>\n",
       "      <td>7283.296513</td>\n",
       "      <td>8637.871</td>\n",
       "      <td>8034.164055</td>\n",
       "      <td>0.843182</td>\n",
       "      <td>0.906541</td>\n",
       "    </tr>\n",
       "    <tr>\n",
       "      <td>2016-12-10 07:40:00</td>\n",
       "      <td>7283.443010</td>\n",
       "      <td>8869.349</td>\n",
       "      <td>8053.464217</td>\n",
       "      <td>0.821193</td>\n",
       "      <td>0.904386</td>\n",
       "    </tr>\n",
       "    <tr>\n",
       "      <td>2016-12-10 07:50:00</td>\n",
       "      <td>7283.433077</td>\n",
       "      <td>9054.413</td>\n",
       "      <td>8041.608115</td>\n",
       "      <td>0.804407</td>\n",
       "      <td>0.905718</td>\n",
       "    </tr>\n",
       "  </tbody>\n",
       "</table>\n",
       "</div>"
      ],
      "text/plain": [
       "                            0619  0997_real    0997_pred   單耗_real   單耗_pred\n",
       "2016-12-10 07:10:00  7283.197213   8307.570  8035.108710  0.876694  0.906422\n",
       "2016-12-10 07:20:00  7283.186315   8512.873  8049.507852  0.855550  0.904799\n",
       "2016-12-10 07:30:00  7283.296513   8637.871  8034.164055  0.843182  0.906541\n",
       "2016-12-10 07:40:00  7283.443010   8869.349  8053.464217  0.821193  0.904386\n",
       "2016-12-10 07:50:00  7283.433077   9054.413  8041.608115  0.804407  0.905718"
      ]
     },
     "execution_count": 34,
     "metadata": {},
     "output_type": "execute_result"
    }
   ],
   "source": [
    "t2.head()"
   ]
  },
  {
   "cell_type": "markdown",
   "metadata": {},
   "source": [
    "# make prediction(test)"
   ]
  },
  {
   "cell_type": "code",
   "execution_count": 35,
   "metadata": {},
   "outputs": [
    {
     "data": {
      "text/html": [
       "<div>\n",
       "<style scoped>\n",
       "    .dataframe tbody tr th:only-of-type {\n",
       "        vertical-align: middle;\n",
       "    }\n",
       "\n",
       "    .dataframe tbody tr th {\n",
       "        vertical-align: top;\n",
       "    }\n",
       "\n",
       "    .dataframe thead th {\n",
       "        text-align: right;\n",
       "    }\n",
       "</style>\n",
       "<table border=\"1\" class=\"dataframe\">\n",
       "  <thead>\n",
       "    <tr style=\"text-align: right;\">\n",
       "      <th></th>\n",
       "      <th>單耗RMSE</th>\n",
       "      <th>單耗MAPE</th>\n",
       "    </tr>\n",
       "  </thead>\n",
       "  <tbody>\n",
       "    <tr>\n",
       "      <td>test</td>\n",
       "      <td>0.007673</td>\n",
       "      <td>0.620494</td>\n",
       "    </tr>\n",
       "  </tbody>\n",
       "</table>\n",
       "</div>"
      ],
      "text/plain": [
       "        單耗RMSE    單耗MAPE\n",
       "test  0.007673  0.620494"
      ]
     },
     "execution_count": 35,
     "metadata": {},
     "output_type": "execute_result"
    }
   ],
   "source": [
    "t3,m3 = show_result(X_test,Y_test,idx[sp2:],'test')\n",
    "m3.head()"
   ]
  },
  {
   "cell_type": "code",
   "execution_count": 36,
   "metadata": {},
   "outputs": [
    {
     "data": {
      "text/html": [
       "<div>\n",
       "<style scoped>\n",
       "    .dataframe tbody tr th:only-of-type {\n",
       "        vertical-align: middle;\n",
       "    }\n",
       "\n",
       "    .dataframe tbody tr th {\n",
       "        vertical-align: top;\n",
       "    }\n",
       "\n",
       "    .dataframe thead th {\n",
       "        text-align: right;\n",
       "    }\n",
       "</style>\n",
       "<table border=\"1\" class=\"dataframe\">\n",
       "  <thead>\n",
       "    <tr style=\"text-align: right;\">\n",
       "      <th></th>\n",
       "      <th>0619</th>\n",
       "      <th>0997_real</th>\n",
       "      <th>0997_pred</th>\n",
       "      <th>單耗_real</th>\n",
       "      <th>單耗_pred</th>\n",
       "    </tr>\n",
       "  </thead>\n",
       "  <tbody>\n",
       "    <tr>\n",
       "      <td>2017-01-14 17:50:00</td>\n",
       "      <td>7243.250277</td>\n",
       "      <td>8055.5244</td>\n",
       "      <td>8063.872206</td>\n",
       "      <td>0.899166</td>\n",
       "      <td>0.898235</td>\n",
       "    </tr>\n",
       "    <tr>\n",
       "      <td>2017-01-14 18:00:00</td>\n",
       "      <td>7242.868669</td>\n",
       "      <td>8024.5176</td>\n",
       "      <td>8057.360714</td>\n",
       "      <td>0.902592</td>\n",
       "      <td>0.898913</td>\n",
       "    </tr>\n",
       "    <tr>\n",
       "      <td>2017-01-14 18:10:00</td>\n",
       "      <td>7242.386949</td>\n",
       "      <td>8017.8600</td>\n",
       "      <td>8059.675641</td>\n",
       "      <td>0.903282</td>\n",
       "      <td>0.898595</td>\n",
       "    </tr>\n",
       "    <tr>\n",
       "      <td>2017-01-14 18:20:00</td>\n",
       "      <td>7241.894649</td>\n",
       "      <td>8023.5750</td>\n",
       "      <td>8063.633915</td>\n",
       "      <td>0.902577</td>\n",
       "      <td>0.898093</td>\n",
       "    </tr>\n",
       "    <tr>\n",
       "      <td>2017-01-14 18:30:00</td>\n",
       "      <td>7241.352554</td>\n",
       "      <td>8044.7230</td>\n",
       "      <td>8061.346977</td>\n",
       "      <td>0.900137</td>\n",
       "      <td>0.898281</td>\n",
       "    </tr>\n",
       "  </tbody>\n",
       "</table>\n",
       "</div>"
      ],
      "text/plain": [
       "                            0619  0997_real    0997_pred   單耗_real   單耗_pred\n",
       "2017-01-14 17:50:00  7243.250277  8055.5244  8063.872206  0.899166  0.898235\n",
       "2017-01-14 18:00:00  7242.868669  8024.5176  8057.360714  0.902592  0.898913\n",
       "2017-01-14 18:10:00  7242.386949  8017.8600  8059.675641  0.903282  0.898595\n",
       "2017-01-14 18:20:00  7241.894649  8023.5750  8063.633915  0.902577  0.898093\n",
       "2017-01-14 18:30:00  7241.352554  8044.7230  8061.346977  0.900137  0.898281"
      ]
     },
     "execution_count": 36,
     "metadata": {},
     "output_type": "execute_result"
    }
   ],
   "source": [
    "t3.head()"
   ]
  },
  {
   "cell_type": "code",
   "execution_count": 37,
   "metadata": {},
   "outputs": [
    {
     "data": {
      "text/plain": [
       "2016-06-20 00:00:00    7760.167343\n",
       "2016-06-20 00:10:00    7755.199422\n",
       "2016-06-20 00:20:00    7760.804536\n",
       "2016-06-20 00:30:00    7771.228252\n",
       "2016-06-20 00:40:00    7756.965673\n",
       "Name: 0997_pred, dtype: float64"
      ]
     },
     "execution_count": 37,
     "metadata": {},
     "output_type": "execute_result"
    }
   ],
   "source": [
    "pred_0997_all = t1.append(t2).append(t3)['0997_pred']\n",
    "pred_0997_all.head()"
   ]
  },
  {
   "cell_type": "code",
   "execution_count": 38,
   "metadata": {},
   "outputs": [
    {
     "name": "stdout",
     "output_type": "stream",
     "text": [
      "save done\n"
     ]
    }
   ],
   "source": [
    "pred_0997_all.to_csv('./data/pred_0997_all.csv')\n",
    "print('save done')"
   ]
  },
  {
   "cell_type": "code",
   "execution_count": null,
   "metadata": {},
   "outputs": [],
   "source": []
  },
  {
   "cell_type": "code",
   "execution_count": null,
   "metadata": {},
   "outputs": [],
   "source": []
  },
  {
   "cell_type": "code",
   "execution_count": null,
   "metadata": {},
   "outputs": [],
   "source": []
  },
  {
   "cell_type": "code",
   "execution_count": null,
   "metadata": {},
   "outputs": [],
   "source": []
  },
  {
   "cell_type": "code",
   "execution_count": null,
   "metadata": {},
   "outputs": [],
   "source": []
  }
 ],
 "metadata": {
  "kernelspec": {
   "display_name": "Python 3",
   "language": "python",
   "name": "python3"
  },
  "language_info": {
   "codemirror_mode": {
    "name": "ipython",
    "version": 3
   },
   "file_extension": ".py",
   "mimetype": "text/x-python",
   "name": "python",
   "nbconvert_exporter": "python",
   "pygments_lexer": "ipython3",
   "version": "3.7.4"
  }
 },
 "nbformat": 4,
 "nbformat_minor": 2
}
