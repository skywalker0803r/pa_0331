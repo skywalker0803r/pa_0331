{
 "cells": [
  {
   "cell_type": "code",
   "execution_count": 1,
   "metadata": {},
   "outputs": [
    {
     "data": {
      "text/plain": [
       "['PA_201605-2012001更新R7(20200323).xlsx',\n",
       " 'pred_0997_all.csv',\n",
       " 'tag盤點表20200323.xlsx',\n",
       " 'tag盤點表_cleaned.csv',\n",
       " 'train_cleaned.csv',\n",
       " 'train_preprocessed']"
      ]
     },
     "execution_count": 1,
     "metadata": {},
     "output_type": "execute_result"
    }
   ],
   "source": [
    "import pandas as pd\n",
    "import numpy as np\n",
    "import torch.nn.functional as F\n",
    "import warnings\n",
    "warnings.simplefilter('ignore')\n",
    "import torchviz\n",
    "import seaborn as sns\n",
    "import matplotlib.pyplot as plt\n",
    "from tqdm import tqdm_notebook as tqdm\n",
    "from torch.utils.tensorboard import SummaryWriter\n",
    "import torch\n",
    "import torch.nn as nn\n",
    "import torch.utils.data as Data\n",
    "import torchvision\n",
    "import joblib\n",
    "import os\n",
    "from sklearn.preprocessing import StandardScaler\n",
    "import time\n",
    "def get_col(df,name):\n",
    "    return df.columns[df.columns.str.contains(name)].tolist()\n",
    "os.listdir('./data')"
   ]
  },
  {
   "cell_type": "code",
   "execution_count": 2,
   "metadata": {},
   "outputs": [],
   "source": [
    "tag = pd.read_csv('./data/tag盤點表_cleaned.csv',index_col=0)\n",
    "tag = tag.loc[tag.category=='可控制因子']"
   ]
  },
  {
   "cell_type": "markdown",
   "metadata": {},
   "source": [
    "# load X,y"
   ]
  },
  {
   "cell_type": "code",
   "execution_count": 3,
   "metadata": {},
   "outputs": [],
   "source": [
    "# 2016-05 : 2017-02-17 第一段"
   ]
  },
  {
   "cell_type": "code",
   "execution_count": 4,
   "metadata": {},
   "outputs": [
    {
     "name": "stdout",
     "output_type": "stream",
     "text": [
      "(134620, 575)\n"
     ]
    },
    {
     "data": {
      "text/html": [
       "<div>\n",
       "<style scoped>\n",
       "    .dataframe tbody tr th:only-of-type {\n",
       "        vertical-align: middle;\n",
       "    }\n",
       "\n",
       "    .dataframe tbody tr th {\n",
       "        vertical-align: top;\n",
       "    }\n",
       "\n",
       "    .dataframe thead th {\n",
       "        text-align: right;\n",
       "    }\n",
       "</style>\n",
       "<table border=\"1\" class=\"dataframe\">\n",
       "  <thead>\n",
       "    <tr style=\"text-align: right;\">\n",
       "      <th></th>\n",
       "      <th>0</th>\n",
       "      <th>1</th>\n",
       "      <th>2</th>\n",
       "      <th>3</th>\n",
       "      <th>4</th>\n",
       "      <th>5</th>\n",
       "      <th>6</th>\n",
       "      <th>7</th>\n",
       "      <th>8</th>\n",
       "      <th>9</th>\n",
       "      <th>...</th>\n",
       "      <th>565</th>\n",
       "      <th>566</th>\n",
       "      <th>567</th>\n",
       "      <th>568</th>\n",
       "      <th>569</th>\n",
       "      <th>570</th>\n",
       "      <th>571</th>\n",
       "      <th>572</th>\n",
       "      <th>573</th>\n",
       "      <th>0997_real</th>\n",
       "    </tr>\n",
       "  </thead>\n",
       "  <tbody>\n",
       "    <tr>\n",
       "      <td>2016-06-01 03:00:00</td>\n",
       "      <td>5695.2363</td>\n",
       "      <td>85.352490</td>\n",
       "      <td>36.090110</td>\n",
       "      <td>34.696857</td>\n",
       "      <td>49.382782</td>\n",
       "      <td>362.26434</td>\n",
       "      <td>144.97864</td>\n",
       "      <td>2.442607</td>\n",
       "      <td>361.02557</td>\n",
       "      <td>60.061237</td>\n",
       "      <td>...</td>\n",
       "      <td>362.24260</td>\n",
       "      <td>144.96265</td>\n",
       "      <td>2.392348</td>\n",
       "      <td>361.03952</td>\n",
       "      <td>60.260216</td>\n",
       "      <td>184.69803</td>\n",
       "      <td>179.80000</td>\n",
       "      <td>364.90765</td>\n",
       "      <td>182.75210</td>\n",
       "      <td>6443.6900</td>\n",
       "    </tr>\n",
       "    <tr>\n",
       "      <td>2016-06-01 03:10:00</td>\n",
       "      <td>5709.7036</td>\n",
       "      <td>85.653360</td>\n",
       "      <td>35.959490</td>\n",
       "      <td>35.388890</td>\n",
       "      <td>49.400085</td>\n",
       "      <td>362.33936</td>\n",
       "      <td>144.83496</td>\n",
       "      <td>2.486111</td>\n",
       "      <td>361.09380</td>\n",
       "      <td>60.353172</td>\n",
       "      <td>...</td>\n",
       "      <td>362.23618</td>\n",
       "      <td>144.99008</td>\n",
       "      <td>2.396329</td>\n",
       "      <td>361.01053</td>\n",
       "      <td>60.237118</td>\n",
       "      <td>184.61932</td>\n",
       "      <td>180.03043</td>\n",
       "      <td>364.81244</td>\n",
       "      <td>180.19040</td>\n",
       "      <td>6430.3833</td>\n",
       "    </tr>\n",
       "    <tr>\n",
       "      <td>2016-06-01 03:20:00</td>\n",
       "      <td>5687.0700</td>\n",
       "      <td>85.301930</td>\n",
       "      <td>36.018215</td>\n",
       "      <td>34.879738</td>\n",
       "      <td>49.394993</td>\n",
       "      <td>362.22006</td>\n",
       "      <td>145.24248</td>\n",
       "      <td>2.369419</td>\n",
       "      <td>361.02510</td>\n",
       "      <td>61.337530</td>\n",
       "      <td>...</td>\n",
       "      <td>362.24550</td>\n",
       "      <td>145.02303</td>\n",
       "      <td>2.359308</td>\n",
       "      <td>361.05435</td>\n",
       "      <td>60.822850</td>\n",
       "      <td>184.64757</td>\n",
       "      <td>179.91011</td>\n",
       "      <td>364.80770</td>\n",
       "      <td>181.87064</td>\n",
       "      <td>6446.3940</td>\n",
       "    </tr>\n",
       "    <tr>\n",
       "      <td>2016-06-01 03:30:00</td>\n",
       "      <td>5689.3900</td>\n",
       "      <td>85.273994</td>\n",
       "      <td>35.984818</td>\n",
       "      <td>35.051820</td>\n",
       "      <td>49.394978</td>\n",
       "      <td>362.19617</td>\n",
       "      <td>145.12143</td>\n",
       "      <td>2.425157</td>\n",
       "      <td>360.96103</td>\n",
       "      <td>60.153100</td>\n",
       "      <td>...</td>\n",
       "      <td>362.21948</td>\n",
       "      <td>144.93568</td>\n",
       "      <td>2.439951</td>\n",
       "      <td>361.00568</td>\n",
       "      <td>60.353374</td>\n",
       "      <td>184.63997</td>\n",
       "      <td>180.20000</td>\n",
       "      <td>364.83188</td>\n",
       "      <td>182.78505</td>\n",
       "      <td>6465.3930</td>\n",
       "    </tr>\n",
       "    <tr>\n",
       "      <td>2016-06-01 03:40:00</td>\n",
       "      <td>5695.1797</td>\n",
       "      <td>85.347840</td>\n",
       "      <td>36.002686</td>\n",
       "      <td>34.899242</td>\n",
       "      <td>49.394980</td>\n",
       "      <td>362.21060</td>\n",
       "      <td>144.92728</td>\n",
       "      <td>2.340548</td>\n",
       "      <td>361.02005</td>\n",
       "      <td>60.312088</td>\n",
       "      <td>...</td>\n",
       "      <td>362.21936</td>\n",
       "      <td>145.04015</td>\n",
       "      <td>2.458075</td>\n",
       "      <td>360.98053</td>\n",
       "      <td>60.251034</td>\n",
       "      <td>184.79501</td>\n",
       "      <td>180.20000</td>\n",
       "      <td>364.65503</td>\n",
       "      <td>180.79066</td>\n",
       "      <td>6461.0820</td>\n",
       "    </tr>\n",
       "  </tbody>\n",
       "</table>\n",
       "<p>5 rows × 575 columns</p>\n",
       "</div>"
      ],
      "text/plain": [
       "                             0          1          2          3          4  \\\n",
       "2016-06-01 03:00:00  5695.2363  85.352490  36.090110  34.696857  49.382782   \n",
       "2016-06-01 03:10:00  5709.7036  85.653360  35.959490  35.388890  49.400085   \n",
       "2016-06-01 03:20:00  5687.0700  85.301930  36.018215  34.879738  49.394993   \n",
       "2016-06-01 03:30:00  5689.3900  85.273994  35.984818  35.051820  49.394978   \n",
       "2016-06-01 03:40:00  5695.1797  85.347840  36.002686  34.899242  49.394980   \n",
       "\n",
       "                             5          6         7          8          9  \\\n",
       "2016-06-01 03:00:00  362.26434  144.97864  2.442607  361.02557  60.061237   \n",
       "2016-06-01 03:10:00  362.33936  144.83496  2.486111  361.09380  60.353172   \n",
       "2016-06-01 03:20:00  362.22006  145.24248  2.369419  361.02510  61.337530   \n",
       "2016-06-01 03:30:00  362.19617  145.12143  2.425157  360.96103  60.153100   \n",
       "2016-06-01 03:40:00  362.21060  144.92728  2.340548  361.02005  60.312088   \n",
       "\n",
       "                     ...        565        566       567        568  \\\n",
       "2016-06-01 03:00:00  ...  362.24260  144.96265  2.392348  361.03952   \n",
       "2016-06-01 03:10:00  ...  362.23618  144.99008  2.396329  361.01053   \n",
       "2016-06-01 03:20:00  ...  362.24550  145.02303  2.359308  361.05435   \n",
       "2016-06-01 03:30:00  ...  362.21948  144.93568  2.439951  361.00568   \n",
       "2016-06-01 03:40:00  ...  362.21936  145.04015  2.458075  360.98053   \n",
       "\n",
       "                           569        570        571        572        573  \\\n",
       "2016-06-01 03:00:00  60.260216  184.69803  179.80000  364.90765  182.75210   \n",
       "2016-06-01 03:10:00  60.237118  184.61932  180.03043  364.81244  180.19040   \n",
       "2016-06-01 03:20:00  60.822850  184.64757  179.91011  364.80770  181.87064   \n",
       "2016-06-01 03:30:00  60.353374  184.63997  180.20000  364.83188  182.78505   \n",
       "2016-06-01 03:40:00  60.251034  184.79501  180.20000  364.65503  180.79066   \n",
       "\n",
       "                     0997_real  \n",
       "2016-06-01 03:00:00  6443.6900  \n",
       "2016-06-01 03:10:00  6430.3833  \n",
       "2016-06-01 03:20:00  6446.3940  \n",
       "2016-06-01 03:30:00  6465.3930  \n",
       "2016-06-01 03:40:00  6461.0820  \n",
       "\n",
       "[5 rows x 575 columns]"
      ]
     },
     "execution_count": 4,
     "metadata": {},
     "output_type": "execute_result"
    }
   ],
   "source": [
    "data = joblib.load('./data/train_preprocessed')\n",
    "X = data['X']\n",
    "Y = data['Y']\n",
    "x_col = data['x_col']\n",
    "y_col = data['y_col']\n",
    "idx = data['idx']\n",
    "# build df\n",
    "df = pd.DataFrame(X,index=idx)\n",
    "df['0997_real'] = Y\n",
    "print(df.shape)\n",
    "df.head()"
   ]
  },
  {
   "cell_type": "markdown",
   "metadata": {},
   "source": [
    "# time_step num_sensor"
   ]
  },
  {
   "cell_type": "code",
   "execution_count": 5,
   "metadata": {},
   "outputs": [
    {
     "name": "stdout",
     "output_type": "stream",
     "text": [
      "41 14\n"
     ]
    }
   ],
   "source": [
    "num_sensor = len(x_col)\n",
    "time_step = int(X.shape[1]/len(x_col))\n",
    "print(time_step,num_sensor)"
   ]
  },
  {
   "cell_type": "markdown",
   "metadata": {},
   "source": [
    "# select data range"
   ]
  },
  {
   "cell_type": "code",
   "execution_count": 6,
   "metadata": {},
   "outputs": [
    {
     "data": {
      "text/html": [
       "<div>\n",
       "<style scoped>\n",
       "    .dataframe tbody tr th:only-of-type {\n",
       "        vertical-align: middle;\n",
       "    }\n",
       "\n",
       "    .dataframe tbody tr th {\n",
       "        vertical-align: top;\n",
       "    }\n",
       "\n",
       "    .dataframe thead th {\n",
       "        text-align: right;\n",
       "    }\n",
       "</style>\n",
       "<table border=\"1\" class=\"dataframe\">\n",
       "  <thead>\n",
       "    <tr style=\"text-align: right;\">\n",
       "      <th></th>\n",
       "      <th>0</th>\n",
       "      <th>1</th>\n",
       "      <th>2</th>\n",
       "      <th>3</th>\n",
       "      <th>4</th>\n",
       "      <th>5</th>\n",
       "      <th>6</th>\n",
       "      <th>7</th>\n",
       "      <th>8</th>\n",
       "      <th>9</th>\n",
       "      <th>...</th>\n",
       "      <th>565</th>\n",
       "      <th>566</th>\n",
       "      <th>567</th>\n",
       "      <th>568</th>\n",
       "      <th>569</th>\n",
       "      <th>570</th>\n",
       "      <th>571</th>\n",
       "      <th>572</th>\n",
       "      <th>573</th>\n",
       "      <th>0997_real</th>\n",
       "    </tr>\n",
       "  </thead>\n",
       "  <tbody>\n",
       "    <tr>\n",
       "      <td>2016-06-20 00:00:00</td>\n",
       "      <td>7127.0854</td>\n",
       "      <td>85.40534</td>\n",
       "      <td>35.945026</td>\n",
       "      <td>35.022540</td>\n",
       "      <td>49.497143</td>\n",
       "      <td>355.61044</td>\n",
       "      <td>145.01039</td>\n",
       "      <td>2.710897</td>\n",
       "      <td>354.23960</td>\n",
       "      <td>60.192510</td>\n",
       "      <td>...</td>\n",
       "      <td>355.52545</td>\n",
       "      <td>145.00943</td>\n",
       "      <td>2.644965</td>\n",
       "      <td>354.20547</td>\n",
       "      <td>60.619260</td>\n",
       "      <td>184.06555</td>\n",
       "      <td>176.28226</td>\n",
       "      <td>358.51508</td>\n",
       "      <td>182.41208</td>\n",
       "      <td>7904.0625</td>\n",
       "    </tr>\n",
       "    <tr>\n",
       "      <td>2016-06-20 00:10:00</td>\n",
       "      <td>7136.0156</td>\n",
       "      <td>85.43669</td>\n",
       "      <td>36.011635</td>\n",
       "      <td>34.776955</td>\n",
       "      <td>49.480000</td>\n",
       "      <td>355.62457</td>\n",
       "      <td>144.97047</td>\n",
       "      <td>2.729148</td>\n",
       "      <td>354.25500</td>\n",
       "      <td>60.470040</td>\n",
       "      <td>...</td>\n",
       "      <td>355.51508</td>\n",
       "      <td>144.95656</td>\n",
       "      <td>2.569579</td>\n",
       "      <td>354.21500</td>\n",
       "      <td>60.278030</td>\n",
       "      <td>184.14162</td>\n",
       "      <td>176.13545</td>\n",
       "      <td>358.69263</td>\n",
       "      <td>181.79498</td>\n",
       "      <td>7913.4487</td>\n",
       "    </tr>\n",
       "    <tr>\n",
       "      <td>2016-06-20 00:20:00</td>\n",
       "      <td>7116.3180</td>\n",
       "      <td>85.14802</td>\n",
       "      <td>35.955723</td>\n",
       "      <td>35.209538</td>\n",
       "      <td>49.485020</td>\n",
       "      <td>355.62590</td>\n",
       "      <td>145.03008</td>\n",
       "      <td>2.790372</td>\n",
       "      <td>354.24045</td>\n",
       "      <td>60.712350</td>\n",
       "      <td>...</td>\n",
       "      <td>355.61456</td>\n",
       "      <td>144.98909</td>\n",
       "      <td>2.690484</td>\n",
       "      <td>354.27950</td>\n",
       "      <td>60.554530</td>\n",
       "      <td>184.01282</td>\n",
       "      <td>176.40000</td>\n",
       "      <td>358.52423</td>\n",
       "      <td>178.33656</td>\n",
       "      <td>7911.7050</td>\n",
       "    </tr>\n",
       "    <tr>\n",
       "      <td>2017-02-17 06:00:00</td>\n",
       "      <td>7319.7886</td>\n",
       "      <td>76.99712</td>\n",
       "      <td>35.989002</td>\n",
       "      <td>34.581000</td>\n",
       "      <td>49.497086</td>\n",
       "      <td>346.94998</td>\n",
       "      <td>146.22476</td>\n",
       "      <td>1.709919</td>\n",
       "      <td>346.08005</td>\n",
       "      <td>60.778748</td>\n",
       "      <td>...</td>\n",
       "      <td>346.95000</td>\n",
       "      <td>146.57059</td>\n",
       "      <td>1.660524</td>\n",
       "      <td>346.11940</td>\n",
       "      <td>60.531060</td>\n",
       "      <td>181.40356</td>\n",
       "      <td>171.90000</td>\n",
       "      <td>351.18213</td>\n",
       "      <td>177.66031</td>\n",
       "      <td>8041.7900</td>\n",
       "    </tr>\n",
       "    <tr>\n",
       "      <td>2017-02-17 06:10:00</td>\n",
       "      <td>7317.2740</td>\n",
       "      <td>77.02246</td>\n",
       "      <td>35.920265</td>\n",
       "      <td>35.091274</td>\n",
       "      <td>49.505005</td>\n",
       "      <td>346.97995</td>\n",
       "      <td>146.44331</td>\n",
       "      <td>1.752614</td>\n",
       "      <td>346.09670</td>\n",
       "      <td>60.247580</td>\n",
       "      <td>...</td>\n",
       "      <td>346.66315</td>\n",
       "      <td>146.53949</td>\n",
       "      <td>1.471631</td>\n",
       "      <td>345.91745</td>\n",
       "      <td>60.654694</td>\n",
       "      <td>181.55270</td>\n",
       "      <td>171.80660</td>\n",
       "      <td>351.08212</td>\n",
       "      <td>174.84160</td>\n",
       "      <td>8039.3890</td>\n",
       "    </tr>\n",
       "    <tr>\n",
       "      <td>2017-02-17 06:20:00</td>\n",
       "      <td>7318.1200</td>\n",
       "      <td>76.99216</td>\n",
       "      <td>36.130260</td>\n",
       "      <td>35.061035</td>\n",
       "      <td>49.505020</td>\n",
       "      <td>346.96830</td>\n",
       "      <td>146.49484</td>\n",
       "      <td>1.646714</td>\n",
       "      <td>346.12830</td>\n",
       "      <td>60.520720</td>\n",
       "      <td>...</td>\n",
       "      <td>345.78055</td>\n",
       "      <td>146.76909</td>\n",
       "      <td>0.466979</td>\n",
       "      <td>345.54070</td>\n",
       "      <td>60.545030</td>\n",
       "      <td>182.09363</td>\n",
       "      <td>171.79341</td>\n",
       "      <td>350.99005</td>\n",
       "      <td>178.14595</td>\n",
       "      <td>8021.1885</td>\n",
       "    </tr>\n",
       "  </tbody>\n",
       "</table>\n",
       "<p>6 rows × 575 columns</p>\n",
       "</div>"
      ],
      "text/plain": [
       "                             0         1          2          3          4  \\\n",
       "2016-06-20 00:00:00  7127.0854  85.40534  35.945026  35.022540  49.497143   \n",
       "2016-06-20 00:10:00  7136.0156  85.43669  36.011635  34.776955  49.480000   \n",
       "2016-06-20 00:20:00  7116.3180  85.14802  35.955723  35.209538  49.485020   \n",
       "2017-02-17 06:00:00  7319.7886  76.99712  35.989002  34.581000  49.497086   \n",
       "2017-02-17 06:10:00  7317.2740  77.02246  35.920265  35.091274  49.505005   \n",
       "2017-02-17 06:20:00  7318.1200  76.99216  36.130260  35.061035  49.505020   \n",
       "\n",
       "                             5          6         7          8          9  \\\n",
       "2016-06-20 00:00:00  355.61044  145.01039  2.710897  354.23960  60.192510   \n",
       "2016-06-20 00:10:00  355.62457  144.97047  2.729148  354.25500  60.470040   \n",
       "2016-06-20 00:20:00  355.62590  145.03008  2.790372  354.24045  60.712350   \n",
       "2017-02-17 06:00:00  346.94998  146.22476  1.709919  346.08005  60.778748   \n",
       "2017-02-17 06:10:00  346.97995  146.44331  1.752614  346.09670  60.247580   \n",
       "2017-02-17 06:20:00  346.96830  146.49484  1.646714  346.12830  60.520720   \n",
       "\n",
       "                     ...        565        566       567        568  \\\n",
       "2016-06-20 00:00:00  ...  355.52545  145.00943  2.644965  354.20547   \n",
       "2016-06-20 00:10:00  ...  355.51508  144.95656  2.569579  354.21500   \n",
       "2016-06-20 00:20:00  ...  355.61456  144.98909  2.690484  354.27950   \n",
       "2017-02-17 06:00:00  ...  346.95000  146.57059  1.660524  346.11940   \n",
       "2017-02-17 06:10:00  ...  346.66315  146.53949  1.471631  345.91745   \n",
       "2017-02-17 06:20:00  ...  345.78055  146.76909  0.466979  345.54070   \n",
       "\n",
       "                           569        570        571        572        573  \\\n",
       "2016-06-20 00:00:00  60.619260  184.06555  176.28226  358.51508  182.41208   \n",
       "2016-06-20 00:10:00  60.278030  184.14162  176.13545  358.69263  181.79498   \n",
       "2016-06-20 00:20:00  60.554530  184.01282  176.40000  358.52423  178.33656   \n",
       "2017-02-17 06:00:00  60.531060  181.40356  171.90000  351.18213  177.66031   \n",
       "2017-02-17 06:10:00  60.654694  181.55270  171.80660  351.08212  174.84160   \n",
       "2017-02-17 06:20:00  60.545030  182.09363  171.79341  350.99005  178.14595   \n",
       "\n",
       "                     0997_real  \n",
       "2016-06-20 00:00:00  7904.0625  \n",
       "2016-06-20 00:10:00  7913.4487  \n",
       "2016-06-20 00:20:00  7911.7050  \n",
       "2017-02-17 06:00:00  8041.7900  \n",
       "2017-02-17 06:10:00  8039.3890  \n",
       "2017-02-17 06:20:00  8021.1885  \n",
       "\n",
       "[6 rows x 575 columns]"
      ]
     },
     "execution_count": 6,
     "metadata": {},
     "output_type": "execute_result"
    }
   ],
   "source": [
    "df = df.loc['2016-06-20':'2017-02-20']\n",
    "idx = df.index\n",
    "df.head(3).append(df.tail(3))"
   ]
  },
  {
   "cell_type": "markdown",
   "metadata": {},
   "source": [
    "# split train test"
   ]
  },
  {
   "cell_type": "code",
   "execution_count": 7,
   "metadata": {},
   "outputs": [],
   "source": [
    "X = df.iloc[:,:-1]\n",
    "Y = df.iloc[:,-1:]"
   ]
  },
  {
   "cell_type": "code",
   "execution_count": 8,
   "metadata": {},
   "outputs": [
    {
     "name": "stdout",
     "output_type": "stream",
     "text": [
      "(22303, 574)\n",
      "(22303, 1)\n",
      "(4779, 574)\n",
      "(4779, 1)\n",
      "(4780, 574)\n",
      "(4780, 1)\n"
     ]
    }
   ],
   "source": [
    "sp1 = int(len(X)*0.7)\n",
    "sp2 = int(len(X)*0.85)\n",
    "X_train,X_valid,X_test = X[:sp1],X[sp1:sp2],X[sp2:]\n",
    "Y_train,Y_valid,Y_test = Y[:sp1],Y[sp1:sp2],Y[sp2:]\n",
    "print(X_train.shape)\n",
    "print(Y_train.shape)\n",
    "print(X_valid.shape)\n",
    "print(Y_valid.shape)\n",
    "print(X_test.shape)\n",
    "print(Y_test.shape)"
   ]
  },
  {
   "cell_type": "markdown",
   "metadata": {},
   "source": [
    "# plot"
   ]
  },
  {
   "cell_type": "code",
   "execution_count": 9,
   "metadata": {},
   "outputs": [],
   "source": [
    "t1 = df.iloc[[sp1]].index[0]\n",
    "t2 = df.iloc[[sp2]].index[0]"
   ]
  },
  {
   "cell_type": "code",
   "execution_count": 10,
   "metadata": {},
   "outputs": [
    {
     "data": {
      "image/png": "[encoded data removed]",
      "text/plain": [
       "<Figure size 432x288 with 1 Axes>"
      ]
     },
     "metadata": {
      "needs_background": "light"
     },
     "output_type": "display_data"
    }
   ],
   "source": [
    "df['0997_real'].plot(label='train')\n",
    "df['0997_real'][(df.index > t1)&(df.index < t2)].plot(color = 'red',label='valid')\n",
    "df['0997_real'][(df.index > t2)].plot(color = 'orange',label='test')\n",
    "plt.legend()\n",
    "plt.show()"
   ]
  },
  {
   "cell_type": "markdown",
   "metadata": {},
   "source": [
    "# MinMaxScaler"
   ]
  },
  {
   "cell_type": "code",
   "execution_count": 11,
   "metadata": {},
   "outputs": [],
   "source": [
    "from sklearn.preprocessing import MinMaxScaler\n",
    "mm_x = MinMaxScaler().fit(X)\n",
    "mm_y = MinMaxScaler().fit(Y)"
   ]
  },
  {
   "cell_type": "code",
   "execution_count": 12,
   "metadata": {},
   "outputs": [
    {
     "name": "stdout",
     "output_type": "stream",
     "text": [
      "save done!\n"
     ]
    }
   ],
   "source": [
    "joblib.dump(mm_x,'./model/mm_x.pkl')\n",
    "joblib.dump(mm_y,'./model/mm_y.pkl')\n",
    "print('save done!')"
   ]
  },
  {
   "cell_type": "markdown",
   "metadata": {},
   "source": [
    "# scale "
   ]
  },
  {
   "cell_type": "code",
   "execution_count": 13,
   "metadata": {},
   "outputs": [],
   "source": [
    "X_train = mm_x.transform(X_train)\n",
    "X_valid = mm_x.transform(X_valid)\n",
    "X_test = mm_x.transform(X_test)\n",
    "\n",
    "Y_train = mm_y.transform(Y_train)\n",
    "Y_valid = mm_y.transform(Y_valid)\n",
    "Y_test = mm_y.transform(Y_test)"
   ]
  },
  {
   "cell_type": "markdown",
   "metadata": {},
   "source": [
    "# torch tensor"
   ]
  },
  {
   "cell_type": "code",
   "execution_count": 14,
   "metadata": {},
   "outputs": [],
   "source": [
    "import torch\n",
    "\n",
    "X_train = torch.tensor(X_train).cuda()\n",
    "X_test = torch.tensor(X_test).cuda()\n",
    "\n",
    "X_valid = torch.tensor(X_valid).cuda()\n",
    "Y_valid = torch.tensor(Y_valid).cuda()\n",
    "\n",
    "Y_train = torch.tensor(Y_train).cuda()\n",
    "Y_test = torch.tensor(Y_test).cuda()"
   ]
  },
  {
   "cell_type": "code",
   "execution_count": 15,
   "metadata": {},
   "outputs": [
    {
     "name": "stdout",
     "output_type": "stream",
     "text": [
      "torch.Size([22303, 574]) torch.Size([4779, 574]) torch.Size([4780, 574])\n"
     ]
    }
   ],
   "source": [
    "print(X_train.shape,X_valid.shape,X_test.shape)"
   ]
  },
  {
   "cell_type": "markdown",
   "metadata": {},
   "source": [
    "# data_iter"
   ]
  },
  {
   "cell_type": "code",
   "execution_count": 16,
   "metadata": {},
   "outputs": [],
   "source": [
    "train = torch.utils.data.TensorDataset(X_train, Y_train)\n",
    "valid = torch.utils.data.TensorDataset(X_valid, Y_valid)\n",
    "train_iter = torch.utils.data.DataLoader(train, batch_size=256, shuffle=True)\n",
    "valid_iter = torch.utils.data.DataLoader(valid, batch_size=256, shuffle=True)"
   ]
  },
  {
   "cell_type": "markdown",
   "metadata": {},
   "source": [
    "# Construct the neural network"
   ]
  },
  {
   "cell_type": "code",
   "execution_count": 17,
   "metadata": {},
   "outputs": [
    {
     "data": {
      "text/plain": [
       "(574, 41, 14)"
      ]
     },
     "execution_count": 17,
     "metadata": {},
     "output_type": "execute_result"
    }
   ],
   "source": [
    "flat_size = X_train.shape[1]\n",
    "flat_size,time_step,num_sensor"
   ]
  },
  {
   "cell_type": "code",
   "execution_count": 18,
   "metadata": {},
   "outputs": [],
   "source": [
    "class panet(nn.Module):\n",
    "    def __init__(self):\n",
    "        super().__init__()\n",
    "        self.w = nn.Sequential(nn.Linear(flat_size,128),nn.Tanh(),nn.Linear(128,time_step))\n",
    "        self.b = nn.Sequential(nn.Linear(flat_size,128),nn.Tanh(),nn.Linear(128,1))\n",
    "        self.p = nn.Linear(1,1,bias=False)\n",
    "        self.history_weight = []\n",
    "        self.history_b = []\n",
    "        \n",
    "    def forward(self,x):\n",
    "        W = F.softmax(self.w(x),dim=1)\n",
    "        b = self.b(x)\n",
    "        feed,factor = self.fetch(x)\n",
    "        WX = torch.sum(feed*W,dim=1).view(-1,1)\n",
    "        output = self.p(WX) + b\n",
    "        self.history_weight.append(W)\n",
    "        self.history_b.append(b)\n",
    "        return F.sigmoid(output)\n",
    "        \n",
    "    def fetch(self,x):\n",
    "        x_resize = x.view(-1,time_step,num_sensor)\n",
    "        feed = x_resize[:,:,0]\n",
    "        factor = x_resize[:,:,1:]\n",
    "        factor = factor.reshape(-1,time_step*(num_sensor-1))\n",
    "        return feed,factor "
   ]
  },
  {
   "cell_type": "code",
   "execution_count": 19,
   "metadata": {},
   "outputs": [],
   "source": [
    "def init_weights(m):\n",
    "    if hasattr(m,'weight'):\n",
    "        try:\n",
    "            torch.nn.init.xavier_uniform(m.weight)\n",
    "        except:\n",
    "            pass\n",
    "    if hasattr(m,'bias'):\n",
    "        try:\n",
    "            m.bias.data.fill_(0)\n",
    "        except:\n",
    "            pass"
   ]
  },
  {
   "cell_type": "code",
   "execution_count": 20,
   "metadata": {},
   "outputs": [
    {
     "data": {
      "text/plain": [
       "panet(\n",
       "  (w): Sequential(\n",
       "    (0): Linear(in_features=574, out_features=128, bias=True)\n",
       "    (1): Tanh()\n",
       "    (2): Linear(in_features=128, out_features=41, bias=True)\n",
       "  )\n",
       "  (b): Sequential(\n",
       "    (0): Linear(in_features=574, out_features=128, bias=True)\n",
       "    (1): Tanh()\n",
       "    (2): Linear(in_features=128, out_features=1, bias=True)\n",
       "  )\n",
       "  (p): Linear(in_features=1, out_features=1, bias=False)\n",
       ")"
      ]
     },
     "execution_count": 20,
     "metadata": {},
     "output_type": "execute_result"
    }
   ],
   "source": [
    "net = panet().cuda().double()\n",
    "net.apply(init_weights)"
   ]
  },
  {
   "cell_type": "code",
   "execution_count": 21,
   "metadata": {},
   "outputs": [
    {
     "data": {
      "text/plain": [
       "tensor([[0.3201],\n",
       "        [0.3262],\n",
       "        [0.3283],\n",
       "        ...,\n",
       "        [0.3215],\n",
       "        [0.3223],\n",
       "        [0.3233]], device='cuda:0', dtype=torch.float64,\n",
       "       grad_fn=<SigmoidBackward>)"
      ]
     },
     "execution_count": 21,
     "metadata": {},
     "output_type": "execute_result"
    }
   ],
   "source": [
    "net(X_test)"
   ]
  },
  {
   "cell_type": "markdown",
   "metadata": {},
   "source": [
    "# tensorboard"
   ]
  },
  {
   "cell_type": "code",
   "execution_count": 22,
   "metadata": {},
   "outputs": [],
   "source": [
    "with SummaryWriter(comment='Net')as w:\n",
    "    w.add_graph(net, (X_test,))"
   ]
  },
  {
   "cell_type": "markdown",
   "metadata": {},
   "source": [
    "# torchviz"
   ]
  },
  {
   "cell_type": "code",
   "execution_count": 23,
   "metadata": {},
   "outputs": [],
   "source": [
    "#torchviz.make_dot(net(X_test).mean(),params=dict(net.named_parameters()))"
   ]
  },
  {
   "cell_type": "markdown",
   "metadata": {},
   "source": [
    "# loss_function and optimizer"
   ]
  },
  {
   "cell_type": "code",
   "execution_count": 24,
   "metadata": {},
   "outputs": [],
   "source": [
    "optimizer = torch.optim.Adam(net.parameters(),lr=1e-4)\n",
    "loss_function = nn.MSELoss()"
   ]
  },
  {
   "cell_type": "markdown",
   "metadata": {},
   "source": [
    "# Training and evaluation"
   ]
  },
  {
   "cell_type": "code",
   "execution_count": 25,
   "metadata": {},
   "outputs": [],
   "source": [
    "def train(net,train_iter,loss_function,optimizer,num_epochs=100):\n",
    "    train_history = []\n",
    "    valid_history = []\n",
    "    best_loss = np.inf\n",
    "    for epoch in range(num_epochs): \n",
    "        \n",
    "        # train model\n",
    "        net.train()\n",
    "        train_loss,i = 0,0\n",
    "        for x,y in train_iter:\n",
    "            loss = loss_function(net(x),y)\n",
    "            loss.backward()\n",
    "            optimizer.step()\n",
    "            optimizer.zero_grad()\n",
    "            train_loss += loss.item()\n",
    "            i += 1\n",
    "        \n",
    "        # eval model\n",
    "        with torch.no_grad():\n",
    "            net.eval()\n",
    "            val_loss,j = 0,0\n",
    "            for x, y in valid_iter:\n",
    "                loss = loss_function(net(x),y)\n",
    "                val_loss += loss.item()\n",
    "                j += 1\n",
    "        \n",
    "        # caculate avg loss\n",
    "        train_avg_loss = train_loss/i\n",
    "        val_avg_loss = val_loss/j\n",
    "        \n",
    "        # save the best model\n",
    "        if val_avg_loss <= best_loss:\n",
    "            best_loss = val_avg_loss\n",
    "            joblib.dump(net,'./model/net.pkl')\n",
    "            print('model saved')\n",
    "        \n",
    "        # record history and print loss of the epoch\n",
    "        train_history.append(train_avg_loss)\n",
    "        valid_history.append(val_avg_loss)\n",
    "        print(\"epochs {} train_avg_loss {:.4f} valid_avg_loss {:.4f}\".format(epoch,train_avg_loss,val_avg_loss))\n",
    "        \n",
    "    # plot result\n",
    "    print('best val_avg_loss is ',best_loss)\n",
    "    fig = plt.figure(figsize=(20,5))\n",
    "    plt.plot(np.array(train_history),label='train')\n",
    "    plt.plot(np.array(valid_history),label='valid')\n",
    "    plt.legend()\n",
    "    plt.title('loss')\n",
    "    plt.show()\n",
    "    print('model save at ./model/net.pkl')"
   ]
  },
  {
   "cell_type": "code",
   "execution_count": 26,
   "metadata": {},
   "outputs": [
    {
     "name": "stdout",
     "output_type": "stream",
     "text": [
      "model saved\n",
      "epochs 0 train_avg_loss 0.0054 valid_avg_loss 0.0009\n",
      "model saved\n",
      "epochs 1 train_avg_loss 0.0015 valid_avg_loss 0.0009\n",
      "epochs 2 train_avg_loss 0.0012 valid_avg_loss 0.0010\n",
      "epochs 3 train_avg_loss 0.0012 valid_avg_loss 0.0010\n",
      "epochs 4 train_avg_loss 0.0012 valid_avg_loss 0.0009\n",
      "epochs 5 train_avg_loss 0.0012 valid_avg_loss 0.0009\n",
      "model saved\n",
      "epochs 6 train_avg_loss 0.0011 valid_avg_loss 0.0009\n",
      "epochs 7 train_avg_loss 0.0011 valid_avg_loss 0.0009\n",
      "epochs 8 train_avg_loss 0.0011 valid_avg_loss 0.0010\n",
      "epochs 9 train_avg_loss 0.0011 valid_avg_loss 0.0010\n",
      "model saved\n",
      "epochs 10 train_avg_loss 0.0011 valid_avg_loss 0.0009\n",
      "model saved\n",
      "epochs 11 train_avg_loss 0.0011 valid_avg_loss 0.0009\n",
      "model saved\n",
      "epochs 12 train_avg_loss 0.0011 valid_avg_loss 0.0008\n",
      "epochs 13 train_avg_loss 0.0011 valid_avg_loss 0.0010\n",
      "epochs 14 train_avg_loss 0.0011 valid_avg_loss 0.0010\n",
      "model saved\n",
      "epochs 15 train_avg_loss 0.0011 valid_avg_loss 0.0008\n",
      "epochs 16 train_avg_loss 0.0011 valid_avg_loss 0.0010\n",
      "epochs 17 train_avg_loss 0.0011 valid_avg_loss 0.0009\n",
      "epochs 18 train_avg_loss 0.0011 valid_avg_loss 0.0008\n",
      "epochs 19 train_avg_loss 0.0011 valid_avg_loss 0.0009\n",
      "epochs 20 train_avg_loss 0.0011 valid_avg_loss 0.0009\n",
      "epochs 21 train_avg_loss 0.0011 valid_avg_loss 0.0009\n",
      "epochs 22 train_avg_loss 0.0011 valid_avg_loss 0.0010\n",
      "model saved\n",
      "epochs 23 train_avg_loss 0.0011 valid_avg_loss 0.0008\n",
      "epochs 24 train_avg_loss 0.0011 valid_avg_loss 0.0012\n",
      "epochs 25 train_avg_loss 0.0011 valid_avg_loss 0.0010\n",
      "epochs 26 train_avg_loss 0.0011 valid_avg_loss 0.0009\n",
      "epochs 27 train_avg_loss 0.0011 valid_avg_loss 0.0009\n",
      "epochs 28 train_avg_loss 0.0011 valid_avg_loss 0.0012\n",
      "epochs 29 train_avg_loss 0.0011 valid_avg_loss 0.0009\n",
      "best val_avg_loss is  0.0008419390479943397\n"
     ]
    },
    {
     "data": {
      "image/png": "[encoded data removed]",
      "text/plain": [
       "<Figure size 1440x360 with 1 Axes>"
      ]
     },
     "metadata": {
      "needs_background": "light"
     },
     "output_type": "display_data"
    },
    {
     "name": "stdout",
     "output_type": "stream",
     "text": [
      "model save at ./model/net.pkl\n",
      "56.339897871017456\n"
     ]
    }
   ],
   "source": [
    "s = time.time()\n",
    "train(net,train_iter,loss_function,optimizer,num_epochs=30)\n",
    "print(time.time()-s)"
   ]
  },
  {
   "cell_type": "markdown",
   "metadata": {},
   "source": [
    "# load best net"
   ]
  },
  {
   "cell_type": "code",
   "execution_count": 27,
   "metadata": {},
   "outputs": [
    {
     "data": {
      "text/plain": [
       "panet(\n",
       "  (w): Sequential(\n",
       "    (0): Linear(in_features=574, out_features=128, bias=True)\n",
       "    (1): Tanh()\n",
       "    (2): Linear(in_features=128, out_features=41, bias=True)\n",
       "  )\n",
       "  (b): Sequential(\n",
       "    (0): Linear(in_features=574, out_features=128, bias=True)\n",
       "    (1): Tanh()\n",
       "    (2): Linear(in_features=128, out_features=1, bias=True)\n",
       "  )\n",
       "  (p): Linear(in_features=1, out_features=1, bias=False)\n",
       ")"
      ]
     },
     "execution_count": 27,
     "metadata": {},
     "output_type": "execute_result"
    }
   ],
   "source": [
    "net = joblib.load('./model/net.pkl')\n",
    "net = net.eval()\n",
    "net"
   ]
  },
  {
   "cell_type": "code",
   "execution_count": 28,
   "metadata": {},
   "outputs": [
    {
     "data": {
      "text/html": [
       "<style  type=\"text/css\" >\n",
       "    #T_e6df9c48_8714_11ea_a711_38d547dfbd4arow0_col0 {\n",
       "            background-color:  #023858;\n",
       "            color:  #f1f1f1;\n",
       "        }    #T_e6df9c48_8714_11ea_a711_38d547dfbd4arow0_col1 {\n",
       "            background-color:  #fef6fb;\n",
       "            color:  #000000;\n",
       "        }    #T_e6df9c48_8714_11ea_a711_38d547dfbd4arow0_col2 {\n",
       "            background-color:  #fff7fb;\n",
       "            color:  #000000;\n",
       "        }    #T_e6df9c48_8714_11ea_a711_38d547dfbd4arow0_col3 {\n",
       "            background-color:  #fff7fb;\n",
       "            color:  #000000;\n",
       "        }    #T_e6df9c48_8714_11ea_a711_38d547dfbd4arow0_col4 {\n",
       "            background-color:  #fef6fb;\n",
       "            color:  #000000;\n",
       "        }    #T_e6df9c48_8714_11ea_a711_38d547dfbd4arow0_col5 {\n",
       "            background-color:  #fef6fa;\n",
       "            color:  #000000;\n",
       "        }    #T_e6df9c48_8714_11ea_a711_38d547dfbd4arow0_col6 {\n",
       "            background-color:  #fff7fb;\n",
       "            color:  #000000;\n",
       "        }    #T_e6df9c48_8714_11ea_a711_38d547dfbd4arow0_col7 {\n",
       "            background-color:  #fff7fb;\n",
       "            color:  #000000;\n",
       "        }    #T_e6df9c48_8714_11ea_a711_38d547dfbd4arow0_col8 {\n",
       "            background-color:  #fff7fb;\n",
       "            color:  #000000;\n",
       "        }    #T_e6df9c48_8714_11ea_a711_38d547dfbd4arow0_col9 {\n",
       "            background-color:  #fff7fb;\n",
       "            color:  #000000;\n",
       "        }    #T_e6df9c48_8714_11ea_a711_38d547dfbd4arow0_col10 {\n",
       "            background-color:  #fef6fb;\n",
       "            color:  #000000;\n",
       "        }    #T_e6df9c48_8714_11ea_a711_38d547dfbd4arow0_col11 {\n",
       "            background-color:  #fff7fb;\n",
       "            color:  #000000;\n",
       "        }    #T_e6df9c48_8714_11ea_a711_38d547dfbd4arow0_col12 {\n",
       "            background-color:  #fff7fb;\n",
       "            color:  #000000;\n",
       "        }    #T_e6df9c48_8714_11ea_a711_38d547dfbd4arow0_col13 {\n",
       "            background-color:  #fff7fb;\n",
       "            color:  #000000;\n",
       "        }    #T_e6df9c48_8714_11ea_a711_38d547dfbd4arow0_col14 {\n",
       "            background-color:  #fef6fa;\n",
       "            color:  #000000;\n",
       "        }    #T_e6df9c48_8714_11ea_a711_38d547dfbd4arow0_col15 {\n",
       "            background-color:  #fff7fb;\n",
       "            color:  #000000;\n",
       "        }    #T_e6df9c48_8714_11ea_a711_38d547dfbd4arow0_col16 {\n",
       "            background-color:  #fff7fb;\n",
       "            color:  #000000;\n",
       "        }    #T_e6df9c48_8714_11ea_a711_38d547dfbd4arow0_col17 {\n",
       "            background-color:  #fff7fb;\n",
       "            color:  #000000;\n",
       "        }    #T_e6df9c48_8714_11ea_a711_38d547dfbd4arow0_col18 {\n",
       "            background-color:  #fff7fb;\n",
       "            color:  #000000;\n",
       "        }    #T_e6df9c48_8714_11ea_a711_38d547dfbd4arow0_col19 {\n",
       "            background-color:  #fff7fb;\n",
       "            color:  #000000;\n",
       "        }    #T_e6df9c48_8714_11ea_a711_38d547dfbd4arow0_col20 {\n",
       "            background-color:  #fff7fb;\n",
       "            color:  #000000;\n",
       "        }    #T_e6df9c48_8714_11ea_a711_38d547dfbd4arow0_col21 {\n",
       "            background-color:  #fff7fb;\n",
       "            color:  #000000;\n",
       "        }    #T_e6df9c48_8714_11ea_a711_38d547dfbd4arow0_col22 {\n",
       "            background-color:  #fff7fb;\n",
       "            color:  #000000;\n",
       "        }    #T_e6df9c48_8714_11ea_a711_38d547dfbd4arow0_col23 {\n",
       "            background-color:  #fef6fb;\n",
       "            color:  #000000;\n",
       "        }    #T_e6df9c48_8714_11ea_a711_38d547dfbd4arow0_col24 {\n",
       "            background-color:  #fff7fb;\n",
       "            color:  #000000;\n",
       "        }    #T_e6df9c48_8714_11ea_a711_38d547dfbd4arow0_col25 {\n",
       "            background-color:  #fef6fb;\n",
       "            color:  #000000;\n",
       "        }    #T_e6df9c48_8714_11ea_a711_38d547dfbd4arow0_col26 {\n",
       "            background-color:  #fff7fb;\n",
       "            color:  #000000;\n",
       "        }    #T_e6df9c48_8714_11ea_a711_38d547dfbd4arow0_col27 {\n",
       "            background-color:  #fff7fb;\n",
       "            color:  #000000;\n",
       "        }    #T_e6df9c48_8714_11ea_a711_38d547dfbd4arow0_col28 {\n",
       "            background-color:  #fff7fb;\n",
       "            color:  #000000;\n",
       "        }    #T_e6df9c48_8714_11ea_a711_38d547dfbd4arow0_col29 {\n",
       "            background-color:  #fff7fb;\n",
       "            color:  #000000;\n",
       "        }    #T_e6df9c48_8714_11ea_a711_38d547dfbd4arow0_col30 {\n",
       "            background-color:  #fff7fb;\n",
       "            color:  #000000;\n",
       "        }    #T_e6df9c48_8714_11ea_a711_38d547dfbd4arow0_col31 {\n",
       "            background-color:  #fff7fb;\n",
       "            color:  #000000;\n",
       "        }    #T_e6df9c48_8714_11ea_a711_38d547dfbd4arow0_col32 {\n",
       "            background-color:  #fef6fb;\n",
       "            color:  #000000;\n",
       "        }    #T_e6df9c48_8714_11ea_a711_38d547dfbd4arow0_col33 {\n",
       "            background-color:  #fff7fb;\n",
       "            color:  #000000;\n",
       "        }    #T_e6df9c48_8714_11ea_a711_38d547dfbd4arow0_col34 {\n",
       "            background-color:  #fff7fb;\n",
       "            color:  #000000;\n",
       "        }    #T_e6df9c48_8714_11ea_a711_38d547dfbd4arow0_col35 {\n",
       "            background-color:  #fff7fb;\n",
       "            color:  #000000;\n",
       "        }    #T_e6df9c48_8714_11ea_a711_38d547dfbd4arow0_col36 {\n",
       "            background-color:  #fff7fb;\n",
       "            color:  #000000;\n",
       "        }    #T_e6df9c48_8714_11ea_a711_38d547dfbd4arow0_col37 {\n",
       "            background-color:  #fff7fb;\n",
       "            color:  #000000;\n",
       "        }    #T_e6df9c48_8714_11ea_a711_38d547dfbd4arow0_col38 {\n",
       "            background-color:  #fff7fb;\n",
       "            color:  #000000;\n",
       "        }    #T_e6df9c48_8714_11ea_a711_38d547dfbd4arow0_col39 {\n",
       "            background-color:  #e9e5f1;\n",
       "            color:  #000000;\n",
       "        }    #T_e6df9c48_8714_11ea_a711_38d547dfbd4arow0_col40 {\n",
       "            background-color:  #fff7fb;\n",
       "            color:  #000000;\n",
       "        }</style><table id=\"T_e6df9c48_8714_11ea_a711_38d547dfbd4a\" ><thead>    <tr>        <th class=\"blank level0\" ></th>        <th class=\"col_heading level0 col0\" >0</th>        <th class=\"col_heading level0 col1\" >1</th>        <th class=\"col_heading level0 col2\" >2</th>        <th class=\"col_heading level0 col3\" >3</th>        <th class=\"col_heading level0 col4\" >4</th>        <th class=\"col_heading level0 col5\" >5</th>        <th class=\"col_heading level0 col6\" >6</th>        <th class=\"col_heading level0 col7\" >7</th>        <th class=\"col_heading level0 col8\" >8</th>        <th class=\"col_heading level0 col9\" >9</th>        <th class=\"col_heading level0 col10\" >10</th>        <th class=\"col_heading level0 col11\" >11</th>        <th class=\"col_heading level0 col12\" >12</th>        <th class=\"col_heading level0 col13\" >13</th>        <th class=\"col_heading level0 col14\" >14</th>        <th class=\"col_heading level0 col15\" >15</th>        <th class=\"col_heading level0 col16\" >16</th>        <th class=\"col_heading level0 col17\" >17</th>        <th class=\"col_heading level0 col18\" >18</th>        <th class=\"col_heading level0 col19\" >19</th>        <th class=\"col_heading level0 col20\" >20</th>        <th class=\"col_heading level0 col21\" >21</th>        <th class=\"col_heading level0 col22\" >22</th>        <th class=\"col_heading level0 col23\" >23</th>        <th class=\"col_heading level0 col24\" >24</th>        <th class=\"col_heading level0 col25\" >25</th>        <th class=\"col_heading level0 col26\" >26</th>        <th class=\"col_heading level0 col27\" >27</th>        <th class=\"col_heading level0 col28\" >28</th>        <th class=\"col_heading level0 col29\" >29</th>        <th class=\"col_heading level0 col30\" >30</th>        <th class=\"col_heading level0 col31\" >31</th>        <th class=\"col_heading level0 col32\" >32</th>        <th class=\"col_heading level0 col33\" >33</th>        <th class=\"col_heading level0 col34\" >34</th>        <th class=\"col_heading level0 col35\" >35</th>        <th class=\"col_heading level0 col36\" >36</th>        <th class=\"col_heading level0 col37\" >37</th>        <th class=\"col_heading level0 col38\" >38</th>        <th class=\"col_heading level0 col39\" >39</th>        <th class=\"col_heading level0 col40\" >40</th>    </tr></thead><tbody>\n",
       "                <tr>\n",
       "                        <th id=\"T_e6df9c48_8714_11ea_a711_38d547dfbd4alevel0_row0\" class=\"row_heading level0 row0\" >0</th>\n",
       "                        <td id=\"T_e6df9c48_8714_11ea_a711_38d547dfbd4arow0_col0\" class=\"data row0 col0\" >0.798988</td>\n",
       "                        <td id=\"T_e6df9c48_8714_11ea_a711_38d547dfbd4arow0_col1\" class=\"data row0 col1\" >0.00522063</td>\n",
       "                        <td id=\"T_e6df9c48_8714_11ea_a711_38d547dfbd4arow0_col2\" class=\"data row0 col2\" >0.00156367</td>\n",
       "                        <td id=\"T_e6df9c48_8714_11ea_a711_38d547dfbd4arow0_col3\" class=\"data row0 col3\" >0.00135548</td>\n",
       "                        <td id=\"T_e6df9c48_8714_11ea_a711_38d547dfbd4arow0_col4\" class=\"data row0 col4\" >0.0054639</td>\n",
       "                        <td id=\"T_e6df9c48_8714_11ea_a711_38d547dfbd4arow0_col5\" class=\"data row0 col5\" >0.00701596</td>\n",
       "                        <td id=\"T_e6df9c48_8714_11ea_a711_38d547dfbd4arow0_col6\" class=\"data row0 col6\" >0.00286207</td>\n",
       "                        <td id=\"T_e6df9c48_8714_11ea_a711_38d547dfbd4arow0_col7\" class=\"data row0 col7\" >0.00263462</td>\n",
       "                        <td id=\"T_e6df9c48_8714_11ea_a711_38d547dfbd4arow0_col8\" class=\"data row0 col8\" >0.00280271</td>\n",
       "                        <td id=\"T_e6df9c48_8714_11ea_a711_38d547dfbd4arow0_col9\" class=\"data row0 col9\" >0.00236057</td>\n",
       "                        <td id=\"T_e6df9c48_8714_11ea_a711_38d547dfbd4arow0_col10\" class=\"data row0 col10\" >0.00461417</td>\n",
       "                        <td id=\"T_e6df9c48_8714_11ea_a711_38d547dfbd4arow0_col11\" class=\"data row0 col11\" >0.000941147</td>\n",
       "                        <td id=\"T_e6df9c48_8714_11ea_a711_38d547dfbd4arow0_col12\" class=\"data row0 col12\" >0.00198506</td>\n",
       "                        <td id=\"T_e6df9c48_8714_11ea_a711_38d547dfbd4arow0_col13\" class=\"data row0 col13\" >0.00148032</td>\n",
       "                        <td id=\"T_e6df9c48_8714_11ea_a711_38d547dfbd4arow0_col14\" class=\"data row0 col14\" >0.00694498</td>\n",
       "                        <td id=\"T_e6df9c48_8714_11ea_a711_38d547dfbd4arow0_col15\" class=\"data row0 col15\" >0.000891689</td>\n",
       "                        <td id=\"T_e6df9c48_8714_11ea_a711_38d547dfbd4arow0_col16\" class=\"data row0 col16\" >0.00135265</td>\n",
       "                        <td id=\"T_e6df9c48_8714_11ea_a711_38d547dfbd4arow0_col17\" class=\"data row0 col17\" >0.00104898</td>\n",
       "                        <td id=\"T_e6df9c48_8714_11ea_a711_38d547dfbd4arow0_col18\" class=\"data row0 col18\" >0.000721277</td>\n",
       "                        <td id=\"T_e6df9c48_8714_11ea_a711_38d547dfbd4arow0_col19\" class=\"data row0 col19\" >0.00165768</td>\n",
       "                        <td id=\"T_e6df9c48_8714_11ea_a711_38d547dfbd4arow0_col20\" class=\"data row0 col20\" >0.000971277</td>\n",
       "                        <td id=\"T_e6df9c48_8714_11ea_a711_38d547dfbd4arow0_col21\" class=\"data row0 col21\" >0.00109854</td>\n",
       "                        <td id=\"T_e6df9c48_8714_11ea_a711_38d547dfbd4arow0_col22\" class=\"data row0 col22\" >0.00104177</td>\n",
       "                        <td id=\"T_e6df9c48_8714_11ea_a711_38d547dfbd4arow0_col23\" class=\"data row0 col23\" >0.00358114</td>\n",
       "                        <td id=\"T_e6df9c48_8714_11ea_a711_38d547dfbd4arow0_col24\" class=\"data row0 col24\" >0.0018668</td>\n",
       "                        <td id=\"T_e6df9c48_8714_11ea_a711_38d547dfbd4arow0_col25\" class=\"data row0 col25\" >0.00399159</td>\n",
       "                        <td id=\"T_e6df9c48_8714_11ea_a711_38d547dfbd4arow0_col26\" class=\"data row0 col26\" >0.00141296</td>\n",
       "                        <td id=\"T_e6df9c48_8714_11ea_a711_38d547dfbd4arow0_col27\" class=\"data row0 col27\" >0.00118827</td>\n",
       "                        <td id=\"T_e6df9c48_8714_11ea_a711_38d547dfbd4arow0_col28\" class=\"data row0 col28\" >0.00243276</td>\n",
       "                        <td id=\"T_e6df9c48_8714_11ea_a711_38d547dfbd4arow0_col29\" class=\"data row0 col29\" >0.0012028</td>\n",
       "                        <td id=\"T_e6df9c48_8714_11ea_a711_38d547dfbd4arow0_col30\" class=\"data row0 col30\" >0.00295303</td>\n",
       "                        <td id=\"T_e6df9c48_8714_11ea_a711_38d547dfbd4arow0_col31\" class=\"data row0 col31\" >0.00129535</td>\n",
       "                        <td id=\"T_e6df9c48_8714_11ea_a711_38d547dfbd4arow0_col32\" class=\"data row0 col32\" >0.00531765</td>\n",
       "                        <td id=\"T_e6df9c48_8714_11ea_a711_38d547dfbd4arow0_col33\" class=\"data row0 col33\" >0.00229513</td>\n",
       "                        <td id=\"T_e6df9c48_8714_11ea_a711_38d547dfbd4arow0_col34\" class=\"data row0 col34\" >0.00105343</td>\n",
       "                        <td id=\"T_e6df9c48_8714_11ea_a711_38d547dfbd4arow0_col35\" class=\"data row0 col35\" >0.00131536</td>\n",
       "                        <td id=\"T_e6df9c48_8714_11ea_a711_38d547dfbd4arow0_col36\" class=\"data row0 col36\" >0.000992324</td>\n",
       "                        <td id=\"T_e6df9c48_8714_11ea_a711_38d547dfbd4arow0_col37\" class=\"data row0 col37\" >0.0019806</td>\n",
       "                        <td id=\"T_e6df9c48_8714_11ea_a711_38d547dfbd4arow0_col38\" class=\"data row0 col38\" >0.00228028</td>\n",
       "                        <td id=\"T_e6df9c48_8714_11ea_a711_38d547dfbd4arow0_col39\" class=\"data row0 col39\" >0.109513</td>\n",
       "                        <td id=\"T_e6df9c48_8714_11ea_a711_38d547dfbd4arow0_col40\" class=\"data row0 col40\" >0.00031066</td>\n",
       "            </tr>\n",
       "    </tbody></table>"
      ],
      "text/plain": [
       "<pandas.io.formats.style.Styler at 0x2b17824a688>"
      ]
     },
     "execution_count": 28,
     "metadata": {},
     "output_type": "execute_result"
    }
   ],
   "source": [
    "pd.DataFrame(net.history_weight[-1].detach().cpu().numpy()[0]).T.style.background_gradient(axis=1)"
   ]
  },
  {
   "cell_type": "code",
   "execution_count": 47,
   "metadata": {},
   "outputs": [
    {
     "data": {
      "text/plain": [
       "tensor([[0.5518]], device='cuda:0', dtype=torch.float64)"
      ]
     },
     "execution_count": 47,
     "metadata": {},
     "output_type": "execute_result"
    }
   ],
   "source": [
    "net.p.weight.data"
   ]
  },
  {
   "cell_type": "code",
   "execution_count": 48,
   "metadata": {},
   "outputs": [
    {
     "data": {
      "text/plain": [
       "0.0062063727929897086"
      ]
     },
     "execution_count": 48,
     "metadata": {},
     "output_type": "execute_result"
    }
   ],
   "source": [
    "net.history_b[-1].detach().cpu().numpy().mean()"
   ]
  },
  {
   "cell_type": "markdown",
   "metadata": {},
   "source": [
    "# metrics"
   ]
  },
  {
   "cell_type": "code",
   "execution_count": 31,
   "metadata": {},
   "outputs": [],
   "source": [
    "from sklearn.metrics import r2_score,mean_absolute_error,mean_squared_error\n",
    "from math import sqrt\n",
    "\n",
    "def mape(y_true, y_pred): \n",
    "    y_true, y_pred = np.array(y_true), np.array(y_pred)\n",
    "    return np.mean(np.abs((y_true - y_pred) / y_true))*100\n",
    "\n",
    "\n",
    "feed = X.values.reshape(-1,time_step,num_sensor).mean(axis=1)\n",
    "feed = pd.DataFrame(feed,columns=x_col,index=idx)\n",
    "feed = feed['MLPAP_FQ-0619.PV']\n",
    "\n",
    "def show_result(X,Y,index,tag):\n",
    "    t = pd.DataFrame(index=index)\n",
    "    t['0619'] = feed[index]\n",
    "    t['0997_real'] = mm_y.inverse_transform(Y.detach().cpu().numpy().reshape(-1,1)).ravel()\n",
    "    t['0997_pred'] = mm_y.inverse_transform(net(X).detach().cpu().numpy().reshape(-1,1)).ravel()\n",
    "    t['單耗_real'] = t['0619']/t['0997_real']\n",
    "    t['單耗_pred'] = t['0619']/t['0997_pred']\n",
    "    #t['0997_R2'] = r2_score(t['0997_real'],t['0997_pred'])\n",
    "    #t['0997_MAPE'] = mape(t['0997_real'],t['0997_pred'])\n",
    "    t['單耗RMSE'] = sqrt(mean_squared_error(t['單耗_real'],t['單耗_pred']))\n",
    "    t['單耗MAPE'] = mape(t['單耗_real'],t['單耗_pred'])\n",
    "    m = t.iloc[[0],-2:]\n",
    "    m.index = [tag]\n",
    "    t = t.iloc[:,:-2]\n",
    "    return t,m"
   ]
  },
  {
   "cell_type": "markdown",
   "metadata": {},
   "source": [
    "# make prediction(train)"
   ]
  },
  {
   "cell_type": "code",
   "execution_count": 32,
   "metadata": {},
   "outputs": [
    {
     "data": {
      "text/html": [
       "<div>\n",
       "<style scoped>\n",
       "    .dataframe tbody tr th:only-of-type {\n",
       "        vertical-align: middle;\n",
       "    }\n",
       "\n",
       "    .dataframe tbody tr th {\n",
       "        vertical-align: top;\n",
       "    }\n",
       "\n",
       "    .dataframe thead th {\n",
       "        text-align: right;\n",
       "    }\n",
       "</style>\n",
       "<table border=\"1\" class=\"dataframe\">\n",
       "  <thead>\n",
       "    <tr style=\"text-align: right;\">\n",
       "      <th></th>\n",
       "      <th>單耗RMSE</th>\n",
       "      <th>單耗MAPE</th>\n",
       "    </tr>\n",
       "  </thead>\n",
       "  <tbody>\n",
       "    <tr>\n",
       "      <td>train</td>\n",
       "      <td>0.020504</td>\n",
       "      <td>1.167836</td>\n",
       "    </tr>\n",
       "  </tbody>\n",
       "</table>\n",
       "</div>"
      ],
      "text/plain": [
       "         單耗RMSE    單耗MAPE\n",
       "train  0.020504  1.167836"
      ]
     },
     "execution_count": 32,
     "metadata": {},
     "output_type": "execute_result"
    }
   ],
   "source": [
    "t1,m1 = show_result(X_train,Y_train,idx[:sp1],'train')\n",
    "m1.head()"
   ]
  },
  {
   "cell_type": "code",
   "execution_count": 33,
   "metadata": {},
   "outputs": [
    {
     "data": {
      "text/html": [
       "<div>\n",
       "<style scoped>\n",
       "    .dataframe tbody tr th:only-of-type {\n",
       "        vertical-align: middle;\n",
       "    }\n",
       "\n",
       "    .dataframe tbody tr th {\n",
       "        vertical-align: top;\n",
       "    }\n",
       "\n",
       "    .dataframe thead th {\n",
       "        text-align: right;\n",
       "    }\n",
       "</style>\n",
       "<table border=\"1\" class=\"dataframe\">\n",
       "  <thead>\n",
       "    <tr style=\"text-align: right;\">\n",
       "      <th></th>\n",
       "      <th>0619</th>\n",
       "      <th>0997_real</th>\n",
       "      <th>0997_pred</th>\n",
       "      <th>單耗_real</th>\n",
       "      <th>單耗_pred</th>\n",
       "    </tr>\n",
       "  </thead>\n",
       "  <tbody>\n",
       "    <tr>\n",
       "      <td>2016-06-20 00:00:00</td>\n",
       "      <td>7122.090585</td>\n",
       "      <td>7904.0625</td>\n",
       "      <td>7737.955729</td>\n",
       "      <td>0.901067</td>\n",
       "      <td>0.920410</td>\n",
       "    </tr>\n",
       "    <tr>\n",
       "      <td>2016-06-20 00:10:00</td>\n",
       "      <td>7121.823454</td>\n",
       "      <td>7913.4487</td>\n",
       "      <td>7765.382543</td>\n",
       "      <td>0.899965</td>\n",
       "      <td>0.917125</td>\n",
       "    </tr>\n",
       "    <tr>\n",
       "      <td>2016-06-20 00:20:00</td>\n",
       "      <td>7121.464078</td>\n",
       "      <td>7911.7050</td>\n",
       "      <td>7741.909171</td>\n",
       "      <td>0.900117</td>\n",
       "      <td>0.919859</td>\n",
       "    </tr>\n",
       "    <tr>\n",
       "      <td>2016-06-20 00:30:00</td>\n",
       "      <td>7121.265237</td>\n",
       "      <td>7896.0980</td>\n",
       "      <td>7747.413208</td>\n",
       "      <td>0.901871</td>\n",
       "      <td>0.919180</td>\n",
       "    </tr>\n",
       "    <tr>\n",
       "      <td>2016-06-20 00:40:00</td>\n",
       "      <td>7121.030054</td>\n",
       "      <td>7889.9550</td>\n",
       "      <td>7778.042125</td>\n",
       "      <td>0.902544</td>\n",
       "      <td>0.915530</td>\n",
       "    </tr>\n",
       "  </tbody>\n",
       "</table>\n",
       "</div>"
      ],
      "text/plain": [
       "                            0619  0997_real    0997_pred   單耗_real   單耗_pred\n",
       "2016-06-20 00:00:00  7122.090585  7904.0625  7737.955729  0.901067  0.920410\n",
       "2016-06-20 00:10:00  7121.823454  7913.4487  7765.382543  0.899965  0.917125\n",
       "2016-06-20 00:20:00  7121.464078  7911.7050  7741.909171  0.900117  0.919859\n",
       "2016-06-20 00:30:00  7121.265237  7896.0980  7747.413208  0.901871  0.919180\n",
       "2016-06-20 00:40:00  7121.030054  7889.9550  7778.042125  0.902544  0.915530"
      ]
     },
     "execution_count": 33,
     "metadata": {},
     "output_type": "execute_result"
    }
   ],
   "source": [
    "t1.head()"
   ]
  },
  {
   "cell_type": "markdown",
   "metadata": {},
   "source": [
    "# make prediction(valid)"
   ]
  },
  {
   "cell_type": "code",
   "execution_count": 34,
   "metadata": {},
   "outputs": [
    {
     "data": {
      "text/html": [
       "<div>\n",
       "<style scoped>\n",
       "    .dataframe tbody tr th:only-of-type {\n",
       "        vertical-align: middle;\n",
       "    }\n",
       "\n",
       "    .dataframe tbody tr th {\n",
       "        vertical-align: top;\n",
       "    }\n",
       "\n",
       "    .dataframe thead th {\n",
       "        text-align: right;\n",
       "    }\n",
       "</style>\n",
       "<table border=\"1\" class=\"dataframe\">\n",
       "  <thead>\n",
       "    <tr style=\"text-align: right;\">\n",
       "      <th></th>\n",
       "      <th>單耗RMSE</th>\n",
       "      <th>單耗MAPE</th>\n",
       "    </tr>\n",
       "  </thead>\n",
       "  <tbody>\n",
       "    <tr>\n",
       "      <td>valid</td>\n",
       "      <td>0.01917</td>\n",
       "      <td>0.946322</td>\n",
       "    </tr>\n",
       "  </tbody>\n",
       "</table>\n",
       "</div>"
      ],
      "text/plain": [
       "        單耗RMSE    單耗MAPE\n",
       "valid  0.01917  0.946322"
      ]
     },
     "execution_count": 34,
     "metadata": {},
     "output_type": "execute_result"
    }
   ],
   "source": [
    "t2,m2 = show_result(X_valid,Y_valid,idx[sp1:sp2],'valid')\n",
    "m2.head()"
   ]
  },
  {
   "cell_type": "code",
   "execution_count": 35,
   "metadata": {},
   "outputs": [
    {
     "data": {
      "text/html": [
       "<div>\n",
       "<style scoped>\n",
       "    .dataframe tbody tr th:only-of-type {\n",
       "        vertical-align: middle;\n",
       "    }\n",
       "\n",
       "    .dataframe tbody tr th {\n",
       "        vertical-align: top;\n",
       "    }\n",
       "\n",
       "    .dataframe thead th {\n",
       "        text-align: right;\n",
       "    }\n",
       "</style>\n",
       "<table border=\"1\" class=\"dataframe\">\n",
       "  <thead>\n",
       "    <tr style=\"text-align: right;\">\n",
       "      <th></th>\n",
       "      <th>0619</th>\n",
       "      <th>0997_real</th>\n",
       "      <th>0997_pred</th>\n",
       "      <th>單耗_real</th>\n",
       "      <th>單耗_pred</th>\n",
       "    </tr>\n",
       "  </thead>\n",
       "  <tbody>\n",
       "    <tr>\n",
       "      <td>2016-12-10 06:50:00</td>\n",
       "      <td>7282.971495</td>\n",
       "      <td>7760.8145</td>\n",
       "      <td>8077.071999</td>\n",
       "      <td>0.938429</td>\n",
       "      <td>0.901685</td>\n",
       "    </tr>\n",
       "    <tr>\n",
       "      <td>2016-12-10 07:00:00</td>\n",
       "      <td>7283.010746</td>\n",
       "      <td>7750.1270</td>\n",
       "      <td>8042.084577</td>\n",
       "      <td>0.939728</td>\n",
       "      <td>0.905612</td>\n",
       "    </tr>\n",
       "    <tr>\n",
       "      <td>2016-12-10 07:10:00</td>\n",
       "      <td>7283.057739</td>\n",
       "      <td>8307.5700</td>\n",
       "      <td>8078.626444</td>\n",
       "      <td>0.876677</td>\n",
       "      <td>0.901522</td>\n",
       "    </tr>\n",
       "    <tr>\n",
       "      <td>2016-12-10 07:20:00</td>\n",
       "      <td>7283.172617</td>\n",
       "      <td>8512.8730</td>\n",
       "      <td>8092.757247</td>\n",
       "      <td>0.855548</td>\n",
       "      <td>0.899962</td>\n",
       "    </tr>\n",
       "    <tr>\n",
       "      <td>2016-12-10 07:30:00</td>\n",
       "      <td>7283.275878</td>\n",
       "      <td>8637.8710</td>\n",
       "      <td>8042.634834</td>\n",
       "      <td>0.843180</td>\n",
       "      <td>0.905583</td>\n",
       "    </tr>\n",
       "  </tbody>\n",
       "</table>\n",
       "</div>"
      ],
      "text/plain": [
       "                            0619  0997_real    0997_pred   單耗_real   單耗_pred\n",
       "2016-12-10 06:50:00  7282.971495  7760.8145  8077.071999  0.938429  0.901685\n",
       "2016-12-10 07:00:00  7283.010746  7750.1270  8042.084577  0.939728  0.905612\n",
       "2016-12-10 07:10:00  7283.057739  8307.5700  8078.626444  0.876677  0.901522\n",
       "2016-12-10 07:20:00  7283.172617  8512.8730  8092.757247  0.855548  0.899962\n",
       "2016-12-10 07:30:00  7283.275878  8637.8710  8042.634834  0.843180  0.905583"
      ]
     },
     "execution_count": 35,
     "metadata": {},
     "output_type": "execute_result"
    }
   ],
   "source": [
    "t2.head()"
   ]
  },
  {
   "cell_type": "markdown",
   "metadata": {},
   "source": [
    "# make prediction(test)"
   ]
  },
  {
   "cell_type": "code",
   "execution_count": 36,
   "metadata": {},
   "outputs": [
    {
     "data": {
      "text/html": [
       "<div>\n",
       "<style scoped>\n",
       "    .dataframe tbody tr th:only-of-type {\n",
       "        vertical-align: middle;\n",
       "    }\n",
       "\n",
       "    .dataframe tbody tr th {\n",
       "        vertical-align: top;\n",
       "    }\n",
       "\n",
       "    .dataframe thead th {\n",
       "        text-align: right;\n",
       "    }\n",
       "</style>\n",
       "<table border=\"1\" class=\"dataframe\">\n",
       "  <thead>\n",
       "    <tr style=\"text-align: right;\">\n",
       "      <th></th>\n",
       "      <th>單耗RMSE</th>\n",
       "      <th>單耗MAPE</th>\n",
       "    </tr>\n",
       "  </thead>\n",
       "  <tbody>\n",
       "    <tr>\n",
       "      <td>test</td>\n",
       "      <td>0.007871</td>\n",
       "      <td>0.621174</td>\n",
       "    </tr>\n",
       "  </tbody>\n",
       "</table>\n",
       "</div>"
      ],
      "text/plain": [
       "        單耗RMSE    單耗MAPE\n",
       "test  0.007871  0.621174"
      ]
     },
     "execution_count": 36,
     "metadata": {},
     "output_type": "execute_result"
    }
   ],
   "source": [
    "t3,m3 = show_result(X_test,Y_test,idx[sp2:],'test')\n",
    "m3.head()"
   ]
  },
  {
   "cell_type": "code",
   "execution_count": 37,
   "metadata": {},
   "outputs": [
    {
     "data": {
      "text/html": [
       "<div>\n",
       "<style scoped>\n",
       "    .dataframe tbody tr th:only-of-type {\n",
       "        vertical-align: middle;\n",
       "    }\n",
       "\n",
       "    .dataframe tbody tr th {\n",
       "        vertical-align: top;\n",
       "    }\n",
       "\n",
       "    .dataframe thead th {\n",
       "        text-align: right;\n",
       "    }\n",
       "</style>\n",
       "<table border=\"1\" class=\"dataframe\">\n",
       "  <thead>\n",
       "    <tr style=\"text-align: right;\">\n",
       "      <th></th>\n",
       "      <th>0619</th>\n",
       "      <th>0997_real</th>\n",
       "      <th>0997_pred</th>\n",
       "      <th>單耗_real</th>\n",
       "      <th>單耗_pred</th>\n",
       "    </tr>\n",
       "  </thead>\n",
       "  <tbody>\n",
       "    <tr>\n",
       "      <td>2017-01-14 18:50:00</td>\n",
       "      <td>7241.010434</td>\n",
       "      <td>8058.298</td>\n",
       "      <td>8040.429168</td>\n",
       "      <td>0.898578</td>\n",
       "      <td>0.900575</td>\n",
       "    </tr>\n",
       "    <tr>\n",
       "      <td>2017-01-14 19:00:00</td>\n",
       "      <td>7240.339641</td>\n",
       "      <td>8046.707</td>\n",
       "      <td>8063.480970</td>\n",
       "      <td>0.899789</td>\n",
       "      <td>0.897917</td>\n",
       "    </tr>\n",
       "    <tr>\n",
       "      <td>2017-01-14 19:10:00</td>\n",
       "      <td>7239.697924</td>\n",
       "      <td>8040.409</td>\n",
       "      <td>8052.118615</td>\n",
       "      <td>0.900414</td>\n",
       "      <td>0.899105</td>\n",
       "    </tr>\n",
       "    <tr>\n",
       "      <td>2017-01-14 19:20:00</td>\n",
       "      <td>7239.238110</td>\n",
       "      <td>8042.686</td>\n",
       "      <td>8034.255427</td>\n",
       "      <td>0.900102</td>\n",
       "      <td>0.901047</td>\n",
       "    </tr>\n",
       "    <tr>\n",
       "      <td>2017-01-14 19:30:00</td>\n",
       "      <td>7238.752402</td>\n",
       "      <td>8054.201</td>\n",
       "      <td>8041.495691</td>\n",
       "      <td>0.898755</td>\n",
       "      <td>0.900175</td>\n",
       "    </tr>\n",
       "  </tbody>\n",
       "</table>\n",
       "</div>"
      ],
      "text/plain": [
       "                            0619  0997_real    0997_pred   單耗_real   單耗_pred\n",
       "2017-01-14 18:50:00  7241.010434   8058.298  8040.429168  0.898578  0.900575\n",
       "2017-01-14 19:00:00  7240.339641   8046.707  8063.480970  0.899789  0.897917\n",
       "2017-01-14 19:10:00  7239.697924   8040.409  8052.118615  0.900414  0.899105\n",
       "2017-01-14 19:20:00  7239.238110   8042.686  8034.255427  0.900102  0.901047\n",
       "2017-01-14 19:30:00  7238.752402   8054.201  8041.495691  0.898755  0.900175"
      ]
     },
     "execution_count": 37,
     "metadata": {},
     "output_type": "execute_result"
    }
   ],
   "source": [
    "t3.head()"
   ]
  },
  {
   "cell_type": "code",
   "execution_count": 38,
   "metadata": {},
   "outputs": [
    {
     "data": {
      "text/plain": [
       "2016-06-20 00:00:00    7737.955729\n",
       "2016-06-20 00:10:00    7765.382543\n",
       "2016-06-20 00:20:00    7741.909171\n",
       "2016-06-20 00:30:00    7747.413208\n",
       "2016-06-20 00:40:00    7778.042125\n",
       "Name: 0997_pred, dtype: float64"
      ]
     },
     "execution_count": 38,
     "metadata": {},
     "output_type": "execute_result"
    }
   ],
   "source": [
    "pred_0997_all = t1.append(t2).append(t3)['0997_pred']\n",
    "pred_0997_all.head()"
   ]
  },
  {
   "cell_type": "code",
   "execution_count": 39,
   "metadata": {},
   "outputs": [
    {
     "name": "stdout",
     "output_type": "stream",
     "text": [
      "save done\n"
     ]
    }
   ],
   "source": [
    "pred_0997_all.to_csv('./data/pred_0997_all.csv')\n",
    "print('save done')"
   ]
  },
  {
   "cell_type": "code",
   "execution_count": null,
   "metadata": {},
   "outputs": [],
   "source": []
  },
  {
   "cell_type": "code",
   "execution_count": null,
   "metadata": {},
   "outputs": [],
   "source": []
  },
  {
   "cell_type": "code",
   "execution_count": null,
   "metadata": {},
   "outputs": [],
   "source": []
  },
  {
   "cell_type": "code",
   "execution_count": null,
   "metadata": {},
   "outputs": [],
   "source": []
  },
  {
   "cell_type": "code",
   "execution_count": null,
   "metadata": {},
   "outputs": [],
   "source": []
  }
 ],
 "metadata": {
  "kernelspec": {
   "display_name": "Python 3",
   "language": "python",
   "name": "python3"
  },
  "language_info": {
   "codemirror_mode": {
    "name": "ipython",
    "version": 3
   },
   "file_extension": ".py",
   "mimetype": "text/x-python",
   "name": "python",
   "nbconvert_exporter": "python",
   "pygments_lexer": "ipython3",
   "version": "3.7.4"
  }
 },
 "nbformat": 4,
 "nbformat_minor": 2
}
