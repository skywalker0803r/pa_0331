{
 "cells": [
  {
   "cell_type": "code",
   "execution_count": 1,
   "metadata": {},
   "outputs": [
    {
     "data": {
      "text/plain": [
       "['PA_201605-2012001更新R7(20200323).xlsx',\n",
       " 'pred_0997_all.csv',\n",
       " 'tag盤點表20200323.xlsx',\n",
       " 'tag盤點表_cleaned.csv',\n",
       " 'train_cleaned.csv',\n",
       " 'train_preprocessed']"
      ]
     },
     "execution_count": 1,
     "metadata": {},
     "output_type": "execute_result"
    }
   ],
   "source": [
    "import pandas as pd\n",
    "import numpy as np\n",
    "import warnings \n",
    "warnings.simplefilter('ignore')\n",
    "import torchviz\n",
    "import seaborn as sns\n",
    "import matplotlib.pyplot as plt\n",
    "from tqdm import tqdm_notebook as tqdm\n",
    "from torch.utils.tensorboard import SummaryWriter\n",
    "import torch\n",
    "import torch.nn as nn\n",
    "import torch.utils.data as Data\n",
    "import torchvision\n",
    "import joblib\n",
    "import os\n",
    "from sklearn.preprocessing import StandardScaler\n",
    "import time\n",
    "def get_col(df,name):\n",
    "    return df.columns[df.columns.str.contains(name)].tolist()\n",
    "os.listdir('./data')"
   ]
  },
  {
   "cell_type": "code",
   "execution_count": 2,
   "metadata": {},
   "outputs": [],
   "source": [
    "tag = pd.read_csv('./data/tag盤點表_cleaned.csv',index_col=0)\n",
    "tag = tag.loc[tag.category=='可控制因子']"
   ]
  },
  {
   "cell_type": "markdown",
   "metadata": {},
   "source": [
    "# load X,y"
   ]
  },
  {
   "cell_type": "code",
   "execution_count": 3,
   "metadata": {},
   "outputs": [],
   "source": [
    "# 2016-05 : 2017-02-17 第一段"
   ]
  },
  {
   "cell_type": "code",
   "execution_count": 4,
   "metadata": {},
   "outputs": [
    {
     "data": {
      "text/html": [
       "<div>\n",
       "<style scoped>\n",
       "    .dataframe tbody tr th:only-of-type {\n",
       "        vertical-align: middle;\n",
       "    }\n",
       "\n",
       "    .dataframe tbody tr th {\n",
       "        vertical-align: top;\n",
       "    }\n",
       "\n",
       "    .dataframe thead th {\n",
       "        text-align: right;\n",
       "    }\n",
       "</style>\n",
       "<table border=\"1\" class=\"dataframe\">\n",
       "  <thead>\n",
       "    <tr style=\"text-align: right;\">\n",
       "      <th></th>\n",
       "      <th>0</th>\n",
       "      <th>1</th>\n",
       "      <th>2</th>\n",
       "      <th>3</th>\n",
       "      <th>4</th>\n",
       "      <th>5</th>\n",
       "      <th>6</th>\n",
       "      <th>7</th>\n",
       "      <th>8</th>\n",
       "      <th>9</th>\n",
       "      <th>...</th>\n",
       "      <th>509</th>\n",
       "      <th>510</th>\n",
       "      <th>511</th>\n",
       "      <th>512</th>\n",
       "      <th>513</th>\n",
       "      <th>514</th>\n",
       "      <th>515</th>\n",
       "      <th>516</th>\n",
       "      <th>517</th>\n",
       "      <th>0997_real</th>\n",
       "    </tr>\n",
       "  </thead>\n",
       "  <tbody>\n",
       "    <tr>\n",
       "      <td>2016-06-01 02:20:00</td>\n",
       "      <td>5695.2363</td>\n",
       "      <td>85.352490</td>\n",
       "      <td>36.090110</td>\n",
       "      <td>34.696857</td>\n",
       "      <td>49.382782</td>\n",
       "      <td>362.26434</td>\n",
       "      <td>144.97864</td>\n",
       "      <td>2.442607</td>\n",
       "      <td>361.02557</td>\n",
       "      <td>60.061237</td>\n",
       "      <td>...</td>\n",
       "      <td>362.24190</td>\n",
       "      <td>145.08502</td>\n",
       "      <td>2.402832</td>\n",
       "      <td>361.04126</td>\n",
       "      <td>61.009296</td>\n",
       "      <td>184.70750</td>\n",
       "      <td>180.05136</td>\n",
       "      <td>364.76276</td>\n",
       "      <td>182.63521</td>\n",
       "      <td>6439.8774</td>\n",
       "    </tr>\n",
       "    <tr>\n",
       "      <td>2016-06-01 02:30:00</td>\n",
       "      <td>5709.7036</td>\n",
       "      <td>85.653360</td>\n",
       "      <td>35.959490</td>\n",
       "      <td>35.388890</td>\n",
       "      <td>49.400085</td>\n",
       "      <td>362.33936</td>\n",
       "      <td>144.83496</td>\n",
       "      <td>2.486111</td>\n",
       "      <td>361.09380</td>\n",
       "      <td>60.353172</td>\n",
       "      <td>...</td>\n",
       "      <td>362.15997</td>\n",
       "      <td>144.98183</td>\n",
       "      <td>2.287988</td>\n",
       "      <td>361.01490</td>\n",
       "      <td>60.147133</td>\n",
       "      <td>184.69267</td>\n",
       "      <td>179.98978</td>\n",
       "      <td>364.76007</td>\n",
       "      <td>182.65807</td>\n",
       "      <td>6459.6940</td>\n",
       "    </tr>\n",
       "    <tr>\n",
       "      <td>2016-06-01 02:40:00</td>\n",
       "      <td>5687.0700</td>\n",
       "      <td>85.301930</td>\n",
       "      <td>36.018215</td>\n",
       "      <td>34.879738</td>\n",
       "      <td>49.394993</td>\n",
       "      <td>362.22006</td>\n",
       "      <td>145.24248</td>\n",
       "      <td>2.369419</td>\n",
       "      <td>361.02510</td>\n",
       "      <td>61.337530</td>\n",
       "      <td>...</td>\n",
       "      <td>362.18622</td>\n",
       "      <td>144.94327</td>\n",
       "      <td>2.347922</td>\n",
       "      <td>361.01324</td>\n",
       "      <td>60.350594</td>\n",
       "      <td>184.75967</td>\n",
       "      <td>180.01015</td>\n",
       "      <td>364.79498</td>\n",
       "      <td>179.32439</td>\n",
       "      <td>6467.7600</td>\n",
       "    </tr>\n",
       "    <tr>\n",
       "      <td>2016-06-01 02:50:00</td>\n",
       "      <td>5689.3900</td>\n",
       "      <td>85.273994</td>\n",
       "      <td>35.984818</td>\n",
       "      <td>35.051820</td>\n",
       "      <td>49.394978</td>\n",
       "      <td>362.19617</td>\n",
       "      <td>145.12143</td>\n",
       "      <td>2.425157</td>\n",
       "      <td>360.96103</td>\n",
       "      <td>60.153100</td>\n",
       "      <td>...</td>\n",
       "      <td>362.19500</td>\n",
       "      <td>145.05249</td>\n",
       "      <td>2.342792</td>\n",
       "      <td>361.01670</td>\n",
       "      <td>60.989777</td>\n",
       "      <td>184.67749</td>\n",
       "      <td>180.01030</td>\n",
       "      <td>364.68997</td>\n",
       "      <td>181.94745</td>\n",
       "      <td>6450.8740</td>\n",
       "    </tr>\n",
       "    <tr>\n",
       "      <td>2016-06-01 03:00:00</td>\n",
       "      <td>5695.1797</td>\n",
       "      <td>85.347840</td>\n",
       "      <td>36.002686</td>\n",
       "      <td>34.899242</td>\n",
       "      <td>49.394980</td>\n",
       "      <td>362.21060</td>\n",
       "      <td>144.92728</td>\n",
       "      <td>2.340548</td>\n",
       "      <td>361.02005</td>\n",
       "      <td>60.312088</td>\n",
       "      <td>...</td>\n",
       "      <td>362.24260</td>\n",
       "      <td>144.96265</td>\n",
       "      <td>2.392348</td>\n",
       "      <td>361.03952</td>\n",
       "      <td>60.260216</td>\n",
       "      <td>184.69803</td>\n",
       "      <td>179.80000</td>\n",
       "      <td>364.90765</td>\n",
       "      <td>182.75210</td>\n",
       "      <td>6443.6900</td>\n",
       "    </tr>\n",
       "  </tbody>\n",
       "</table>\n",
       "<p>5 rows × 519 columns</p>\n",
       "</div>"
      ],
      "text/plain": [
       "                             0          1          2          3          4  \\\n",
       "2016-06-01 02:20:00  5695.2363  85.352490  36.090110  34.696857  49.382782   \n",
       "2016-06-01 02:30:00  5709.7036  85.653360  35.959490  35.388890  49.400085   \n",
       "2016-06-01 02:40:00  5687.0700  85.301930  36.018215  34.879738  49.394993   \n",
       "2016-06-01 02:50:00  5689.3900  85.273994  35.984818  35.051820  49.394978   \n",
       "2016-06-01 03:00:00  5695.1797  85.347840  36.002686  34.899242  49.394980   \n",
       "\n",
       "                             5          6         7          8          9  \\\n",
       "2016-06-01 02:20:00  362.26434  144.97864  2.442607  361.02557  60.061237   \n",
       "2016-06-01 02:30:00  362.33936  144.83496  2.486111  361.09380  60.353172   \n",
       "2016-06-01 02:40:00  362.22006  145.24248  2.369419  361.02510  61.337530   \n",
       "2016-06-01 02:50:00  362.19617  145.12143  2.425157  360.96103  60.153100   \n",
       "2016-06-01 03:00:00  362.21060  144.92728  2.340548  361.02005  60.312088   \n",
       "\n",
       "                     ...        509        510       511        512  \\\n",
       "2016-06-01 02:20:00  ...  362.24190  145.08502  2.402832  361.04126   \n",
       "2016-06-01 02:30:00  ...  362.15997  144.98183  2.287988  361.01490   \n",
       "2016-06-01 02:40:00  ...  362.18622  144.94327  2.347922  361.01324   \n",
       "2016-06-01 02:50:00  ...  362.19500  145.05249  2.342792  361.01670   \n",
       "2016-06-01 03:00:00  ...  362.24260  144.96265  2.392348  361.03952   \n",
       "\n",
       "                           513        514        515        516        517  \\\n",
       "2016-06-01 02:20:00  61.009296  184.70750  180.05136  364.76276  182.63521   \n",
       "2016-06-01 02:30:00  60.147133  184.69267  179.98978  364.76007  182.65807   \n",
       "2016-06-01 02:40:00  60.350594  184.75967  180.01015  364.79498  179.32439   \n",
       "2016-06-01 02:50:00  60.989777  184.67749  180.01030  364.68997  181.94745   \n",
       "2016-06-01 03:00:00  60.260216  184.69803  179.80000  364.90765  182.75210   \n",
       "\n",
       "                     0997_real  \n",
       "2016-06-01 02:20:00  6439.8774  \n",
       "2016-06-01 02:30:00  6459.6940  \n",
       "2016-06-01 02:40:00  6467.7600  \n",
       "2016-06-01 02:50:00  6450.8740  \n",
       "2016-06-01 03:00:00  6443.6900  \n",
       "\n",
       "[5 rows x 519 columns]"
      ]
     },
     "execution_count": 4,
     "metadata": {},
     "output_type": "execute_result"
    }
   ],
   "source": [
    "data = joblib.load('./data/train_preprocessed')\n",
    "X = data['X']\n",
    "Y = data['Y']\n",
    "x_col = data['x_col']\n",
    "y_col = data['y_col']\n",
    "idx = data['idx']\n",
    "# build df\n",
    "df = pd.DataFrame(X,index=idx)\n",
    "df['0997_real'] = Y\n",
    "df.head()"
   ]
  },
  {
   "cell_type": "markdown",
   "metadata": {},
   "source": [
    "# select data range"
   ]
  },
  {
   "cell_type": "code",
   "execution_count": 5,
   "metadata": {},
   "outputs": [
    {
     "data": {
      "text/html": [
       "<div>\n",
       "<style scoped>\n",
       "    .dataframe tbody tr th:only-of-type {\n",
       "        vertical-align: middle;\n",
       "    }\n",
       "\n",
       "    .dataframe tbody tr th {\n",
       "        vertical-align: top;\n",
       "    }\n",
       "\n",
       "    .dataframe thead th {\n",
       "        text-align: right;\n",
       "    }\n",
       "</style>\n",
       "<table border=\"1\" class=\"dataframe\">\n",
       "  <thead>\n",
       "    <tr style=\"text-align: right;\">\n",
       "      <th></th>\n",
       "      <th>0</th>\n",
       "      <th>1</th>\n",
       "      <th>2</th>\n",
       "      <th>3</th>\n",
       "      <th>4</th>\n",
       "      <th>5</th>\n",
       "      <th>6</th>\n",
       "      <th>7</th>\n",
       "      <th>8</th>\n",
       "      <th>9</th>\n",
       "      <th>...</th>\n",
       "      <th>509</th>\n",
       "      <th>510</th>\n",
       "      <th>511</th>\n",
       "      <th>512</th>\n",
       "      <th>513</th>\n",
       "      <th>514</th>\n",
       "      <th>515</th>\n",
       "      <th>516</th>\n",
       "      <th>517</th>\n",
       "      <th>0997_real</th>\n",
       "    </tr>\n",
       "  </thead>\n",
       "  <tbody>\n",
       "    <tr>\n",
       "      <td>2016-06-01 02:20:00</td>\n",
       "      <td>5695.2363</td>\n",
       "      <td>85.352490</td>\n",
       "      <td>36.090110</td>\n",
       "      <td>34.696857</td>\n",
       "      <td>49.382782</td>\n",
       "      <td>362.26434</td>\n",
       "      <td>144.97864</td>\n",
       "      <td>2.442607</td>\n",
       "      <td>361.02557</td>\n",
       "      <td>60.061237</td>\n",
       "      <td>...</td>\n",
       "      <td>362.24190</td>\n",
       "      <td>145.08502</td>\n",
       "      <td>2.402832</td>\n",
       "      <td>361.04126</td>\n",
       "      <td>61.009296</td>\n",
       "      <td>184.70750</td>\n",
       "      <td>180.05136</td>\n",
       "      <td>364.76276</td>\n",
       "      <td>182.63521</td>\n",
       "      <td>6439.8774</td>\n",
       "    </tr>\n",
       "    <tr>\n",
       "      <td>2016-06-01 02:30:00</td>\n",
       "      <td>5709.7036</td>\n",
       "      <td>85.653360</td>\n",
       "      <td>35.959490</td>\n",
       "      <td>35.388890</td>\n",
       "      <td>49.400085</td>\n",
       "      <td>362.33936</td>\n",
       "      <td>144.83496</td>\n",
       "      <td>2.486111</td>\n",
       "      <td>361.09380</td>\n",
       "      <td>60.353172</td>\n",
       "      <td>...</td>\n",
       "      <td>362.15997</td>\n",
       "      <td>144.98183</td>\n",
       "      <td>2.287988</td>\n",
       "      <td>361.01490</td>\n",
       "      <td>60.147133</td>\n",
       "      <td>184.69267</td>\n",
       "      <td>179.98978</td>\n",
       "      <td>364.76007</td>\n",
       "      <td>182.65807</td>\n",
       "      <td>6459.6940</td>\n",
       "    </tr>\n",
       "    <tr>\n",
       "      <td>2016-06-01 02:40:00</td>\n",
       "      <td>5687.0700</td>\n",
       "      <td>85.301930</td>\n",
       "      <td>36.018215</td>\n",
       "      <td>34.879738</td>\n",
       "      <td>49.394993</td>\n",
       "      <td>362.22006</td>\n",
       "      <td>145.24248</td>\n",
       "      <td>2.369419</td>\n",
       "      <td>361.02510</td>\n",
       "      <td>61.337530</td>\n",
       "      <td>...</td>\n",
       "      <td>362.18622</td>\n",
       "      <td>144.94327</td>\n",
       "      <td>2.347922</td>\n",
       "      <td>361.01324</td>\n",
       "      <td>60.350594</td>\n",
       "      <td>184.75967</td>\n",
       "      <td>180.01015</td>\n",
       "      <td>364.79498</td>\n",
       "      <td>179.32439</td>\n",
       "      <td>6467.7600</td>\n",
       "    </tr>\n",
       "    <tr>\n",
       "      <td>2017-02-17 06:00:00</td>\n",
       "      <td>7306.1675</td>\n",
       "      <td>76.976906</td>\n",
       "      <td>35.855827</td>\n",
       "      <td>34.771680</td>\n",
       "      <td>49.489944</td>\n",
       "      <td>346.97110</td>\n",
       "      <td>146.52061</td>\n",
       "      <td>1.665420</td>\n",
       "      <td>346.13565</td>\n",
       "      <td>60.293194</td>\n",
       "      <td>...</td>\n",
       "      <td>346.95000</td>\n",
       "      <td>146.57059</td>\n",
       "      <td>1.660524</td>\n",
       "      <td>346.11940</td>\n",
       "      <td>60.531060</td>\n",
       "      <td>181.40356</td>\n",
       "      <td>171.90000</td>\n",
       "      <td>351.18213</td>\n",
       "      <td>177.66031</td>\n",
       "      <td>8041.7900</td>\n",
       "    </tr>\n",
       "    <tr>\n",
       "      <td>2017-02-17 06:10:00</td>\n",
       "      <td>7311.0150</td>\n",
       "      <td>77.024400</td>\n",
       "      <td>36.149185</td>\n",
       "      <td>34.781406</td>\n",
       "      <td>49.500084</td>\n",
       "      <td>346.94608</td>\n",
       "      <td>146.55403</td>\n",
       "      <td>1.605125</td>\n",
       "      <td>346.13104</td>\n",
       "      <td>60.636740</td>\n",
       "      <td>...</td>\n",
       "      <td>346.66315</td>\n",
       "      <td>146.53949</td>\n",
       "      <td>1.471631</td>\n",
       "      <td>345.91745</td>\n",
       "      <td>60.654694</td>\n",
       "      <td>181.55270</td>\n",
       "      <td>171.80660</td>\n",
       "      <td>351.08212</td>\n",
       "      <td>174.84160</td>\n",
       "      <td>8039.3890</td>\n",
       "    </tr>\n",
       "    <tr>\n",
       "      <td>2017-02-17 06:20:00</td>\n",
       "      <td>7317.4663</td>\n",
       "      <td>77.056725</td>\n",
       "      <td>35.699017</td>\n",
       "      <td>35.596460</td>\n",
       "      <td>49.492065</td>\n",
       "      <td>347.00330</td>\n",
       "      <td>146.23785</td>\n",
       "      <td>1.693551</td>\n",
       "      <td>346.15933</td>\n",
       "      <td>60.640736</td>\n",
       "      <td>...</td>\n",
       "      <td>345.78055</td>\n",
       "      <td>146.76909</td>\n",
       "      <td>0.466979</td>\n",
       "      <td>345.54070</td>\n",
       "      <td>60.545030</td>\n",
       "      <td>182.09363</td>\n",
       "      <td>171.79341</td>\n",
       "      <td>350.99005</td>\n",
       "      <td>178.14595</td>\n",
       "      <td>8021.1885</td>\n",
       "    </tr>\n",
       "  </tbody>\n",
       "</table>\n",
       "<p>6 rows × 519 columns</p>\n",
       "</div>"
      ],
      "text/plain": [
       "                             0          1          2          3          4  \\\n",
       "2016-06-01 02:20:00  5695.2363  85.352490  36.090110  34.696857  49.382782   \n",
       "2016-06-01 02:30:00  5709.7036  85.653360  35.959490  35.388890  49.400085   \n",
       "2016-06-01 02:40:00  5687.0700  85.301930  36.018215  34.879738  49.394993   \n",
       "2017-02-17 06:00:00  7306.1675  76.976906  35.855827  34.771680  49.489944   \n",
       "2017-02-17 06:10:00  7311.0150  77.024400  36.149185  34.781406  49.500084   \n",
       "2017-02-17 06:20:00  7317.4663  77.056725  35.699017  35.596460  49.492065   \n",
       "\n",
       "                             5          6         7          8          9  \\\n",
       "2016-06-01 02:20:00  362.26434  144.97864  2.442607  361.02557  60.061237   \n",
       "2016-06-01 02:30:00  362.33936  144.83496  2.486111  361.09380  60.353172   \n",
       "2016-06-01 02:40:00  362.22006  145.24248  2.369419  361.02510  61.337530   \n",
       "2017-02-17 06:00:00  346.97110  146.52061  1.665420  346.13565  60.293194   \n",
       "2017-02-17 06:10:00  346.94608  146.55403  1.605125  346.13104  60.636740   \n",
       "2017-02-17 06:20:00  347.00330  146.23785  1.693551  346.15933  60.640736   \n",
       "\n",
       "                     ...        509        510       511        512  \\\n",
       "2016-06-01 02:20:00  ...  362.24190  145.08502  2.402832  361.04126   \n",
       "2016-06-01 02:30:00  ...  362.15997  144.98183  2.287988  361.01490   \n",
       "2016-06-01 02:40:00  ...  362.18622  144.94327  2.347922  361.01324   \n",
       "2017-02-17 06:00:00  ...  346.95000  146.57059  1.660524  346.11940   \n",
       "2017-02-17 06:10:00  ...  346.66315  146.53949  1.471631  345.91745   \n",
       "2017-02-17 06:20:00  ...  345.78055  146.76909  0.466979  345.54070   \n",
       "\n",
       "                           513        514        515        516        517  \\\n",
       "2016-06-01 02:20:00  61.009296  184.70750  180.05136  364.76276  182.63521   \n",
       "2016-06-01 02:30:00  60.147133  184.69267  179.98978  364.76007  182.65807   \n",
       "2016-06-01 02:40:00  60.350594  184.75967  180.01015  364.79498  179.32439   \n",
       "2017-02-17 06:00:00  60.531060  181.40356  171.90000  351.18213  177.66031   \n",
       "2017-02-17 06:10:00  60.654694  181.55270  171.80660  351.08212  174.84160   \n",
       "2017-02-17 06:20:00  60.545030  182.09363  171.79341  350.99005  178.14595   \n",
       "\n",
       "                     0997_real  \n",
       "2016-06-01 02:20:00  6439.8774  \n",
       "2016-06-01 02:30:00  6459.6940  \n",
       "2016-06-01 02:40:00  6467.7600  \n",
       "2017-02-17 06:00:00  8041.7900  \n",
       "2017-02-17 06:10:00  8039.3890  \n",
       "2017-02-17 06:20:00  8021.1885  \n",
       "\n",
       "[6 rows x 519 columns]"
      ]
     },
     "execution_count": 5,
     "metadata": {},
     "output_type": "execute_result"
    }
   ],
   "source": [
    "df = df.loc['2016-05':'2017-02-17']\n",
    "idx = df.index\n",
    "df.head(3).append(df.tail(3))"
   ]
  },
  {
   "cell_type": "markdown",
   "metadata": {},
   "source": [
    "# split train test"
   ]
  },
  {
   "cell_type": "code",
   "execution_count": 6,
   "metadata": {},
   "outputs": [],
   "source": [
    "X = df.iloc[:,:-1]\n",
    "Y = df.iloc[:,-1:]"
   ]
  },
  {
   "cell_type": "code",
   "execution_count": 7,
   "metadata": {},
   "outputs": [
    {
     "name": "stdout",
     "output_type": "stream",
     "text": [
      "(23946, 518)\n",
      "(23946, 1)\n",
      "(5131, 518)\n",
      "(5131, 1)\n",
      "(5132, 518)\n",
      "(5132, 1)\n"
     ]
    }
   ],
   "source": [
    "sp1 = int(len(X)*0.7)\n",
    "sp2 = int(len(X)*0.85)\n",
    "X_train,X_valid,X_test = X[:sp1],X[sp1:sp2],X[sp2:]\n",
    "Y_train,Y_valid,Y_test = Y[:sp1],Y[sp1:sp2],Y[sp2:]\n",
    "print(X_train.shape)\n",
    "print(Y_train.shape)\n",
    "print(X_valid.shape)\n",
    "print(Y_valid.shape)\n",
    "print(X_test.shape)\n",
    "print(Y_test.shape)"
   ]
  },
  {
   "cell_type": "markdown",
   "metadata": {},
   "source": [
    "# plot"
   ]
  },
  {
   "cell_type": "code",
   "execution_count": 8,
   "metadata": {},
   "outputs": [],
   "source": [
    "t1 = df.iloc[[sp1]].index[0]\n",
    "t2 = df.iloc[[sp2]].index[0]"
   ]
  },
  {
   "cell_type": "code",
   "execution_count": 9,
   "metadata": {},
   "outputs": [
    {
     "data": {
      "image/png": "[encoded data removed]",
      "text/plain": [
       "<Figure size 432x288 with 1 Axes>"
      ]
     },
     "metadata": {
      "needs_background": "light"
     },
     "output_type": "display_data"
    }
   ],
   "source": [
    "df['0997_real'].plot(label='train')\n",
    "df['0997_real'][(df.index > t1)&(df.index < t2)].plot(color = 'red',label='valid')\n",
    "df['0997_real'][(df.index > t2)].plot(color = 'orange',label='test')\n",
    "plt.legend()\n",
    "plt.show()"
   ]
  },
  {
   "cell_type": "markdown",
   "metadata": {},
   "source": [
    "# MinMaxScaler"
   ]
  },
  {
   "cell_type": "code",
   "execution_count": 10,
   "metadata": {},
   "outputs": [],
   "source": [
    "from sklearn.preprocessing import MinMaxScaler\n",
    "mm_x = MinMaxScaler().fit(X)\n",
    "mm_y = MinMaxScaler().fit(Y)"
   ]
  },
  {
   "cell_type": "code",
   "execution_count": 11,
   "metadata": {},
   "outputs": [
    {
     "name": "stdout",
     "output_type": "stream",
     "text": [
      "save done!\n"
     ]
    }
   ],
   "source": [
    "joblib.dump(mm_x,'./model/mm_x.pkl')\n",
    "joblib.dump(mm_y,'./model/mm_y.pkl')\n",
    "print('save done!')"
   ]
  },
  {
   "cell_type": "markdown",
   "metadata": {},
   "source": [
    "# scale "
   ]
  },
  {
   "cell_type": "code",
   "execution_count": 12,
   "metadata": {},
   "outputs": [],
   "source": [
    "X_train = mm_x.transform(X_train)\n",
    "X_valid = mm_x.transform(X_valid)\n",
    "X_test = mm_x.transform(X_test)\n",
    "\n",
    "Y_train = mm_y.transform(Y_train)\n",
    "Y_valid = mm_y.transform(Y_valid)\n",
    "Y_test = mm_y.transform(Y_test)"
   ]
  },
  {
   "cell_type": "markdown",
   "metadata": {},
   "source": [
    "# torch tensor"
   ]
  },
  {
   "cell_type": "code",
   "execution_count": 13,
   "metadata": {},
   "outputs": [],
   "source": [
    "import torch\n",
    "\n",
    "X_train = torch.tensor(X_train).cuda()\n",
    "X_test = torch.tensor(X_test).cuda()\n",
    "\n",
    "X_valid = torch.tensor(X_valid).cuda()\n",
    "Y_valid = torch.tensor(Y_valid).cuda()\n",
    "\n",
    "Y_train = torch.tensor(Y_train).cuda()\n",
    "Y_test = torch.tensor(Y_test).cuda()"
   ]
  },
  {
   "cell_type": "markdown",
   "metadata": {},
   "source": [
    "# data_iter"
   ]
  },
  {
   "cell_type": "code",
   "execution_count": 14,
   "metadata": {},
   "outputs": [],
   "source": [
    "train = torch.utils.data.TensorDataset(X_train, Y_train)\n",
    "valid = torch.utils.data.TensorDataset(X_valid, Y_valid)\n",
    "train_iter = torch.utils.data.DataLoader(train, batch_size=256, shuffle=True)\n",
    "valid_iter = torch.utils.data.DataLoader(valid, batch_size=256, shuffle=True)"
   ]
  },
  {
   "cell_type": "markdown",
   "metadata": {},
   "source": [
    "# Construct the neural network"
   ]
  },
  {
   "cell_type": "code",
   "execution_count": 15,
   "metadata": {},
   "outputs": [],
   "source": [
    "class Net(nn.Module):\n",
    "    def __init__(self,input_shape,output_shape):\n",
    "        super(Net,self).__init__()\n",
    "        self.fc = nn.Sequential(\n",
    "            nn.Linear(input_shape,128),nn.Tanh(),\n",
    "            nn.Linear(128,128),nn.Tanh(),\n",
    "            nn.Dropout(0.25),\n",
    "            nn.Linear(128,output_shape),\n",
    "            nn.Sigmoid(),# 將range限縮在[0,1]\n",
    "        )\n",
    "\n",
    "    def forward(self, x):\n",
    "        return self.fc(x)"
   ]
  },
  {
   "cell_type": "code",
   "execution_count": 16,
   "metadata": {},
   "outputs": [],
   "source": [
    "def init_weights(m):\n",
    "    if hasattr(m,'weight'):\n",
    "        torch.nn.init.xavier_uniform(m.weight)\n",
    "    if hasattr(m,'bias'):\n",
    "        m.bias.data.fill_(0)"
   ]
  },
  {
   "cell_type": "code",
   "execution_count": 17,
   "metadata": {},
   "outputs": [
    {
     "data": {
      "text/plain": [
       "Net(\n",
       "  (fc): Sequential(\n",
       "    (0): Linear(in_features=518, out_features=128, bias=True)\n",
       "    (1): Tanh()\n",
       "    (2): Linear(in_features=128, out_features=128, bias=True)\n",
       "    (3): Tanh()\n",
       "    (4): Dropout(p=0.25, inplace=False)\n",
       "    (5): Linear(in_features=128, out_features=1, bias=True)\n",
       "    (6): Sigmoid()\n",
       "  )\n",
       ")"
      ]
     },
     "execution_count": 17,
     "metadata": {},
     "output_type": "execute_result"
    }
   ],
   "source": [
    "net = Net(X_train.shape[1],Y_train.shape[1]).cuda().double()\n",
    "net.apply(init_weights)"
   ]
  },
  {
   "cell_type": "markdown",
   "metadata": {},
   "source": [
    "# tensorboard"
   ]
  },
  {
   "cell_type": "code",
   "execution_count": 18,
   "metadata": {},
   "outputs": [],
   "source": [
    "#with SummaryWriter(comment='Net')as w:\n",
    "#    w.add_graph(net, (X_test,))"
   ]
  },
  {
   "cell_type": "markdown",
   "metadata": {},
   "source": [
    "# torchviz"
   ]
  },
  {
   "cell_type": "code",
   "execution_count": 19,
   "metadata": {},
   "outputs": [
    {
     "data": {
      "image/svg+xml": [
       "<?xml version=\"1.0\" encoding=\"UTF-8\" standalone=\"no\"?>\r\n",
       "<!DOCTYPE svg PUBLIC \"-//W3C//DTD SVG 1.1//EN\"\r\n",
       " \"http://www.w3.org/Graphics/SVG/1.1/DTD/svg11.dtd\">\r\n",
       "<!-- Generated by graphviz version 2.38.0 (20140413.2041)\r\n",
       " -->\r\n",
       "<!-- Title: %3 Pages: 1 -->\r\n",
       "<svg width=\"301pt\" height=\"620pt\"\r\n",
       " viewBox=\"0.00 0.00 301.00 620.00\" xmlns=\"http://www.w3.org/2000/svg\" xmlns:xlink=\"http://www.w3.org/1999/xlink\">\r\n",
       "<g id=\"graph0\" class=\"graph\" transform=\"scale(1 1) rotate(0) translate(4 616)\">\r\n",
       "<title>%3</title>\r\n",
       "<polygon fill=\"white\" stroke=\"none\" points=\"-4,4 -4,-616 297,-616 297,4 -4,4\"/>\r\n",
       "<!-- 1733718262088 -->\r\n",
       "<g id=\"node1\" class=\"node\"><title>1733718262088</title>\r\n",
       "<polygon fill=\"#caff70\" stroke=\"black\" points=\"186.5,-21 90.5,-21 90.5,-0 186.5,-0 186.5,-21\"/>\r\n",
       "<text text-anchor=\"middle\" x=\"138.5\" y=\"-7.4\" font-family=\"Times New Roman,serif\" font-size=\"12.00\">MeanBackward0</text>\r\n",
       "</g>\r\n",
       "<!-- 1733718262152 -->\r\n",
       "<g id=\"node2\" class=\"node\"><title>1733718262152</title>\r\n",
       "<polygon fill=\"lightgrey\" stroke=\"black\" points=\"189,-78 88,-78 88,-57 189,-57 189,-78\"/>\r\n",
       "<text text-anchor=\"middle\" x=\"138.5\" y=\"-64.4\" font-family=\"Times New Roman,serif\" font-size=\"12.00\">SigmoidBackward</text>\r\n",
       "</g>\r\n",
       "<!-- 1733718262152&#45;&gt;1733718262088 -->\r\n",
       "<g id=\"edge1\" class=\"edge\"><title>1733718262152&#45;&gt;1733718262088</title>\r\n",
       "<path fill=\"none\" stroke=\"black\" d=\"M138.5,-56.9197C138.5,-49.9083 138.5,-40.1442 138.5,-31.4652\"/>\r\n",
       "<polygon fill=\"black\" stroke=\"black\" points=\"142,-31.3408 138.5,-21.3408 135,-31.3409 142,-31.3408\"/>\r\n",
       "</g>\r\n",
       "<!-- 1733719747784 -->\r\n",
       "<g id=\"node3\" class=\"node\"><title>1733719747784</title>\r\n",
       "<polygon fill=\"lightgrey\" stroke=\"black\" points=\"189,-135 88,-135 88,-114 189,-114 189,-135\"/>\r\n",
       "<text text-anchor=\"middle\" x=\"138.5\" y=\"-121.4\" font-family=\"Times New Roman,serif\" font-size=\"12.00\">AddmmBackward</text>\r\n",
       "</g>\r\n",
       "<!-- 1733719747784&#45;&gt;1733718262152 -->\r\n",
       "<g id=\"edge2\" class=\"edge\"><title>1733719747784&#45;&gt;1733718262152</title>\r\n",
       "<path fill=\"none\" stroke=\"black\" d=\"M138.5,-113.92C138.5,-106.908 138.5,-97.1442 138.5,-88.4652\"/>\r\n",
       "<polygon fill=\"black\" stroke=\"black\" points=\"142,-88.3408 138.5,-78.3408 135,-88.3409 142,-88.3408\"/>\r\n",
       "</g>\r\n",
       "<!-- 1733718262344 -->\r\n",
       "<g id=\"node4\" class=\"node\"><title>1733718262344</title>\r\n",
       "<polygon fill=\"lightblue\" stroke=\"black\" points=\"55,-205 0,-205 0,-171 55,-171 55,-205\"/>\r\n",
       "<text text-anchor=\"middle\" x=\"27.5\" y=\"-191.4\" font-family=\"Times New Roman,serif\" font-size=\"12.00\">fc.5.bias</text>\r\n",
       "<text text-anchor=\"middle\" x=\"27.5\" y=\"-178.4\" font-family=\"Times New Roman,serif\" font-size=\"12.00\"> (1)</text>\r\n",
       "</g>\r\n",
       "<!-- 1733718262344&#45;&gt;1733719747784 -->\r\n",
       "<g id=\"edge3\" class=\"edge\"><title>1733718262344&#45;&gt;1733719747784</title>\r\n",
       "<path fill=\"none\" stroke=\"black\" d=\"M55.2237,-171.64C72.6697,-161.974 95.0495,-149.574 112.214,-140.064\"/>\r\n",
       "<polygon fill=\"black\" stroke=\"black\" points=\"114.099,-143.021 121.15,-135.113 110.706,-136.898 114.099,-143.021\"/>\r\n",
       "</g>\r\n",
       "<!-- 1733718262408 -->\r\n",
       "<g id=\"node5\" class=\"node\"><title>1733718262408</title>\r\n",
       "<polygon fill=\"lightgrey\" stroke=\"black\" points=\"203.5,-198.5 73.5,-198.5 73.5,-177.5 203.5,-177.5 203.5,-198.5\"/>\r\n",
       "<text text-anchor=\"middle\" x=\"138.5\" y=\"-184.9\" font-family=\"Times New Roman,serif\" font-size=\"12.00\">FusedDropoutBackward</text>\r\n",
       "</g>\r\n",
       "<!-- 1733718262408&#45;&gt;1733719747784 -->\r\n",
       "<g id=\"edge4\" class=\"edge\"><title>1733718262408&#45;&gt;1733719747784</title>\r\n",
       "<path fill=\"none\" stroke=\"black\" d=\"M138.5,-177.391C138.5,-168.866 138.5,-156.139 138.5,-145.423\"/>\r\n",
       "<polygon fill=\"black\" stroke=\"black\" points=\"142,-145.245 138.5,-135.245 135,-145.245 142,-145.245\"/>\r\n",
       "</g>\r\n",
       "<!-- 1733718262728 -->\r\n",
       "<g id=\"node6\" class=\"node\"><title>1733718262728</title>\r\n",
       "<polygon fill=\"lightgrey\" stroke=\"black\" points=\"181.5,-268.5 95.5,-268.5 95.5,-247.5 181.5,-247.5 181.5,-268.5\"/>\r\n",
       "<text text-anchor=\"middle\" x=\"138.5\" y=\"-254.9\" font-family=\"Times New Roman,serif\" font-size=\"12.00\">TanhBackward</text>\r\n",
       "</g>\r\n",
       "<!-- 1733718262728&#45;&gt;1733718262408 -->\r\n",
       "<g id=\"edge5\" class=\"edge\"><title>1733718262728&#45;&gt;1733718262408</title>\r\n",
       "<path fill=\"none\" stroke=\"black\" d=\"M138.5,-247.257C138.5,-237.259 138.5,-221.422 138.5,-208.782\"/>\r\n",
       "<polygon fill=\"black\" stroke=\"black\" points=\"142,-208.725 138.5,-198.725 135,-208.725 142,-208.725\"/>\r\n",
       "</g>\r\n",
       "<!-- 1733718262664 -->\r\n",
       "<g id=\"node7\" class=\"node\"><title>1733718262664</title>\r\n",
       "<polygon fill=\"lightgrey\" stroke=\"black\" points=\"189,-332 88,-332 88,-311 189,-311 189,-332\"/>\r\n",
       "<text text-anchor=\"middle\" x=\"138.5\" y=\"-318.4\" font-family=\"Times New Roman,serif\" font-size=\"12.00\">AddmmBackward</text>\r\n",
       "</g>\r\n",
       "<!-- 1733718262664&#45;&gt;1733718262728 -->\r\n",
       "<g id=\"edge6\" class=\"edge\"><title>1733718262664&#45;&gt;1733718262728</title>\r\n",
       "<path fill=\"none\" stroke=\"black\" d=\"M138.5,-310.891C138.5,-302.366 138.5,-289.639 138.5,-278.923\"/>\r\n",
       "<polygon fill=\"black\" stroke=\"black\" points=\"142,-278.745 138.5,-268.745 135,-278.745 142,-278.745\"/>\r\n",
       "</g>\r\n",
       "<!-- 1733718262856 -->\r\n",
       "<g id=\"node8\" class=\"node\"><title>1733718262856</title>\r\n",
       "<polygon fill=\"lightblue\" stroke=\"black\" points=\"77,-402 22,-402 22,-368 77,-368 77,-402\"/>\r\n",
       "<text text-anchor=\"middle\" x=\"49.5\" y=\"-388.4\" font-family=\"Times New Roman,serif\" font-size=\"12.00\">fc.2.bias</text>\r\n",
       "<text text-anchor=\"middle\" x=\"49.5\" y=\"-375.4\" font-family=\"Times New Roman,serif\" font-size=\"12.00\"> (128)</text>\r\n",
       "</g>\r\n",
       "<!-- 1733718262856&#45;&gt;1733718262664 -->\r\n",
       "<g id=\"edge7\" class=\"edge\"><title>1733718262856&#45;&gt;1733718262664</title>\r\n",
       "<path fill=\"none\" stroke=\"black\" d=\"M72.8837,-367.842C86.2743,-358.589 102.986,-347.041 116.192,-337.915\"/>\r\n",
       "<polygon fill=\"black\" stroke=\"black\" points=\"118.454,-340.606 124.691,-332.042 114.475,-334.847 118.454,-340.606\"/>\r\n",
       "</g>\r\n",
       "<!-- 1733718262920 -->\r\n",
       "<g id=\"node9\" class=\"node\"><title>1733718262920</title>\r\n",
       "<polygon fill=\"lightgrey\" stroke=\"black\" points=\"181.5,-395.5 95.5,-395.5 95.5,-374.5 181.5,-374.5 181.5,-395.5\"/>\r\n",
       "<text text-anchor=\"middle\" x=\"138.5\" y=\"-381.9\" font-family=\"Times New Roman,serif\" font-size=\"12.00\">TanhBackward</text>\r\n",
       "</g>\r\n",
       "<!-- 1733718262920&#45;&gt;1733718262664 -->\r\n",
       "<g id=\"edge8\" class=\"edge\"><title>1733718262920&#45;&gt;1733718262664</title>\r\n",
       "<path fill=\"none\" stroke=\"black\" d=\"M138.5,-374.391C138.5,-365.866 138.5,-353.139 138.5,-342.423\"/>\r\n",
       "<polygon fill=\"black\" stroke=\"black\" points=\"142,-342.245 138.5,-332.245 135,-342.245 142,-342.245\"/>\r\n",
       "</g>\r\n",
       "<!-- 1733718263112 -->\r\n",
       "<g id=\"node10\" class=\"node\"><title>1733718263112</title>\r\n",
       "<polygon fill=\"lightgrey\" stroke=\"black\" points=\"188,-465.5 87,-465.5 87,-444.5 188,-444.5 188,-465.5\"/>\r\n",
       "<text text-anchor=\"middle\" x=\"137.5\" y=\"-451.9\" font-family=\"Times New Roman,serif\" font-size=\"12.00\">AddmmBackward</text>\r\n",
       "</g>\r\n",
       "<!-- 1733718263112&#45;&gt;1733718262920 -->\r\n",
       "<g id=\"edge9\" class=\"edge\"><title>1733718263112&#45;&gt;1733718262920</title>\r\n",
       "<path fill=\"none\" stroke=\"black\" d=\"M137.643,-444.257C137.79,-434.259 138.023,-418.422 138.209,-405.782\"/>\r\n",
       "<polygon fill=\"black\" stroke=\"black\" points=\"141.709,-405.775 138.357,-395.725 134.71,-405.672 141.709,-405.775\"/>\r\n",
       "</g>\r\n",
       "<!-- 1733718263240 -->\r\n",
       "<g id=\"node11\" class=\"node\"><title>1733718263240</title>\r\n",
       "<polygon fill=\"lightblue\" stroke=\"black\" points=\"125,-542 70,-542 70,-508 125,-508 125,-542\"/>\r\n",
       "<text text-anchor=\"middle\" x=\"97.5\" y=\"-528.4\" font-family=\"Times New Roman,serif\" font-size=\"12.00\">fc.0.bias</text>\r\n",
       "<text text-anchor=\"middle\" x=\"97.5\" y=\"-515.4\" font-family=\"Times New Roman,serif\" font-size=\"12.00\"> (128)</text>\r\n",
       "</g>\r\n",
       "<!-- 1733718263240&#45;&gt;1733718263112 -->\r\n",
       "<g id=\"edge10\" class=\"edge\"><title>1733718263240&#45;&gt;1733718263112</title>\r\n",
       "<path fill=\"none\" stroke=\"black\" d=\"M106.979,-507.885C112.852,-497.902 120.416,-485.043 126.545,-474.624\"/>\r\n",
       "<polygon fill=\"black\" stroke=\"black\" points=\"129.626,-476.289 131.68,-465.895 123.593,-472.739 129.626,-476.289\"/>\r\n",
       "</g>\r\n",
       "<!-- 1733718263304 -->\r\n",
       "<g id=\"node12\" class=\"node\"><title>1733718263304</title>\r\n",
       "<polygon fill=\"lightgrey\" stroke=\"black\" points=\"214,-535.5 143,-535.5 143,-514.5 214,-514.5 214,-535.5\"/>\r\n",
       "<text text-anchor=\"middle\" x=\"178.5\" y=\"-521.9\" font-family=\"Times New Roman,serif\" font-size=\"12.00\">TBackward</text>\r\n",
       "</g>\r\n",
       "<!-- 1733718263304&#45;&gt;1733718263112 -->\r\n",
       "<g id=\"edge11\" class=\"edge\"><title>1733718263304&#45;&gt;1733718263112</title>\r\n",
       "<path fill=\"none\" stroke=\"black\" d=\"M172.626,-514.257C166.415,-503.956 156.467,-487.457 148.74,-474.642\"/>\r\n",
       "<polygon fill=\"black\" stroke=\"black\" points=\"151.524,-472.481 143.363,-465.725 145.53,-476.096 151.524,-472.481\"/>\r\n",
       "</g>\r\n",
       "<!-- 1733718263432 -->\r\n",
       "<g id=\"node13\" class=\"node\"><title>1733718263432</title>\r\n",
       "<polygon fill=\"lightblue\" stroke=\"black\" points=\"213,-612 144,-612 144,-578 213,-578 213,-612\"/>\r\n",
       "<text text-anchor=\"middle\" x=\"178.5\" y=\"-598.4\" font-family=\"Times New Roman,serif\" font-size=\"12.00\">fc.0.weight</text>\r\n",
       "<text text-anchor=\"middle\" x=\"178.5\" y=\"-585.4\" font-family=\"Times New Roman,serif\" font-size=\"12.00\"> (128, 518)</text>\r\n",
       "</g>\r\n",
       "<!-- 1733718263432&#45;&gt;1733718263304 -->\r\n",
       "<g id=\"edge12\" class=\"edge\"><title>1733718263432&#45;&gt;1733718263304</title>\r\n",
       "<path fill=\"none\" stroke=\"black\" d=\"M178.5,-577.885C178.5,-568.309 178.5,-556.088 178.5,-545.912\"/>\r\n",
       "<polygon fill=\"black\" stroke=\"black\" points=\"182,-545.895 178.5,-535.895 175,-545.895 182,-545.895\"/>\r\n",
       "</g>\r\n",
       "<!-- 1733718262984 -->\r\n",
       "<g id=\"node14\" class=\"node\"><title>1733718262984</title>\r\n",
       "<polygon fill=\"lightgrey\" stroke=\"black\" points=\"274,-395.5 203,-395.5 203,-374.5 274,-374.5 274,-395.5\"/>\r\n",
       "<text text-anchor=\"middle\" x=\"238.5\" y=\"-381.9\" font-family=\"Times New Roman,serif\" font-size=\"12.00\">TBackward</text>\r\n",
       "</g>\r\n",
       "<!-- 1733718262984&#45;&gt;1733718262664 -->\r\n",
       "<g id=\"edge13\" class=\"edge\"><title>1733718262984&#45;&gt;1733718262664</title>\r\n",
       "<path fill=\"none\" stroke=\"black\" d=\"M222.875,-374.391C206.73,-364.462 181.318,-348.833 162.598,-337.32\"/>\r\n",
       "<polygon fill=\"black\" stroke=\"black\" points=\"164.367,-334.299 154.015,-332.042 160.7,-340.262 164.367,-334.299\"/>\r\n",
       "</g>\r\n",
       "<!-- 1733718263176 -->\r\n",
       "<g id=\"node15\" class=\"node\"><title>1733718263176</title>\r\n",
       "<polygon fill=\"lightblue\" stroke=\"black\" points=\"275,-472 206,-472 206,-438 275,-438 275,-472\"/>\r\n",
       "<text text-anchor=\"middle\" x=\"240.5\" y=\"-458.4\" font-family=\"Times New Roman,serif\" font-size=\"12.00\">fc.2.weight</text>\r\n",
       "<text text-anchor=\"middle\" x=\"240.5\" y=\"-445.4\" font-family=\"Times New Roman,serif\" font-size=\"12.00\"> (128, 128)</text>\r\n",
       "</g>\r\n",
       "<!-- 1733718263176&#45;&gt;1733718262984 -->\r\n",
       "<g id=\"edge14\" class=\"edge\"><title>1733718263176&#45;&gt;1733718262984</title>\r\n",
       "<path fill=\"none\" stroke=\"black\" d=\"M240.026,-437.885C239.744,-428.309 239.385,-416.088 239.086,-405.912\"/>\r\n",
       "<polygon fill=\"black\" stroke=\"black\" points=\"242.584,-405.787 238.791,-395.895 235.587,-405.993 242.584,-405.787\"/>\r\n",
       "</g>\r\n",
       "<!-- 1733718262536 -->\r\n",
       "<g id=\"node16\" class=\"node\"><title>1733718262536</title>\r\n",
       "<polygon fill=\"lightgrey\" stroke=\"black\" points=\"293,-198.5 222,-198.5 222,-177.5 293,-177.5 293,-198.5\"/>\r\n",
       "<text text-anchor=\"middle\" x=\"257.5\" y=\"-184.9\" font-family=\"Times New Roman,serif\" font-size=\"12.00\">TBackward</text>\r\n",
       "</g>\r\n",
       "<!-- 1733718262536&#45;&gt;1733719747784 -->\r\n",
       "<g id=\"edge15\" class=\"edge\"><title>1733718262536&#45;&gt;1733719747784</title>\r\n",
       "<path fill=\"none\" stroke=\"black\" d=\"M238.906,-177.391C219.345,-167.281 188.35,-151.263 165.969,-139.696\"/>\r\n",
       "<polygon fill=\"black\" stroke=\"black\" points=\"167.454,-136.524 156.963,-135.042 164.24,-142.742 167.454,-136.524\"/>\r\n",
       "</g>\r\n",
       "<!-- 1733718262472 -->\r\n",
       "<g id=\"node17\" class=\"node\"><title>1733718262472</title>\r\n",
       "<polygon fill=\"lightblue\" stroke=\"black\" points=\"290.5,-275 224.5,-275 224.5,-241 290.5,-241 290.5,-275\"/>\r\n",
       "<text text-anchor=\"middle\" x=\"257.5\" y=\"-261.4\" font-family=\"Times New Roman,serif\" font-size=\"12.00\">fc.5.weight</text>\r\n",
       "<text text-anchor=\"middle\" x=\"257.5\" y=\"-248.4\" font-family=\"Times New Roman,serif\" font-size=\"12.00\"> (1, 128)</text>\r\n",
       "</g>\r\n",
       "<!-- 1733718262472&#45;&gt;1733718262536 -->\r\n",
       "<g id=\"edge16\" class=\"edge\"><title>1733718262472&#45;&gt;1733718262536</title>\r\n",
       "<path fill=\"none\" stroke=\"black\" d=\"M257.5,-240.885C257.5,-231.309 257.5,-219.088 257.5,-208.912\"/>\r\n",
       "<polygon fill=\"black\" stroke=\"black\" points=\"261,-208.895 257.5,-198.895 254,-208.895 261,-208.895\"/>\r\n",
       "</g>\r\n",
       "</g>\r\n",
       "</svg>\r\n"
      ],
      "text/plain": [
       "<graphviz.dot.Digraph at 0x193a9a94108>"
      ]
     },
     "execution_count": 19,
     "metadata": {},
     "output_type": "execute_result"
    }
   ],
   "source": [
    "torchviz.make_dot(net(X_test).mean(),params=dict(net.named_parameters()))"
   ]
  },
  {
   "cell_type": "markdown",
   "metadata": {},
   "source": [
    "# loss_function and optimizer"
   ]
  },
  {
   "cell_type": "code",
   "execution_count": 20,
   "metadata": {},
   "outputs": [],
   "source": [
    "optimizer = torch.optim.Adam(net.parameters(),lr=1e-4)\n",
    "loss_function = nn.MSELoss()"
   ]
  },
  {
   "cell_type": "markdown",
   "metadata": {},
   "source": [
    "# Training and evaluation"
   ]
  },
  {
   "cell_type": "code",
   "execution_count": 21,
   "metadata": {},
   "outputs": [],
   "source": [
    "def train(net,train_iter,loss_function,optimizer,num_epochs=100):\n",
    "    train_history = []\n",
    "    valid_history = []\n",
    "    best_loss = np.inf\n",
    "    for epoch in range(num_epochs): \n",
    "        \n",
    "        # train model\n",
    "        net.train()\n",
    "        train_loss,i = 0,0\n",
    "        for x,y in train_iter:\n",
    "            loss = loss_function(net(x),y)\n",
    "            loss.backward()\n",
    "            optimizer.step()\n",
    "            optimizer.zero_grad()\n",
    "            train_loss += loss.item()\n",
    "            i += 1\n",
    "        \n",
    "        # eval model\n",
    "        with torch.no_grad():\n",
    "            net.eval()\n",
    "            val_loss,j = 0,0\n",
    "            for x, y in valid_iter:\n",
    "                loss = loss_function(net(x),y)\n",
    "                val_loss += loss.item()\n",
    "                j += 1\n",
    "        \n",
    "        # caculate avg loss\n",
    "        train_avg_loss = train_loss/i\n",
    "        val_avg_loss = val_loss/j\n",
    "        \n",
    "        # save the best model\n",
    "        if val_avg_loss <= best_loss:\n",
    "            best_loss = val_avg_loss\n",
    "            joblib.dump(net,'./model/net.pkl')\n",
    "            print('model saved')\n",
    "        \n",
    "        # record history and print loss of the epoch\n",
    "        train_history.append(train_avg_loss)\n",
    "        valid_history.append(val_avg_loss)\n",
    "        print(\"epochs {} train_avg_loss {:.4f} valid_avg_loss {:.4f}\".format(epoch,train_avg_loss,val_avg_loss))\n",
    "        \n",
    "    # plot result\n",
    "    print('best val_avg_loss is ',best_loss)\n",
    "    fig = plt.figure(figsize=(20,5))\n",
    "    plt.plot(np.array(train_history),label='train')\n",
    "    plt.plot(np.array(valid_history),label='valid')\n",
    "    plt.legend()\n",
    "    plt.title('loss')\n",
    "    plt.show()\n",
    "    print('model save at ./model/net.pkl')"
   ]
  },
  {
   "cell_type": "code",
   "execution_count": 22,
   "metadata": {},
   "outputs": [
    {
     "name": "stdout",
     "output_type": "stream",
     "text": [
      "model saved\n",
      "epochs 0 train_avg_loss 0.0068 valid_avg_loss 0.0016\n",
      "epochs 1 train_avg_loss 0.0020 valid_avg_loss 0.0016\n",
      "model saved\n",
      "epochs 2 train_avg_loss 0.0016 valid_avg_loss 0.0016\n",
      "model saved\n",
      "epochs 3 train_avg_loss 0.0014 valid_avg_loss 0.0016\n",
      "model saved\n",
      "epochs 4 train_avg_loss 0.0013 valid_avg_loss 0.0015\n",
      "epochs 5 train_avg_loss 0.0013 valid_avg_loss 0.0015\n",
      "epochs 6 train_avg_loss 0.0013 valid_avg_loss 0.0018\n",
      "epochs 7 train_avg_loss 0.0012 valid_avg_loss 0.0016\n",
      "epochs 8 train_avg_loss 0.0012 valid_avg_loss 0.0017\n",
      "epochs 9 train_avg_loss 0.0012 valid_avg_loss 0.0018\n",
      "best val_avg_loss is  0.0014842217078546774\n"
     ]
    },
    {
     "data": {
      "image/png": "[encoded data removed]",
      "text/plain": [
       "<Figure size 1440x360 with 1 Axes>"
      ]
     },
     "metadata": {
      "needs_background": "light"
     },
     "output_type": "display_data"
    },
    {
     "name": "stdout",
     "output_type": "stream",
     "text": [
      "model save at ./model/net.pkl\n",
      "15.532552242279053\n"
     ]
    }
   ],
   "source": [
    "s = time.time()\n",
    "train(net,train_iter,loss_function,optimizer,num_epochs=10)\n",
    "print(time.time()-s)"
   ]
  },
  {
   "cell_type": "markdown",
   "metadata": {},
   "source": [
    "# load best net"
   ]
  },
  {
   "cell_type": "code",
   "execution_count": 23,
   "metadata": {},
   "outputs": [
    {
     "data": {
      "text/plain": [
       "Net(\n",
       "  (fc): Sequential(\n",
       "    (0): Linear(in_features=518, out_features=128, bias=True)\n",
       "    (1): Tanh()\n",
       "    (2): Linear(in_features=128, out_features=128, bias=True)\n",
       "    (3): Tanh()\n",
       "    (4): Dropout(p=0.25, inplace=False)\n",
       "    (5): Linear(in_features=128, out_features=1, bias=True)\n",
       "    (6): Sigmoid()\n",
       "  )\n",
       ")"
      ]
     },
     "execution_count": 23,
     "metadata": {},
     "output_type": "execute_result"
    }
   ],
   "source": [
    "net = joblib.load('./model/net.pkl')\n",
    "net = net.eval()\n",
    "net"
   ]
  },
  {
   "cell_type": "markdown",
   "metadata": {},
   "source": [
    "# metrics"
   ]
  },
  {
   "cell_type": "code",
   "execution_count": 24,
   "metadata": {},
   "outputs": [],
   "source": [
    "from sklearn.metrics import r2_score,mean_absolute_error,mean_squared_error\n",
    "from math import sqrt\n",
    "\n",
    "def mape(y_true, y_pred): \n",
    "    y_true, y_pred = np.array(y_true), np.array(y_pred)\n",
    "    return np.mean(np.abs((y_true - y_pred) / y_true))\n",
    "\n",
    "\n",
    "feed = X.values.reshape(-1,37,14).mean(axis=1)\n",
    "feed = pd.DataFrame(feed,columns=x_col,index=idx)\n",
    "feed = feed['MLPAP_FQ-0619.PV']\n",
    "\n",
    "def show_result(X,Y,index):\n",
    "    t = pd.DataFrame(index=index)\n",
    "    t['0619'] = feed[index]\n",
    "    t['0997_real'] = mm_y.inverse_transform(Y.detach().cpu().numpy().reshape(-1,1)).ravel()\n",
    "    t['0997_pred'] = mm_y.inverse_transform(net(X).detach().cpu().numpy().reshape(-1,1)).ravel()\n",
    "    t['單耗_real'] = t['0619']/t['0997_real']\n",
    "    t['單耗_pred'] = t['0619']/t['0997_pred']\n",
    "    t['0997_R2'] = r2_score(t['0997_real'],t['0997_pred'])\n",
    "    t['0997_MAPE'] = mape(t['0997_real'],t['0997_pred'])\n",
    "    t['單耗RMSE'] = sqrt(mean_squared_error(t['單耗_real'],t['單耗_pred']))\n",
    "    return t"
   ]
  },
  {
   "cell_type": "markdown",
   "metadata": {},
   "source": [
    "# make prediction(train)"
   ]
  },
  {
   "cell_type": "code",
   "execution_count": 25,
   "metadata": {},
   "outputs": [
    {
     "name": "stdout",
     "output_type": "stream",
     "text": [
      "0997_real標準差 399.76604140195616\n"
     ]
    },
    {
     "data": {
      "text/html": [
       "<div>\n",
       "<style scoped>\n",
       "    .dataframe tbody tr th:only-of-type {\n",
       "        vertical-align: middle;\n",
       "    }\n",
       "\n",
       "    .dataframe tbody tr th {\n",
       "        vertical-align: top;\n",
       "    }\n",
       "\n",
       "    .dataframe thead th {\n",
       "        text-align: right;\n",
       "    }\n",
       "</style>\n",
       "<table border=\"1\" class=\"dataframe\">\n",
       "  <thead>\n",
       "    <tr style=\"text-align: right;\">\n",
       "      <th></th>\n",
       "      <th>0619</th>\n",
       "      <th>0997_real</th>\n",
       "      <th>0997_pred</th>\n",
       "      <th>單耗_real</th>\n",
       "      <th>單耗_pred</th>\n",
       "      <th>0997_R2</th>\n",
       "      <th>0997_MAPE</th>\n",
       "      <th>單耗RMSE</th>\n",
       "    </tr>\n",
       "  </thead>\n",
       "  <tbody>\n",
       "    <tr>\n",
       "      <td>2016-06-01 02:20:00</td>\n",
       "      <td>5694.183976</td>\n",
       "      <td>6439.8774</td>\n",
       "      <td>6329.777069</td>\n",
       "      <td>0.884207</td>\n",
       "      <td>0.899587</td>\n",
       "      <td>0.833556</td>\n",
       "      <td>0.01338</td>\n",
       "      <td>0.019743</td>\n",
       "    </tr>\n",
       "    <tr>\n",
       "      <td>2016-06-01 02:30:00</td>\n",
       "      <td>5694.205724</td>\n",
       "      <td>6459.6940</td>\n",
       "      <td>6327.509777</td>\n",
       "      <td>0.881498</td>\n",
       "      <td>0.899913</td>\n",
       "      <td>0.833556</td>\n",
       "      <td>0.01338</td>\n",
       "      <td>0.019743</td>\n",
       "    </tr>\n",
       "    <tr>\n",
       "      <td>2016-06-01 02:40:00</td>\n",
       "      <td>5693.698811</td>\n",
       "      <td>6467.7600</td>\n",
       "      <td>6345.219356</td>\n",
       "      <td>0.880320</td>\n",
       "      <td>0.897321</td>\n",
       "      <td>0.833556</td>\n",
       "      <td>0.01338</td>\n",
       "      <td>0.019743</td>\n",
       "    </tr>\n",
       "    <tr>\n",
       "      <td>2016-06-01 02:50:00</td>\n",
       "      <td>5693.984649</td>\n",
       "      <td>6450.8740</td>\n",
       "      <td>6327.728283</td>\n",
       "      <td>0.882669</td>\n",
       "      <td>0.899847</td>\n",
       "      <td>0.833556</td>\n",
       "      <td>0.01338</td>\n",
       "      <td>0.019743</td>\n",
       "    </tr>\n",
       "    <tr>\n",
       "      <td>2016-06-01 03:00:00</td>\n",
       "      <td>5694.179676</td>\n",
       "      <td>6443.6900</td>\n",
       "      <td>6348.062912</td>\n",
       "      <td>0.883683</td>\n",
       "      <td>0.896995</td>\n",
       "      <td>0.833556</td>\n",
       "      <td>0.01338</td>\n",
       "      <td>0.019743</td>\n",
       "    </tr>\n",
       "  </tbody>\n",
       "</table>\n",
       "</div>"
      ],
      "text/plain": [
       "                            0619  0997_real    0997_pred   單耗_real   單耗_pred  \\\n",
       "2016-06-01 02:20:00  5694.183976  6439.8774  6329.777069  0.884207  0.899587   \n",
       "2016-06-01 02:30:00  5694.205724  6459.6940  6327.509777  0.881498  0.899913   \n",
       "2016-06-01 02:40:00  5693.698811  6467.7600  6345.219356  0.880320  0.897321   \n",
       "2016-06-01 02:50:00  5693.984649  6450.8740  6327.728283  0.882669  0.899847   \n",
       "2016-06-01 03:00:00  5694.179676  6443.6900  6348.062912  0.883683  0.896995   \n",
       "\n",
       "                      0997_R2  0997_MAPE    單耗RMSE  \n",
       "2016-06-01 02:20:00  0.833556    0.01338  0.019743  \n",
       "2016-06-01 02:30:00  0.833556    0.01338  0.019743  \n",
       "2016-06-01 02:40:00  0.833556    0.01338  0.019743  \n",
       "2016-06-01 02:50:00  0.833556    0.01338  0.019743  \n",
       "2016-06-01 03:00:00  0.833556    0.01338  0.019743  "
      ]
     },
     "execution_count": 25,
     "metadata": {},
     "output_type": "execute_result"
    }
   ],
   "source": [
    "t1 = show_result(X_train,Y_train,idx[:sp1])\n",
    "print('0997_real標準差',df.iloc[:sp1]['0997_real'].std())\n",
    "t1.head()"
   ]
  },
  {
   "cell_type": "markdown",
   "metadata": {},
   "source": [
    "# make prediction(valid)"
   ]
  },
  {
   "cell_type": "code",
   "execution_count": 26,
   "metadata": {},
   "outputs": [
    {
     "name": "stdout",
     "output_type": "stream",
     "text": [
      "0997_real標準差 194.4049143211722\n"
     ]
    },
    {
     "data": {
      "text/html": [
       "<div>\n",
       "<style scoped>\n",
       "    .dataframe tbody tr th:only-of-type {\n",
       "        vertical-align: middle;\n",
       "    }\n",
       "\n",
       "    .dataframe tbody tr th {\n",
       "        vertical-align: top;\n",
       "    }\n",
       "\n",
       "    .dataframe thead th {\n",
       "        text-align: right;\n",
       "    }\n",
       "</style>\n",
       "<table border=\"1\" class=\"dataframe\">\n",
       "  <thead>\n",
       "    <tr style=\"text-align: right;\">\n",
       "      <th></th>\n",
       "      <th>0619</th>\n",
       "      <th>0997_real</th>\n",
       "      <th>0997_pred</th>\n",
       "      <th>單耗_real</th>\n",
       "      <th>單耗_pred</th>\n",
       "      <th>0997_R2</th>\n",
       "      <th>0997_MAPE</th>\n",
       "      <th>單耗RMSE</th>\n",
       "    </tr>\n",
       "  </thead>\n",
       "  <tbody>\n",
       "    <tr>\n",
       "      <td>2016-12-05 09:10:00</td>\n",
       "      <td>7294.562630</td>\n",
       "      <td>8179.2583</td>\n",
       "      <td>8084.396274</td>\n",
       "      <td>0.891837</td>\n",
       "      <td>0.902301</td>\n",
       "      <td>-0.020072</td>\n",
       "      <td>0.012084</td>\n",
       "      <td>0.027297</td>\n",
       "    </tr>\n",
       "    <tr>\n",
       "      <td>2016-12-05 09:20:00</td>\n",
       "      <td>7294.360668</td>\n",
       "      <td>8192.6360</td>\n",
       "      <td>8060.435576</td>\n",
       "      <td>0.890356</td>\n",
       "      <td>0.904959</td>\n",
       "      <td>-0.020072</td>\n",
       "      <td>0.012084</td>\n",
       "      <td>0.027297</td>\n",
       "    </tr>\n",
       "    <tr>\n",
       "      <td>2016-12-05 09:30:00</td>\n",
       "      <td>7294.114411</td>\n",
       "      <td>8196.8890</td>\n",
       "      <td>8059.174037</td>\n",
       "      <td>0.889864</td>\n",
       "      <td>0.905070</td>\n",
       "      <td>-0.020072</td>\n",
       "      <td>0.012084</td>\n",
       "      <td>0.027297</td>\n",
       "    </tr>\n",
       "    <tr>\n",
       "      <td>2016-12-05 09:40:00</td>\n",
       "      <td>7293.696941</td>\n",
       "      <td>8204.8670</td>\n",
       "      <td>8003.565738</td>\n",
       "      <td>0.888948</td>\n",
       "      <td>0.911306</td>\n",
       "      <td>-0.020072</td>\n",
       "      <td>0.012084</td>\n",
       "      <td>0.027297</td>\n",
       "    </tr>\n",
       "    <tr>\n",
       "      <td>2016-12-05 09:50:00</td>\n",
       "      <td>7293.472135</td>\n",
       "      <td>8075.9126</td>\n",
       "      <td>8029.261613</td>\n",
       "      <td>0.903114</td>\n",
       "      <td>0.908362</td>\n",
       "      <td>-0.020072</td>\n",
       "      <td>0.012084</td>\n",
       "      <td>0.027297</td>\n",
       "    </tr>\n",
       "  </tbody>\n",
       "</table>\n",
       "</div>"
      ],
      "text/plain": [
       "                            0619  0997_real    0997_pred   單耗_real   單耗_pred  \\\n",
       "2016-12-05 09:10:00  7294.562630  8179.2583  8084.396274  0.891837  0.902301   \n",
       "2016-12-05 09:20:00  7294.360668  8192.6360  8060.435576  0.890356  0.904959   \n",
       "2016-12-05 09:30:00  7294.114411  8196.8890  8059.174037  0.889864  0.905070   \n",
       "2016-12-05 09:40:00  7293.696941  8204.8670  8003.565738  0.888948  0.911306   \n",
       "2016-12-05 09:50:00  7293.472135  8075.9126  8029.261613  0.903114  0.908362   \n",
       "\n",
       "                      0997_R2  0997_MAPE    單耗RMSE  \n",
       "2016-12-05 09:10:00 -0.020072   0.012084  0.027297  \n",
       "2016-12-05 09:20:00 -0.020072   0.012084  0.027297  \n",
       "2016-12-05 09:30:00 -0.020072   0.012084  0.027297  \n",
       "2016-12-05 09:40:00 -0.020072   0.012084  0.027297  \n",
       "2016-12-05 09:50:00 -0.020072   0.012084  0.027297  "
      ]
     },
     "execution_count": 26,
     "metadata": {},
     "output_type": "execute_result"
    }
   ],
   "source": [
    "t2 = show_result(X_valid,Y_valid,idx[sp1:sp2])\n",
    "print('0997_real標準差',df.iloc[sp1:sp2]['0997_real'].std())\n",
    "t2.head()"
   ]
  },
  {
   "cell_type": "markdown",
   "metadata": {},
   "source": [
    "# make prediction(test)"
   ]
  },
  {
   "cell_type": "code",
   "execution_count": 27,
   "metadata": {},
   "outputs": [
    {
     "name": "stdout",
     "output_type": "stream",
     "text": [
      "0997_real標準差 69.84749286555892\n"
     ]
    },
    {
     "data": {
      "text/html": [
       "<div>\n",
       "<style scoped>\n",
       "    .dataframe tbody tr th:only-of-type {\n",
       "        vertical-align: middle;\n",
       "    }\n",
       "\n",
       "    .dataframe tbody tr th {\n",
       "        vertical-align: top;\n",
       "    }\n",
       "\n",
       "    .dataframe thead th {\n",
       "        text-align: right;\n",
       "    }\n",
       "</style>\n",
       "<table border=\"1\" class=\"dataframe\">\n",
       "  <thead>\n",
       "    <tr style=\"text-align: right;\">\n",
       "      <th></th>\n",
       "      <th>0619</th>\n",
       "      <th>0997_real</th>\n",
       "      <th>0997_pred</th>\n",
       "      <th>單耗_real</th>\n",
       "      <th>單耗_pred</th>\n",
       "      <th>0997_R2</th>\n",
       "      <th>0997_MAPE</th>\n",
       "      <th>單耗RMSE</th>\n",
       "    </tr>\n",
       "  </thead>\n",
       "  <tbody>\n",
       "    <tr>\n",
       "      <td>2017-01-12 08:50:00</td>\n",
       "      <td>7299.433195</td>\n",
       "      <td>8053.5490</td>\n",
       "      <td>8055.423645</td>\n",
       "      <td>0.906362</td>\n",
       "      <td>0.906151</td>\n",
       "      <td>-0.141814</td>\n",
       "      <td>0.006814</td>\n",
       "      <td>0.008375</td>\n",
       "    </tr>\n",
       "    <tr>\n",
       "      <td>2017-01-12 09:00:00</td>\n",
       "      <td>7299.846932</td>\n",
       "      <td>8050.2944</td>\n",
       "      <td>8081.418091</td>\n",
       "      <td>0.906780</td>\n",
       "      <td>0.903288</td>\n",
       "      <td>-0.141814</td>\n",
       "      <td>0.006814</td>\n",
       "      <td>0.008375</td>\n",
       "    </tr>\n",
       "    <tr>\n",
       "      <td>2017-01-12 09:10:00</td>\n",
       "      <td>7300.196662</td>\n",
       "      <td>8043.0327</td>\n",
       "      <td>8149.892278</td>\n",
       "      <td>0.907642</td>\n",
       "      <td>0.895741</td>\n",
       "      <td>-0.141814</td>\n",
       "      <td>0.006814</td>\n",
       "      <td>0.008375</td>\n",
       "    </tr>\n",
       "    <tr>\n",
       "      <td>2017-01-12 09:20:00</td>\n",
       "      <td>7300.776519</td>\n",
       "      <td>8040.0903</td>\n",
       "      <td>8063.120861</td>\n",
       "      <td>0.908047</td>\n",
       "      <td>0.905453</td>\n",
       "      <td>-0.141814</td>\n",
       "      <td>0.006814</td>\n",
       "      <td>0.008375</td>\n",
       "    </tr>\n",
       "    <tr>\n",
       "      <td>2017-01-12 09:30:00</td>\n",
       "      <td>7301.300438</td>\n",
       "      <td>8049.6143</td>\n",
       "      <td>8137.892174</td>\n",
       "      <td>0.907037</td>\n",
       "      <td>0.897198</td>\n",
       "      <td>-0.141814</td>\n",
       "      <td>0.006814</td>\n",
       "      <td>0.008375</td>\n",
       "    </tr>\n",
       "  </tbody>\n",
       "</table>\n",
       "</div>"
      ],
      "text/plain": [
       "                            0619  0997_real    0997_pred   單耗_real   單耗_pred  \\\n",
       "2017-01-12 08:50:00  7299.433195  8053.5490  8055.423645  0.906362  0.906151   \n",
       "2017-01-12 09:00:00  7299.846932  8050.2944  8081.418091  0.906780  0.903288   \n",
       "2017-01-12 09:10:00  7300.196662  8043.0327  8149.892278  0.907642  0.895741   \n",
       "2017-01-12 09:20:00  7300.776519  8040.0903  8063.120861  0.908047  0.905453   \n",
       "2017-01-12 09:30:00  7301.300438  8049.6143  8137.892174  0.907037  0.897198   \n",
       "\n",
       "                      0997_R2  0997_MAPE    單耗RMSE  \n",
       "2017-01-12 08:50:00 -0.141814   0.006814  0.008375  \n",
       "2017-01-12 09:00:00 -0.141814   0.006814  0.008375  \n",
       "2017-01-12 09:10:00 -0.141814   0.006814  0.008375  \n",
       "2017-01-12 09:20:00 -0.141814   0.006814  0.008375  \n",
       "2017-01-12 09:30:00 -0.141814   0.006814  0.008375  "
      ]
     },
     "execution_count": 27,
     "metadata": {},
     "output_type": "execute_result"
    }
   ],
   "source": [
    "t3 = show_result(X_test,Y_test,idx[sp2:])\n",
    "print('0997_real標準差',df.iloc[sp2:]['0997_real'].std())\n",
    "t3.head()"
   ]
  },
  {
   "cell_type": "markdown",
   "metadata": {},
   "source": [
    "# 標準差跟R2是有關係的 數據變異太少 太穩定 標準差低 則R2也高不起來"
   ]
  },
  {
   "cell_type": "code",
   "execution_count": 28,
   "metadata": {},
   "outputs": [
    {
     "data": {
      "text/plain": [
       "2016-06-01 02:20:00    6329.777069\n",
       "2016-06-01 02:30:00    6327.509777\n",
       "2016-06-01 02:40:00    6345.219356\n",
       "2016-06-01 02:50:00    6327.728283\n",
       "2016-06-01 03:00:00    6348.062912\n",
       "Name: 0997_pred, dtype: float64"
      ]
     },
     "execution_count": 28,
     "metadata": {},
     "output_type": "execute_result"
    }
   ],
   "source": [
    "pred_0997_all = t1.append(t2).append(t3)['0997_pred']\n",
    "pred_0997_all.head()"
   ]
  },
  {
   "cell_type": "code",
   "execution_count": 29,
   "metadata": {},
   "outputs": [
    {
     "name": "stdout",
     "output_type": "stream",
     "text": [
      "save done\n"
     ]
    }
   ],
   "source": [
    "pred_0997_all.to_csv('./data/pred_0997_all.csv')\n",
    "print('save done')"
   ]
  },
  {
   "cell_type": "code",
   "execution_count": null,
   "metadata": {},
   "outputs": [],
   "source": []
  },
  {
   "cell_type": "code",
   "execution_count": null,
   "metadata": {},
   "outputs": [],
   "source": []
  },
  {
   "cell_type": "code",
   "execution_count": null,
   "metadata": {},
   "outputs": [],
   "source": []
  },
  {
   "cell_type": "code",
   "execution_count": null,
   "metadata": {},
   "outputs": [],
   "source": []
  },
  {
   "cell_type": "code",
   "execution_count": null,
   "metadata": {},
   "outputs": [],
   "source": []
  }
 ],
 "metadata": {
  "kernelspec": {
   "display_name": "Python 3",
   "language": "python",
   "name": "python3"
  },
  "language_info": {
   "codemirror_mode": {
    "name": "ipython",
    "version": 3
   },
   "file_extension": ".py",
   "mimetype": "text/x-python",
   "name": "python",
   "nbconvert_exporter": "python",
   "pygments_lexer": "ipython3",
   "version": "3.7.4"
  }
 },
 "nbformat": 4,
 "nbformat_minor": 2
}
