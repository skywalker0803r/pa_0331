{
 "cells": [
  {
   "cell_type": "code",
   "execution_count": 1,
   "metadata": {},
   "outputs": [
    {
     "data": {
      "text/plain": [
       "True"
      ]
     },
     "execution_count": 1,
     "metadata": {},
     "output_type": "execute_result"
    }
   ],
   "source": [
    "import pandas as pd\n",
    "import joblib\n",
    "import numpy as np\n",
    "import pandas as pd\n",
    "import torch\n",
    "import os\n",
    "import torch.optim as optim\n",
    "import warnings \n",
    "warnings.simplefilter('ignore')\n",
    "from torch.nn import Linear,ReLU,Sigmoid\n",
    "from utils import *\n",
    "torch.cuda.is_available()"
   ]
  },
  {
   "cell_type": "code",
   "execution_count": 2,
   "metadata": {},
   "outputs": [
    {
     "data": {
      "text/plain": [
       "['train_preprocessed',\n",
       " 'PA_201605-2020001更新R8(20200423).csv',\n",
       " 'tag盤點表20200423.xlsx',\n",
       " 'pred_0997_all.csv',\n",
       " 'tag盤點表_cleaned.csv',\n",
       " 'train_cleaned.csv']"
      ]
     },
     "execution_count": 2,
     "metadata": {},
     "output_type": "execute_result"
    }
   ],
   "source": [
    "os.listdir('./data')"
   ]
  },
  {
   "cell_type": "markdown",
   "metadata": {},
   "source": [
    "# load data,tag,critic,mm_x,mm_y"
   ]
  },
  {
   "cell_type": "code",
   "execution_count": 3,
   "metadata": {},
   "outputs": [],
   "source": [
    "data = joblib.load('./data/train_preprocessed')"
   ]
  },
  {
   "cell_type": "code",
   "execution_count": 4,
   "metadata": {},
   "outputs": [],
   "source": [
    "tag = pd.read_csv('./data/tag盤點表_cleaned.csv')\n",
    "tag_map = dict(zip(tag['TAG'],tag['chinese']))"
   ]
  },
  {
   "cell_type": "code",
   "execution_count": 5,
   "metadata": {},
   "outputs": [],
   "source": [
    "critic = joblib.load('./model/net.pkl')\n",
    "critic = critic.eval()\n",
    "mm_x = joblib.load('./model/mm_x.pkl')\n",
    "mm_y = joblib.load('./model/mm_y.pkl')"
   ]
  },
  {
   "cell_type": "markdown",
   "metadata": {},
   "source": [
    "# def columns"
   ]
  },
  {
   "cell_type": "code",
   "execution_count": 6,
   "metadata": {},
   "outputs": [],
   "source": [
    "x_cols = data['x_col']\n",
    "y_cols = data['y_col']"
   ]
  },
  {
   "cell_type": "code",
   "execution_count": 7,
   "metadata": {},
   "outputs": [
    {
     "data": {
      "text/plain": [
       "['MLPAP_FQ-0619.PV',\n",
       " 'MLPAP_FR-0632.PV',\n",
       " 'MLPAP_LIC-0738.PV',\n",
       " 'MLPAP_LRC-0729.PV',\n",
       " 'MLPAP_PIC-0761.PV',\n",
       " 'MLPAP_TJ-0757B.PV',\n",
       " 'MLPAP_TJC-0627.PV',\n",
       " 'MLPAP_TJC-0757.PV',\n",
       " 'MLPAP_TJC-0757A.PV',\n",
       " 'MLPAP_TJC-1721.PV',\n",
       " 'MLPAP_TRC-0610.PV',\n",
       " 'MLPAP_TRC-0747.PV',\n",
       " 'MLPAP_TRC-0762.PV',\n",
       " 'MLPAP_TRC-1734.PV']"
      ]
     },
     "execution_count": 7,
     "metadata": {},
     "output_type": "execute_result"
    }
   ],
   "source": [
    "x_cols"
   ]
  },
  {
   "cell_type": "code",
   "execution_count": 8,
   "metadata": {},
   "outputs": [
    {
     "data": {
      "text/plain": [
       "['MLPAP_FQI-0997.PV']"
      ]
     },
     "execution_count": 8,
     "metadata": {},
     "output_type": "execute_result"
    }
   ],
   "source": [
    "y_cols"
   ]
  },
  {
   "cell_type": "markdown",
   "metadata": {},
   "source": [
    "# critic forward test"
   ]
  },
  {
   "cell_type": "code",
   "execution_count": 9,
   "metadata": {},
   "outputs": [
    {
     "data": {
      "text/plain": [
       "(39, 14)"
      ]
     },
     "execution_count": 9,
     "metadata": {},
     "output_type": "execute_result"
    }
   ],
   "source": [
    "t = critic.time_step\n",
    "n = critic.num_sensor\n",
    "t,n"
   ]
  },
  {
   "cell_type": "code",
   "execution_count": 10,
   "metadata": {},
   "outputs": [
    {
     "data": {
      "text/html": [
       "<div>\n",
       "<style scoped>\n",
       "    .dataframe tbody tr th:only-of-type {\n",
       "        vertical-align: middle;\n",
       "    }\n",
       "\n",
       "    .dataframe tbody tr th {\n",
       "        vertical-align: top;\n",
       "    }\n",
       "\n",
       "    .dataframe thead th {\n",
       "        text-align: right;\n",
       "    }\n",
       "</style>\n",
       "<table border=\"1\" class=\"dataframe\">\n",
       "  <thead>\n",
       "    <tr style=\"text-align: right;\">\n",
       "      <th></th>\n",
       "      <th>MLPAP_FQ-0619.PV</th>\n",
       "      <th>MLPAP_FR-0632.PV</th>\n",
       "      <th>MLPAP_LIC-0738.PV</th>\n",
       "      <th>MLPAP_LRC-0729.PV</th>\n",
       "      <th>MLPAP_PIC-0761.PV</th>\n",
       "      <th>MLPAP_TJ-0757B.PV</th>\n",
       "      <th>MLPAP_TJC-0627.PV</th>\n",
       "      <th>MLPAP_TJC-0757.PV</th>\n",
       "      <th>MLPAP_TJC-0757A.PV</th>\n",
       "      <th>MLPAP_TJC-1721.PV</th>\n",
       "      <th>MLPAP_TRC-0610.PV</th>\n",
       "      <th>MLPAP_TRC-0747.PV</th>\n",
       "      <th>MLPAP_TRC-0762.PV</th>\n",
       "      <th>MLPAP_TRC-1734.PV</th>\n",
       "    </tr>\n",
       "  </thead>\n",
       "  <tbody>\n",
       "    <tr>\n",
       "      <th>0</th>\n",
       "      <td>0.546433</td>\n",
       "      <td>0.222671</td>\n",
       "      <td>0.002979</td>\n",
       "      <td>0.643496</td>\n",
       "      <td>0.574127</td>\n",
       "      <td>0.620476</td>\n",
       "      <td>0.354570</td>\n",
       "      <td>0.154640</td>\n",
       "      <td>0.356897</td>\n",
       "      <td>0.789619</td>\n",
       "      <td>0.580907</td>\n",
       "      <td>0.774787</td>\n",
       "      <td>0.666498</td>\n",
       "      <td>0.604673</td>\n",
       "    </tr>\n",
       "    <tr>\n",
       "      <th>1</th>\n",
       "      <td>0.175875</td>\n",
       "      <td>0.840971</td>\n",
       "      <td>0.849761</td>\n",
       "      <td>0.903715</td>\n",
       "      <td>0.086130</td>\n",
       "      <td>0.767026</td>\n",
       "      <td>0.738661</td>\n",
       "      <td>0.608840</td>\n",
       "      <td>0.709876</td>\n",
       "      <td>0.221184</td>\n",
       "      <td>0.901794</td>\n",
       "      <td>0.469238</td>\n",
       "      <td>0.323175</td>\n",
       "      <td>0.678124</td>\n",
       "    </tr>\n",
       "    <tr>\n",
       "      <th>2</th>\n",
       "      <td>0.599204</td>\n",
       "      <td>0.838985</td>\n",
       "      <td>0.242323</td>\n",
       "      <td>0.354629</td>\n",
       "      <td>0.796461</td>\n",
       "      <td>0.629495</td>\n",
       "      <td>0.179766</td>\n",
       "      <td>0.124615</td>\n",
       "      <td>0.348650</td>\n",
       "      <td>0.640147</td>\n",
       "      <td>0.644212</td>\n",
       "      <td>0.655046</td>\n",
       "      <td>0.085681</td>\n",
       "      <td>0.875121</td>\n",
       "    </tr>\n",
       "    <tr>\n",
       "      <th>3</th>\n",
       "      <td>0.156698</td>\n",
       "      <td>0.444165</td>\n",
       "      <td>0.701303</td>\n",
       "      <td>0.942584</td>\n",
       "      <td>0.263817</td>\n",
       "      <td>0.863840</td>\n",
       "      <td>0.975195</td>\n",
       "      <td>0.872361</td>\n",
       "      <td>0.731489</td>\n",
       "      <td>0.123307</td>\n",
       "      <td>0.348811</td>\n",
       "      <td>0.096779</td>\n",
       "      <td>0.545323</td>\n",
       "      <td>0.304990</td>\n",
       "    </tr>\n",
       "    <tr>\n",
       "      <th>4</th>\n",
       "      <td>0.209113</td>\n",
       "      <td>0.959111</td>\n",
       "      <td>0.920710</td>\n",
       "      <td>0.851539</td>\n",
       "      <td>0.751567</td>\n",
       "      <td>0.125613</td>\n",
       "      <td>0.559794</td>\n",
       "      <td>0.628281</td>\n",
       "      <td>0.937798</td>\n",
       "      <td>0.179680</td>\n",
       "      <td>0.813518</td>\n",
       "      <td>0.315552</td>\n",
       "      <td>0.360455</td>\n",
       "      <td>0.619129</td>\n",
       "    </tr>\n",
       "  </tbody>\n",
       "</table>\n",
       "</div>"
      ],
      "text/plain": [
       "   MLPAP_FQ-0619.PV  MLPAP_FR-0632.PV  MLPAP_LIC-0738.PV  MLPAP_LRC-0729.PV  \\\n",
       "0          0.546433          0.222671           0.002979           0.643496   \n",
       "1          0.175875          0.840971           0.849761           0.903715   \n",
       "2          0.599204          0.838985           0.242323           0.354629   \n",
       "3          0.156698          0.444165           0.701303           0.942584   \n",
       "4          0.209113          0.959111           0.920710           0.851539   \n",
       "\n",
       "   MLPAP_PIC-0761.PV  MLPAP_TJ-0757B.PV  MLPAP_TJC-0627.PV  MLPAP_TJC-0757.PV  \\\n",
       "0           0.574127           0.620476           0.354570           0.154640   \n",
       "1           0.086130           0.767026           0.738661           0.608840   \n",
       "2           0.796461           0.629495           0.179766           0.124615   \n",
       "3           0.263817           0.863840           0.975195           0.872361   \n",
       "4           0.751567           0.125613           0.559794           0.628281   \n",
       "\n",
       "   MLPAP_TJC-0757A.PV  MLPAP_TJC-1721.PV  MLPAP_TRC-0610.PV  \\\n",
       "0            0.356897           0.789619           0.580907   \n",
       "1            0.709876           0.221184           0.901794   \n",
       "2            0.348650           0.640147           0.644212   \n",
       "3            0.731489           0.123307           0.348811   \n",
       "4            0.937798           0.179680           0.813518   \n",
       "\n",
       "   MLPAP_TRC-0747.PV  MLPAP_TRC-0762.PV  MLPAP_TRC-1734.PV  \n",
       "0           0.774787           0.666498           0.604673  \n",
       "1           0.469238           0.323175           0.678124  \n",
       "2           0.655046           0.085681           0.875121  \n",
       "3           0.096779           0.545323           0.304990  \n",
       "4           0.315552           0.360455           0.619129  "
      ]
     },
     "execution_count": 10,
     "metadata": {},
     "output_type": "execute_result"
    }
   ],
   "source": [
    "x = np.random.uniform(0,1,size=(t,n))\n",
    "x = pd.DataFrame(x,columns=x_cols)\n",
    "x.head()"
   ]
  },
  {
   "cell_type": "code",
   "execution_count": 11,
   "metadata": {},
   "outputs": [
    {
     "name": "stdout",
     "output_type": "stream",
     "text": [
      "tensor([[0.2031]], device='cuda:0', dtype=torch.float64,\n",
      "       grad_fn=<SigmoidBackward>)\n"
     ]
    },
    {
     "data": {
      "text/plain": [
       "array([[6023.19314704]])"
      ]
     },
     "execution_count": 11,
     "metadata": {},
     "output_type": "execute_result"
    }
   ],
   "source": [
    "y = critic(torch.tensor(x.values.reshape(-1,t*n)).cuda())\n",
    "print(y)\n",
    "y = mm_y.inverse_transform(y.detach().cpu().numpy())\n",
    "y"
   ]
  },
  {
   "cell_type": "markdown",
   "metadata": {},
   "source": [
    "# build Actor input set_point output feed and control_factor"
   ]
  },
  {
   "cell_type": "code",
   "execution_count": 12,
   "metadata": {},
   "outputs": [],
   "source": [
    "def build_Actor(input_shape,output_shape):\n",
    "    net = torch.nn.Sequential(\n",
    "        Linear(input_shape,256),\n",
    "        ReLU(),\n",
    "        Linear(256,output_shape),\n",
    "        Sigmoid()\n",
    "    )\n",
    "    return net"
   ]
  },
  {
   "cell_type": "code",
   "execution_count": 13,
   "metadata": {},
   "outputs": [],
   "source": [
    "def init_weights(m):\n",
    "  if hasattr(m,'weight'):\n",
    "    torch.nn.init.xavier_uniform(m.weight)\n",
    "  if hasattr(m,'bias'):  \n",
    "    m.bias.data.fill_(0)"
   ]
  },
  {
   "cell_type": "code",
   "execution_count": 14,
   "metadata": {},
   "outputs": [
    {
     "data": {
      "text/plain": [
       "Sequential(\n",
       "  (0): Linear(in_features=1, out_features=256, bias=True)\n",
       "  (1): ReLU()\n",
       "  (2): Linear(in_features=256, out_features=546, bias=True)\n",
       "  (3): Sigmoid()\n",
       ")"
      ]
     },
     "execution_count": 14,
     "metadata": {},
     "output_type": "execute_result"
    }
   ],
   "source": [
    "net = build_Actor(1,t*n).double().cuda()\n",
    "net.apply(init_weights)\n",
    "net"
   ]
  },
  {
   "cell_type": "markdown",
   "metadata": {},
   "source": [
    "# st_iter"
   ]
  },
  {
   "cell_type": "code",
   "execution_count": 15,
   "metadata": {},
   "outputs": [
    {
     "data": {
      "text/plain": [
       "<torch.utils.data.dataloader.DataLoader at 0x7facc1f6ef50>"
      ]
     },
     "execution_count": 15,
     "metadata": {},
     "output_type": "execute_result"
    }
   ],
   "source": [
    "st = torch.tensor(np.random.uniform(0,1,size=(5000,1))).cuda()\n",
    "st_datasets = torch.utils.data.TensorDataset(st)\n",
    "st_iter = torch.utils.data.DataLoader(st_datasets,batch_size=128)\n",
    "st_iter"
   ]
  },
  {
   "cell_type": "markdown",
   "metadata": {},
   "source": [
    "# obj function"
   ]
  },
  {
   "cell_type": "code",
   "execution_count": 16,
   "metadata": {},
   "outputs": [],
   "source": [
    "def obj_function(x,set_point):\n",
    "    y = critic(x)\n",
    "    loss = (set_point - y)**2\n",
    "    return loss.mean()"
   ]
  },
  {
   "cell_type": "markdown",
   "metadata": {},
   "source": [
    "# optimizer"
   ]
  },
  {
   "cell_type": "code",
   "execution_count": 17,
   "metadata": {},
   "outputs": [],
   "source": [
    "optimizer = optim.Adam(net.parameters(),lr=1e-4)"
   ]
  },
  {
   "cell_type": "markdown",
   "metadata": {},
   "source": [
    "# train"
   ]
  },
  {
   "cell_type": "code",
   "execution_count": 18,
   "metadata": {},
   "outputs": [],
   "source": [
    "def train(net,st_iter,obj_function,optimizer,num_epochs=100):\n",
    "    train_history = []\n",
    "    for epoch in range(num_epochs):\n",
    "        train_avg_loss = 0\n",
    "        t = 0\n",
    "        for st in st_iter:\n",
    "            st = st[0]\n",
    "            z = net(st).cuda()\n",
    "            loss = obj_function(z,st)\n",
    "            loss.backward()\n",
    "            optimizer.step()\n",
    "            optimizer.zero_grad()\n",
    "            train_avg_loss += loss.item()\n",
    "            t += 1\n",
    "        train_avg_loss /= t\n",
    "        print(\"epochs {} loss {:.4f}\".format(epoch,train_avg_loss))\n",
    "        train_history.append(train_avg_loss)\n",
    "    # plt train loss\n",
    "    plt.plot(np.array(train_history))\n",
    "    plt.title('train loss')\n",
    "    # return trained net\n",
    "    return net"
   ]
  },
  {
   "cell_type": "code",
   "execution_count": 19,
   "metadata": {},
   "outputs": [
    {
     "name": "stdout",
     "output_type": "stream",
     "text": [
      "epochs 0 loss 0.0773\n",
      "epochs 1 loss 0.0706\n",
      "epochs 2 loss 0.0646\n",
      "epochs 3 loss 0.0590\n",
      "epochs 4 loss 0.0538\n",
      "epochs 5 loss 0.0490\n",
      "epochs 6 loss 0.0446\n",
      "epochs 7 loss 0.0405\n",
      "epochs 8 loss 0.0368\n",
      "epochs 9 loss 0.0333\n",
      "epochs 10 loss 0.0302\n",
      "epochs 11 loss 0.0273\n",
      "epochs 12 loss 0.0247\n",
      "epochs 13 loss 0.0223\n",
      "epochs 14 loss 0.0202\n",
      "epochs 15 loss 0.0183\n",
      "epochs 16 loss 0.0166\n",
      "epochs 17 loss 0.0150\n",
      "epochs 18 loss 0.0137\n",
      "epochs 19 loss 0.0125\n",
      "epochs 20 loss 0.0114\n",
      "epochs 21 loss 0.0104\n",
      "epochs 22 loss 0.0096\n",
      "epochs 23 loss 0.0088\n",
      "epochs 24 loss 0.0082\n",
      "epochs 25 loss 0.0076\n",
      "epochs 26 loss 0.0070\n",
      "epochs 27 loss 0.0065\n",
      "epochs 28 loss 0.0061\n",
      "epochs 29 loss 0.0057\n",
      "epochs 30 loss 0.0053\n",
      "epochs 31 loss 0.0050\n",
      "epochs 32 loss 0.0047\n",
      "epochs 33 loss 0.0044\n",
      "epochs 34 loss 0.0042\n",
      "epochs 35 loss 0.0040\n",
      "epochs 36 loss 0.0037\n",
      "epochs 37 loss 0.0036\n",
      "epochs 38 loss 0.0034\n",
      "epochs 39 loss 0.0032\n",
      "epochs 40 loss 0.0031\n",
      "epochs 41 loss 0.0029\n",
      "epochs 42 loss 0.0028\n",
      "epochs 43 loss 0.0027\n",
      "epochs 44 loss 0.0025\n",
      "epochs 45 loss 0.0024\n",
      "epochs 46 loss 0.0023\n",
      "epochs 47 loss 0.0022\n",
      "epochs 48 loss 0.0022\n",
      "epochs 49 loss 0.0021\n",
      "epochs 50 loss 0.0020\n",
      "epochs 51 loss 0.0019\n",
      "epochs 52 loss 0.0019\n",
      "epochs 53 loss 0.0018\n",
      "epochs 54 loss 0.0018\n",
      "epochs 55 loss 0.0017\n",
      "epochs 56 loss 0.0017\n",
      "epochs 57 loss 0.0016\n",
      "epochs 58 loss 0.0016\n",
      "epochs 59 loss 0.0015\n",
      "epochs 60 loss 0.0015\n",
      "epochs 61 loss 0.0015\n",
      "epochs 62 loss 0.0014\n",
      "epochs 63 loss 0.0014\n",
      "epochs 64 loss 0.0014\n",
      "epochs 65 loss 0.0013\n",
      "epochs 66 loss 0.0013\n",
      "epochs 67 loss 0.0013\n",
      "epochs 68 loss 0.0013\n",
      "epochs 69 loss 0.0012\n",
      "epochs 70 loss 0.0012\n",
      "epochs 71 loss 0.0012\n",
      "epochs 72 loss 0.0012\n",
      "epochs 73 loss 0.0012\n",
      "epochs 74 loss 0.0012\n",
      "epochs 75 loss 0.0011\n",
      "epochs 76 loss 0.0011\n",
      "epochs 77 loss 0.0011\n",
      "epochs 78 loss 0.0011\n",
      "epochs 79 loss 0.0011\n",
      "epochs 80 loss 0.0011\n",
      "epochs 81 loss 0.0011\n",
      "epochs 82 loss 0.0011\n",
      "epochs 83 loss 0.0011\n",
      "epochs 84 loss 0.0011\n",
      "epochs 85 loss 0.0010\n",
      "epochs 86 loss 0.0010\n",
      "epochs 87 loss 0.0010\n",
      "epochs 88 loss 0.0010\n",
      "epochs 89 loss 0.0010\n",
      "epochs 90 loss 0.0010\n",
      "epochs 91 loss 0.0010\n",
      "epochs 92 loss 0.0010\n",
      "epochs 93 loss 0.0010\n",
      "epochs 94 loss 0.0010\n",
      "epochs 95 loss 0.0010\n",
      "epochs 96 loss 0.0010\n",
      "epochs 97 loss 0.0010\n",
      "epochs 98 loss 0.0010\n",
      "epochs 99 loss 0.0010\n"
     ]
    },
    {
     "data": {
      "image/png": "[encoded data removed]",
      "text/plain": [
       "<Figure size 432x288 with 1 Axes>"
      ]
     },
     "metadata": {
      "needs_background": "light"
     },
     "output_type": "display_data"
    }
   ],
   "source": [
    "net = train(net,st_iter,obj_function,optimizer,num_epochs=100)"
   ]
  },
  {
   "cell_type": "markdown",
   "metadata": {},
   "source": [
    "# result"
   ]
  },
  {
   "cell_type": "code",
   "execution_count": 20,
   "metadata": {},
   "outputs": [],
   "source": [
    "set_point = mm_y.inverse_transform(st.detach().cpu().numpy())\n",
    "critic_output = mm_y.inverse_transform(critic(net(st)).detach().cpu().numpy())"
   ]
  },
  {
   "cell_type": "code",
   "execution_count": 21,
   "metadata": {},
   "outputs": [
    {
     "name": "stdout",
     "output_type": "stream",
     "text": [
      "user_want:[5173.42037209] critic_output[5535.17819487]\n",
      "user_want:[5904.15075609] critic_output[5903.54807797]\n",
      "user_want:[8440.05558053] critic_output[8568.27109945]\n",
      "user_want:[7186.8408044] critic_output[7085.85694174]\n",
      "user_want:[5510.44797891] critic_output[5681.59460052]\n",
      "user_want:[6170.72554014] critic_output[6090.03299116]\n",
      "user_want:[9301.88906317] critic_output[9292.32739539]\n",
      "user_want:[5426.59884271] critic_output[5641.72753564]\n",
      "user_want:[7183.38802998] critic_output[7081.81688674]\n",
      "user_want:[8533.012109] critic_output[8663.4535934]\n"
     ]
    }
   ],
   "source": [
    "for i,j in zip(set_point[:10],critic_output[:10]):\n",
    "    print('user_want:{} critic_output{}'.format(i,j))"
   ]
  },
  {
   "cell_type": "markdown",
   "metadata": {},
   "source": [
    "# build api"
   ]
  },
  {
   "cell_type": "code",
   "execution_count": 22,
   "metadata": {},
   "outputs": [],
   "source": [
    "def get_advice(set_point):\n",
    "    st = mm_y.transform(np.array([[set_point]]))\n",
    "    st = torch.tensor(st).cuda()\n",
    "    z = net(st)\n",
    "    return z"
   ]
  },
  {
   "cell_type": "code",
   "execution_count": 23,
   "metadata": {},
   "outputs": [],
   "source": [
    "def get_critic_output(advice):\n",
    "    return mm_y.inverse_transform(critic(advice).detach().cpu().numpy())"
   ]
  },
  {
   "cell_type": "markdown",
   "metadata": {},
   "source": [
    "# test api"
   ]
  },
  {
   "cell_type": "code",
   "execution_count": 32,
   "metadata": {},
   "outputs": [],
   "source": [
    "advice = get_advice(8000)"
   ]
  },
  {
   "cell_type": "code",
   "execution_count": 33,
   "metadata": {},
   "outputs": [
    {
     "data": {
      "text/plain": [
       "array([[8073.30013391]])"
      ]
     },
     "execution_count": 33,
     "metadata": {},
     "output_type": "execute_result"
    }
   ],
   "source": [
    "get_critic_output(advice)"
   ]
  },
  {
   "cell_type": "code",
   "execution_count": null,
   "metadata": {},
   "outputs": [],
   "source": []
  }
 ],
 "metadata": {
  "kernelspec": {
   "display_name": "Python 3",
   "language": "python",
   "name": "python3"
  },
  "language_info": {
   "codemirror_mode": {
    "name": "ipython",
    "version": 3
   },
   "file_extension": ".py",
   "mimetype": "text/x-python",
   "name": "python",
   "nbconvert_exporter": "python",
   "pygments_lexer": "ipython3",
   "version": "3.7.6"
  }
 },
 "nbformat": 4,
 "nbformat_minor": 2
}
