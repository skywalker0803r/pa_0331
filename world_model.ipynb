{
 "cells": [
  {
   "cell_type": "code",
   "execution_count": 62,
   "metadata": {},
   "outputs": [],
   "source": [
    "import pandas as pd\n",
    "import numpy as np\n",
    "import torchviz\n",
    "import seaborn as sns\n",
    "import matplotlib.pyplot as plt\n",
    "from tqdm import tqdm_notebook as tqdm\n",
    "from torch.utils.tensorboard import SummaryWriter\n",
    "import torch\n",
    "import torch.nn as nn\n",
    "import torch.utils.data as Data\n",
    "import torchvision\n",
    "import joblib\n",
    "from sklearn.preprocessing import StandardScaler"
   ]
  },
  {
   "cell_type": "code",
   "execution_count": 63,
   "metadata": {},
   "outputs": [],
   "source": [
    "def get_col(df,name):\n",
    "    return df.columns[df.columns.str.contains(name)].tolist()"
   ]
  },
  {
   "cell_type": "markdown",
   "metadata": {},
   "source": [
    "# Load data"
   ]
  },
  {
   "cell_type": "code",
   "execution_count": 64,
   "metadata": {},
   "outputs": [
    {
     "name": "stdout",
     "output_type": "stream",
     "text": [
      "(94, 10)\n"
     ]
    },
    {
     "data": {
      "text/html": [
       "<div>\n",
       "<style scoped>\n",
       "    .dataframe tbody tr th:only-of-type {\n",
       "        vertical-align: middle;\n",
       "    }\n",
       "\n",
       "    .dataframe tbody tr th {\n",
       "        vertical-align: top;\n",
       "    }\n",
       "\n",
       "    .dataframe thead th {\n",
       "        text-align: right;\n",
       "    }\n",
       "</style>\n",
       "<table border=\"1\" class=\"dataframe\">\n",
       "  <thead>\n",
       "    <tr style=\"text-align: right;\">\n",
       "      <th></th>\n",
       "      <th>item</th>\n",
       "      <th>TAG</th>\n",
       "      <th>chinese</th>\n",
       "      <th>character</th>\n",
       "      <th>unit</th>\n",
       "      <th>category</th>\n",
       "      <th>period</th>\n",
       "      <th>min</th>\n",
       "      <th>max</th>\n",
       "      <th>推測顯著性(依製程經驗)</th>\n",
       "    </tr>\n",
       "  </thead>\n",
       "  <tbody>\n",
       "    <tr>\n",
       "      <td>0</td>\n",
       "      <td>1.0</td>\n",
       "      <td>MLPAP_TJC-0627.PV</td>\n",
       "      <td>OX預熱器出口溫度</td>\n",
       "      <td>溫度</td>\n",
       "      <td>℃</td>\n",
       "      <td>可控制因子</td>\n",
       "      <td>1分鐘2筆</td>\n",
       "      <td>140</td>\n",
       "      <td>160</td>\n",
       "      <td>***</td>\n",
       "    </tr>\n",
       "    <tr>\n",
       "      <td>1</td>\n",
       "      <td>2.0</td>\n",
       "      <td>MLPAP_TRC-0610.PV</td>\n",
       "      <td>空氣預熱器出口溫度</td>\n",
       "      <td>溫度</td>\n",
       "      <td>℃</td>\n",
       "      <td>可控制因子</td>\n",
       "      <td>1分鐘2筆</td>\n",
       "      <td>160</td>\n",
       "      <td>200</td>\n",
       "      <td>***</td>\n",
       "    </tr>\n",
       "    <tr>\n",
       "      <td>2</td>\n",
       "      <td>3.0</td>\n",
       "      <td>MLPAP_FR-0632.PV</td>\n",
       "      <td>汽機風量</td>\n",
       "      <td>流量</td>\n",
       "      <td>KNM3/HR</td>\n",
       "      <td>可控制因子</td>\n",
       "      <td>1分鐘2筆</td>\n",
       "      <td>30</td>\n",
       "      <td>90</td>\n",
       "      <td>****</td>\n",
       "    </tr>\n",
       "    <tr>\n",
       "      <td>3</td>\n",
       "      <td>4.0</td>\n",
       "      <td>MLPAP_FQ-0619.PV</td>\n",
       "      <td>OX入料量</td>\n",
       "      <td>流量</td>\n",
       "      <td>kg/HR</td>\n",
       "      <td>可控制因子</td>\n",
       "      <td>1分鐘2筆</td>\n",
       "      <td>2000</td>\n",
       "      <td>8000</td>\n",
       "      <td>****</td>\n",
       "    </tr>\n",
       "    <tr>\n",
       "      <td>4</td>\n",
       "      <td>5.0</td>\n",
       "      <td>MLPAP_TIC-0757A.PV</td>\n",
       "      <td>反應槽鹽浴溫度</td>\n",
       "      <td>溫度</td>\n",
       "      <td>℃</td>\n",
       "      <td>可控制因子</td>\n",
       "      <td>1分鐘2筆</td>\n",
       "      <td>345</td>\n",
       "      <td>365</td>\n",
       "      <td>****</td>\n",
       "    </tr>\n",
       "    <tr>\n",
       "      <td>...</td>\n",
       "      <td>...</td>\n",
       "      <td>...</td>\n",
       "      <td>...</td>\n",
       "      <td>...</td>\n",
       "      <td>...</td>\n",
       "      <td>...</td>\n",
       "      <td>...</td>\n",
       "      <td>...</td>\n",
       "      <td>...</td>\n",
       "      <td>...</td>\n",
       "    </tr>\n",
       "    <tr>\n",
       "      <td>89</td>\n",
       "      <td>90.0</td>\n",
       "      <td>MLPAP_PI-0771.PV</td>\n",
       "      <td>E220出口壓力</td>\n",
       "      <td>壓力</td>\n",
       "      <td>mbar</td>\n",
       "      <td>不可控制因子</td>\n",
       "      <td>1分鐘2筆</td>\n",
       "      <td>0</td>\n",
       "      <td>200</td>\n",
       "      <td>***</td>\n",
       "    </tr>\n",
       "    <tr>\n",
       "      <td>90</td>\n",
       "      <td>91.0</td>\n",
       "      <td>MLPAP_TRC-0747.PV</td>\n",
       "      <td>E220出口溫度</td>\n",
       "      <td>溫度</td>\n",
       "      <td>℃</td>\n",
       "      <td>可控制因子</td>\n",
       "      <td>1分鐘2筆</td>\n",
       "      <td>100</td>\n",
       "      <td>200</td>\n",
       "      <td>***</td>\n",
       "    </tr>\n",
       "    <tr>\n",
       "      <td>91</td>\n",
       "      <td>NaN</td>\n",
       "      <td>NaN</td>\n",
       "      <td>NaN</td>\n",
       "      <td>NaN</td>\n",
       "      <td>NaN</td>\n",
       "      <td>NaN</td>\n",
       "      <td>NaN</td>\n",
       "      <td>NaN</td>\n",
       "      <td>NaN</td>\n",
       "      <td>NaN</td>\n",
       "    </tr>\n",
       "    <tr>\n",
       "      <td>92</td>\n",
       "      <td>NaN</td>\n",
       "      <td>第二模型使用</td>\n",
       "      <td>NaN</td>\n",
       "      <td>NaN</td>\n",
       "      <td>NaN</td>\n",
       "      <td>NaN</td>\n",
       "      <td>NaN</td>\n",
       "      <td>NaN</td>\n",
       "      <td>NaN</td>\n",
       "      <td>NaN</td>\n",
       "    </tr>\n",
       "    <tr>\n",
       "      <td>93</td>\n",
       "      <td>92.0</td>\n",
       "      <td>MLPAP_V125-PHD</td>\n",
       "      <td>粗PA儲槽PHD</td>\n",
       "      <td>組成</td>\n",
       "      <td>%</td>\n",
       "      <td>不可控制因子</td>\n",
       "      <td>1天1筆</td>\n",
       "      <td>0</td>\n",
       "      <td>0.1</td>\n",
       "      <td>***</td>\n",
       "    </tr>\n",
       "  </tbody>\n",
       "</table>\n",
       "<p>94 rows × 10 columns</p>\n",
       "</div>"
      ],
      "text/plain": [
       "    item                 TAG    chinese character     unit category period  \\\n",
       "0    1.0   MLPAP_TJC-0627.PV  OX預熱器出口溫度        溫度        ℃    可控制因子  1分鐘2筆   \n",
       "1    2.0   MLPAP_TRC-0610.PV  空氣預熱器出口溫度        溫度        ℃    可控制因子  1分鐘2筆   \n",
       "2    3.0    MLPAP_FR-0632.PV       汽機風量        流量  KNM3/HR    可控制因子  1分鐘2筆   \n",
       "3    4.0    MLPAP_FQ-0619.PV      OX入料量        流量    kg/HR    可控制因子  1分鐘2筆   \n",
       "4    5.0  MLPAP_TIC-0757A.PV    反應槽鹽浴溫度        溫度        ℃    可控制因子  1分鐘2筆   \n",
       "..   ...                 ...        ...       ...      ...      ...    ...   \n",
       "89  90.0    MLPAP_PI-0771.PV   E220出口壓力        壓力     mbar   不可控制因子  1分鐘2筆   \n",
       "90  91.0   MLPAP_TRC-0747.PV   E220出口溫度        溫度        ℃    可控制因子  1分鐘2筆   \n",
       "91   NaN                 NaN        NaN       NaN      NaN      NaN    NaN   \n",
       "92   NaN              第二模型使用        NaN       NaN      NaN      NaN    NaN   \n",
       "93  92.0      MLPAP_V125-PHD   粗PA儲槽PHD        組成        %   不可控制因子   1天1筆   \n",
       "\n",
       "     min   max 推測顯著性(依製程經驗)  \n",
       "0    140   160          ***  \n",
       "1    160   200          ***  \n",
       "2     30    90         ****  \n",
       "3   2000  8000         ****  \n",
       "4    345   365         ****  \n",
       "..   ...   ...          ...  \n",
       "89     0   200          ***  \n",
       "90   100   200          ***  \n",
       "91   NaN   NaN          NaN  \n",
       "92   NaN   NaN          NaN  \n",
       "93     0   0.1          ***  \n",
       "\n",
       "[94 rows x 10 columns]"
      ]
     },
     "execution_count": 64,
     "metadata": {},
     "output_type": "execute_result"
    }
   ],
   "source": [
    "tag = pd.read_excel('./data/tag盤點表20200323.xlsx')\n",
    "print(tag.shape)\n",
    "tag"
   ]
  },
  {
   "cell_type": "code",
   "execution_count": 65,
   "metadata": {},
   "outputs": [
    {
     "data": {
      "text/html": [
       "<div>\n",
       "<style scoped>\n",
       "    .dataframe tbody tr th:only-of-type {\n",
       "        vertical-align: middle;\n",
       "    }\n",
       "\n",
       "    .dataframe tbody tr th {\n",
       "        vertical-align: top;\n",
       "    }\n",
       "\n",
       "    .dataframe thead th {\n",
       "        text-align: right;\n",
       "    }\n",
       "</style>\n",
       "<table border=\"1\" class=\"dataframe\">\n",
       "  <thead>\n",
       "    <tr style=\"text-align: right;\">\n",
       "      <th></th>\n",
       "      <th>item</th>\n",
       "      <th>TAG</th>\n",
       "      <th>chinese</th>\n",
       "      <th>character</th>\n",
       "      <th>unit</th>\n",
       "      <th>category</th>\n",
       "      <th>period</th>\n",
       "      <th>min</th>\n",
       "      <th>max</th>\n",
       "      <th>推測顯著性(依製程經驗)</th>\n",
       "    </tr>\n",
       "  </thead>\n",
       "  <tbody>\n",
       "  </tbody>\n",
       "</table>\n",
       "</div>"
      ],
      "text/plain": [
       "Empty DataFrame\n",
       "Columns: [item, TAG, chinese, character, unit, category, period, min, max, 推測顯著性(依製程經驗)]\n",
       "Index: []"
      ]
     },
     "execution_count": 65,
     "metadata": {},
     "output_type": "execute_result"
    }
   ],
   "source": [
    "tag[tag['TAG']=='MLPAP_TJC-0757.PV']"
   ]
  },
  {
   "cell_type": "code",
   "execution_count": 66,
   "metadata": {},
   "outputs": [
    {
     "name": "stdout",
     "output_type": "stream",
     "text": [
      "(193824, 93)\n"
     ]
    },
    {
     "data": {
      "text/html": [
       "<div>\n",
       "<style scoped>\n",
       "    .dataframe tbody tr th:only-of-type {\n",
       "        vertical-align: middle;\n",
       "    }\n",
       "\n",
       "    .dataframe tbody tr th {\n",
       "        vertical-align: top;\n",
       "    }\n",
       "\n",
       "    .dataframe thead th {\n",
       "        text-align: right;\n",
       "    }\n",
       "</style>\n",
       "<table border=\"1\" class=\"dataframe\">\n",
       "  <thead>\n",
       "    <tr style=\"text-align: right;\">\n",
       "      <th></th>\n",
       "      <th>MLPAP_TJ-0706B02</th>\n",
       "      <th>MLPAP_TJ-0706B03</th>\n",
       "      <th>MLPAP_TJ-0706B04</th>\n",
       "      <th>MLPAP_TJ-0706B05</th>\n",
       "      <th>MLPAP_TJ-0706B06</th>\n",
       "      <th>MLPAP_TJ-0706B07</th>\n",
       "      <th>MLPAP_TJ-0706B08</th>\n",
       "      <th>MLPAP_TJ-0706B09</th>\n",
       "      <th>MLPAP_TJ-0706B10</th>\n",
       "      <th>MLPAP_TJ-0706B11</th>\n",
       "      <th>...</th>\n",
       "      <th>MLPAP_FQI-0997.PV</th>\n",
       "      <th>DATA OF USE</th>\n",
       "      <th>MLPAP_FR-0755PV(轉換後)</th>\n",
       "      <th>MLPAP_FR-0791.PV</th>\n",
       "      <th>MLPAP_FI-V211.PV(轉換後)</th>\n",
       "      <th>MLPAP_PI-0658.PV</th>\n",
       "      <th>MLPAP_TJC-0757.PV</th>\n",
       "      <th>MLPAP_V125-PHD</th>\n",
       "      <th>MLPAP_PI-0771.PV</th>\n",
       "      <th>MLPAP_TRC-0747.PV</th>\n",
       "    </tr>\n",
       "  </thead>\n",
       "  <tbody>\n",
       "    <tr>\n",
       "      <td>2016-05-09 00:00:00</td>\n",
       "      <td>400.0</td>\n",
       "      <td>401.957120</td>\n",
       "      <td>400.751866</td>\n",
       "      <td>402.250788</td>\n",
       "      <td>401.148767</td>\n",
       "      <td>401.0</td>\n",
       "      <td>400.050078</td>\n",
       "      <td>403.0</td>\n",
       "      <td>402.0</td>\n",
       "      <td>401.0</td>\n",
       "      <td>...</td>\n",
       "      <td>0.0</td>\n",
       "      <td>0.000005</td>\n",
       "      <td>4.045683</td>\n",
       "      <td>6.484770</td>\n",
       "      <td>NaN</td>\n",
       "      <td>-1.000000</td>\n",
       "      <td>1.635186</td>\n",
       "      <td>0.051</td>\n",
       "      <td>-1.38272</td>\n",
       "      <td>133.100006</td>\n",
       "    </tr>\n",
       "    <tr>\n",
       "      <td>2016-05-09 00:10:00</td>\n",
       "      <td>400.0</td>\n",
       "      <td>401.942713</td>\n",
       "      <td>400.949883</td>\n",
       "      <td>402.249145</td>\n",
       "      <td>401.000000</td>\n",
       "      <td>401.0</td>\n",
       "      <td>400.249800</td>\n",
       "      <td>403.0</td>\n",
       "      <td>402.0</td>\n",
       "      <td>401.0</td>\n",
       "      <td>...</td>\n",
       "      <td>0.0</td>\n",
       "      <td>0.000010</td>\n",
       "      <td>4.152250</td>\n",
       "      <td>6.449888</td>\n",
       "      <td>NaN</td>\n",
       "      <td>-1.000000</td>\n",
       "      <td>1.625011</td>\n",
       "      <td>0.051</td>\n",
       "      <td>-1.38273</td>\n",
       "      <td>133.100006</td>\n",
       "    </tr>\n",
       "    <tr>\n",
       "      <td>2016-05-09 00:20:00</td>\n",
       "      <td>400.0</td>\n",
       "      <td>401.900145</td>\n",
       "      <td>400.899767</td>\n",
       "      <td>402.101255</td>\n",
       "      <td>401.000000</td>\n",
       "      <td>401.0</td>\n",
       "      <td>400.100155</td>\n",
       "      <td>403.0</td>\n",
       "      <td>402.0</td>\n",
       "      <td>401.0</td>\n",
       "      <td>...</td>\n",
       "      <td>0.0</td>\n",
       "      <td>0.000014</td>\n",
       "      <td>4.202449</td>\n",
       "      <td>6.440502</td>\n",
       "      <td>NaN</td>\n",
       "      <td>-0.898558</td>\n",
       "      <td>1.649780</td>\n",
       "      <td>0.051</td>\n",
       "      <td>-1.40000</td>\n",
       "      <td>133.100006</td>\n",
       "    </tr>\n",
       "    <tr>\n",
       "      <td>2016-05-09 00:30:00</td>\n",
       "      <td>400.0</td>\n",
       "      <td>401.949936</td>\n",
       "      <td>400.900210</td>\n",
       "      <td>402.300333</td>\n",
       "      <td>401.000000</td>\n",
       "      <td>401.0</td>\n",
       "      <td>400.144695</td>\n",
       "      <td>403.0</td>\n",
       "      <td>402.0</td>\n",
       "      <td>401.0</td>\n",
       "      <td>...</td>\n",
       "      <td>0.0</td>\n",
       "      <td>0.000019</td>\n",
       "      <td>4.146723</td>\n",
       "      <td>6.463649</td>\n",
       "      <td>NaN</td>\n",
       "      <td>-0.509010</td>\n",
       "      <td>1.635187</td>\n",
       "      <td>0.051</td>\n",
       "      <td>-1.40000</td>\n",
       "      <td>133.199997</td>\n",
       "    </tr>\n",
       "    <tr>\n",
       "      <td>2016-05-09 00:40:00</td>\n",
       "      <td>400.0</td>\n",
       "      <td>402.000000</td>\n",
       "      <td>400.850037</td>\n",
       "      <td>402.176070</td>\n",
       "      <td>401.000000</td>\n",
       "      <td>401.0</td>\n",
       "      <td>400.405002</td>\n",
       "      <td>403.0</td>\n",
       "      <td>402.0</td>\n",
       "      <td>401.0</td>\n",
       "      <td>...</td>\n",
       "      <td>0.0</td>\n",
       "      <td>0.000024</td>\n",
       "      <td>4.011298</td>\n",
       "      <td>6.414799</td>\n",
       "      <td>NaN</td>\n",
       "      <td>-0.992771</td>\n",
       "      <td>1.654259</td>\n",
       "      <td>0.051</td>\n",
       "      <td>-1.30000</td>\n",
       "      <td>133.100006</td>\n",
       "    </tr>\n",
       "  </tbody>\n",
       "</table>\n",
       "<p>5 rows × 93 columns</p>\n",
       "</div>"
      ],
      "text/plain": [
       "                     MLPAP_TJ-0706B02  MLPAP_TJ-0706B03  MLPAP_TJ-0706B04  \\\n",
       "2016-05-09 00:00:00             400.0        401.957120        400.751866   \n",
       "2016-05-09 00:10:00             400.0        401.942713        400.949883   \n",
       "2016-05-09 00:20:00             400.0        401.900145        400.899767   \n",
       "2016-05-09 00:30:00             400.0        401.949936        400.900210   \n",
       "2016-05-09 00:40:00             400.0        402.000000        400.850037   \n",
       "\n",
       "                     MLPAP_TJ-0706B05  MLPAP_TJ-0706B06  MLPAP_TJ-0706B07  \\\n",
       "2016-05-09 00:00:00        402.250788        401.148767             401.0   \n",
       "2016-05-09 00:10:00        402.249145        401.000000             401.0   \n",
       "2016-05-09 00:20:00        402.101255        401.000000             401.0   \n",
       "2016-05-09 00:30:00        402.300333        401.000000             401.0   \n",
       "2016-05-09 00:40:00        402.176070        401.000000             401.0   \n",
       "\n",
       "                     MLPAP_TJ-0706B08  MLPAP_TJ-0706B09  MLPAP_TJ-0706B10  \\\n",
       "2016-05-09 00:00:00        400.050078             403.0             402.0   \n",
       "2016-05-09 00:10:00        400.249800             403.0             402.0   \n",
       "2016-05-09 00:20:00        400.100155             403.0             402.0   \n",
       "2016-05-09 00:30:00        400.144695             403.0             402.0   \n",
       "2016-05-09 00:40:00        400.405002             403.0             402.0   \n",
       "\n",
       "                     MLPAP_TJ-0706B11  ...  MLPAP_FQI-0997.PV  DATA OF USE  \\\n",
       "2016-05-09 00:00:00             401.0  ...                0.0     0.000005   \n",
       "2016-05-09 00:10:00             401.0  ...                0.0     0.000010   \n",
       "2016-05-09 00:20:00             401.0  ...                0.0     0.000014   \n",
       "2016-05-09 00:30:00             401.0  ...                0.0     0.000019   \n",
       "2016-05-09 00:40:00             401.0  ...                0.0     0.000024   \n",
       "\n",
       "                     MLPAP_FR-0755PV(轉換後)  MLPAP_FR-0791.PV  \\\n",
       "2016-05-09 00:00:00              4.045683          6.484770   \n",
       "2016-05-09 00:10:00              4.152250          6.449888   \n",
       "2016-05-09 00:20:00              4.202449          6.440502   \n",
       "2016-05-09 00:30:00              4.146723          6.463649   \n",
       "2016-05-09 00:40:00              4.011298          6.414799   \n",
       "\n",
       "                     MLPAP_FI-V211.PV(轉換後)  MLPAP_PI-0658.PV  \\\n",
       "2016-05-09 00:00:00                    NaN         -1.000000   \n",
       "2016-05-09 00:10:00                    NaN         -1.000000   \n",
       "2016-05-09 00:20:00                    NaN         -0.898558   \n",
       "2016-05-09 00:30:00                    NaN         -0.509010   \n",
       "2016-05-09 00:40:00                    NaN         -0.992771   \n",
       "\n",
       "                     MLPAP_TJC-0757.PV  MLPAP_V125-PHD  MLPAP_PI-0771.PV  \\\n",
       "2016-05-09 00:00:00           1.635186           0.051          -1.38272   \n",
       "2016-05-09 00:10:00           1.625011           0.051          -1.38273   \n",
       "2016-05-09 00:20:00           1.649780           0.051          -1.40000   \n",
       "2016-05-09 00:30:00           1.635187           0.051          -1.40000   \n",
       "2016-05-09 00:40:00           1.654259           0.051          -1.30000   \n",
       "\n",
       "                     MLPAP_TRC-0747.PV  \n",
       "2016-05-09 00:00:00         133.100006  \n",
       "2016-05-09 00:10:00         133.100006  \n",
       "2016-05-09 00:20:00         133.100006  \n",
       "2016-05-09 00:30:00         133.199997  \n",
       "2016-05-09 00:40:00         133.100006  \n",
       "\n",
       "[5 rows x 93 columns]"
      ]
     },
     "execution_count": 66,
     "metadata": {},
     "output_type": "execute_result"
    }
   ],
   "source": [
    "df = pd.read_csv('./data/train(tag_sheet_check).csv',index_col=0,parse_dates=True)\n",
    "print(df.shape)\n",
    "df.head()"
   ]
  },
  {
   "cell_type": "markdown",
   "metadata": {},
   "source": [
    "# handle error"
   ]
  },
  {
   "cell_type": "code",
   "execution_count": 67,
   "metadata": {},
   "outputs": [],
   "source": [
    "df.columns = [str(i).replace('TI','TJ') for i in df.columns]\n",
    "tag['TAG'] = [str(i).replace('TI','TJ') for i in tag['TAG'].values]"
   ]
  },
  {
   "cell_type": "code",
   "execution_count": 68,
   "metadata": {},
   "outputs": [],
   "source": [
    "temp = tag[tag['TAG']=='MLPAP_TJC-0757A.PV'].copy()\n",
    "temp['TAG'] = 'MLPAP_TJ-0757B.PV'\n",
    "tag = tag.append(temp)"
   ]
  },
  {
   "cell_type": "code",
   "execution_count": 69,
   "metadata": {},
   "outputs": [
    {
     "name": "stdout",
     "output_type": "stream",
     "text": [
      "only in df:\n",
      "only in tag:\n"
     ]
    },
    {
     "data": {
      "text/plain": [
       "{'nan', '第二模型使用'}"
      ]
     },
     "execution_count": 69,
     "metadata": {},
     "output_type": "execute_result"
    }
   ],
   "source": [
    "print('only in df:')\n",
    "set(df.columns) - set(tag['TAG'])\n",
    "\n",
    "print('only in tag:')\n",
    "set(tag['TAG']) - set(df.columns)"
   ]
  },
  {
   "cell_type": "markdown",
   "metadata": {},
   "source": [
    "# spec clip or to np.nan"
   ]
  },
  {
   "cell_type": "code",
   "execution_count": 70,
   "metadata": {},
   "outputs": [
    {
     "data": {
      "application/vnd.jupyter.widget-view+json": {
       "model_id": "34204d2e7dda4e0ca3cd0ba5ea791963",
       "version_major": 2,
       "version_minor": 0
      },
      "text/plain": [
       "HBox(children=(IntProgress(value=0, max=93), HTML(value='')))"
      ]
     },
     "metadata": {},
     "output_type": "display_data"
    },
    {
     "name": "stdout",
     "output_type": "stream",
     "text": [
      "\n"
     ]
    },
    {
     "data": {
      "text/html": [
       "<div>\n",
       "<style scoped>\n",
       "    .dataframe tbody tr th:only-of-type {\n",
       "        vertical-align: middle;\n",
       "    }\n",
       "\n",
       "    .dataframe tbody tr th {\n",
       "        vertical-align: top;\n",
       "    }\n",
       "\n",
       "    .dataframe thead th {\n",
       "        text-align: right;\n",
       "    }\n",
       "</style>\n",
       "<table border=\"1\" class=\"dataframe\">\n",
       "  <thead>\n",
       "    <tr style=\"text-align: right;\">\n",
       "      <th></th>\n",
       "      <th>MLPAP_TJ-0706B02</th>\n",
       "      <th>MLPAP_TJ-0706B03</th>\n",
       "      <th>MLPAP_TJ-0706B04</th>\n",
       "      <th>MLPAP_TJ-0706B05</th>\n",
       "      <th>MLPAP_TJ-0706B06</th>\n",
       "      <th>MLPAP_TJ-0706B07</th>\n",
       "      <th>MLPAP_TJ-0706B08</th>\n",
       "      <th>MLPAP_TJ-0706B09</th>\n",
       "      <th>MLPAP_TJ-0706B10</th>\n",
       "      <th>MLPAP_TJ-0706B11</th>\n",
       "      <th>...</th>\n",
       "      <th>MLPAP_FQI-0997.PV</th>\n",
       "      <th>DATA OF USE</th>\n",
       "      <th>MLPAP_FR-0755PV(轉換後)</th>\n",
       "      <th>MLPAP_FR-0791.PV</th>\n",
       "      <th>MLPAP_FI-V211.PV(轉換後)</th>\n",
       "      <th>MLPAP_PI-0658.PV</th>\n",
       "      <th>MLPAP_TJC-0757.PV</th>\n",
       "      <th>MLPAP_V125-PHD</th>\n",
       "      <th>MLPAP_PI-0771.PV</th>\n",
       "      <th>MLPAP_TRC-0747.PV</th>\n",
       "    </tr>\n",
       "  </thead>\n",
       "  <tbody>\n",
       "    <tr>\n",
       "      <td>2016-05-09 00:00:00</td>\n",
       "      <td>400.0</td>\n",
       "      <td>401.957120</td>\n",
       "      <td>400.751866</td>\n",
       "      <td>402.250788</td>\n",
       "      <td>401.148767</td>\n",
       "      <td>401.0</td>\n",
       "      <td>400.050078</td>\n",
       "      <td>403.0</td>\n",
       "      <td>402.0</td>\n",
       "      <td>401.0</td>\n",
       "      <td>...</td>\n",
       "      <td>NaN</td>\n",
       "      <td>0.000005</td>\n",
       "      <td>4.045683</td>\n",
       "      <td>NaN</td>\n",
       "      <td>NaN</td>\n",
       "      <td>NaN</td>\n",
       "      <td>1.635186</td>\n",
       "      <td>0.051</td>\n",
       "      <td>NaN</td>\n",
       "      <td>133.100006</td>\n",
       "    </tr>\n",
       "    <tr>\n",
       "      <td>2016-05-09 00:10:00</td>\n",
       "      <td>400.0</td>\n",
       "      <td>401.942713</td>\n",
       "      <td>400.949883</td>\n",
       "      <td>402.249145</td>\n",
       "      <td>401.000000</td>\n",
       "      <td>401.0</td>\n",
       "      <td>400.249800</td>\n",
       "      <td>403.0</td>\n",
       "      <td>402.0</td>\n",
       "      <td>401.0</td>\n",
       "      <td>...</td>\n",
       "      <td>NaN</td>\n",
       "      <td>0.000010</td>\n",
       "      <td>4.152250</td>\n",
       "      <td>NaN</td>\n",
       "      <td>NaN</td>\n",
       "      <td>NaN</td>\n",
       "      <td>1.625011</td>\n",
       "      <td>0.051</td>\n",
       "      <td>NaN</td>\n",
       "      <td>133.100006</td>\n",
       "    </tr>\n",
       "    <tr>\n",
       "      <td>2016-05-09 00:20:00</td>\n",
       "      <td>400.0</td>\n",
       "      <td>401.900145</td>\n",
       "      <td>400.899767</td>\n",
       "      <td>402.101255</td>\n",
       "      <td>401.000000</td>\n",
       "      <td>401.0</td>\n",
       "      <td>400.100155</td>\n",
       "      <td>403.0</td>\n",
       "      <td>402.0</td>\n",
       "      <td>401.0</td>\n",
       "      <td>...</td>\n",
       "      <td>NaN</td>\n",
       "      <td>0.000014</td>\n",
       "      <td>4.202449</td>\n",
       "      <td>NaN</td>\n",
       "      <td>NaN</td>\n",
       "      <td>NaN</td>\n",
       "      <td>1.649780</td>\n",
       "      <td>0.051</td>\n",
       "      <td>NaN</td>\n",
       "      <td>133.100006</td>\n",
       "    </tr>\n",
       "    <tr>\n",
       "      <td>2016-05-09 00:30:00</td>\n",
       "      <td>400.0</td>\n",
       "      <td>401.949936</td>\n",
       "      <td>400.900210</td>\n",
       "      <td>402.300333</td>\n",
       "      <td>401.000000</td>\n",
       "      <td>401.0</td>\n",
       "      <td>400.144695</td>\n",
       "      <td>403.0</td>\n",
       "      <td>402.0</td>\n",
       "      <td>401.0</td>\n",
       "      <td>...</td>\n",
       "      <td>NaN</td>\n",
       "      <td>0.000019</td>\n",
       "      <td>4.146723</td>\n",
       "      <td>NaN</td>\n",
       "      <td>NaN</td>\n",
       "      <td>NaN</td>\n",
       "      <td>1.635187</td>\n",
       "      <td>0.051</td>\n",
       "      <td>NaN</td>\n",
       "      <td>133.199997</td>\n",
       "    </tr>\n",
       "    <tr>\n",
       "      <td>2016-05-09 00:40:00</td>\n",
       "      <td>400.0</td>\n",
       "      <td>402.000000</td>\n",
       "      <td>400.850037</td>\n",
       "      <td>402.176070</td>\n",
       "      <td>401.000000</td>\n",
       "      <td>401.0</td>\n",
       "      <td>400.405002</td>\n",
       "      <td>403.0</td>\n",
       "      <td>402.0</td>\n",
       "      <td>401.0</td>\n",
       "      <td>...</td>\n",
       "      <td>NaN</td>\n",
       "      <td>0.000024</td>\n",
       "      <td>4.011298</td>\n",
       "      <td>NaN</td>\n",
       "      <td>NaN</td>\n",
       "      <td>NaN</td>\n",
       "      <td>1.654259</td>\n",
       "      <td>0.051</td>\n",
       "      <td>NaN</td>\n",
       "      <td>133.100006</td>\n",
       "    </tr>\n",
       "  </tbody>\n",
       "</table>\n",
       "<p>5 rows × 93 columns</p>\n",
       "</div>"
      ],
      "text/plain": [
       "                     MLPAP_TJ-0706B02  MLPAP_TJ-0706B03  MLPAP_TJ-0706B04  \\\n",
       "2016-05-09 00:00:00             400.0        401.957120        400.751866   \n",
       "2016-05-09 00:10:00             400.0        401.942713        400.949883   \n",
       "2016-05-09 00:20:00             400.0        401.900145        400.899767   \n",
       "2016-05-09 00:30:00             400.0        401.949936        400.900210   \n",
       "2016-05-09 00:40:00             400.0        402.000000        400.850037   \n",
       "\n",
       "                     MLPAP_TJ-0706B05  MLPAP_TJ-0706B06  MLPAP_TJ-0706B07  \\\n",
       "2016-05-09 00:00:00        402.250788        401.148767             401.0   \n",
       "2016-05-09 00:10:00        402.249145        401.000000             401.0   \n",
       "2016-05-09 00:20:00        402.101255        401.000000             401.0   \n",
       "2016-05-09 00:30:00        402.300333        401.000000             401.0   \n",
       "2016-05-09 00:40:00        402.176070        401.000000             401.0   \n",
       "\n",
       "                     MLPAP_TJ-0706B08  MLPAP_TJ-0706B09  MLPAP_TJ-0706B10  \\\n",
       "2016-05-09 00:00:00        400.050078             403.0             402.0   \n",
       "2016-05-09 00:10:00        400.249800             403.0             402.0   \n",
       "2016-05-09 00:20:00        400.100155             403.0             402.0   \n",
       "2016-05-09 00:30:00        400.144695             403.0             402.0   \n",
       "2016-05-09 00:40:00        400.405002             403.0             402.0   \n",
       "\n",
       "                     MLPAP_TJ-0706B11  ...  MLPAP_FQI-0997.PV  DATA OF USE  \\\n",
       "2016-05-09 00:00:00             401.0  ...                NaN     0.000005   \n",
       "2016-05-09 00:10:00             401.0  ...                NaN     0.000010   \n",
       "2016-05-09 00:20:00             401.0  ...                NaN     0.000014   \n",
       "2016-05-09 00:30:00             401.0  ...                NaN     0.000019   \n",
       "2016-05-09 00:40:00             401.0  ...                NaN     0.000024   \n",
       "\n",
       "                     MLPAP_FR-0755PV(轉換後)  MLPAP_FR-0791.PV  \\\n",
       "2016-05-09 00:00:00              4.045683               NaN   \n",
       "2016-05-09 00:10:00              4.152250               NaN   \n",
       "2016-05-09 00:20:00              4.202449               NaN   \n",
       "2016-05-09 00:30:00              4.146723               NaN   \n",
       "2016-05-09 00:40:00              4.011298               NaN   \n",
       "\n",
       "                     MLPAP_FI-V211.PV(轉換後)  MLPAP_PI-0658.PV  \\\n",
       "2016-05-09 00:00:00                    NaN               NaN   \n",
       "2016-05-09 00:10:00                    NaN               NaN   \n",
       "2016-05-09 00:20:00                    NaN               NaN   \n",
       "2016-05-09 00:30:00                    NaN               NaN   \n",
       "2016-05-09 00:40:00                    NaN               NaN   \n",
       "\n",
       "                     MLPAP_TJC-0757.PV  MLPAP_V125-PHD  MLPAP_PI-0771.PV  \\\n",
       "2016-05-09 00:00:00           1.635186           0.051               NaN   \n",
       "2016-05-09 00:10:00           1.625011           0.051               NaN   \n",
       "2016-05-09 00:20:00           1.649780           0.051               NaN   \n",
       "2016-05-09 00:30:00           1.635187           0.051               NaN   \n",
       "2016-05-09 00:40:00           1.654259           0.051               NaN   \n",
       "\n",
       "                     MLPAP_TRC-0747.PV  \n",
       "2016-05-09 00:00:00         133.100006  \n",
       "2016-05-09 00:10:00         133.100006  \n",
       "2016-05-09 00:20:00         133.100006  \n",
       "2016-05-09 00:30:00         133.199997  \n",
       "2016-05-09 00:40:00         133.100006  \n",
       "\n",
       "[5 rows x 93 columns]"
      ]
     },
     "execution_count": 70,
     "metadata": {},
     "output_type": "execute_result"
    }
   ],
   "source": [
    "for i in tqdm(df.columns):\n",
    "    if i == 'DATA OF USE':\n",
    "        continue\n",
    "    lb = tag[tag['TAG']==i]['min'].values[0]\n",
    "    ub = tag[tag['TAG']==i]['max'].values[0]\n",
    "    out = (df[i]<lb)|(df[i]>ub)\n",
    "    # clip or to np.nan\n",
    "    #df[i] = np.clip(df[i].values,lb,ub)\n",
    "    df.loc[out,i] = np.nan\n",
    "df.head()"
   ]
  },
  {
   "cell_type": "markdown",
   "metadata": {},
   "source": [
    "# define columns"
   ]
  },
  {
   "cell_type": "code",
   "execution_count": 71,
   "metadata": {},
   "outputs": [
    {
     "data": {
      "text/plain": [
       "['MLPAP_FR-0632.PV',\n",
       " 'MLPAP_LIC-0738.PV',\n",
       " 'MLPAP_LRC-0729.PV',\n",
       " 'MLPAP_PIC-0741.PV',\n",
       " 'MLPAP_PIC-0761.PV',\n",
       " 'MLPAP_TJ-0757B.PV',\n",
       " 'MLPAP_TJC-0627.PV',\n",
       " 'MLPAP_TJC-0757.PV',\n",
       " 'MLPAP_TJC-0757A.PV',\n",
       " 'MLPAP_TJC-1721.PV',\n",
       " 'MLPAP_TRC-0610.PV',\n",
       " 'MLPAP_TRC-0747.PV',\n",
       " 'MLPAP_TRC-0762.PV',\n",
       " 'MLPAP_TRC-1734.PV']"
      ]
     },
     "execution_count": 71,
     "metadata": {},
     "output_type": "execute_result"
    }
   ],
   "source": [
    "control_factor = tag[tag['category']=='可控制因子']['TAG'].values.tolist()\n",
    "INPUT = get_col(df,'0619')\n",
    "OUTPUT = get_col(df,'0997')\n",
    "control_factor = list(set(control_factor) - set(INPUT) - set(OUTPUT))\n",
    "control_factor = sorted(control_factor)\n",
    "control_factor"
   ]
  },
  {
   "cell_type": "code",
   "execution_count": 72,
   "metadata": {},
   "outputs": [
    {
     "data": {
      "text/html": [
       "<div>\n",
       "<style scoped>\n",
       "    .dataframe tbody tr th:only-of-type {\n",
       "        vertical-align: middle;\n",
       "    }\n",
       "\n",
       "    .dataframe tbody tr th {\n",
       "        vertical-align: top;\n",
       "    }\n",
       "\n",
       "    .dataframe thead th {\n",
       "        text-align: right;\n",
       "    }\n",
       "</style>\n",
       "<table border=\"1\" class=\"dataframe\">\n",
       "  <thead>\n",
       "    <tr style=\"text-align: right;\">\n",
       "      <th></th>\n",
       "      <th>MLPAP_FQ-0619.PV</th>\n",
       "      <th>MLPAP_FR-0632.PV</th>\n",
       "      <th>MLPAP_LIC-0738.PV</th>\n",
       "      <th>MLPAP_LRC-0729.PV</th>\n",
       "      <th>MLPAP_PIC-0741.PV</th>\n",
       "      <th>MLPAP_PIC-0761.PV</th>\n",
       "      <th>MLPAP_TJ-0757B.PV</th>\n",
       "      <th>MLPAP_TJC-0627.PV</th>\n",
       "      <th>MLPAP_TJC-0757.PV</th>\n",
       "      <th>MLPAP_TJC-0757A.PV</th>\n",
       "      <th>MLPAP_TJC-1721.PV</th>\n",
       "      <th>MLPAP_TRC-0610.PV</th>\n",
       "      <th>MLPAP_TRC-0747.PV</th>\n",
       "      <th>MLPAP_TRC-0762.PV</th>\n",
       "      <th>MLPAP_TRC-1734.PV</th>\n",
       "      <th>MLPAP_FQI-0997.PV</th>\n",
       "    </tr>\n",
       "  </thead>\n",
       "  <tbody>\n",
       "    <tr>\n",
       "      <td>2016-05-09 00:00:00</td>\n",
       "      <td>NaN</td>\n",
       "      <td>NaN</td>\n",
       "      <td>NaN</td>\n",
       "      <td>NaN</td>\n",
       "      <td>NaN</td>\n",
       "      <td>46.900002</td>\n",
       "      <td>NaN</td>\n",
       "      <td>NaN</td>\n",
       "      <td>1.635186</td>\n",
       "      <td>NaN</td>\n",
       "      <td>63.684562</td>\n",
       "      <td>NaN</td>\n",
       "      <td>133.100006</td>\n",
       "      <td>NaN</td>\n",
       "      <td>182.195587</td>\n",
       "      <td>NaN</td>\n",
       "    </tr>\n",
       "    <tr>\n",
       "      <td>2016-05-09 00:10:00</td>\n",
       "      <td>NaN</td>\n",
       "      <td>NaN</td>\n",
       "      <td>NaN</td>\n",
       "      <td>NaN</td>\n",
       "      <td>NaN</td>\n",
       "      <td>46.900002</td>\n",
       "      <td>NaN</td>\n",
       "      <td>NaN</td>\n",
       "      <td>1.625011</td>\n",
       "      <td>NaN</td>\n",
       "      <td>61.767096</td>\n",
       "      <td>NaN</td>\n",
       "      <td>133.100006</td>\n",
       "      <td>NaN</td>\n",
       "      <td>182.143029</td>\n",
       "      <td>NaN</td>\n",
       "    </tr>\n",
       "    <tr>\n",
       "      <td>2016-05-09 00:20:00</td>\n",
       "      <td>NaN</td>\n",
       "      <td>NaN</td>\n",
       "      <td>NaN</td>\n",
       "      <td>NaN</td>\n",
       "      <td>NaN</td>\n",
       "      <td>46.930040</td>\n",
       "      <td>NaN</td>\n",
       "      <td>NaN</td>\n",
       "      <td>1.649780</td>\n",
       "      <td>NaN</td>\n",
       "      <td>62.294110</td>\n",
       "      <td>NaN</td>\n",
       "      <td>133.100006</td>\n",
       "      <td>NaN</td>\n",
       "      <td>178.698310</td>\n",
       "      <td>NaN</td>\n",
       "    </tr>\n",
       "    <tr>\n",
       "      <td>2016-05-09 00:30:00</td>\n",
       "      <td>NaN</td>\n",
       "      <td>NaN</td>\n",
       "      <td>NaN</td>\n",
       "      <td>NaN</td>\n",
       "      <td>NaN</td>\n",
       "      <td>46.900002</td>\n",
       "      <td>NaN</td>\n",
       "      <td>NaN</td>\n",
       "      <td>1.635187</td>\n",
       "      <td>NaN</td>\n",
       "      <td>61.901655</td>\n",
       "      <td>NaN</td>\n",
       "      <td>133.199997</td>\n",
       "      <td>NaN</td>\n",
       "      <td>179.147420</td>\n",
       "      <td>NaN</td>\n",
       "    </tr>\n",
       "    <tr>\n",
       "      <td>2016-05-09 00:40:00</td>\n",
       "      <td>NaN</td>\n",
       "      <td>NaN</td>\n",
       "      <td>NaN</td>\n",
       "      <td>NaN</td>\n",
       "      <td>NaN</td>\n",
       "      <td>46.900002</td>\n",
       "      <td>NaN</td>\n",
       "      <td>NaN</td>\n",
       "      <td>1.654259</td>\n",
       "      <td>NaN</td>\n",
       "      <td>61.953602</td>\n",
       "      <td>NaN</td>\n",
       "      <td>133.100006</td>\n",
       "      <td>NaN</td>\n",
       "      <td>183.341350</td>\n",
       "      <td>NaN</td>\n",
       "    </tr>\n",
       "  </tbody>\n",
       "</table>\n",
       "</div>"
      ],
      "text/plain": [
       "                     MLPAP_FQ-0619.PV  MLPAP_FR-0632.PV  MLPAP_LIC-0738.PV  \\\n",
       "2016-05-09 00:00:00               NaN               NaN                NaN   \n",
       "2016-05-09 00:10:00               NaN               NaN                NaN   \n",
       "2016-05-09 00:20:00               NaN               NaN                NaN   \n",
       "2016-05-09 00:30:00               NaN               NaN                NaN   \n",
       "2016-05-09 00:40:00               NaN               NaN                NaN   \n",
       "\n",
       "                     MLPAP_LRC-0729.PV  MLPAP_PIC-0741.PV  MLPAP_PIC-0761.PV  \\\n",
       "2016-05-09 00:00:00                NaN                NaN          46.900002   \n",
       "2016-05-09 00:10:00                NaN                NaN          46.900002   \n",
       "2016-05-09 00:20:00                NaN                NaN          46.930040   \n",
       "2016-05-09 00:30:00                NaN                NaN          46.900002   \n",
       "2016-05-09 00:40:00                NaN                NaN          46.900002   \n",
       "\n",
       "                     MLPAP_TJ-0757B.PV  MLPAP_TJC-0627.PV  MLPAP_TJC-0757.PV  \\\n",
       "2016-05-09 00:00:00                NaN                NaN           1.635186   \n",
       "2016-05-09 00:10:00                NaN                NaN           1.625011   \n",
       "2016-05-09 00:20:00                NaN                NaN           1.649780   \n",
       "2016-05-09 00:30:00                NaN                NaN           1.635187   \n",
       "2016-05-09 00:40:00                NaN                NaN           1.654259   \n",
       "\n",
       "                     MLPAP_TJC-0757A.PV  MLPAP_TJC-1721.PV  MLPAP_TRC-0610.PV  \\\n",
       "2016-05-09 00:00:00                 NaN          63.684562                NaN   \n",
       "2016-05-09 00:10:00                 NaN          61.767096                NaN   \n",
       "2016-05-09 00:20:00                 NaN          62.294110                NaN   \n",
       "2016-05-09 00:30:00                 NaN          61.901655                NaN   \n",
       "2016-05-09 00:40:00                 NaN          61.953602                NaN   \n",
       "\n",
       "                     MLPAP_TRC-0747.PV  MLPAP_TRC-0762.PV  MLPAP_TRC-1734.PV  \\\n",
       "2016-05-09 00:00:00         133.100006                NaN         182.195587   \n",
       "2016-05-09 00:10:00         133.100006                NaN         182.143029   \n",
       "2016-05-09 00:20:00         133.100006                NaN         178.698310   \n",
       "2016-05-09 00:30:00         133.199997                NaN         179.147420   \n",
       "2016-05-09 00:40:00         133.100006                NaN         183.341350   \n",
       "\n",
       "                     MLPAP_FQI-0997.PV  \n",
       "2016-05-09 00:00:00                NaN  \n",
       "2016-05-09 00:10:00                NaN  \n",
       "2016-05-09 00:20:00                NaN  \n",
       "2016-05-09 00:30:00                NaN  \n",
       "2016-05-09 00:40:00                NaN  "
      ]
     },
     "execution_count": 72,
     "metadata": {},
     "output_type": "execute_result"
    }
   ],
   "source": [
    "df = df[INPUT+control_factor+OUTPUT]\n",
    "df.head()"
   ]
  },
  {
   "cell_type": "markdown",
   "metadata": {},
   "source": [
    "# miss value"
   ]
  },
  {
   "cell_type": "code",
   "execution_count": 73,
   "metadata": {},
   "outputs": [
    {
     "data": {
      "text/plain": [
       "<matplotlib.axes._subplots.AxesSubplot at 0x189ee201b48>"
      ]
     },
     "execution_count": 73,
     "metadata": {},
     "output_type": "execute_result"
    },
    {
     "data": {
      "image/png": "[encoded data removed]",
      "text/plain": [
       "<Figure size 1440x360 with 1 Axes>"
      ]
     },
     "metadata": {
      "needs_background": "light"
     },
     "output_type": "display_data"
    }
   ],
   "source": [
    "fig = plt.figure(figsize=(20,5))\n",
    "sns.heatmap(df.isnull(),yticklabels=False,cbar=False,cmap='viridis')"
   ]
  },
  {
   "cell_type": "markdown",
   "metadata": {},
   "source": [
    "# dropna(columns wise)"
   ]
  },
  {
   "cell_type": "code",
   "execution_count": 74,
   "metadata": {},
   "outputs": [],
   "source": [
    "df = df.dropna(axis=1,thresh=len(df)*0.6)"
   ]
  },
  {
   "cell_type": "code",
   "execution_count": 75,
   "metadata": {},
   "outputs": [
    {
     "data": {
      "text/plain": [
       "<matplotlib.axes._subplots.AxesSubplot at 0x189d4cd0fc8>"
      ]
     },
     "execution_count": 75,
     "metadata": {},
     "output_type": "execute_result"
    },
    {
     "data": {
      "image/png": "[encoded data removed]",
      "text/plain": [
       "<Figure size 1440x360 with 1 Axes>"
      ]
     },
     "metadata": {
      "needs_background": "light"
     },
     "output_type": "display_data"
    }
   ],
   "source": [
    "fig = plt.figure(figsize=(20,5))\n",
    "sns.heatmap(df.isnull(),yticklabels=False,cbar=False,cmap='viridis')"
   ]
  },
  {
   "cell_type": "markdown",
   "metadata": {},
   "source": [
    "# dropna(row wise)"
   ]
  },
  {
   "cell_type": "code",
   "execution_count": 76,
   "metadata": {},
   "outputs": [],
   "source": [
    "#df = df.dropna(axis=0)"
   ]
  },
  {
   "cell_type": "code",
   "execution_count": 77,
   "metadata": {},
   "outputs": [],
   "source": [
    "#fig = plt.figure(figsize=(20,5))\n",
    "#sns.heatmap(df.isnull(),yticklabels=False,cbar=False,cmap='viridis')"
   ]
  },
  {
   "cell_type": "code",
   "execution_count": 78,
   "metadata": {},
   "outputs": [
    {
     "data": {
      "text/plain": [
       "['MLPAP_FR-0632.PV',\n",
       " 'MLPAP_LIC-0738.PV',\n",
       " 'MLPAP_LRC-0729.PV',\n",
       " 'MLPAP_PIC-0761.PV',\n",
       " 'MLPAP_TJ-0757B.PV',\n",
       " 'MLPAP_TJC-0627.PV',\n",
       " 'MLPAP_TJC-0757.PV',\n",
       " 'MLPAP_TJC-0757A.PV',\n",
       " 'MLPAP_TJC-1721.PV',\n",
       " 'MLPAP_TRC-0610.PV',\n",
       " 'MLPAP_TRC-0747.PV',\n",
       " 'MLPAP_TRC-0762.PV',\n",
       " 'MLPAP_TRC-1734.PV']"
      ]
     },
     "execution_count": 78,
     "metadata": {},
     "output_type": "execute_result"
    }
   ],
   "source": [
    "control_factor = list(set(df.columns)&set(control_factor))\n",
    "control_factor = sorted(control_factor)\n",
    "control_factor"
   ]
  },
  {
   "cell_type": "markdown",
   "metadata": {},
   "source": [
    "# 0619 with 0997 trace plot"
   ]
  },
  {
   "cell_type": "code",
   "execution_count": 79,
   "metadata": {},
   "outputs": [],
   "source": [
    "import plotly.graph_objects as go\n",
    "import warnings \n",
    "warnings.simplefilter('ignore')\n",
    "\n",
    "#d = df.head(100000)\n",
    "#d['Date'] = d.index\n",
    "\n",
    "#fig = go.Figure()\n",
    "\n",
    "#fig.add_trace(go.Scatter(x=d.Date, y=d[OUTPUT[0]], name=OUTPUT[0]))\n",
    "#fig.add_trace(go.Scatter(x=d.Date, y=d[INPUT[0]], name=INPUT[0]))\n",
    "\n",
    "#fig.update_layout(title_text='Time Series with Rangeslider',xaxis_rangeslider_visible=True)\n",
    "#fig.show()"
   ]
  },
  {
   "cell_type": "markdown",
   "metadata": {},
   "source": [
    "# control_factor dist plot"
   ]
  },
  {
   "cell_type": "code",
   "execution_count": 80,
   "metadata": {},
   "outputs": [],
   "source": [
    "#for i in control_factor:\n",
    "#    sns.distplot(df.dropna().sample(1000)[i])\n",
    "#    plt.show()"
   ]
  },
  {
   "cell_type": "markdown",
   "metadata": {},
   "source": [
    "# stack time_step"
   ]
  },
  {
   "cell_type": "code",
   "execution_count": 81,
   "metadata": {},
   "outputs": [],
   "source": [
    "x_col = INPUT + control_factor\n",
    "y_col = OUTPUT\n",
    "\n",
    "def train_windows(df, ref_day):\n",
    "    X_train, Y_train, idx_lst = [], [], []\n",
    "    for i in tqdm(range(len(df)-ref_day)):\n",
    "        # 起始日 結束日\n",
    "        start,end = i,i+ref_day\n",
    "        # 確定該筆instance涵蓋的時間範圍內是否正常\n",
    "        c = df.iloc[start:end+1].isnull().sum().sum()\n",
    "        # 如果正常才製作成X,y pair\n",
    "        if c == 0:\n",
    "            X_train.append(df.iloc[start:end+1][x_col].values)\n",
    "            Y_train.append(df.iloc[end][y_col].values[0])\n",
    "            idx_lst.append(df.iloc[[end]].index[0])\n",
    "        # 如果不正常就跳過\n",
    "        else:\n",
    "            pass\n",
    "    # 重整資料 將二維X做flat 將y變Series\n",
    "    X_train = np.array(X_train)\n",
    "    flat_size = X_train.shape[1]*X_train.shape[2]\n",
    "    X_train = X_train.reshape(-1,flat_size)\n",
    "    Y_train = pd.Series(Y_train,index=idx_lst,name='Y')\n",
    "    return X_train, Y_train, idx_lst"
   ]
  },
  {
   "cell_type": "code",
   "execution_count": 82,
   "metadata": {},
   "outputs": [
    {
     "data": {
      "application/vnd.jupyter.widget-view+json": {
       "model_id": "ffc7806b7c7b49d09fb0a6ed26bdc244",
       "version_major": 2,
       "version_minor": 0
      },
      "text/plain": [
       "HBox(children=(IntProgress(value=0, max=193786), HTML(value='')))"
      ]
     },
     "metadata": {},
     "output_type": "display_data"
    },
    {
     "name": "stdout",
     "output_type": "stream",
     "text": [
      "\n",
      "875.2077341079712\n",
      "(134869, 546)\n",
      "(134869, 1)\n"
     ]
    }
   ],
   "source": [
    "import time\n",
    "s = time.time()\n",
    "X,Y,idx_lst = train_windows(df,38)\n",
    "Y = Y.values.reshape(-1,1)\n",
    "print(time.time()-s)\n",
    "print(X.shape)\n",
    "print(Y.shape)"
   ]
  },
  {
   "cell_type": "markdown",
   "metadata": {},
   "source": [
    "# save X,y"
   ]
  },
  {
   "cell_type": "code",
   "execution_count": 83,
   "metadata": {},
   "outputs": [
    {
     "name": "stdout",
     "output_type": "stream",
     "text": [
      "save done\n"
     ]
    }
   ],
   "source": [
    "dataset = {}\n",
    "dataset['X'] = X\n",
    "dataset['Y'] = Y\n",
    "dataset['idx'] = idx_lst\n",
    "joblib.dump(dataset,'./data/dataset')\n",
    "print('save done')"
   ]
  },
  {
   "cell_type": "markdown",
   "metadata": {},
   "source": [
    "# Load X,y"
   ]
  },
  {
   "cell_type": "code",
   "execution_count": 84,
   "metadata": {},
   "outputs": [
    {
     "name": "stdout",
     "output_type": "stream",
     "text": [
      "load done\n"
     ]
    }
   ],
   "source": [
    "dataset = joblib.load('./data/dataset')\n",
    "X = dataset['X']\n",
    "Y = dataset['Y']\n",
    "idx_lst = dataset['idx']\n",
    "print('load done')"
   ]
  },
  {
   "cell_type": "markdown",
   "metadata": {},
   "source": [
    "# split train test"
   ]
  },
  {
   "cell_type": "code",
   "execution_count": 85,
   "metadata": {},
   "outputs": [
    {
     "name": "stdout",
     "output_type": "stream",
     "text": [
      "(94408, 546)\n",
      "(94408, 1)\n",
      "(20230, 546)\n",
      "(20230, 1)\n",
      "(20231, 546)\n",
      "(20231, 1)\n"
     ]
    }
   ],
   "source": [
    "sp1 = int(len(X)*0.7)\n",
    "sp2 = int(len(X)*0.85)\n",
    "X_train,X_valid,X_test = X[:sp1],X[sp1:sp2],X[sp2:]\n",
    "Y_train,Y_valid,Y_test = Y[:sp1],Y[sp1:sp2],Y[sp2:]\n",
    "print(X_train.shape)\n",
    "print(Y_train.shape)\n",
    "print(X_valid.shape)\n",
    "print(Y_valid.shape)\n",
    "print(X_test.shape)\n",
    "print(Y_test.shape)"
   ]
  },
  {
   "cell_type": "markdown",
   "metadata": {},
   "source": [
    "# MinMaxScaler"
   ]
  },
  {
   "cell_type": "code",
   "execution_count": 86,
   "metadata": {},
   "outputs": [],
   "source": [
    "from sklearn.preprocessing import MinMaxScaler\n",
    "mm_x = MinMaxScaler().fit(X_train)\n",
    "mm_y = MinMaxScaler().fit(Y_train)"
   ]
  },
  {
   "cell_type": "code",
   "execution_count": 87,
   "metadata": {},
   "outputs": [
    {
     "name": "stdout",
     "output_type": "stream",
     "text": [
      "save done!\n"
     ]
    }
   ],
   "source": [
    "joblib.dump(mm_x,'./model/mm_x.pkl')\n",
    "joblib.dump(mm_y,'./model/mm_y.pkl')\n",
    "print('save done!')"
   ]
  },
  {
   "cell_type": "code",
   "execution_count": 88,
   "metadata": {},
   "outputs": [],
   "source": [
    "X_train = mm_x.transform(X_train)\n",
    "X_valid = mm_x.transform(X_valid)\n",
    "X_test = mm_x.transform(X_test)\n",
    "\n",
    "Y_train = mm_y.transform(Y_train)\n",
    "Y_valid = mm_y.transform(Y_valid)\n",
    "Y_test = mm_y.transform(Y_test)"
   ]
  },
  {
   "cell_type": "markdown",
   "metadata": {},
   "source": [
    "# torch tensor"
   ]
  },
  {
   "cell_type": "code",
   "execution_count": 89,
   "metadata": {},
   "outputs": [],
   "source": [
    "import torch\n",
    "\n",
    "X_train = torch.tensor(X_train).cuda()\n",
    "X_test = torch.tensor(X_test).cuda()\n",
    "\n",
    "X_valid = torch.tensor(X_valid).cuda()\n",
    "Y_valid = torch.tensor(Y_valid).cuda()\n",
    "\n",
    "Y_train = torch.tensor(Y_train).cuda()\n",
    "Y_test = torch.tensor(Y_test).cuda()"
   ]
  },
  {
   "cell_type": "markdown",
   "metadata": {},
   "source": [
    "# data_iter"
   ]
  },
  {
   "cell_type": "code",
   "execution_count": 90,
   "metadata": {},
   "outputs": [],
   "source": [
    "train = torch.utils.data.TensorDataset(X_train, Y_train)\n",
    "valid = torch.utils.data.TensorDataset(X_valid, Y_valid)\n",
    "train_iter = torch.utils.data.DataLoader(train, batch_size=256, shuffle=True)\n",
    "valid_iter = torch.utils.data.DataLoader(valid, batch_size=256, shuffle=True)"
   ]
  },
  {
   "cell_type": "markdown",
   "metadata": {},
   "source": [
    "# Construct the neural network"
   ]
  },
  {
   "cell_type": "code",
   "execution_count": 91,
   "metadata": {},
   "outputs": [],
   "source": [
    "class Net(nn.Module):\n",
    "    def __init__(self,input_shape,output_shape):\n",
    "        super(Net,self).__init__()\n",
    "        # fc_net\n",
    "        self.fc = nn.Sequential(\n",
    "            nn.Linear(input_shape,256),nn.ReLU(),\n",
    "            nn.Linear(256,128),nn.ReLU(),\n",
    "            nn.Linear(128,output_shape),\n",
    "            nn.Sigmoid())\n",
    "\n",
    "    def forward(self, x):\n",
    "        return self.fc(x)"
   ]
  },
  {
   "cell_type": "code",
   "execution_count": 92,
   "metadata": {},
   "outputs": [],
   "source": [
    "def init_weights(m):\n",
    "    if hasattr(m,'weight'):\n",
    "        torch.nn.init.xavier_uniform(m.weight)\n",
    "    if hasattr(m,'bias'):\n",
    "        m.bias.data.fill_(0)"
   ]
  },
  {
   "cell_type": "code",
   "execution_count": 93,
   "metadata": {},
   "outputs": [
    {
     "data": {
      "text/plain": [
       "Net(\n",
       "  (fc): Sequential(\n",
       "    (0): Linear(in_features=546, out_features=256, bias=True)\n",
       "    (1): ReLU()\n",
       "    (2): Linear(in_features=256, out_features=128, bias=True)\n",
       "    (3): ReLU()\n",
       "    (4): Linear(in_features=128, out_features=1, bias=True)\n",
       "    (5): Sigmoid()\n",
       "  )\n",
       ")"
      ]
     },
     "execution_count": 93,
     "metadata": {},
     "output_type": "execute_result"
    }
   ],
   "source": [
    "net = Net(X_train.shape[1],Y_train.shape[1]).cuda().double()\n",
    "net.apply(init_weights)"
   ]
  },
  {
   "cell_type": "markdown",
   "metadata": {},
   "source": [
    "# tensorboard"
   ]
  },
  {
   "cell_type": "code",
   "execution_count": 94,
   "metadata": {},
   "outputs": [],
   "source": [
    "#with SummaryWriter(comment='Net')as w:\n",
    "#    w.add_graph(net, (X_test,))"
   ]
  },
  {
   "cell_type": "markdown",
   "metadata": {},
   "source": [
    "# torchviz"
   ]
  },
  {
   "cell_type": "code",
   "execution_count": 95,
   "metadata": {},
   "outputs": [],
   "source": [
    "#torchviz.make_dot(net(X_test).mean(),params=dict(net.named_parameters()))"
   ]
  },
  {
   "cell_type": "markdown",
   "metadata": {},
   "source": [
    "# loss_function and optimizer"
   ]
  },
  {
   "cell_type": "code",
   "execution_count": 96,
   "metadata": {},
   "outputs": [],
   "source": [
    "optimizer = torch.optim.Adam(net.parameters(),lr=1e-4)\n",
    "loss_function = nn.MSELoss()"
   ]
  },
  {
   "cell_type": "markdown",
   "metadata": {},
   "source": [
    "# Training and evaluation"
   ]
  },
  {
   "cell_type": "code",
   "execution_count": 97,
   "metadata": {},
   "outputs": [],
   "source": [
    "def train(net,train_iter,loss_function,optimizer,num_epochs=100):\n",
    "    train_history = []\n",
    "    valid_history = []\n",
    "    best_loss = 1000\n",
    "    for epoch in range(num_epochs):\n",
    "        \n",
    "        # train model\n",
    "        net.train()\n",
    "        train_loss,i = 0,0\n",
    "        for x,y in train_iter:\n",
    "            loss = loss_function(net(x),y)\n",
    "            loss.backward()\n",
    "            optimizer.step()\n",
    "            optimizer.zero_grad()\n",
    "            train_loss += loss.item()\n",
    "            i += 1\n",
    "        \n",
    "        # eval model\n",
    "        net.eval()\n",
    "        val_loss,j = 0,0\n",
    "        for x, y in valid_iter:\n",
    "            loss = loss_function(net(x),y)\n",
    "            val_loss += loss.item()\n",
    "            j += 1\n",
    "        \n",
    "        # before end epoch\n",
    "        train_avg_loss = train_loss/i\n",
    "        val_avg_loss = val_loss/j\n",
    "        \n",
    "        # save the best model\n",
    "        if val_avg_loss <= best_loss:\n",
    "            best_loss = val_avg_loss\n",
    "            joblib.dump(net,'./model/net.pkl')\n",
    "            print('model saved')\n",
    "        \n",
    "        # record history\n",
    "        train_history.append(train_avg_loss)\n",
    "        valid_history.append(val_avg_loss)\n",
    "        print(\"epochs {} train_avg_loss {:.4f} valid_avg_loss {:.4f}\".format(epoch,train_avg_loss,val_avg_loss))\n",
    "        \n",
    "    # plot result\n",
    "    print('best val_avg_loss is ',best_loss)\n",
    "    fig = plt.figure(figsize=(20,5))\n",
    "    plt.plot(np.array(train_history),label='train')\n",
    "    plt.plot(np.array(valid_history),label='valid')\n",
    "    plt.legend()\n",
    "    plt.title('loss')\n",
    "    plt.show()\n",
    "    \n",
    "    # return best trained net\n",
    "    return net"
   ]
  },
  {
   "cell_type": "code",
   "execution_count": 98,
   "metadata": {},
   "outputs": [
    {
     "name": "stdout",
     "output_type": "stream",
     "text": [
      "model saved\n",
      "epochs 0 train_avg_loss 0.0024 valid_avg_loss 0.0024\n",
      "epochs 1 train_avg_loss 0.0009 valid_avg_loss 0.0034\n",
      "epochs 2 train_avg_loss 0.0009 valid_avg_loss 0.0050\n",
      "epochs 3 train_avg_loss 0.0009 valid_avg_loss 0.0059\n",
      "epochs 4 train_avg_loss 0.0009 valid_avg_loss 0.0073\n",
      "epochs 5 train_avg_loss 0.0009 valid_avg_loss 0.0076\n",
      "epochs 6 train_avg_loss 0.0009 valid_avg_loss 0.0075\n",
      "epochs 7 train_avg_loss 0.0009 valid_avg_loss 0.0087\n",
      "epochs 8 train_avg_loss 0.0009 valid_avg_loss 0.0077\n",
      "epochs 9 train_avg_loss 0.0008 valid_avg_loss 0.0102\n",
      "epochs 10 train_avg_loss 0.0008 valid_avg_loss 0.0080\n",
      "epochs 11 train_avg_loss 0.0008 valid_avg_loss 0.0103\n",
      "epochs 12 train_avg_loss 0.0008 valid_avg_loss 0.0096\n",
      "epochs 13 train_avg_loss 0.0008 valid_avg_loss 0.0095\n",
      "epochs 14 train_avg_loss 0.0008 valid_avg_loss 0.0109\n",
      "epochs 15 train_avg_loss 0.0008 valid_avg_loss 0.0112\n",
      "epochs 16 train_avg_loss 0.0008 valid_avg_loss 0.0099\n",
      "epochs 17 train_avg_loss 0.0008 valid_avg_loss 0.0114\n",
      "epochs 18 train_avg_loss 0.0008 valid_avg_loss 0.0104\n",
      "epochs 19 train_avg_loss 0.0008 valid_avg_loss 0.0126\n",
      "best val_avg_loss is  0.0024114740054503197\n"
     ]
    },
    {
     "data": {
      "image/png": "[encoded data removed]",
      "text/plain": [
       "<Figure size 1440x360 with 1 Axes>"
      ]
     },
     "metadata": {
      "needs_background": "light"
     },
     "output_type": "display_data"
    },
    {
     "name": "stdout",
     "output_type": "stream",
     "text": [
      "187.6579396724701\n"
     ]
    }
   ],
   "source": [
    "s = time.time()\n",
    "net = train(net,train_iter,loss_function,optimizer,num_epochs=20)\n",
    "print(time.time()-s)"
   ]
  },
  {
   "cell_type": "code",
   "execution_count": 99,
   "metadata": {},
   "outputs": [
    {
     "data": {
      "text/plain": [
       "Net(\n",
       "  (fc): Sequential(\n",
       "    (0): Linear(in_features=546, out_features=256, bias=True)\n",
       "    (1): ReLU()\n",
       "    (2): Linear(in_features=256, out_features=128, bias=True)\n",
       "    (3): ReLU()\n",
       "    (4): Linear(in_features=128, out_features=1, bias=True)\n",
       "    (5): Sigmoid()\n",
       "  )\n",
       ")"
      ]
     },
     "execution_count": 99,
     "metadata": {},
     "output_type": "execute_result"
    }
   ],
   "source": [
    "# load best net\n",
    "net = joblib.load('./model/net.pkl')\n",
    "net.eval()"
   ]
  },
  {
   "cell_type": "markdown",
   "metadata": {},
   "source": [
    "# make prediction(train)"
   ]
  },
  {
   "cell_type": "code",
   "execution_count": 100,
   "metadata": {},
   "outputs": [
    {
     "name": "stdout",
     "output_type": "stream",
     "text": [
      "0.8601454545044211\n"
     ]
    },
    {
     "data": {
      "text/html": [
       "<div>\n",
       "<style scoped>\n",
       "    .dataframe tbody tr th:only-of-type {\n",
       "        vertical-align: middle;\n",
       "    }\n",
       "\n",
       "    .dataframe tbody tr th {\n",
       "        vertical-align: top;\n",
       "    }\n",
       "\n",
       "    .dataframe thead th {\n",
       "        text-align: right;\n",
       "    }\n",
       "</style>\n",
       "<table border=\"1\" class=\"dataframe\">\n",
       "  <thead>\n",
       "    <tr style=\"text-align: right;\">\n",
       "      <th></th>\n",
       "      <th>y_real</th>\n",
       "      <th>y_pred</th>\n",
       "    </tr>\n",
       "  </thead>\n",
       "  <tbody>\n",
       "    <tr>\n",
       "      <td>2016-06-01 02:40:00</td>\n",
       "      <td>6467.759752</td>\n",
       "      <td>6346.355437</td>\n",
       "    </tr>\n",
       "    <tr>\n",
       "      <td>2016-06-01 02:50:00</td>\n",
       "      <td>6450.874168</td>\n",
       "      <td>6315.542286</td>\n",
       "    </tr>\n",
       "    <tr>\n",
       "      <td>2016-06-01 03:00:00</td>\n",
       "      <td>6443.690012</td>\n",
       "      <td>6324.128645</td>\n",
       "    </tr>\n",
       "    <tr>\n",
       "      <td>2016-06-01 03:10:00</td>\n",
       "      <td>6430.383177</td>\n",
       "      <td>6344.821084</td>\n",
       "    </tr>\n",
       "    <tr>\n",
       "      <td>2016-06-01 03:20:00</td>\n",
       "      <td>6446.393842</td>\n",
       "      <td>6330.990027</td>\n",
       "    </tr>\n",
       "  </tbody>\n",
       "</table>\n",
       "</div>"
      ],
      "text/plain": [
       "                          y_real       y_pred\n",
       "2016-06-01 02:40:00  6467.759752  6346.355437\n",
       "2016-06-01 02:50:00  6450.874168  6315.542286\n",
       "2016-06-01 03:00:00  6443.690012  6324.128645\n",
       "2016-06-01 03:10:00  6430.383177  6344.821084\n",
       "2016-06-01 03:20:00  6446.393842  6330.990027"
      ]
     },
     "execution_count": 100,
     "metadata": {},
     "output_type": "execute_result"
    }
   ],
   "source": [
    "from sklearn.metrics import r2_score,mean_absolute_error\n",
    "t = pd.DataFrame(index=idx_lst[:sp1])\n",
    "t['y_real'] = mm_y.inverse_transform(Y_train.detach().cpu().numpy().reshape(-1,1)).ravel()\n",
    "t['y_pred'] = mm_y.inverse_transform(net(X_train).detach().cpu().numpy().reshape(-1,1)).ravel()\n",
    "print(r2_score(t['y_real'],t['y_pred']))\n",
    "t.head()"
   ]
  },
  {
   "cell_type": "code",
   "execution_count": 101,
   "metadata": {},
   "outputs": [],
   "source": [
    "#fig = go.Figure()\n",
    "\n",
    "#fig.add_trace(go.Scatter(x=t.index, y=t['y_real'], name='y_real'))\n",
    "#fig.add_trace(go.Scatter(x=t.index, y=t['y_pred'], name='y_pred'))\n",
    "\n",
    "#fig.update_layout(title_text='Time Series with Rangeslider',xaxis_rangeslider_visible=True)\n",
    "#fig.show()"
   ]
  },
  {
   "cell_type": "markdown",
   "metadata": {},
   "source": [
    "# make prediction(valid)"
   ]
  },
  {
   "cell_type": "code",
   "execution_count": 102,
   "metadata": {},
   "outputs": [
    {
     "name": "stdout",
     "output_type": "stream",
     "text": [
      "0.8525924090710967\n"
     ]
    },
    {
     "data": {
      "text/html": [
       "<div>\n",
       "<style scoped>\n",
       "    .dataframe tbody tr th:only-of-type {\n",
       "        vertical-align: middle;\n",
       "    }\n",
       "\n",
       "    .dataframe tbody tr th {\n",
       "        vertical-align: top;\n",
       "    }\n",
       "\n",
       "    .dataframe thead th {\n",
       "        text-align: right;\n",
       "    }\n",
       "</style>\n",
       "<table border=\"1\" class=\"dataframe\">\n",
       "  <thead>\n",
       "    <tr style=\"text-align: right;\">\n",
       "      <th></th>\n",
       "      <th>y_real</th>\n",
       "      <th>y_pred</th>\n",
       "    </tr>\n",
       "  </thead>\n",
       "  <tbody>\n",
       "    <tr>\n",
       "      <td>2018-07-30 13:50:00</td>\n",
       "      <td>7170.437518</td>\n",
       "      <td>7208.471105</td>\n",
       "    </tr>\n",
       "    <tr>\n",
       "      <td>2018-07-30 14:00:00</td>\n",
       "      <td>7177.415309</td>\n",
       "      <td>7255.136161</td>\n",
       "    </tr>\n",
       "    <tr>\n",
       "      <td>2018-07-30 14:10:00</td>\n",
       "      <td>7186.383204</td>\n",
       "      <td>7192.991766</td>\n",
       "    </tr>\n",
       "    <tr>\n",
       "      <td>2018-07-30 14:20:00</td>\n",
       "      <td>7188.492340</td>\n",
       "      <td>7228.468510</td>\n",
       "    </tr>\n",
       "    <tr>\n",
       "      <td>2018-07-30 14:30:00</td>\n",
       "      <td>7160.727089</td>\n",
       "      <td>7217.659809</td>\n",
       "    </tr>\n",
       "  </tbody>\n",
       "</table>\n",
       "</div>"
      ],
      "text/plain": [
       "                          y_real       y_pred\n",
       "2018-07-30 13:50:00  7170.437518  7208.471105\n",
       "2018-07-30 14:00:00  7177.415309  7255.136161\n",
       "2018-07-30 14:10:00  7186.383204  7192.991766\n",
       "2018-07-30 14:20:00  7188.492340  7228.468510\n",
       "2018-07-30 14:30:00  7160.727089  7217.659809"
      ]
     },
     "execution_count": 102,
     "metadata": {},
     "output_type": "execute_result"
    }
   ],
   "source": [
    "t = pd.DataFrame(index=idx_lst[sp1:sp2])\n",
    "t['y_real'] = mm_y.inverse_transform(Y_valid.detach().cpu().numpy().reshape(-1,1)).ravel()\n",
    "t['y_pred'] = mm_y.inverse_transform(net(X_valid).detach().cpu().numpy().reshape(-1,1)).ravel()\n",
    "print(r2_score(t['y_real'],t['y_pred']))\n",
    "t.head()"
   ]
  },
  {
   "cell_type": "code",
   "execution_count": 103,
   "metadata": {},
   "outputs": [],
   "source": [
    "#fig = go.Figure()\n",
    "#fig.add_trace(go.Scatter(x=t.index, y=t['y_real'], name='y_real'))\n",
    "#fig.add_trace(go.Scatter(x=t.index, y=t['y_pred'], name='y_pred'))\n",
    "#fig.update_layout(title_text='Time Series with Rangeslider',xaxis_rangeslider_visible=True)\n",
    "#fig.show()"
   ]
  },
  {
   "cell_type": "markdown",
   "metadata": {},
   "source": [
    "# make prediction(test)"
   ]
  },
  {
   "cell_type": "code",
   "execution_count": 104,
   "metadata": {},
   "outputs": [
    {
     "name": "stdout",
     "output_type": "stream",
     "text": [
      "0.7368457755125113\n"
     ]
    },
    {
     "data": {
      "text/html": [
       "<div>\n",
       "<style scoped>\n",
       "    .dataframe tbody tr th:only-of-type {\n",
       "        vertical-align: middle;\n",
       "    }\n",
       "\n",
       "    .dataframe tbody tr th {\n",
       "        vertical-align: top;\n",
       "    }\n",
       "\n",
       "    .dataframe thead th {\n",
       "        text-align: right;\n",
       "    }\n",
       "</style>\n",
       "<table border=\"1\" class=\"dataframe\">\n",
       "  <thead>\n",
       "    <tr style=\"text-align: right;\">\n",
       "      <th></th>\n",
       "      <th>y_real</th>\n",
       "      <th>y_pred</th>\n",
       "    </tr>\n",
       "  </thead>\n",
       "  <tbody>\n",
       "    <tr>\n",
       "      <td>2019-03-31 04:50:00</td>\n",
       "      <td>7311.660195</td>\n",
       "      <td>7258.742235</td>\n",
       "    </tr>\n",
       "    <tr>\n",
       "      <td>2019-03-31 05:00:00</td>\n",
       "      <td>7314.208846</td>\n",
       "      <td>7226.933832</td>\n",
       "    </tr>\n",
       "    <tr>\n",
       "      <td>2019-03-31 05:10:00</td>\n",
       "      <td>7291.835977</td>\n",
       "      <td>7243.431982</td>\n",
       "    </tr>\n",
       "    <tr>\n",
       "      <td>2019-03-31 05:20:00</td>\n",
       "      <td>7272.463606</td>\n",
       "      <td>7254.666196</td>\n",
       "    </tr>\n",
       "    <tr>\n",
       "      <td>2019-03-31 05:30:00</td>\n",
       "      <td>7290.419103</td>\n",
       "      <td>7209.964731</td>\n",
       "    </tr>\n",
       "  </tbody>\n",
       "</table>\n",
       "</div>"
      ],
      "text/plain": [
       "                          y_real       y_pred\n",
       "2019-03-31 04:50:00  7311.660195  7258.742235\n",
       "2019-03-31 05:00:00  7314.208846  7226.933832\n",
       "2019-03-31 05:10:00  7291.835977  7243.431982\n",
       "2019-03-31 05:20:00  7272.463606  7254.666196\n",
       "2019-03-31 05:30:00  7290.419103  7209.964731"
      ]
     },
     "execution_count": 104,
     "metadata": {},
     "output_type": "execute_result"
    }
   ],
   "source": [
    "t = pd.DataFrame(index=idx_lst[sp2:])\n",
    "t['y_real'] = mm_y.inverse_transform(Y_test.detach().cpu().numpy().reshape(-1,1)).ravel()\n",
    "t['y_pred'] = mm_y.inverse_transform(net(X_test).detach().cpu().numpy().reshape(-1,1)).ravel()\n",
    "print(r2_score(t['y_real'],t['y_pred']))\n",
    "t.head()"
   ]
  },
  {
   "cell_type": "code",
   "execution_count": 105,
   "metadata": {},
   "outputs": [],
   "source": [
    "#fig = go.Figure()\n",
    "#fig.add_trace(go.Scatter(x=t.index, y=t['y_real'], name='y_real'))\n",
    "#fig.add_trace(go.Scatter(x=t.index, y=t['y_pred'], name='y_pred'))\n",
    "#fig.update_layout(title_text='Time Series with Rangeslider',xaxis_rangeslider_visible=True)\n",
    "#fig.show()"
   ]
  },
  {
   "cell_type": "code",
   "execution_count": null,
   "metadata": {},
   "outputs": [],
   "source": []
  },
  {
   "cell_type": "code",
   "execution_count": null,
   "metadata": {},
   "outputs": [],
   "source": []
  },
  {
   "cell_type": "code",
   "execution_count": null,
   "metadata": {},
   "outputs": [],
   "source": []
  },
  {
   "cell_type": "code",
   "execution_count": null,
   "metadata": {},
   "outputs": [],
   "source": []
  }
 ],
 "metadata": {
  "kernelspec": {
   "display_name": "Python 3",
   "language": "python",
   "name": "python3"
  },
  "language_info": {
   "codemirror_mode": {
    "name": "ipython",
    "version": 3
   },
   "file_extension": ".py",
   "mimetype": "text/x-python",
   "name": "python",
   "nbconvert_exporter": "python",
   "pygments_lexer": "ipython3",
   "version": "3.7.4"
  }
 },
 "nbformat": 4,
 "nbformat_minor": 2
}
