{
 "cells": [
  {
   "cell_type": "code",
   "execution_count": 1,
   "metadata": {},
   "outputs": [],
   "source": [
    "import pandas as pd\n",
    "import numpy as np\n",
    "import torchviz\n",
    "import seaborn as sns\n",
    "import matplotlib.pyplot as plt\n",
    "from tqdm import tqdm_notebook as tqdm\n",
    "from torch.utils.tensorboard import SummaryWriter\n",
    "import torch\n",
    "import torch.nn as nn\n",
    "import torch.utils.data as Data\n",
    "import torchvision\n",
    "import joblib\n",
    "from sklearn.preprocessing import StandardScaler\n",
    "import time"
   ]
  },
  {
   "cell_type": "code",
   "execution_count": 2,
   "metadata": {},
   "outputs": [],
   "source": [
    "def get_col(df,name):\n",
    "    return df.columns[df.columns.str.contains(name)].tolist()"
   ]
  },
  {
   "cell_type": "markdown",
   "metadata": {},
   "source": [
    "# Load data"
   ]
  },
  {
   "cell_type": "code",
   "execution_count": 3,
   "metadata": {},
   "outputs": [
    {
     "name": "stdout",
     "output_type": "stream",
     "text": [
      "(94, 10)\n"
     ]
    },
    {
     "data": {
      "text/html": [
       "<div>\n",
       "<style scoped>\n",
       "    .dataframe tbody tr th:only-of-type {\n",
       "        vertical-align: middle;\n",
       "    }\n",
       "\n",
       "    .dataframe tbody tr th {\n",
       "        vertical-align: top;\n",
       "    }\n",
       "\n",
       "    .dataframe thead th {\n",
       "        text-align: right;\n",
       "    }\n",
       "</style>\n",
       "<table border=\"1\" class=\"dataframe\">\n",
       "  <thead>\n",
       "    <tr style=\"text-align: right;\">\n",
       "      <th></th>\n",
       "      <th>item</th>\n",
       "      <th>TAG</th>\n",
       "      <th>chinese</th>\n",
       "      <th>character</th>\n",
       "      <th>unit</th>\n",
       "      <th>category</th>\n",
       "      <th>period</th>\n",
       "      <th>min</th>\n",
       "      <th>max</th>\n",
       "      <th>推測顯著性(依製程經驗)</th>\n",
       "    </tr>\n",
       "  </thead>\n",
       "  <tbody>\n",
       "    <tr>\n",
       "      <td>0</td>\n",
       "      <td>1.0</td>\n",
       "      <td>MLPAP_TJC-0627.PV</td>\n",
       "      <td>OX預熱器出口溫度</td>\n",
       "      <td>溫度</td>\n",
       "      <td>℃</td>\n",
       "      <td>可控制因子</td>\n",
       "      <td>1分鐘2筆</td>\n",
       "      <td>140</td>\n",
       "      <td>160</td>\n",
       "      <td>***</td>\n",
       "    </tr>\n",
       "    <tr>\n",
       "      <td>1</td>\n",
       "      <td>2.0</td>\n",
       "      <td>MLPAP_TRC-0610.PV</td>\n",
       "      <td>空氣預熱器出口溫度</td>\n",
       "      <td>溫度</td>\n",
       "      <td>℃</td>\n",
       "      <td>可控制因子</td>\n",
       "      <td>1分鐘2筆</td>\n",
       "      <td>160</td>\n",
       "      <td>200</td>\n",
       "      <td>***</td>\n",
       "    </tr>\n",
       "    <tr>\n",
       "      <td>2</td>\n",
       "      <td>3.0</td>\n",
       "      <td>MLPAP_FR-0632.PV</td>\n",
       "      <td>汽機風量</td>\n",
       "      <td>流量</td>\n",
       "      <td>KNM3/HR</td>\n",
       "      <td>可控制因子</td>\n",
       "      <td>1分鐘2筆</td>\n",
       "      <td>30</td>\n",
       "      <td>90</td>\n",
       "      <td>****</td>\n",
       "    </tr>\n",
       "    <tr>\n",
       "      <td>3</td>\n",
       "      <td>4.0</td>\n",
       "      <td>MLPAP_FQ-0619.PV</td>\n",
       "      <td>OX入料量</td>\n",
       "      <td>流量</td>\n",
       "      <td>kg/HR</td>\n",
       "      <td>可控制因子</td>\n",
       "      <td>1分鐘2筆</td>\n",
       "      <td>2000</td>\n",
       "      <td>8000</td>\n",
       "      <td>****</td>\n",
       "    </tr>\n",
       "    <tr>\n",
       "      <td>4</td>\n",
       "      <td>5.0</td>\n",
       "      <td>MLPAP_TIC-0757A.PV</td>\n",
       "      <td>反應槽鹽浴溫度</td>\n",
       "      <td>溫度</td>\n",
       "      <td>℃</td>\n",
       "      <td>可控制因子</td>\n",
       "      <td>1分鐘2筆</td>\n",
       "      <td>345</td>\n",
       "      <td>365</td>\n",
       "      <td>****</td>\n",
       "    </tr>\n",
       "    <tr>\n",
       "      <td>...</td>\n",
       "      <td>...</td>\n",
       "      <td>...</td>\n",
       "      <td>...</td>\n",
       "      <td>...</td>\n",
       "      <td>...</td>\n",
       "      <td>...</td>\n",
       "      <td>...</td>\n",
       "      <td>...</td>\n",
       "      <td>...</td>\n",
       "      <td>...</td>\n",
       "    </tr>\n",
       "    <tr>\n",
       "      <td>89</td>\n",
       "      <td>90.0</td>\n",
       "      <td>MLPAP_PI-0771.PV</td>\n",
       "      <td>E220出口壓力</td>\n",
       "      <td>壓力</td>\n",
       "      <td>mbar</td>\n",
       "      <td>不可控制因子</td>\n",
       "      <td>1分鐘2筆</td>\n",
       "      <td>0</td>\n",
       "      <td>200</td>\n",
       "      <td>***</td>\n",
       "    </tr>\n",
       "    <tr>\n",
       "      <td>90</td>\n",
       "      <td>91.0</td>\n",
       "      <td>MLPAP_TRC-0747.PV</td>\n",
       "      <td>E220出口溫度</td>\n",
       "      <td>溫度</td>\n",
       "      <td>℃</td>\n",
       "      <td>可控制因子</td>\n",
       "      <td>1分鐘2筆</td>\n",
       "      <td>100</td>\n",
       "      <td>200</td>\n",
       "      <td>***</td>\n",
       "    </tr>\n",
       "    <tr>\n",
       "      <td>91</td>\n",
       "      <td>NaN</td>\n",
       "      <td>NaN</td>\n",
       "      <td>NaN</td>\n",
       "      <td>NaN</td>\n",
       "      <td>NaN</td>\n",
       "      <td>NaN</td>\n",
       "      <td>NaN</td>\n",
       "      <td>NaN</td>\n",
       "      <td>NaN</td>\n",
       "      <td>NaN</td>\n",
       "    </tr>\n",
       "    <tr>\n",
       "      <td>92</td>\n",
       "      <td>NaN</td>\n",
       "      <td>第二模型使用</td>\n",
       "      <td>NaN</td>\n",
       "      <td>NaN</td>\n",
       "      <td>NaN</td>\n",
       "      <td>NaN</td>\n",
       "      <td>NaN</td>\n",
       "      <td>NaN</td>\n",
       "      <td>NaN</td>\n",
       "      <td>NaN</td>\n",
       "    </tr>\n",
       "    <tr>\n",
       "      <td>93</td>\n",
       "      <td>92.0</td>\n",
       "      <td>MLPAP_V125-PHD</td>\n",
       "      <td>粗PA儲槽PHD</td>\n",
       "      <td>組成</td>\n",
       "      <td>%</td>\n",
       "      <td>不可控制因子</td>\n",
       "      <td>1天1筆</td>\n",
       "      <td>0</td>\n",
       "      <td>0.1</td>\n",
       "      <td>***</td>\n",
       "    </tr>\n",
       "  </tbody>\n",
       "</table>\n",
       "<p>94 rows × 10 columns</p>\n",
       "</div>"
      ],
      "text/plain": [
       "    item                 TAG    chinese character     unit category period  \\\n",
       "0    1.0   MLPAP_TJC-0627.PV  OX預熱器出口溫度        溫度        ℃    可控制因子  1分鐘2筆   \n",
       "1    2.0   MLPAP_TRC-0610.PV  空氣預熱器出口溫度        溫度        ℃    可控制因子  1分鐘2筆   \n",
       "2    3.0    MLPAP_FR-0632.PV       汽機風量        流量  KNM3/HR    可控制因子  1分鐘2筆   \n",
       "3    4.0    MLPAP_FQ-0619.PV      OX入料量        流量    kg/HR    可控制因子  1分鐘2筆   \n",
       "4    5.0  MLPAP_TIC-0757A.PV    反應槽鹽浴溫度        溫度        ℃    可控制因子  1分鐘2筆   \n",
       "..   ...                 ...        ...       ...      ...      ...    ...   \n",
       "89  90.0    MLPAP_PI-0771.PV   E220出口壓力        壓力     mbar   不可控制因子  1分鐘2筆   \n",
       "90  91.0   MLPAP_TRC-0747.PV   E220出口溫度        溫度        ℃    可控制因子  1分鐘2筆   \n",
       "91   NaN                 NaN        NaN       NaN      NaN      NaN    NaN   \n",
       "92   NaN              第二模型使用        NaN       NaN      NaN      NaN    NaN   \n",
       "93  92.0      MLPAP_V125-PHD   粗PA儲槽PHD        組成        %   不可控制因子   1天1筆   \n",
       "\n",
       "     min   max 推測顯著性(依製程經驗)  \n",
       "0    140   160          ***  \n",
       "1    160   200          ***  \n",
       "2     30    90         ****  \n",
       "3   2000  8000         ****  \n",
       "4    345   365         ****  \n",
       "..   ...   ...          ...  \n",
       "89     0   200          ***  \n",
       "90   100   200          ***  \n",
       "91   NaN   NaN          NaN  \n",
       "92   NaN   NaN          NaN  \n",
       "93     0   0.1          ***  \n",
       "\n",
       "[94 rows x 10 columns]"
      ]
     },
     "execution_count": 3,
     "metadata": {},
     "output_type": "execute_result"
    }
   ],
   "source": [
    "tag = pd.read_excel('./data/tag盤點表20200323.xlsx')\n",
    "print(tag.shape)\n",
    "tag"
   ]
  },
  {
   "cell_type": "code",
   "execution_count": 4,
   "metadata": {},
   "outputs": [
    {
     "data": {
      "text/html": [
       "<div>\n",
       "<style scoped>\n",
       "    .dataframe tbody tr th:only-of-type {\n",
       "        vertical-align: middle;\n",
       "    }\n",
       "\n",
       "    .dataframe tbody tr th {\n",
       "        vertical-align: top;\n",
       "    }\n",
       "\n",
       "    .dataframe thead th {\n",
       "        text-align: right;\n",
       "    }\n",
       "</style>\n",
       "<table border=\"1\" class=\"dataframe\">\n",
       "  <thead>\n",
       "    <tr style=\"text-align: right;\">\n",
       "      <th></th>\n",
       "      <th>item</th>\n",
       "      <th>TAG</th>\n",
       "      <th>chinese</th>\n",
       "      <th>character</th>\n",
       "      <th>unit</th>\n",
       "      <th>category</th>\n",
       "      <th>period</th>\n",
       "      <th>min</th>\n",
       "      <th>max</th>\n",
       "      <th>推測顯著性(依製程經驗)</th>\n",
       "    </tr>\n",
       "  </thead>\n",
       "  <tbody>\n",
       "  </tbody>\n",
       "</table>\n",
       "</div>"
      ],
      "text/plain": [
       "Empty DataFrame\n",
       "Columns: [item, TAG, chinese, character, unit, category, period, min, max, 推測顯著性(依製程經驗)]\n",
       "Index: []"
      ]
     },
     "execution_count": 4,
     "metadata": {},
     "output_type": "execute_result"
    }
   ],
   "source": [
    "tag[tag['TAG']=='MLPAP_TJC-0757.PV']"
   ]
  },
  {
   "cell_type": "code",
   "execution_count": 5,
   "metadata": {},
   "outputs": [
    {
     "name": "stdout",
     "output_type": "stream",
     "text": [
      "(193824, 93)\n"
     ]
    },
    {
     "data": {
      "text/html": [
       "<div>\n",
       "<style scoped>\n",
       "    .dataframe tbody tr th:only-of-type {\n",
       "        vertical-align: middle;\n",
       "    }\n",
       "\n",
       "    .dataframe tbody tr th {\n",
       "        vertical-align: top;\n",
       "    }\n",
       "\n",
       "    .dataframe thead th {\n",
       "        text-align: right;\n",
       "    }\n",
       "</style>\n",
       "<table border=\"1\" class=\"dataframe\">\n",
       "  <thead>\n",
       "    <tr style=\"text-align: right;\">\n",
       "      <th></th>\n",
       "      <th>MLPAP_TJ-0706B02</th>\n",
       "      <th>MLPAP_TJ-0706B03</th>\n",
       "      <th>MLPAP_TJ-0706B04</th>\n",
       "      <th>MLPAP_TJ-0706B05</th>\n",
       "      <th>MLPAP_TJ-0706B06</th>\n",
       "      <th>MLPAP_TJ-0706B07</th>\n",
       "      <th>MLPAP_TJ-0706B08</th>\n",
       "      <th>MLPAP_TJ-0706B09</th>\n",
       "      <th>MLPAP_TJ-0706B10</th>\n",
       "      <th>MLPAP_TJ-0706B11</th>\n",
       "      <th>...</th>\n",
       "      <th>MLPAP_FQI-0997.PV</th>\n",
       "      <th>DATA OF USE</th>\n",
       "      <th>MLPAP_FR-0755PV(轉換後)</th>\n",
       "      <th>MLPAP_FR-0791.PV</th>\n",
       "      <th>MLPAP_FI-V211.PV(轉換後)</th>\n",
       "      <th>MLPAP_PI-0658.PV</th>\n",
       "      <th>MLPAP_TJC-0757.PV</th>\n",
       "      <th>MLPAP_V125-PHD</th>\n",
       "      <th>MLPAP_PI-0771.PV</th>\n",
       "      <th>MLPAP_TRC-0747.PV</th>\n",
       "    </tr>\n",
       "  </thead>\n",
       "  <tbody>\n",
       "    <tr>\n",
       "      <td>2016-05-09 00:00:00</td>\n",
       "      <td>400.0</td>\n",
       "      <td>401.957120</td>\n",
       "      <td>400.751866</td>\n",
       "      <td>402.250788</td>\n",
       "      <td>401.148767</td>\n",
       "      <td>401.0</td>\n",
       "      <td>400.050078</td>\n",
       "      <td>403.0</td>\n",
       "      <td>402.0</td>\n",
       "      <td>401.0</td>\n",
       "      <td>...</td>\n",
       "      <td>0.0</td>\n",
       "      <td>0.000005</td>\n",
       "      <td>4.045683</td>\n",
       "      <td>6.484770</td>\n",
       "      <td>NaN</td>\n",
       "      <td>-1.000000</td>\n",
       "      <td>1.635186</td>\n",
       "      <td>0.051</td>\n",
       "      <td>-1.38272</td>\n",
       "      <td>133.100006</td>\n",
       "    </tr>\n",
       "    <tr>\n",
       "      <td>2016-05-09 00:10:00</td>\n",
       "      <td>400.0</td>\n",
       "      <td>401.942713</td>\n",
       "      <td>400.949883</td>\n",
       "      <td>402.249145</td>\n",
       "      <td>401.000000</td>\n",
       "      <td>401.0</td>\n",
       "      <td>400.249800</td>\n",
       "      <td>403.0</td>\n",
       "      <td>402.0</td>\n",
       "      <td>401.0</td>\n",
       "      <td>...</td>\n",
       "      <td>0.0</td>\n",
       "      <td>0.000010</td>\n",
       "      <td>4.152250</td>\n",
       "      <td>6.449888</td>\n",
       "      <td>NaN</td>\n",
       "      <td>-1.000000</td>\n",
       "      <td>1.625011</td>\n",
       "      <td>0.051</td>\n",
       "      <td>-1.38273</td>\n",
       "      <td>133.100006</td>\n",
       "    </tr>\n",
       "    <tr>\n",
       "      <td>2016-05-09 00:20:00</td>\n",
       "      <td>400.0</td>\n",
       "      <td>401.900145</td>\n",
       "      <td>400.899767</td>\n",
       "      <td>402.101255</td>\n",
       "      <td>401.000000</td>\n",
       "      <td>401.0</td>\n",
       "      <td>400.100155</td>\n",
       "      <td>403.0</td>\n",
       "      <td>402.0</td>\n",
       "      <td>401.0</td>\n",
       "      <td>...</td>\n",
       "      <td>0.0</td>\n",
       "      <td>0.000014</td>\n",
       "      <td>4.202449</td>\n",
       "      <td>6.440502</td>\n",
       "      <td>NaN</td>\n",
       "      <td>-0.898558</td>\n",
       "      <td>1.649780</td>\n",
       "      <td>0.051</td>\n",
       "      <td>-1.40000</td>\n",
       "      <td>133.100006</td>\n",
       "    </tr>\n",
       "    <tr>\n",
       "      <td>2016-05-09 00:30:00</td>\n",
       "      <td>400.0</td>\n",
       "      <td>401.949936</td>\n",
       "      <td>400.900210</td>\n",
       "      <td>402.300333</td>\n",
       "      <td>401.000000</td>\n",
       "      <td>401.0</td>\n",
       "      <td>400.144695</td>\n",
       "      <td>403.0</td>\n",
       "      <td>402.0</td>\n",
       "      <td>401.0</td>\n",
       "      <td>...</td>\n",
       "      <td>0.0</td>\n",
       "      <td>0.000019</td>\n",
       "      <td>4.146723</td>\n",
       "      <td>6.463649</td>\n",
       "      <td>NaN</td>\n",
       "      <td>-0.509010</td>\n",
       "      <td>1.635187</td>\n",
       "      <td>0.051</td>\n",
       "      <td>-1.40000</td>\n",
       "      <td>133.199997</td>\n",
       "    </tr>\n",
       "    <tr>\n",
       "      <td>2016-05-09 00:40:00</td>\n",
       "      <td>400.0</td>\n",
       "      <td>402.000000</td>\n",
       "      <td>400.850037</td>\n",
       "      <td>402.176070</td>\n",
       "      <td>401.000000</td>\n",
       "      <td>401.0</td>\n",
       "      <td>400.405002</td>\n",
       "      <td>403.0</td>\n",
       "      <td>402.0</td>\n",
       "      <td>401.0</td>\n",
       "      <td>...</td>\n",
       "      <td>0.0</td>\n",
       "      <td>0.000024</td>\n",
       "      <td>4.011298</td>\n",
       "      <td>6.414799</td>\n",
       "      <td>NaN</td>\n",
       "      <td>-0.992771</td>\n",
       "      <td>1.654259</td>\n",
       "      <td>0.051</td>\n",
       "      <td>-1.30000</td>\n",
       "      <td>133.100006</td>\n",
       "    </tr>\n",
       "  </tbody>\n",
       "</table>\n",
       "<p>5 rows × 93 columns</p>\n",
       "</div>"
      ],
      "text/plain": [
       "                     MLPAP_TJ-0706B02  MLPAP_TJ-0706B03  MLPAP_TJ-0706B04  \\\n",
       "2016-05-09 00:00:00             400.0        401.957120        400.751866   \n",
       "2016-05-09 00:10:00             400.0        401.942713        400.949883   \n",
       "2016-05-09 00:20:00             400.0        401.900145        400.899767   \n",
       "2016-05-09 00:30:00             400.0        401.949936        400.900210   \n",
       "2016-05-09 00:40:00             400.0        402.000000        400.850037   \n",
       "\n",
       "                     MLPAP_TJ-0706B05  MLPAP_TJ-0706B06  MLPAP_TJ-0706B07  \\\n",
       "2016-05-09 00:00:00        402.250788        401.148767             401.0   \n",
       "2016-05-09 00:10:00        402.249145        401.000000             401.0   \n",
       "2016-05-09 00:20:00        402.101255        401.000000             401.0   \n",
       "2016-05-09 00:30:00        402.300333        401.000000             401.0   \n",
       "2016-05-09 00:40:00        402.176070        401.000000             401.0   \n",
       "\n",
       "                     MLPAP_TJ-0706B08  MLPAP_TJ-0706B09  MLPAP_TJ-0706B10  \\\n",
       "2016-05-09 00:00:00        400.050078             403.0             402.0   \n",
       "2016-05-09 00:10:00        400.249800             403.0             402.0   \n",
       "2016-05-09 00:20:00        400.100155             403.0             402.0   \n",
       "2016-05-09 00:30:00        400.144695             403.0             402.0   \n",
       "2016-05-09 00:40:00        400.405002             403.0             402.0   \n",
       "\n",
       "                     MLPAP_TJ-0706B11  ...  MLPAP_FQI-0997.PV  DATA OF USE  \\\n",
       "2016-05-09 00:00:00             401.0  ...                0.0     0.000005   \n",
       "2016-05-09 00:10:00             401.0  ...                0.0     0.000010   \n",
       "2016-05-09 00:20:00             401.0  ...                0.0     0.000014   \n",
       "2016-05-09 00:30:00             401.0  ...                0.0     0.000019   \n",
       "2016-05-09 00:40:00             401.0  ...                0.0     0.000024   \n",
       "\n",
       "                     MLPAP_FR-0755PV(轉換後)  MLPAP_FR-0791.PV  \\\n",
       "2016-05-09 00:00:00              4.045683          6.484770   \n",
       "2016-05-09 00:10:00              4.152250          6.449888   \n",
       "2016-05-09 00:20:00              4.202449          6.440502   \n",
       "2016-05-09 00:30:00              4.146723          6.463649   \n",
       "2016-05-09 00:40:00              4.011298          6.414799   \n",
       "\n",
       "                     MLPAP_FI-V211.PV(轉換後)  MLPAP_PI-0658.PV  \\\n",
       "2016-05-09 00:00:00                    NaN         -1.000000   \n",
       "2016-05-09 00:10:00                    NaN         -1.000000   \n",
       "2016-05-09 00:20:00                    NaN         -0.898558   \n",
       "2016-05-09 00:30:00                    NaN         -0.509010   \n",
       "2016-05-09 00:40:00                    NaN         -0.992771   \n",
       "\n",
       "                     MLPAP_TJC-0757.PV  MLPAP_V125-PHD  MLPAP_PI-0771.PV  \\\n",
       "2016-05-09 00:00:00           1.635186           0.051          -1.38272   \n",
       "2016-05-09 00:10:00           1.625011           0.051          -1.38273   \n",
       "2016-05-09 00:20:00           1.649780           0.051          -1.40000   \n",
       "2016-05-09 00:30:00           1.635187           0.051          -1.40000   \n",
       "2016-05-09 00:40:00           1.654259           0.051          -1.30000   \n",
       "\n",
       "                     MLPAP_TRC-0747.PV  \n",
       "2016-05-09 00:00:00         133.100006  \n",
       "2016-05-09 00:10:00         133.100006  \n",
       "2016-05-09 00:20:00         133.100006  \n",
       "2016-05-09 00:30:00         133.199997  \n",
       "2016-05-09 00:40:00         133.100006  \n",
       "\n",
       "[5 rows x 93 columns]"
      ]
     },
     "execution_count": 5,
     "metadata": {},
     "output_type": "execute_result"
    }
   ],
   "source": [
    "df = pd.read_csv('./data/train(tag_sheet_check).csv',index_col=0,parse_dates=True)\n",
    "print(df.shape)\n",
    "df.head()"
   ]
  },
  {
   "cell_type": "markdown",
   "metadata": {},
   "source": [
    "# handle error"
   ]
  },
  {
   "cell_type": "code",
   "execution_count": 6,
   "metadata": {},
   "outputs": [],
   "source": [
    "df.columns = [str(i).replace('TI','TJ') for i in df.columns]\n",
    "tag['TAG'] = [str(i).replace('TI','TJ') for i in tag['TAG'].values]"
   ]
  },
  {
   "cell_type": "code",
   "execution_count": 7,
   "metadata": {},
   "outputs": [],
   "source": [
    "temp = tag[tag['TAG']=='MLPAP_TJC-0757A.PV'].copy()\n",
    "temp['TAG'] = 'MLPAP_TJ-0757B.PV'\n",
    "tag = tag.append(temp)"
   ]
  },
  {
   "cell_type": "code",
   "execution_count": 8,
   "metadata": {},
   "outputs": [
    {
     "name": "stdout",
     "output_type": "stream",
     "text": [
      "only in df:\n",
      "only in tag:\n"
     ]
    },
    {
     "data": {
      "text/plain": [
       "{'nan', '第二模型使用'}"
      ]
     },
     "execution_count": 8,
     "metadata": {},
     "output_type": "execute_result"
    }
   ],
   "source": [
    "print('only in df:')\n",
    "set(df.columns) - set(tag['TAG'])\n",
    "\n",
    "print('only in tag:')\n",
    "set(tag['TAG']) - set(df.columns)"
   ]
  },
  {
   "cell_type": "markdown",
   "metadata": {},
   "source": [
    "# spec clip or to np.nan"
   ]
  },
  {
   "cell_type": "code",
   "execution_count": 9,
   "metadata": {},
   "outputs": [
    {
     "data": {
      "application/vnd.jupyter.widget-view+json": {
       "model_id": "079eaa939aa04a358dbb8243244e1f99",
       "version_major": 2,
       "version_minor": 0
      },
      "text/plain": [
       "HBox(children=(IntProgress(value=0, max=93), HTML(value='')))"
      ]
     },
     "metadata": {},
     "output_type": "display_data"
    },
    {
     "name": "stdout",
     "output_type": "stream",
     "text": [
      "\n"
     ]
    },
    {
     "data": {
      "text/html": [
       "<div>\n",
       "<style scoped>\n",
       "    .dataframe tbody tr th:only-of-type {\n",
       "        vertical-align: middle;\n",
       "    }\n",
       "\n",
       "    .dataframe tbody tr th {\n",
       "        vertical-align: top;\n",
       "    }\n",
       "\n",
       "    .dataframe thead th {\n",
       "        text-align: right;\n",
       "    }\n",
       "</style>\n",
       "<table border=\"1\" class=\"dataframe\">\n",
       "  <thead>\n",
       "    <tr style=\"text-align: right;\">\n",
       "      <th></th>\n",
       "      <th>MLPAP_TJ-0706B02</th>\n",
       "      <th>MLPAP_TJ-0706B03</th>\n",
       "      <th>MLPAP_TJ-0706B04</th>\n",
       "      <th>MLPAP_TJ-0706B05</th>\n",
       "      <th>MLPAP_TJ-0706B06</th>\n",
       "      <th>MLPAP_TJ-0706B07</th>\n",
       "      <th>MLPAP_TJ-0706B08</th>\n",
       "      <th>MLPAP_TJ-0706B09</th>\n",
       "      <th>MLPAP_TJ-0706B10</th>\n",
       "      <th>MLPAP_TJ-0706B11</th>\n",
       "      <th>...</th>\n",
       "      <th>MLPAP_FQI-0997.PV</th>\n",
       "      <th>DATA OF USE</th>\n",
       "      <th>MLPAP_FR-0755PV(轉換後)</th>\n",
       "      <th>MLPAP_FR-0791.PV</th>\n",
       "      <th>MLPAP_FI-V211.PV(轉換後)</th>\n",
       "      <th>MLPAP_PI-0658.PV</th>\n",
       "      <th>MLPAP_TJC-0757.PV</th>\n",
       "      <th>MLPAP_V125-PHD</th>\n",
       "      <th>MLPAP_PI-0771.PV</th>\n",
       "      <th>MLPAP_TRC-0747.PV</th>\n",
       "    </tr>\n",
       "  </thead>\n",
       "  <tbody>\n",
       "    <tr>\n",
       "      <td>2016-05-09 00:00:00</td>\n",
       "      <td>400.0</td>\n",
       "      <td>401.957120</td>\n",
       "      <td>400.751866</td>\n",
       "      <td>402.250788</td>\n",
       "      <td>401.148767</td>\n",
       "      <td>401.0</td>\n",
       "      <td>400.050078</td>\n",
       "      <td>403.0</td>\n",
       "      <td>402.0</td>\n",
       "      <td>401.0</td>\n",
       "      <td>...</td>\n",
       "      <td>NaN</td>\n",
       "      <td>0.000005</td>\n",
       "      <td>4.045683</td>\n",
       "      <td>NaN</td>\n",
       "      <td>NaN</td>\n",
       "      <td>NaN</td>\n",
       "      <td>1.635186</td>\n",
       "      <td>0.051</td>\n",
       "      <td>NaN</td>\n",
       "      <td>133.100006</td>\n",
       "    </tr>\n",
       "    <tr>\n",
       "      <td>2016-05-09 00:10:00</td>\n",
       "      <td>400.0</td>\n",
       "      <td>401.942713</td>\n",
       "      <td>400.949883</td>\n",
       "      <td>402.249145</td>\n",
       "      <td>401.000000</td>\n",
       "      <td>401.0</td>\n",
       "      <td>400.249800</td>\n",
       "      <td>403.0</td>\n",
       "      <td>402.0</td>\n",
       "      <td>401.0</td>\n",
       "      <td>...</td>\n",
       "      <td>NaN</td>\n",
       "      <td>0.000010</td>\n",
       "      <td>4.152250</td>\n",
       "      <td>NaN</td>\n",
       "      <td>NaN</td>\n",
       "      <td>NaN</td>\n",
       "      <td>1.625011</td>\n",
       "      <td>0.051</td>\n",
       "      <td>NaN</td>\n",
       "      <td>133.100006</td>\n",
       "    </tr>\n",
       "    <tr>\n",
       "      <td>2016-05-09 00:20:00</td>\n",
       "      <td>400.0</td>\n",
       "      <td>401.900145</td>\n",
       "      <td>400.899767</td>\n",
       "      <td>402.101255</td>\n",
       "      <td>401.000000</td>\n",
       "      <td>401.0</td>\n",
       "      <td>400.100155</td>\n",
       "      <td>403.0</td>\n",
       "      <td>402.0</td>\n",
       "      <td>401.0</td>\n",
       "      <td>...</td>\n",
       "      <td>NaN</td>\n",
       "      <td>0.000014</td>\n",
       "      <td>4.202449</td>\n",
       "      <td>NaN</td>\n",
       "      <td>NaN</td>\n",
       "      <td>NaN</td>\n",
       "      <td>1.649780</td>\n",
       "      <td>0.051</td>\n",
       "      <td>NaN</td>\n",
       "      <td>133.100006</td>\n",
       "    </tr>\n",
       "    <tr>\n",
       "      <td>2016-05-09 00:30:00</td>\n",
       "      <td>400.0</td>\n",
       "      <td>401.949936</td>\n",
       "      <td>400.900210</td>\n",
       "      <td>402.300333</td>\n",
       "      <td>401.000000</td>\n",
       "      <td>401.0</td>\n",
       "      <td>400.144695</td>\n",
       "      <td>403.0</td>\n",
       "      <td>402.0</td>\n",
       "      <td>401.0</td>\n",
       "      <td>...</td>\n",
       "      <td>NaN</td>\n",
       "      <td>0.000019</td>\n",
       "      <td>4.146723</td>\n",
       "      <td>NaN</td>\n",
       "      <td>NaN</td>\n",
       "      <td>NaN</td>\n",
       "      <td>1.635187</td>\n",
       "      <td>0.051</td>\n",
       "      <td>NaN</td>\n",
       "      <td>133.199997</td>\n",
       "    </tr>\n",
       "    <tr>\n",
       "      <td>2016-05-09 00:40:00</td>\n",
       "      <td>400.0</td>\n",
       "      <td>402.000000</td>\n",
       "      <td>400.850037</td>\n",
       "      <td>402.176070</td>\n",
       "      <td>401.000000</td>\n",
       "      <td>401.0</td>\n",
       "      <td>400.405002</td>\n",
       "      <td>403.0</td>\n",
       "      <td>402.0</td>\n",
       "      <td>401.0</td>\n",
       "      <td>...</td>\n",
       "      <td>NaN</td>\n",
       "      <td>0.000024</td>\n",
       "      <td>4.011298</td>\n",
       "      <td>NaN</td>\n",
       "      <td>NaN</td>\n",
       "      <td>NaN</td>\n",
       "      <td>1.654259</td>\n",
       "      <td>0.051</td>\n",
       "      <td>NaN</td>\n",
       "      <td>133.100006</td>\n",
       "    </tr>\n",
       "  </tbody>\n",
       "</table>\n",
       "<p>5 rows × 93 columns</p>\n",
       "</div>"
      ],
      "text/plain": [
       "                     MLPAP_TJ-0706B02  MLPAP_TJ-0706B03  MLPAP_TJ-0706B04  \\\n",
       "2016-05-09 00:00:00             400.0        401.957120        400.751866   \n",
       "2016-05-09 00:10:00             400.0        401.942713        400.949883   \n",
       "2016-05-09 00:20:00             400.0        401.900145        400.899767   \n",
       "2016-05-09 00:30:00             400.0        401.949936        400.900210   \n",
       "2016-05-09 00:40:00             400.0        402.000000        400.850037   \n",
       "\n",
       "                     MLPAP_TJ-0706B05  MLPAP_TJ-0706B06  MLPAP_TJ-0706B07  \\\n",
       "2016-05-09 00:00:00        402.250788        401.148767             401.0   \n",
       "2016-05-09 00:10:00        402.249145        401.000000             401.0   \n",
       "2016-05-09 00:20:00        402.101255        401.000000             401.0   \n",
       "2016-05-09 00:30:00        402.300333        401.000000             401.0   \n",
       "2016-05-09 00:40:00        402.176070        401.000000             401.0   \n",
       "\n",
       "                     MLPAP_TJ-0706B08  MLPAP_TJ-0706B09  MLPAP_TJ-0706B10  \\\n",
       "2016-05-09 00:00:00        400.050078             403.0             402.0   \n",
       "2016-05-09 00:10:00        400.249800             403.0             402.0   \n",
       "2016-05-09 00:20:00        400.100155             403.0             402.0   \n",
       "2016-05-09 00:30:00        400.144695             403.0             402.0   \n",
       "2016-05-09 00:40:00        400.405002             403.0             402.0   \n",
       "\n",
       "                     MLPAP_TJ-0706B11  ...  MLPAP_FQI-0997.PV  DATA OF USE  \\\n",
       "2016-05-09 00:00:00             401.0  ...                NaN     0.000005   \n",
       "2016-05-09 00:10:00             401.0  ...                NaN     0.000010   \n",
       "2016-05-09 00:20:00             401.0  ...                NaN     0.000014   \n",
       "2016-05-09 00:30:00             401.0  ...                NaN     0.000019   \n",
       "2016-05-09 00:40:00             401.0  ...                NaN     0.000024   \n",
       "\n",
       "                     MLPAP_FR-0755PV(轉換後)  MLPAP_FR-0791.PV  \\\n",
       "2016-05-09 00:00:00              4.045683               NaN   \n",
       "2016-05-09 00:10:00              4.152250               NaN   \n",
       "2016-05-09 00:20:00              4.202449               NaN   \n",
       "2016-05-09 00:30:00              4.146723               NaN   \n",
       "2016-05-09 00:40:00              4.011298               NaN   \n",
       "\n",
       "                     MLPAP_FI-V211.PV(轉換後)  MLPAP_PI-0658.PV  \\\n",
       "2016-05-09 00:00:00                    NaN               NaN   \n",
       "2016-05-09 00:10:00                    NaN               NaN   \n",
       "2016-05-09 00:20:00                    NaN               NaN   \n",
       "2016-05-09 00:30:00                    NaN               NaN   \n",
       "2016-05-09 00:40:00                    NaN               NaN   \n",
       "\n",
       "                     MLPAP_TJC-0757.PV  MLPAP_V125-PHD  MLPAP_PI-0771.PV  \\\n",
       "2016-05-09 00:00:00           1.635186           0.051               NaN   \n",
       "2016-05-09 00:10:00           1.625011           0.051               NaN   \n",
       "2016-05-09 00:20:00           1.649780           0.051               NaN   \n",
       "2016-05-09 00:30:00           1.635187           0.051               NaN   \n",
       "2016-05-09 00:40:00           1.654259           0.051               NaN   \n",
       "\n",
       "                     MLPAP_TRC-0747.PV  \n",
       "2016-05-09 00:00:00         133.100006  \n",
       "2016-05-09 00:10:00         133.100006  \n",
       "2016-05-09 00:20:00         133.100006  \n",
       "2016-05-09 00:30:00         133.199997  \n",
       "2016-05-09 00:40:00         133.100006  \n",
       "\n",
       "[5 rows x 93 columns]"
      ]
     },
     "execution_count": 9,
     "metadata": {},
     "output_type": "execute_result"
    }
   ],
   "source": [
    "for i in tqdm(df.columns):\n",
    "    if i == 'DATA OF USE':\n",
    "        continue\n",
    "    lb = tag[tag['TAG']==i]['min'].values[0]\n",
    "    ub = tag[tag['TAG']==i]['max'].values[0]\n",
    "    out = (df[i]<lb)|(df[i]>ub)\n",
    "    '''\n",
    "    超過spec的要 做clip 或著轉成 np.nan\n",
    "    '''\n",
    "    #df[i] = np.clip(df[i].values,lb,ub)\n",
    "    df.loc[out,i] = np.nan\n",
    "df.head()"
   ]
  },
  {
   "cell_type": "markdown",
   "metadata": {},
   "source": [
    "# define columns"
   ]
  },
  {
   "cell_type": "code",
   "execution_count": 10,
   "metadata": {},
   "outputs": [
    {
     "data": {
      "text/plain": [
       "['MLPAP_FR-0632.PV',\n",
       " 'MLPAP_LIC-0738.PV',\n",
       " 'MLPAP_LRC-0729.PV',\n",
       " 'MLPAP_PIC-0741.PV',\n",
       " 'MLPAP_PIC-0761.PV',\n",
       " 'MLPAP_TJ-0757B.PV',\n",
       " 'MLPAP_TJC-0627.PV',\n",
       " 'MLPAP_TJC-0757.PV',\n",
       " 'MLPAP_TJC-0757A.PV',\n",
       " 'MLPAP_TJC-1721.PV',\n",
       " 'MLPAP_TRC-0610.PV',\n",
       " 'MLPAP_TRC-0747.PV',\n",
       " 'MLPAP_TRC-0762.PV',\n",
       " 'MLPAP_TRC-1734.PV']"
      ]
     },
     "execution_count": 10,
     "metadata": {},
     "output_type": "execute_result"
    }
   ],
   "source": [
    "control_factor = tag[tag['category']=='可控制因子']['TAG'].values.tolist()\n",
    "INPUT = get_col(df,'0619')\n",
    "OUTPUT = get_col(df,'0997')\n",
    "control_factor = list(set(control_factor) - set(INPUT) - set(OUTPUT))\n",
    "control_factor = sorted(control_factor)\n",
    "control_factor"
   ]
  },
  {
   "cell_type": "code",
   "execution_count": 11,
   "metadata": {},
   "outputs": [
    {
     "data": {
      "text/html": [
       "<div>\n",
       "<style scoped>\n",
       "    .dataframe tbody tr th:only-of-type {\n",
       "        vertical-align: middle;\n",
       "    }\n",
       "\n",
       "    .dataframe tbody tr th {\n",
       "        vertical-align: top;\n",
       "    }\n",
       "\n",
       "    .dataframe thead th {\n",
       "        text-align: right;\n",
       "    }\n",
       "</style>\n",
       "<table border=\"1\" class=\"dataframe\">\n",
       "  <thead>\n",
       "    <tr style=\"text-align: right;\">\n",
       "      <th></th>\n",
       "      <th>MLPAP_FQ-0619.PV</th>\n",
       "      <th>MLPAP_FR-0632.PV</th>\n",
       "      <th>MLPAP_LIC-0738.PV</th>\n",
       "      <th>MLPAP_LRC-0729.PV</th>\n",
       "      <th>MLPAP_PIC-0741.PV</th>\n",
       "      <th>MLPAP_PIC-0761.PV</th>\n",
       "      <th>MLPAP_TJ-0757B.PV</th>\n",
       "      <th>MLPAP_TJC-0627.PV</th>\n",
       "      <th>MLPAP_TJC-0757.PV</th>\n",
       "      <th>MLPAP_TJC-0757A.PV</th>\n",
       "      <th>MLPAP_TJC-1721.PV</th>\n",
       "      <th>MLPAP_TRC-0610.PV</th>\n",
       "      <th>MLPAP_TRC-0747.PV</th>\n",
       "      <th>MLPAP_TRC-0762.PV</th>\n",
       "      <th>MLPAP_TRC-1734.PV</th>\n",
       "      <th>MLPAP_FQI-0997.PV</th>\n",
       "    </tr>\n",
       "  </thead>\n",
       "  <tbody>\n",
       "    <tr>\n",
       "      <td>2016-05-09 00:00:00</td>\n",
       "      <td>NaN</td>\n",
       "      <td>NaN</td>\n",
       "      <td>NaN</td>\n",
       "      <td>NaN</td>\n",
       "      <td>NaN</td>\n",
       "      <td>46.900002</td>\n",
       "      <td>NaN</td>\n",
       "      <td>NaN</td>\n",
       "      <td>1.635186</td>\n",
       "      <td>NaN</td>\n",
       "      <td>63.684562</td>\n",
       "      <td>NaN</td>\n",
       "      <td>133.100006</td>\n",
       "      <td>NaN</td>\n",
       "      <td>182.195587</td>\n",
       "      <td>NaN</td>\n",
       "    </tr>\n",
       "    <tr>\n",
       "      <td>2016-05-09 00:10:00</td>\n",
       "      <td>NaN</td>\n",
       "      <td>NaN</td>\n",
       "      <td>NaN</td>\n",
       "      <td>NaN</td>\n",
       "      <td>NaN</td>\n",
       "      <td>46.900002</td>\n",
       "      <td>NaN</td>\n",
       "      <td>NaN</td>\n",
       "      <td>1.625011</td>\n",
       "      <td>NaN</td>\n",
       "      <td>61.767096</td>\n",
       "      <td>NaN</td>\n",
       "      <td>133.100006</td>\n",
       "      <td>NaN</td>\n",
       "      <td>182.143029</td>\n",
       "      <td>NaN</td>\n",
       "    </tr>\n",
       "    <tr>\n",
       "      <td>2016-05-09 00:20:00</td>\n",
       "      <td>NaN</td>\n",
       "      <td>NaN</td>\n",
       "      <td>NaN</td>\n",
       "      <td>NaN</td>\n",
       "      <td>NaN</td>\n",
       "      <td>46.930040</td>\n",
       "      <td>NaN</td>\n",
       "      <td>NaN</td>\n",
       "      <td>1.649780</td>\n",
       "      <td>NaN</td>\n",
       "      <td>62.294110</td>\n",
       "      <td>NaN</td>\n",
       "      <td>133.100006</td>\n",
       "      <td>NaN</td>\n",
       "      <td>178.698310</td>\n",
       "      <td>NaN</td>\n",
       "    </tr>\n",
       "    <tr>\n",
       "      <td>2016-05-09 00:30:00</td>\n",
       "      <td>NaN</td>\n",
       "      <td>NaN</td>\n",
       "      <td>NaN</td>\n",
       "      <td>NaN</td>\n",
       "      <td>NaN</td>\n",
       "      <td>46.900002</td>\n",
       "      <td>NaN</td>\n",
       "      <td>NaN</td>\n",
       "      <td>1.635187</td>\n",
       "      <td>NaN</td>\n",
       "      <td>61.901655</td>\n",
       "      <td>NaN</td>\n",
       "      <td>133.199997</td>\n",
       "      <td>NaN</td>\n",
       "      <td>179.147420</td>\n",
       "      <td>NaN</td>\n",
       "    </tr>\n",
       "    <tr>\n",
       "      <td>2016-05-09 00:40:00</td>\n",
       "      <td>NaN</td>\n",
       "      <td>NaN</td>\n",
       "      <td>NaN</td>\n",
       "      <td>NaN</td>\n",
       "      <td>NaN</td>\n",
       "      <td>46.900002</td>\n",
       "      <td>NaN</td>\n",
       "      <td>NaN</td>\n",
       "      <td>1.654259</td>\n",
       "      <td>NaN</td>\n",
       "      <td>61.953602</td>\n",
       "      <td>NaN</td>\n",
       "      <td>133.100006</td>\n",
       "      <td>NaN</td>\n",
       "      <td>183.341350</td>\n",
       "      <td>NaN</td>\n",
       "    </tr>\n",
       "  </tbody>\n",
       "</table>\n",
       "</div>"
      ],
      "text/plain": [
       "                     MLPAP_FQ-0619.PV  MLPAP_FR-0632.PV  MLPAP_LIC-0738.PV  \\\n",
       "2016-05-09 00:00:00               NaN               NaN                NaN   \n",
       "2016-05-09 00:10:00               NaN               NaN                NaN   \n",
       "2016-05-09 00:20:00               NaN               NaN                NaN   \n",
       "2016-05-09 00:30:00               NaN               NaN                NaN   \n",
       "2016-05-09 00:40:00               NaN               NaN                NaN   \n",
       "\n",
       "                     MLPAP_LRC-0729.PV  MLPAP_PIC-0741.PV  MLPAP_PIC-0761.PV  \\\n",
       "2016-05-09 00:00:00                NaN                NaN          46.900002   \n",
       "2016-05-09 00:10:00                NaN                NaN          46.900002   \n",
       "2016-05-09 00:20:00                NaN                NaN          46.930040   \n",
       "2016-05-09 00:30:00                NaN                NaN          46.900002   \n",
       "2016-05-09 00:40:00                NaN                NaN          46.900002   \n",
       "\n",
       "                     MLPAP_TJ-0757B.PV  MLPAP_TJC-0627.PV  MLPAP_TJC-0757.PV  \\\n",
       "2016-05-09 00:00:00                NaN                NaN           1.635186   \n",
       "2016-05-09 00:10:00                NaN                NaN           1.625011   \n",
       "2016-05-09 00:20:00                NaN                NaN           1.649780   \n",
       "2016-05-09 00:30:00                NaN                NaN           1.635187   \n",
       "2016-05-09 00:40:00                NaN                NaN           1.654259   \n",
       "\n",
       "                     MLPAP_TJC-0757A.PV  MLPAP_TJC-1721.PV  MLPAP_TRC-0610.PV  \\\n",
       "2016-05-09 00:00:00                 NaN          63.684562                NaN   \n",
       "2016-05-09 00:10:00                 NaN          61.767096                NaN   \n",
       "2016-05-09 00:20:00                 NaN          62.294110                NaN   \n",
       "2016-05-09 00:30:00                 NaN          61.901655                NaN   \n",
       "2016-05-09 00:40:00                 NaN          61.953602                NaN   \n",
       "\n",
       "                     MLPAP_TRC-0747.PV  MLPAP_TRC-0762.PV  MLPAP_TRC-1734.PV  \\\n",
       "2016-05-09 00:00:00         133.100006                NaN         182.195587   \n",
       "2016-05-09 00:10:00         133.100006                NaN         182.143029   \n",
       "2016-05-09 00:20:00         133.100006                NaN         178.698310   \n",
       "2016-05-09 00:30:00         133.199997                NaN         179.147420   \n",
       "2016-05-09 00:40:00         133.100006                NaN         183.341350   \n",
       "\n",
       "                     MLPAP_FQI-0997.PV  \n",
       "2016-05-09 00:00:00                NaN  \n",
       "2016-05-09 00:10:00                NaN  \n",
       "2016-05-09 00:20:00                NaN  \n",
       "2016-05-09 00:30:00                NaN  \n",
       "2016-05-09 00:40:00                NaN  "
      ]
     },
     "execution_count": 11,
     "metadata": {},
     "output_type": "execute_result"
    }
   ],
   "source": [
    "df = df[INPUT+control_factor+OUTPUT]\n",
    "df.head()"
   ]
  },
  {
   "cell_type": "markdown",
   "metadata": {},
   "source": [
    "# miss value"
   ]
  },
  {
   "cell_type": "code",
   "execution_count": 12,
   "metadata": {},
   "outputs": [
    {
     "data": {
      "text/plain": [
       "<matplotlib.axes._subplots.AxesSubplot at 0x128642de1c8>"
      ]
     },
     "execution_count": 12,
     "metadata": {},
     "output_type": "execute_result"
    },
    {
     "data": {
      "image/png": "[encoded data removed]",
      "text/plain": [
       "<Figure size 1440x360 with 1 Axes>"
      ]
     },
     "metadata": {
      "needs_background": "light"
     },
     "output_type": "display_data"
    }
   ],
   "source": [
    "fig = plt.figure(figsize=(20,5))\n",
    "sns.heatmap(df.isnull(),yticklabels=False,cbar=False,cmap='viridis')"
   ]
  },
  {
   "cell_type": "markdown",
   "metadata": {},
   "source": [
    "# dropna(columns wise)"
   ]
  },
  {
   "cell_type": "code",
   "execution_count": 13,
   "metadata": {},
   "outputs": [],
   "source": [
    "df = df.dropna(axis=1,thresh=len(df)*0.6)"
   ]
  },
  {
   "cell_type": "code",
   "execution_count": 14,
   "metadata": {},
   "outputs": [
    {
     "data": {
      "text/plain": [
       "<matplotlib.axes._subplots.AxesSubplot at 0x12862784f88>"
      ]
     },
     "execution_count": 14,
     "metadata": {},
     "output_type": "execute_result"
    },
    {
     "data": {
      "image/png": "[encoded data removed]",
      "text/plain": [
       "<Figure size 1440x360 with 1 Axes>"
      ]
     },
     "metadata": {
      "needs_background": "light"
     },
     "output_type": "display_data"
    }
   ],
   "source": [
    "fig = plt.figure(figsize=(20,5))\n",
    "sns.heatmap(df.isnull(),yticklabels=False,cbar=False,cmap='viridis')"
   ]
  },
  {
   "cell_type": "markdown",
   "metadata": {},
   "source": [
    "# dropna(row wise) 時間會斷掉"
   ]
  },
  {
   "cell_type": "code",
   "execution_count": 15,
   "metadata": {},
   "outputs": [],
   "source": [
    "#df = df.dropna(axis=0)"
   ]
  },
  {
   "cell_type": "code",
   "execution_count": 16,
   "metadata": {},
   "outputs": [],
   "source": [
    "#fig = plt.figure(figsize=(20,5))\n",
    "#sns.heatmap(df.isnull(),yticklabels=False,cbar=False,cmap='viridis')"
   ]
  },
  {
   "cell_type": "code",
   "execution_count": 17,
   "metadata": {},
   "outputs": [
    {
     "data": {
      "text/plain": [
       "['MLPAP_FR-0632.PV',\n",
       " 'MLPAP_LIC-0738.PV',\n",
       " 'MLPAP_LRC-0729.PV',\n",
       " 'MLPAP_PIC-0761.PV',\n",
       " 'MLPAP_TJ-0757B.PV',\n",
       " 'MLPAP_TJC-0627.PV',\n",
       " 'MLPAP_TJC-0757.PV',\n",
       " 'MLPAP_TJC-0757A.PV',\n",
       " 'MLPAP_TJC-1721.PV',\n",
       " 'MLPAP_TRC-0610.PV',\n",
       " 'MLPAP_TRC-0747.PV',\n",
       " 'MLPAP_TRC-0762.PV',\n",
       " 'MLPAP_TRC-1734.PV']"
      ]
     },
     "execution_count": 17,
     "metadata": {},
     "output_type": "execute_result"
    }
   ],
   "source": [
    "control_factor = list(set(df.columns)&set(control_factor))\n",
    "control_factor = sorted(control_factor)\n",
    "control_factor"
   ]
  },
  {
   "cell_type": "markdown",
   "metadata": {},
   "source": [
    "# 0619 with 0997 trace plot"
   ]
  },
  {
   "cell_type": "code",
   "execution_count": 18,
   "metadata": {},
   "outputs": [],
   "source": [
    "import plotly.graph_objects as go\n",
    "import warnings \n",
    "warnings.simplefilter('ignore')\n",
    "\n",
    "#d = df.head(100000)\n",
    "#d['Date'] = d.index\n",
    "\n",
    "#fig = go.Figure()\n",
    "\n",
    "#fig.add_trace(go.Scatter(x=d.Date, y=d[OUTPUT[0]], name=OUTPUT[0]))\n",
    "#fig.add_trace(go.Scatter(x=d.Date, y=d[INPUT[0]], name=INPUT[0]))\n",
    "\n",
    "#fig.update_layout(title_text='Time Series with Rangeslider',xaxis_rangeslider_visible=True)\n",
    "#fig.show()"
   ]
  },
  {
   "cell_type": "markdown",
   "metadata": {},
   "source": [
    "# control_factor dist plot"
   ]
  },
  {
   "cell_type": "code",
   "execution_count": 19,
   "metadata": {},
   "outputs": [],
   "source": [
    "#for i in control_factor:\n",
    "#    sns.distplot(df.dropna().sample(1000)[i])\n",
    "#    plt.show()"
   ]
  },
  {
   "cell_type": "markdown",
   "metadata": {},
   "source": [
    "# stack time_step"
   ]
  },
  {
   "cell_type": "code",
   "execution_count": 20,
   "metadata": {},
   "outputs": [],
   "source": [
    "x_col = INPUT + control_factor\n",
    "y_col = OUTPUT\n",
    "\n",
    "def train_windows(df, ref_day):\n",
    "    X_train, Y_train, idx_lst = [], [], []\n",
    "    for i in tqdm(range(len(df)-ref_day)):\n",
    "        # 起始日 結束日\n",
    "        start,end = i,i+ref_day\n",
    "        # 確定該筆instance涵蓋的時間範圍內是否皆不含缺失值\n",
    "        c = df.iloc[start:end+1].isnull().sum().sum()\n",
    "        # 如果正常(不含缺失值)才製作成X,y pair\n",
    "        if c == 0:\n",
    "            X_train.append(df.iloc[start:end+1][x_col].values)\n",
    "            Y_train.append(df.iloc[end][y_col].values[0])\n",
    "            idx_lst.append(df.iloc[[end]].index[0])\n",
    "        # 如果不正常就跳過\n",
    "        else:\n",
    "            pass\n",
    "    # 重整資料 將二維X做flat 將y變Series\n",
    "    X_train = np.array(X_train)\n",
    "    flat_size = X_train.shape[1]*X_train.shape[2]\n",
    "    X_train = X_train.reshape(-1,flat_size)\n",
    "    Y_train = pd.Series(Y_train,index=idx_lst,name='Y')\n",
    "    return X_train, Y_train, idx_lst"
   ]
  },
  {
   "cell_type": "markdown",
   "metadata": {},
   "source": [
    "# make X,y pair need long time"
   ]
  },
  {
   "cell_type": "code",
   "execution_count": 21,
   "metadata": {},
   "outputs": [],
   "source": [
    "#s = time.time()\n",
    "#X,Y,idx_lst = train_windows(df,38)\n",
    "#Y = Y.values.reshape(-1,1)\n",
    "#print(time.time()-s)\n",
    "#print(X.shape)\n",
    "#print(Y.shape)"
   ]
  },
  {
   "cell_type": "markdown",
   "metadata": {},
   "source": [
    "# save X,y"
   ]
  },
  {
   "cell_type": "code",
   "execution_count": 22,
   "metadata": {},
   "outputs": [],
   "source": [
    "#dataset = {}\n",
    "#dataset['X'] = X\n",
    "#dataset['Y'] = Y\n",
    "#dataset['idx'] = idx_lst\n",
    "#joblib.dump(dataset,'./data/dataset')\n",
    "#print('save done')"
   ]
  },
  {
   "cell_type": "markdown",
   "metadata": {},
   "source": [
    "# Load X,y"
   ]
  },
  {
   "cell_type": "code",
   "execution_count": 23,
   "metadata": {},
   "outputs": [
    {
     "name": "stdout",
     "output_type": "stream",
     "text": [
      "load done\n"
     ]
    }
   ],
   "source": [
    "dataset = joblib.load('./data/dataset')\n",
    "X = dataset['X']\n",
    "Y = dataset['Y']\n",
    "idx_lst = dataset['idx']\n",
    "print('load done')"
   ]
  },
  {
   "cell_type": "markdown",
   "metadata": {},
   "source": [
    "# split train test"
   ]
  },
  {
   "cell_type": "code",
   "execution_count": 24,
   "metadata": {},
   "outputs": [
    {
     "name": "stdout",
     "output_type": "stream",
     "text": [
      "(94408, 546)\n",
      "(94408, 1)\n",
      "(20230, 546)\n",
      "(20230, 1)\n",
      "(20231, 546)\n",
      "(20231, 1)\n"
     ]
    }
   ],
   "source": [
    "sp1 = int(len(X)*0.7)\n",
    "sp2 = int(len(X)*0.85)\n",
    "X_train,X_valid,X_test = X[:sp1],X[sp1:sp2],X[sp2:]\n",
    "Y_train,Y_valid,Y_test = Y[:sp1],Y[sp1:sp2],Y[sp2:]\n",
    "print(X_train.shape)\n",
    "print(Y_train.shape)\n",
    "print(X_valid.shape)\n",
    "print(Y_valid.shape)\n",
    "print(X_test.shape)\n",
    "print(Y_test.shape)"
   ]
  },
  {
   "cell_type": "markdown",
   "metadata": {},
   "source": [
    "# MinMaxScaler"
   ]
  },
  {
   "cell_type": "code",
   "execution_count": 25,
   "metadata": {},
   "outputs": [],
   "source": [
    "from sklearn.preprocessing import MinMaxScaler\n",
    "mm_x = MinMaxScaler().fit(X)\n",
    "mm_y = MinMaxScaler().fit(Y)"
   ]
  },
  {
   "cell_type": "code",
   "execution_count": 26,
   "metadata": {},
   "outputs": [
    {
     "name": "stdout",
     "output_type": "stream",
     "text": [
      "save done!\n"
     ]
    }
   ],
   "source": [
    "joblib.dump(mm_x,'./model/mm_x.pkl')\n",
    "joblib.dump(mm_y,'./model/mm_y.pkl')\n",
    "print('save done!')"
   ]
  },
  {
   "cell_type": "code",
   "execution_count": 27,
   "metadata": {},
   "outputs": [],
   "source": [
    "X_train = mm_x.transform(X_train)\n",
    "X_valid = mm_x.transform(X_valid)\n",
    "X_test = mm_x.transform(X_test)\n",
    "\n",
    "Y_train = mm_y.transform(Y_train)\n",
    "Y_valid = mm_y.transform(Y_valid)\n",
    "Y_test = mm_y.transform(Y_test)"
   ]
  },
  {
   "cell_type": "markdown",
   "metadata": {},
   "source": [
    "# torch tensor"
   ]
  },
  {
   "cell_type": "code",
   "execution_count": 28,
   "metadata": {},
   "outputs": [],
   "source": [
    "import torch\n",
    "\n",
    "X_train = torch.tensor(X_train).cuda()\n",
    "X_test = torch.tensor(X_test).cuda()\n",
    "\n",
    "X_valid = torch.tensor(X_valid).cuda()\n",
    "Y_valid = torch.tensor(Y_valid).cuda()\n",
    "\n",
    "Y_train = torch.tensor(Y_train).cuda()\n",
    "Y_test = torch.tensor(Y_test).cuda()"
   ]
  },
  {
   "cell_type": "markdown",
   "metadata": {},
   "source": [
    "# data_iter"
   ]
  },
  {
   "cell_type": "code",
   "execution_count": 29,
   "metadata": {},
   "outputs": [],
   "source": [
    "train = torch.utils.data.TensorDataset(X_train, Y_train)\n",
    "valid = torch.utils.data.TensorDataset(X_valid, Y_valid)\n",
    "train_iter = torch.utils.data.DataLoader(train, batch_size=256, shuffle=True)\n",
    "valid_iter = torch.utils.data.DataLoader(valid, batch_size=256, shuffle=True)"
   ]
  },
  {
   "cell_type": "markdown",
   "metadata": {},
   "source": [
    "# Construct the neural network"
   ]
  },
  {
   "cell_type": "code",
   "execution_count": 30,
   "metadata": {},
   "outputs": [],
   "source": [
    "class Net(nn.Module):\n",
    "    def __init__(self,input_shape,output_shape):\n",
    "        super(Net,self).__init__()\n",
    "        self.fc = nn.Sequential(\n",
    "            nn.Linear(input_shape,64),#高維度輸入特徵降維至64的內部特徵表示\n",
    "            nn.Dropout(0.2),#對抗過擬和\n",
    "            nn.Linear(64,output_shape),#輸出0997的值\n",
    "            nn.Sigmoid(),# 將range限縮在[0,1]\n",
    "        )\n",
    "\n",
    "    def forward(self, x):\n",
    "        return self.fc(x)"
   ]
  },
  {
   "cell_type": "code",
   "execution_count": 31,
   "metadata": {},
   "outputs": [],
   "source": [
    "def init_weights(m):\n",
    "    if hasattr(m,'weight'):\n",
    "        torch.nn.init.xavier_uniform(m.weight)\n",
    "    if hasattr(m,'bias'):\n",
    "        m.bias.data.fill_(0)"
   ]
  },
  {
   "cell_type": "code",
   "execution_count": 32,
   "metadata": {},
   "outputs": [
    {
     "data": {
      "text/plain": [
       "Net(\n",
       "  (fc): Sequential(\n",
       "    (0): Linear(in_features=546, out_features=64, bias=True)\n",
       "    (1): Dropout(p=0.2, inplace=False)\n",
       "    (2): Linear(in_features=64, out_features=1, bias=True)\n",
       "    (3): Sigmoid()\n",
       "  )\n",
       ")"
      ]
     },
     "execution_count": 32,
     "metadata": {},
     "output_type": "execute_result"
    }
   ],
   "source": [
    "net = Net(X_train.shape[1],Y_train.shape[1]).cuda().double()\n",
    "net.apply(init_weights)"
   ]
  },
  {
   "cell_type": "markdown",
   "metadata": {},
   "source": [
    "# tensorboard"
   ]
  },
  {
   "cell_type": "code",
   "execution_count": 33,
   "metadata": {},
   "outputs": [],
   "source": [
    "#with SummaryWriter(comment='Net')as w:\n",
    "#    w.add_graph(net, (X_test,))"
   ]
  },
  {
   "cell_type": "markdown",
   "metadata": {},
   "source": [
    "# torchviz"
   ]
  },
  {
   "cell_type": "code",
   "execution_count": 34,
   "metadata": {},
   "outputs": [
    {
     "data": {
      "image/svg+xml": [
       "<?xml version=\"1.0\" encoding=\"UTF-8\" standalone=\"no\"?>\r\n",
       "<!DOCTYPE svg PUBLIC \"-//W3C//DTD SVG 1.1//EN\"\r\n",
       " \"http://www.w3.org/Graphics/SVG/1.1/DTD/svg11.dtd\">\r\n",
       "<!-- Generated by graphviz version 2.38.0 (20140413.2041)\r\n",
       " -->\r\n",
       "<!-- Title: %3 Pages: 1 -->\r\n",
       "<svg width=\"301pt\" height=\"423pt\"\r\n",
       " viewBox=\"0.00 0.00 301.00 423.00\" xmlns=\"http://www.w3.org/2000/svg\" xmlns:xlink=\"http://www.w3.org/1999/xlink\">\r\n",
       "<g id=\"graph0\" class=\"graph\" transform=\"scale(1 1) rotate(0) translate(4 419)\">\r\n",
       "<title>%3</title>\r\n",
       "<polygon fill=\"white\" stroke=\"none\" points=\"-4,4 -4,-419 297,-419 297,4 -4,4\"/>\r\n",
       "<!-- 1272983358984 -->\r\n",
       "<g id=\"node1\" class=\"node\"><title>1272983358984</title>\r\n",
       "<polygon fill=\"#caff70\" stroke=\"black\" points=\"186.5,-21 90.5,-21 90.5,-0 186.5,-0 186.5,-21\"/>\r\n",
       "<text text-anchor=\"middle\" x=\"138.5\" y=\"-7.4\" font-family=\"Times New Roman,serif\" font-size=\"12.00\">MeanBackward0</text>\r\n",
       "</g>\r\n",
       "<!-- 1272983358920 -->\r\n",
       "<g id=\"node2\" class=\"node\"><title>1272983358920</title>\r\n",
       "<polygon fill=\"lightgrey\" stroke=\"black\" points=\"189,-78 88,-78 88,-57 189,-57 189,-78\"/>\r\n",
       "<text text-anchor=\"middle\" x=\"138.5\" y=\"-64.4\" font-family=\"Times New Roman,serif\" font-size=\"12.00\">SigmoidBackward</text>\r\n",
       "</g>\r\n",
       "<!-- 1272983358920&#45;&gt;1272983358984 -->\r\n",
       "<g id=\"edge1\" class=\"edge\"><title>1272983358920&#45;&gt;1272983358984</title>\r\n",
       "<path fill=\"none\" stroke=\"black\" d=\"M138.5,-56.9197C138.5,-49.9083 138.5,-40.1442 138.5,-31.4652\"/>\r\n",
       "<polygon fill=\"black\" stroke=\"black\" points=\"142,-31.3408 138.5,-21.3408 135,-31.3409 142,-31.3408\"/>\r\n",
       "</g>\r\n",
       "<!-- 1272983358792 -->\r\n",
       "<g id=\"node3\" class=\"node\"><title>1272983358792</title>\r\n",
       "<polygon fill=\"lightgrey\" stroke=\"black\" points=\"189,-135 88,-135 88,-114 189,-114 189,-135\"/>\r\n",
       "<text text-anchor=\"middle\" x=\"138.5\" y=\"-121.4\" font-family=\"Times New Roman,serif\" font-size=\"12.00\">AddmmBackward</text>\r\n",
       "</g>\r\n",
       "<!-- 1272983358792&#45;&gt;1272983358920 -->\r\n",
       "<g id=\"edge2\" class=\"edge\"><title>1272983358792&#45;&gt;1272983358920</title>\r\n",
       "<path fill=\"none\" stroke=\"black\" d=\"M138.5,-113.92C138.5,-106.908 138.5,-97.1442 138.5,-88.4652\"/>\r\n",
       "<polygon fill=\"black\" stroke=\"black\" points=\"142,-88.3408 138.5,-78.3408 135,-88.3409 142,-88.3408\"/>\r\n",
       "</g>\r\n",
       "<!-- 1272983358728 -->\r\n",
       "<g id=\"node4\" class=\"node\"><title>1272983358728</title>\r\n",
       "<polygon fill=\"lightblue\" stroke=\"black\" points=\"55,-205 0,-205 0,-171 55,-171 55,-205\"/>\r\n",
       "<text text-anchor=\"middle\" x=\"27.5\" y=\"-191.4\" font-family=\"Times New Roman,serif\" font-size=\"12.00\">fc.2.bias</text>\r\n",
       "<text text-anchor=\"middle\" x=\"27.5\" y=\"-178.4\" font-family=\"Times New Roman,serif\" font-size=\"12.00\"> (1)</text>\r\n",
       "</g>\r\n",
       "<!-- 1272983358728&#45;&gt;1272983358792 -->\r\n",
       "<g id=\"edge3\" class=\"edge\"><title>1272983358728&#45;&gt;1272983358792</title>\r\n",
       "<path fill=\"none\" stroke=\"black\" d=\"M55.2237,-171.64C72.6697,-161.974 95.0495,-149.574 112.214,-140.064\"/>\r\n",
       "<polygon fill=\"black\" stroke=\"black\" points=\"114.099,-143.021 121.15,-135.113 110.706,-136.898 114.099,-143.021\"/>\r\n",
       "</g>\r\n",
       "<!-- 1272983358664 -->\r\n",
       "<g id=\"node5\" class=\"node\"><title>1272983358664</title>\r\n",
       "<polygon fill=\"lightgrey\" stroke=\"black\" points=\"203.5,-198.5 73.5,-198.5 73.5,-177.5 203.5,-177.5 203.5,-198.5\"/>\r\n",
       "<text text-anchor=\"middle\" x=\"138.5\" y=\"-184.9\" font-family=\"Times New Roman,serif\" font-size=\"12.00\">FusedDropoutBackward</text>\r\n",
       "</g>\r\n",
       "<!-- 1272983358664&#45;&gt;1272983358792 -->\r\n",
       "<g id=\"edge4\" class=\"edge\"><title>1272983358664&#45;&gt;1272983358792</title>\r\n",
       "<path fill=\"none\" stroke=\"black\" d=\"M138.5,-177.391C138.5,-168.866 138.5,-156.139 138.5,-145.423\"/>\r\n",
       "<polygon fill=\"black\" stroke=\"black\" points=\"142,-145.245 138.5,-135.245 135,-145.245 142,-145.245\"/>\r\n",
       "</g>\r\n",
       "<!-- 1272983358344 -->\r\n",
       "<g id=\"node6\" class=\"node\"><title>1272983358344</title>\r\n",
       "<polygon fill=\"lightgrey\" stroke=\"black\" points=\"189,-268.5 88,-268.5 88,-247.5 189,-247.5 189,-268.5\"/>\r\n",
       "<text text-anchor=\"middle\" x=\"138.5\" y=\"-254.9\" font-family=\"Times New Roman,serif\" font-size=\"12.00\">AddmmBackward</text>\r\n",
       "</g>\r\n",
       "<!-- 1272983358344&#45;&gt;1272983358664 -->\r\n",
       "<g id=\"edge5\" class=\"edge\"><title>1272983358344&#45;&gt;1272983358664</title>\r\n",
       "<path fill=\"none\" stroke=\"black\" d=\"M138.5,-247.257C138.5,-237.259 138.5,-221.422 138.5,-208.782\"/>\r\n",
       "<polygon fill=\"black\" stroke=\"black\" points=\"142,-208.725 138.5,-198.725 135,-208.725 142,-208.725\"/>\r\n",
       "</g>\r\n",
       "<!-- 1272983358408 -->\r\n",
       "<g id=\"node7\" class=\"node\"><title>1272983358408</title>\r\n",
       "<polygon fill=\"lightblue\" stroke=\"black\" points=\"126,-345 71,-345 71,-311 126,-311 126,-345\"/>\r\n",
       "<text text-anchor=\"middle\" x=\"98.5\" y=\"-331.4\" font-family=\"Times New Roman,serif\" font-size=\"12.00\">fc.0.bias</text>\r\n",
       "<text text-anchor=\"middle\" x=\"98.5\" y=\"-318.4\" font-family=\"Times New Roman,serif\" font-size=\"12.00\"> (64)</text>\r\n",
       "</g>\r\n",
       "<!-- 1272983358408&#45;&gt;1272983358344 -->\r\n",
       "<g id=\"edge6\" class=\"edge\"><title>1272983358408&#45;&gt;1272983358344</title>\r\n",
       "<path fill=\"none\" stroke=\"black\" d=\"M107.979,-310.885C113.852,-300.902 121.416,-288.043 127.545,-277.624\"/>\r\n",
       "<polygon fill=\"black\" stroke=\"black\" points=\"130.626,-279.289 132.68,-268.895 124.593,-275.739 130.626,-279.289\"/>\r\n",
       "</g>\r\n",
       "<!-- 1272983358216 -->\r\n",
       "<g id=\"node8\" class=\"node\"><title>1272983358216</title>\r\n",
       "<polygon fill=\"lightgrey\" stroke=\"black\" points=\"215,-338.5 144,-338.5 144,-317.5 215,-317.5 215,-338.5\"/>\r\n",
       "<text text-anchor=\"middle\" x=\"179.5\" y=\"-324.9\" font-family=\"Times New Roman,serif\" font-size=\"12.00\">TBackward</text>\r\n",
       "</g>\r\n",
       "<!-- 1272983358216&#45;&gt;1272983358344 -->\r\n",
       "<g id=\"edge7\" class=\"edge\"><title>1272983358216&#45;&gt;1272983358344</title>\r\n",
       "<path fill=\"none\" stroke=\"black\" d=\"M173.626,-317.257C167.415,-306.956 157.467,-290.457 149.74,-277.642\"/>\r\n",
       "<polygon fill=\"black\" stroke=\"black\" points=\"152.524,-275.481 144.363,-268.725 146.53,-279.096 152.524,-275.481\"/>\r\n",
       "</g>\r\n",
       "<!-- 1272983357896 -->\r\n",
       "<g id=\"node9\" class=\"node\"><title>1272983357896</title>\r\n",
       "<polygon fill=\"lightblue\" stroke=\"black\" points=\"212.5,-415 146.5,-415 146.5,-381 212.5,-381 212.5,-415\"/>\r\n",
       "<text text-anchor=\"middle\" x=\"179.5\" y=\"-401.4\" font-family=\"Times New Roman,serif\" font-size=\"12.00\">fc.0.weight</text>\r\n",
       "<text text-anchor=\"middle\" x=\"179.5\" y=\"-388.4\" font-family=\"Times New Roman,serif\" font-size=\"12.00\"> (64, 546)</text>\r\n",
       "</g>\r\n",
       "<!-- 1272983357896&#45;&gt;1272983358216 -->\r\n",
       "<g id=\"edge8\" class=\"edge\"><title>1272983357896&#45;&gt;1272983358216</title>\r\n",
       "<path fill=\"none\" stroke=\"black\" d=\"M179.5,-380.885C179.5,-371.309 179.5,-359.088 179.5,-348.912\"/>\r\n",
       "<polygon fill=\"black\" stroke=\"black\" points=\"183,-348.895 179.5,-338.895 176,-348.895 183,-348.895\"/>\r\n",
       "</g>\r\n",
       "<!-- 1272983358536 -->\r\n",
       "<g id=\"node10\" class=\"node\"><title>1272983358536</title>\r\n",
       "<polygon fill=\"lightgrey\" stroke=\"black\" points=\"293,-198.5 222,-198.5 222,-177.5 293,-177.5 293,-198.5\"/>\r\n",
       "<text text-anchor=\"middle\" x=\"257.5\" y=\"-184.9\" font-family=\"Times New Roman,serif\" font-size=\"12.00\">TBackward</text>\r\n",
       "</g>\r\n",
       "<!-- 1272983358536&#45;&gt;1272983358792 -->\r\n",
       "<g id=\"edge9\" class=\"edge\"><title>1272983358536&#45;&gt;1272983358792</title>\r\n",
       "<path fill=\"none\" stroke=\"black\" d=\"M238.906,-177.391C219.345,-167.281 188.35,-151.263 165.969,-139.696\"/>\r\n",
       "<polygon fill=\"black\" stroke=\"black\" points=\"167.454,-136.524 156.963,-135.042 164.24,-142.742 167.454,-136.524\"/>\r\n",
       "</g>\r\n",
       "<!-- 1272983358600 -->\r\n",
       "<g id=\"node11\" class=\"node\"><title>1272983358600</title>\r\n",
       "<polygon fill=\"lightblue\" stroke=\"black\" points=\"290.5,-275 224.5,-275 224.5,-241 290.5,-241 290.5,-275\"/>\r\n",
       "<text text-anchor=\"middle\" x=\"257.5\" y=\"-261.4\" font-family=\"Times New Roman,serif\" font-size=\"12.00\">fc.2.weight</text>\r\n",
       "<text text-anchor=\"middle\" x=\"257.5\" y=\"-248.4\" font-family=\"Times New Roman,serif\" font-size=\"12.00\"> (1, 64)</text>\r\n",
       "</g>\r\n",
       "<!-- 1272983358600&#45;&gt;1272983358536 -->\r\n",
       "<g id=\"edge10\" class=\"edge\"><title>1272983358600&#45;&gt;1272983358536</title>\r\n",
       "<path fill=\"none\" stroke=\"black\" d=\"M257.5,-240.885C257.5,-231.309 257.5,-219.088 257.5,-208.912\"/>\r\n",
       "<polygon fill=\"black\" stroke=\"black\" points=\"261,-208.895 257.5,-198.895 254,-208.895 261,-208.895\"/>\r\n",
       "</g>\r\n",
       "</g>\r\n",
       "</svg>\r\n"
      ],
      "text/plain": [
       "<graphviz.dot.Digraph at 0x12863b84e88>"
      ]
     },
     "execution_count": 34,
     "metadata": {},
     "output_type": "execute_result"
    }
   ],
   "source": [
    "torchviz.make_dot(net(X_test).mean(),params=dict(net.named_parameters()))"
   ]
  },
  {
   "cell_type": "markdown",
   "metadata": {},
   "source": [
    "# loss_function and optimizer"
   ]
  },
  {
   "cell_type": "code",
   "execution_count": 35,
   "metadata": {},
   "outputs": [],
   "source": [
    "optimizer = torch.optim.Adam(net.parameters(),lr=1e-4)\n",
    "loss_function = nn.MSELoss()"
   ]
  },
  {
   "cell_type": "markdown",
   "metadata": {},
   "source": [
    "# Training and evaluation"
   ]
  },
  {
   "cell_type": "code",
   "execution_count": 36,
   "metadata": {},
   "outputs": [],
   "source": [
    "def train(net,train_iter,loss_function,optimizer,num_epochs=100):\n",
    "    train_history = []\n",
    "    valid_history = []\n",
    "    best_loss = 1000\n",
    "    for epoch in range(num_epochs):\n",
    "        \n",
    "        # train model\n",
    "        net.train()\n",
    "        train_loss,i = 0,0\n",
    "        for x,y in train_iter:\n",
    "            loss = loss_function(net(x),y)\n",
    "            loss.backward()\n",
    "            optimizer.step()\n",
    "            optimizer.zero_grad()\n",
    "            train_loss += loss.item()\n",
    "            i += 1\n",
    "        \n",
    "        # eval model\n",
    "        net.eval()\n",
    "        val_loss,j = 0,0\n",
    "        for x, y in valid_iter:\n",
    "            loss = loss_function(net(x),y)\n",
    "            val_loss += loss.item()\n",
    "            j += 1\n",
    "        \n",
    "        # caculate avg loss\n",
    "        train_avg_loss = train_loss/i\n",
    "        val_avg_loss = val_loss/j\n",
    "        \n",
    "        # save the best model\n",
    "        if val_avg_loss <= best_loss:\n",
    "            best_loss = val_avg_loss\n",
    "            joblib.dump(net,'./model/net.pkl')\n",
    "            print('model saved')\n",
    "        \n",
    "        # record history and print loss of the epoch\n",
    "        train_history.append(train_avg_loss)\n",
    "        valid_history.append(val_avg_loss)\n",
    "        print(\"epochs {} train_avg_loss {:.4f} valid_avg_loss {:.4f}\".format(epoch,train_avg_loss,val_avg_loss))\n",
    "        \n",
    "    # plot result\n",
    "    print('best val_avg_loss is ',best_loss)\n",
    "    fig = plt.figure(figsize=(20,5))\n",
    "    plt.plot(np.array(train_history),label='train')\n",
    "    plt.plot(np.array(valid_history),label='valid')\n",
    "    plt.legend()\n",
    "    plt.title('loss')\n",
    "    plt.show()\n",
    "    \n",
    "    # return best trained net\n",
    "    return net"
   ]
  },
  {
   "cell_type": "code",
   "execution_count": 37,
   "metadata": {},
   "outputs": [
    {
     "name": "stdout",
     "output_type": "stream",
     "text": [
      "model saved\n",
      "epochs 0 train_avg_loss 0.0088 valid_avg_loss 0.0034\n",
      "model saved\n",
      "epochs 1 train_avg_loss 0.0021 valid_avg_loss 0.0023\n",
      "model saved\n",
      "epochs 2 train_avg_loss 0.0016 valid_avg_loss 0.0022\n",
      "model saved\n",
      "epochs 3 train_avg_loss 0.0014 valid_avg_loss 0.0020\n",
      "epochs 4 train_avg_loss 0.0014 valid_avg_loss 0.0024\n",
      "epochs 5 train_avg_loss 0.0013 valid_avg_loss 0.0022\n",
      "epochs 6 train_avg_loss 0.0013 valid_avg_loss 0.0021\n",
      "model saved\n",
      "epochs 7 train_avg_loss 0.0013 valid_avg_loss 0.0018\n",
      "model saved\n",
      "epochs 8 train_avg_loss 0.0012 valid_avg_loss 0.0018\n",
      "model saved\n",
      "epochs 9 train_avg_loss 0.0012 valid_avg_loss 0.0017\n",
      "best val_avg_loss is  0.001725204498545679\n"
     ]
    },
    {
     "data": {
      "image/png": "[encoded data removed]",
      "text/plain": [
       "<Figure size 1440x360 with 1 Axes>"
      ]
     },
     "metadata": {
      "needs_background": "light"
     },
     "output_type": "display_data"
    },
    {
     "name": "stdout",
     "output_type": "stream",
     "text": [
      "72.51335597038269\n"
     ]
    }
   ],
   "source": [
    "s = time.time()\n",
    "net = train(net,train_iter,loss_function,optimizer,num_epochs=10)\n",
    "print(time.time()-s)"
   ]
  },
  {
   "cell_type": "code",
   "execution_count": 38,
   "metadata": {},
   "outputs": [
    {
     "data": {
      "text/plain": [
       "Net(\n",
       "  (fc): Sequential(\n",
       "    (0): Linear(in_features=546, out_features=64, bias=True)\n",
       "    (1): Dropout(p=0.2, inplace=False)\n",
       "    (2): Linear(in_features=64, out_features=1, bias=True)\n",
       "    (3): Sigmoid()\n",
       "  )\n",
       ")"
      ]
     },
     "execution_count": 38,
     "metadata": {},
     "output_type": "execute_result"
    }
   ],
   "source": [
    "# load best net\n",
    "net = joblib.load('./model/net.pkl')\n",
    "net.eval()"
   ]
  },
  {
   "cell_type": "markdown",
   "metadata": {},
   "source": [
    "# make prediction(train)"
   ]
  },
  {
   "cell_type": "code",
   "execution_count": 39,
   "metadata": {},
   "outputs": [],
   "source": [
    "feed = X.reshape(-1,39,14).mean(axis=1)\n",
    "feed = pd.DataFrame(feed,columns=x_col,index=idx_lst)\n",
    "feed = feed['MLPAP_FQ-0619.PV']"
   ]
  },
  {
   "cell_type": "code",
   "execution_count": 40,
   "metadata": {},
   "outputs": [],
   "source": [
    "def mape(y_true, y_pred): \n",
    "    y_true, y_pred = np.array(y_true), np.array(y_pred)\n",
    "    return np.mean(np.abs((y_true - y_pred) / y_true))"
   ]
  },
  {
   "cell_type": "code",
   "execution_count": 41,
   "metadata": {},
   "outputs": [],
   "source": [
    "from sklearn.metrics import r2_score,mean_absolute_error,mean_squared_error\n",
    "from math import sqrt\n",
    "\n",
    "def show_result(X,Y,index):\n",
    "    t = pd.DataFrame(index=index)\n",
    "    t['0619'] = feed[index]\n",
    "    t['0997_real'] = mm_y.inverse_transform(Y.detach().cpu().numpy().reshape(-1,1)).ravel()\n",
    "    t['0997_pred'] = mm_y.inverse_transform(net(X).detach().cpu().numpy().reshape(-1,1)).ravel()\n",
    "    t['單耗_real'] = t['0619']/t['0997_real']\n",
    "    t['單耗_pred'] = t['0619']/t['0997_pred']\n",
    "    t['0997_R2'] = r2_score(t['0997_real'],t['0997_pred'])\n",
    "    t['0997_MAPE'] = mape(t['0997_real'],t['0997_pred'])\n",
    "    t['單耗RMSE'] = sqrt(mean_squared_error(t['單耗_real'],t['單耗_pred']))\n",
    "    return t"
   ]
  },
  {
   "cell_type": "code",
   "execution_count": 42,
   "metadata": {},
   "outputs": [
    {
     "data": {
      "text/html": [
       "<div>\n",
       "<style scoped>\n",
       "    .dataframe tbody tr th:only-of-type {\n",
       "        vertical-align: middle;\n",
       "    }\n",
       "\n",
       "    .dataframe tbody tr th {\n",
       "        vertical-align: top;\n",
       "    }\n",
       "\n",
       "    .dataframe thead th {\n",
       "        text-align: right;\n",
       "    }\n",
       "</style>\n",
       "<table border=\"1\" class=\"dataframe\">\n",
       "  <thead>\n",
       "    <tr style=\"text-align: right;\">\n",
       "      <th></th>\n",
       "      <th>0619</th>\n",
       "      <th>0997_real</th>\n",
       "      <th>0997_pred</th>\n",
       "      <th>單耗_real</th>\n",
       "      <th>單耗_pred</th>\n",
       "      <th>0997_R2</th>\n",
       "      <th>0997_MAPE</th>\n",
       "      <th>單耗RMSE</th>\n",
       "    </tr>\n",
       "  </thead>\n",
       "  <tbody>\n",
       "    <tr>\n",
       "      <td>2016-06-01 02:40:00</td>\n",
       "      <td>5694.148600</td>\n",
       "      <td>6467.759752</td>\n",
       "      <td>6425.915671</td>\n",
       "      <td>0.880390</td>\n",
       "      <td>0.886123</td>\n",
       "      <td>0.851493</td>\n",
       "      <td>0.012359</td>\n",
       "      <td>0.019072</td>\n",
       "    </tr>\n",
       "    <tr>\n",
       "      <td>2016-06-01 02:50:00</td>\n",
       "      <td>5694.210389</td>\n",
       "      <td>6450.874168</td>\n",
       "      <td>6417.307482</td>\n",
       "      <td>0.882704</td>\n",
       "      <td>0.887321</td>\n",
       "      <td>0.851493</td>\n",
       "      <td>0.012359</td>\n",
       "      <td>0.019072</td>\n",
       "    </tr>\n",
       "    <tr>\n",
       "      <td>2016-06-01 03:00:00</td>\n",
       "      <td>5693.874550</td>\n",
       "      <td>6443.690012</td>\n",
       "      <td>6433.614970</td>\n",
       "      <td>0.883636</td>\n",
       "      <td>0.885019</td>\n",
       "      <td>0.851493</td>\n",
       "      <td>0.012359</td>\n",
       "      <td>0.019072</td>\n",
       "    </tr>\n",
       "    <tr>\n",
       "      <td>2016-06-01 03:10:00</td>\n",
       "      <td>5694.257992</td>\n",
       "      <td>6430.383177</td>\n",
       "      <td>6399.802195</td>\n",
       "      <td>0.885524</td>\n",
       "      <td>0.889755</td>\n",
       "      <td>0.851493</td>\n",
       "      <td>0.012359</td>\n",
       "      <td>0.019072</td>\n",
       "    </tr>\n",
       "    <tr>\n",
       "      <td>2016-06-01 03:20:00</td>\n",
       "      <td>5694.593232</td>\n",
       "      <td>6446.393842</td>\n",
       "      <td>6436.059932</td>\n",
       "      <td>0.883377</td>\n",
       "      <td>0.884795</td>\n",
       "      <td>0.851493</td>\n",
       "      <td>0.012359</td>\n",
       "      <td>0.019072</td>\n",
       "    </tr>\n",
       "  </tbody>\n",
       "</table>\n",
       "</div>"
      ],
      "text/plain": [
       "                            0619    0997_real    0997_pred   單耗_real  \\\n",
       "2016-06-01 02:40:00  5694.148600  6467.759752  6425.915671  0.880390   \n",
       "2016-06-01 02:50:00  5694.210389  6450.874168  6417.307482  0.882704   \n",
       "2016-06-01 03:00:00  5693.874550  6443.690012  6433.614970  0.883636   \n",
       "2016-06-01 03:10:00  5694.257992  6430.383177  6399.802195  0.885524   \n",
       "2016-06-01 03:20:00  5694.593232  6446.393842  6436.059932  0.883377   \n",
       "\n",
       "                      單耗_pred   0997_R2  0997_MAPE    單耗RMSE  \n",
       "2016-06-01 02:40:00  0.886123  0.851493   0.012359  0.019072  \n",
       "2016-06-01 02:50:00  0.887321  0.851493   0.012359  0.019072  \n",
       "2016-06-01 03:00:00  0.885019  0.851493   0.012359  0.019072  \n",
       "2016-06-01 03:10:00  0.889755  0.851493   0.012359  0.019072  \n",
       "2016-06-01 03:20:00  0.884795  0.851493   0.012359  0.019072  "
      ]
     },
     "execution_count": 42,
     "metadata": {},
     "output_type": "execute_result"
    }
   ],
   "source": [
    "t = show_result(X_train,Y_train,idx_lst[:sp1])\n",
    "t.head()"
   ]
  },
  {
   "cell_type": "code",
   "execution_count": 43,
   "metadata": {},
   "outputs": [],
   "source": [
    "#fig = go.Figure()\n",
    "\n",
    "#fig.add_trace(go.Scatter(x=t.index, y=t['y_real'], name='y_real'))\n",
    "#fig.add_trace(go.Scatter(x=t.index, y=t['y_pred'], name='y_pred'))\n",
    "\n",
    "#fig.update_layout(title_text='Time Series with Rangeslider',xaxis_rangeslider_visible=True)\n",
    "#fig.show()"
   ]
  },
  {
   "cell_type": "markdown",
   "metadata": {},
   "source": [
    "# make prediction(valid)"
   ]
  },
  {
   "cell_type": "code",
   "execution_count": 44,
   "metadata": {},
   "outputs": [
    {
     "data": {
      "text/html": [
       "<div>\n",
       "<style scoped>\n",
       "    .dataframe tbody tr th:only-of-type {\n",
       "        vertical-align: middle;\n",
       "    }\n",
       "\n",
       "    .dataframe tbody tr th {\n",
       "        vertical-align: top;\n",
       "    }\n",
       "\n",
       "    .dataframe thead th {\n",
       "        text-align: right;\n",
       "    }\n",
       "</style>\n",
       "<table border=\"1\" class=\"dataframe\">\n",
       "  <thead>\n",
       "    <tr style=\"text-align: right;\">\n",
       "      <th></th>\n",
       "      <th>0619</th>\n",
       "      <th>0997_real</th>\n",
       "      <th>0997_pred</th>\n",
       "      <th>單耗_real</th>\n",
       "      <th>單耗_pred</th>\n",
       "      <th>0997_R2</th>\n",
       "      <th>0997_MAPE</th>\n",
       "      <th>單耗RMSE</th>\n",
       "    </tr>\n",
       "  </thead>\n",
       "  <tbody>\n",
       "    <tr>\n",
       "      <td>2018-07-30 13:50:00</td>\n",
       "      <td>6475.965939</td>\n",
       "      <td>7170.437518</td>\n",
       "      <td>7224.212541</td>\n",
       "      <td>0.903148</td>\n",
       "      <td>0.896425</td>\n",
       "      <td>0.894372</td>\n",
       "      <td>0.018598</td>\n",
       "      <td>0.025417</td>\n",
       "    </tr>\n",
       "    <tr>\n",
       "      <td>2018-07-30 14:00:00</td>\n",
       "      <td>6476.258644</td>\n",
       "      <td>7177.415309</td>\n",
       "      <td>7236.292803</td>\n",
       "      <td>0.902311</td>\n",
       "      <td>0.894969</td>\n",
       "      <td>0.894372</td>\n",
       "      <td>0.018598</td>\n",
       "      <td>0.025417</td>\n",
       "    </tr>\n",
       "    <tr>\n",
       "      <td>2018-07-30 14:10:00</td>\n",
       "      <td>6476.449966</td>\n",
       "      <td>7186.383204</td>\n",
       "      <td>7259.844944</td>\n",
       "      <td>0.901211</td>\n",
       "      <td>0.892092</td>\n",
       "      <td>0.894372</td>\n",
       "      <td>0.018598</td>\n",
       "      <td>0.025417</td>\n",
       "    </tr>\n",
       "    <tr>\n",
       "      <td>2018-07-30 14:20:00</td>\n",
       "      <td>6476.812186</td>\n",
       "      <td>7188.492340</td>\n",
       "      <td>7208.200428</td>\n",
       "      <td>0.900997</td>\n",
       "      <td>0.898534</td>\n",
       "      <td>0.894372</td>\n",
       "      <td>0.018598</td>\n",
       "      <td>0.025417</td>\n",
       "    </tr>\n",
       "    <tr>\n",
       "      <td>2018-07-30 14:30:00</td>\n",
       "      <td>6477.298305</td>\n",
       "      <td>7160.727089</td>\n",
       "      <td>7223.279138</td>\n",
       "      <td>0.904559</td>\n",
       "      <td>0.896725</td>\n",
       "      <td>0.894372</td>\n",
       "      <td>0.018598</td>\n",
       "      <td>0.025417</td>\n",
       "    </tr>\n",
       "  </tbody>\n",
       "</table>\n",
       "</div>"
      ],
      "text/plain": [
       "                            0619    0997_real    0997_pred   單耗_real  \\\n",
       "2018-07-30 13:50:00  6475.965939  7170.437518  7224.212541  0.903148   \n",
       "2018-07-30 14:00:00  6476.258644  7177.415309  7236.292803  0.902311   \n",
       "2018-07-30 14:10:00  6476.449966  7186.383204  7259.844944  0.901211   \n",
       "2018-07-30 14:20:00  6476.812186  7188.492340  7208.200428  0.900997   \n",
       "2018-07-30 14:30:00  6477.298305  7160.727089  7223.279138  0.904559   \n",
       "\n",
       "                      單耗_pred   0997_R2  0997_MAPE    單耗RMSE  \n",
       "2018-07-30 13:50:00  0.896425  0.894372   0.018598  0.025417  \n",
       "2018-07-30 14:00:00  0.894969  0.894372   0.018598  0.025417  \n",
       "2018-07-30 14:10:00  0.892092  0.894372   0.018598  0.025417  \n",
       "2018-07-30 14:20:00  0.898534  0.894372   0.018598  0.025417  \n",
       "2018-07-30 14:30:00  0.896725  0.894372   0.018598  0.025417  "
      ]
     },
     "execution_count": 44,
     "metadata": {},
     "output_type": "execute_result"
    }
   ],
   "source": [
    "t = show_result(X_valid,Y_valid,idx_lst[sp1:sp2])\n",
    "t.head()"
   ]
  },
  {
   "cell_type": "code",
   "execution_count": 45,
   "metadata": {},
   "outputs": [],
   "source": [
    "#fig = go.Figure()\n",
    "#fig.add_trace(go.Scatter(x=t.index, y=t['y_real'], name='y_real'))\n",
    "#fig.add_trace(go.Scatter(x=t.index, y=t['y_pred'], name='y_pred'))\n",
    "#fig.update_layout(title_text='Time Series with Rangeslider',xaxis_rangeslider_visible=True)\n",
    "#fig.show()"
   ]
  },
  {
   "cell_type": "markdown",
   "metadata": {},
   "source": [
    "# make prediction(test)"
   ]
  },
  {
   "cell_type": "code",
   "execution_count": 46,
   "metadata": {},
   "outputs": [
    {
     "data": {
      "text/html": [
       "<div>\n",
       "<style scoped>\n",
       "    .dataframe tbody tr th:only-of-type {\n",
       "        vertical-align: middle;\n",
       "    }\n",
       "\n",
       "    .dataframe tbody tr th {\n",
       "        vertical-align: top;\n",
       "    }\n",
       "\n",
       "    .dataframe thead th {\n",
       "        text-align: right;\n",
       "    }\n",
       "</style>\n",
       "<table border=\"1\" class=\"dataframe\">\n",
       "  <thead>\n",
       "    <tr style=\"text-align: right;\">\n",
       "      <th></th>\n",
       "      <th>y_real</th>\n",
       "      <th>y_pred</th>\n",
       "      <th>R2</th>\n",
       "      <th>MAPE</th>\n",
       "      <th>RMSE</th>\n",
       "    </tr>\n",
       "  </thead>\n",
       "  <tbody>\n",
       "    <tr>\n",
       "      <td>2019-03-31 04:50:00</td>\n",
       "      <td>7311.660195</td>\n",
       "      <td>7682.501113</td>\n",
       "      <td>0.652282</td>\n",
       "      <td>0.035442</td>\n",
       "      <td>321.158071</td>\n",
       "    </tr>\n",
       "    <tr>\n",
       "      <td>2019-03-31 05:00:00</td>\n",
       "      <td>7314.208846</td>\n",
       "      <td>7691.251029</td>\n",
       "      <td>0.652282</td>\n",
       "      <td>0.035442</td>\n",
       "      <td>321.158071</td>\n",
       "    </tr>\n",
       "    <tr>\n",
       "      <td>2019-03-31 05:10:00</td>\n",
       "      <td>7291.835977</td>\n",
       "      <td>7687.277144</td>\n",
       "      <td>0.652282</td>\n",
       "      <td>0.035442</td>\n",
       "      <td>321.158071</td>\n",
       "    </tr>\n",
       "    <tr>\n",
       "      <td>2019-03-31 05:20:00</td>\n",
       "      <td>7272.463606</td>\n",
       "      <td>7651.922860</td>\n",
       "      <td>0.652282</td>\n",
       "      <td>0.035442</td>\n",
       "      <td>321.158071</td>\n",
       "    </tr>\n",
       "    <tr>\n",
       "      <td>2019-03-31 05:30:00</td>\n",
       "      <td>7290.419103</td>\n",
       "      <td>7661.059828</td>\n",
       "      <td>0.652282</td>\n",
       "      <td>0.035442</td>\n",
       "      <td>321.158071</td>\n",
       "    </tr>\n",
       "  </tbody>\n",
       "</table>\n",
       "</div>"
      ],
      "text/plain": [
       "                          y_real       y_pred        R2      MAPE        RMSE\n",
       "2019-03-31 04:50:00  7311.660195  7682.501113  0.652282  0.035442  321.158071\n",
       "2019-03-31 05:00:00  7314.208846  7691.251029  0.652282  0.035442  321.158071\n",
       "2019-03-31 05:10:00  7291.835977  7687.277144  0.652282  0.035442  321.158071\n",
       "2019-03-31 05:20:00  7272.463606  7651.922860  0.652282  0.035442  321.158071\n",
       "2019-03-31 05:30:00  7290.419103  7661.059828  0.652282  0.035442  321.158071"
      ]
     },
     "execution_count": 46,
     "metadata": {},
     "output_type": "execute_result"
    }
   ],
   "source": [
    "t = pd.DataFrame(index=idx_lst[sp2:])\n",
    "t['y_real'] = mm_y.inverse_transform(Y_test.detach().cpu().numpy().reshape(-1,1)).ravel()\n",
    "t['y_pred'] = mm_y.inverse_transform(net(X_test).detach().cpu().numpy().reshape(-1,1)).ravel()\n",
    "t['R2'] = r2_score(t['y_real'],t['y_pred'])\n",
    "t['MAPE'] = mape(t['y_real'],t['y_pred'])\n",
    "t['RMSE'] = sqrt(mean_squared_error(t['y_real'],t['y_pred']))\n",
    "t.head()"
   ]
  },
  {
   "cell_type": "code",
   "execution_count": 47,
   "metadata": {},
   "outputs": [
    {
     "data": {
      "text/html": [
       "<div>\n",
       "<style scoped>\n",
       "    .dataframe tbody tr th:only-of-type {\n",
       "        vertical-align: middle;\n",
       "    }\n",
       "\n",
       "    .dataframe tbody tr th {\n",
       "        vertical-align: top;\n",
       "    }\n",
       "\n",
       "    .dataframe thead th {\n",
       "        text-align: right;\n",
       "    }\n",
       "</style>\n",
       "<table border=\"1\" class=\"dataframe\">\n",
       "  <thead>\n",
       "    <tr style=\"text-align: right;\">\n",
       "      <th></th>\n",
       "      <th>0619</th>\n",
       "      <th>0997_real</th>\n",
       "      <th>0997_pred</th>\n",
       "      <th>單耗_real</th>\n",
       "      <th>單耗_pred</th>\n",
       "      <th>0997_R2</th>\n",
       "      <th>0997_MAPE</th>\n",
       "      <th>單耗RMSE</th>\n",
       "    </tr>\n",
       "  </thead>\n",
       "  <tbody>\n",
       "    <tr>\n",
       "      <td>2019-03-31 04:50:00</td>\n",
       "      <td>6684.874780</td>\n",
       "      <td>7311.660195</td>\n",
       "      <td>7682.501113</td>\n",
       "      <td>0.914276</td>\n",
       "      <td>0.870143</td>\n",
       "      <td>0.652282</td>\n",
       "      <td>0.035442</td>\n",
       "      <td>0.038583</td>\n",
       "    </tr>\n",
       "    <tr>\n",
       "      <td>2019-03-31 05:00:00</td>\n",
       "      <td>6684.801604</td>\n",
       "      <td>7314.208846</td>\n",
       "      <td>7691.251029</td>\n",
       "      <td>0.913947</td>\n",
       "      <td>0.869144</td>\n",
       "      <td>0.652282</td>\n",
       "      <td>0.035442</td>\n",
       "      <td>0.038583</td>\n",
       "    </tr>\n",
       "    <tr>\n",
       "      <td>2019-03-31 05:10:00</td>\n",
       "      <td>6684.704208</td>\n",
       "      <td>7291.835977</td>\n",
       "      <td>7687.277144</td>\n",
       "      <td>0.916738</td>\n",
       "      <td>0.869580</td>\n",
       "      <td>0.652282</td>\n",
       "      <td>0.035442</td>\n",
       "      <td>0.038583</td>\n",
       "    </tr>\n",
       "    <tr>\n",
       "      <td>2019-03-31 05:20:00</td>\n",
       "      <td>6684.683619</td>\n",
       "      <td>7272.463606</td>\n",
       "      <td>7651.922860</td>\n",
       "      <td>0.919177</td>\n",
       "      <td>0.873595</td>\n",
       "      <td>0.652282</td>\n",
       "      <td>0.035442</td>\n",
       "      <td>0.038583</td>\n",
       "    </tr>\n",
       "    <tr>\n",
       "      <td>2019-03-31 05:30:00</td>\n",
       "      <td>6684.581286</td>\n",
       "      <td>7290.419103</td>\n",
       "      <td>7661.059828</td>\n",
       "      <td>0.916899</td>\n",
       "      <td>0.872540</td>\n",
       "      <td>0.652282</td>\n",
       "      <td>0.035442</td>\n",
       "      <td>0.038583</td>\n",
       "    </tr>\n",
       "  </tbody>\n",
       "</table>\n",
       "</div>"
      ],
      "text/plain": [
       "                            0619    0997_real    0997_pred   單耗_real  \\\n",
       "2019-03-31 04:50:00  6684.874780  7311.660195  7682.501113  0.914276   \n",
       "2019-03-31 05:00:00  6684.801604  7314.208846  7691.251029  0.913947   \n",
       "2019-03-31 05:10:00  6684.704208  7291.835977  7687.277144  0.916738   \n",
       "2019-03-31 05:20:00  6684.683619  7272.463606  7651.922860  0.919177   \n",
       "2019-03-31 05:30:00  6684.581286  7290.419103  7661.059828  0.916899   \n",
       "\n",
       "                      單耗_pred   0997_R2  0997_MAPE    單耗RMSE  \n",
       "2019-03-31 04:50:00  0.870143  0.652282   0.035442  0.038583  \n",
       "2019-03-31 05:00:00  0.869144  0.652282   0.035442  0.038583  \n",
       "2019-03-31 05:10:00  0.869580  0.652282   0.035442  0.038583  \n",
       "2019-03-31 05:20:00  0.873595  0.652282   0.035442  0.038583  \n",
       "2019-03-31 05:30:00  0.872540  0.652282   0.035442  0.038583  "
      ]
     },
     "execution_count": 47,
     "metadata": {},
     "output_type": "execute_result"
    }
   ],
   "source": [
    "t = show_result(X_test,Y_test,idx_lst[sp2:])\n",
    "t.head()"
   ]
  },
  {
   "cell_type": "code",
   "execution_count": 48,
   "metadata": {},
   "outputs": [],
   "source": [
    "#fig = go.Figure()\n",
    "#fig.add_trace(go.Scatter(x=t.index, y=t['y_real'], name='y_real'))\n",
    "#fig.add_trace(go.Scatter(x=t.index, y=t['y_pred'], name='y_pred'))\n",
    "#fig.update_layout(title_text='Time Series with Rangeslider',xaxis_rangeslider_visible=True)\n",
    "#fig.show()"
   ]
  },
  {
   "cell_type": "code",
   "execution_count": null,
   "metadata": {},
   "outputs": [],
   "source": []
  },
  {
   "cell_type": "code",
   "execution_count": null,
   "metadata": {},
   "outputs": [],
   "source": []
  },
  {
   "cell_type": "code",
   "execution_count": null,
   "metadata": {},
   "outputs": [],
   "source": []
  },
  {
   "cell_type": "code",
   "execution_count": null,
   "metadata": {},
   "outputs": [],
   "source": []
  },
  {
   "cell_type": "code",
   "execution_count": null,
   "metadata": {},
   "outputs": [],
   "source": []
  },
  {
   "cell_type": "code",
   "execution_count": null,
   "metadata": {},
   "outputs": [],
   "source": []
  },
  {
   "cell_type": "code",
   "execution_count": null,
   "metadata": {},
   "outputs": [],
   "source": []
  }
 ],
 "metadata": {
  "kernelspec": {
   "display_name": "Python 3",
   "language": "python",
   "name": "python3"
  },
  "language_info": {
   "codemirror_mode": {
    "name": "ipython",
    "version": 3
   },
   "file_extension": ".py",
   "mimetype": "text/x-python",
   "name": "python",
   "nbconvert_exporter": "python",
   "pygments_lexer": "ipython3",
   "version": "3.7.4"
  }
 },
 "nbformat": 4,
 "nbformat_minor": 2
}
