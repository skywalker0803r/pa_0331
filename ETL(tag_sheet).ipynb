{
 "cells": [
  {
   "cell_type": "code",
   "execution_count": 13,
   "metadata": {},
   "outputs": [
    {
     "data": {
      "text/plain": [
       "['PA_201605-2012001更新R7(20200323).xlsx',\n",
       " 'tag盤點表20200323.xlsx',\n",
       " 'tag盤點表_cleaned.csv',\n",
       " 'train_cleaned.csv']"
      ]
     },
     "execution_count": 13,
     "metadata": {},
     "output_type": "execute_result"
    }
   ],
   "source": [
    "import os\n",
    "import pandas as pd\n",
    "os.listdir('./data')"
   ]
  },
  {
   "cell_type": "code",
   "execution_count": 14,
   "metadata": {},
   "outputs": [],
   "source": [
    "df = pd.read_csv('./data/train_cleaned.csv',index_col=0,parse_dates=True)"
   ]
  },
  {
   "cell_type": "code",
   "execution_count": 15,
   "metadata": {},
   "outputs": [],
   "source": [
    "tag = pd.read_excel('./data/tag盤點表20200323.xlsx')"
   ]
  },
  {
   "cell_type": "code",
   "execution_count": 16,
   "metadata": {},
   "outputs": [
    {
     "data": {
      "text/plain": [
       "{'MLPAP_TJ-0706A01',\n",
       " 'MLPAP_TJ-0706A02',\n",
       " 'MLPAP_TJ-0706B01',\n",
       " 'MLPAP_TJ-0706B02',\n",
       " 'MLPAP_TJ-0706B03',\n",
       " 'MLPAP_TJ-0706B04',\n",
       " 'MLPAP_TJ-0706B05',\n",
       " 'MLPAP_TJ-0706B06',\n",
       " 'MLPAP_TJ-0706B07',\n",
       " 'MLPAP_TJ-0706B08',\n",
       " 'MLPAP_TJ-0706B09',\n",
       " 'MLPAP_TJ-0706B10',\n",
       " 'MLPAP_TJ-0706B11',\n",
       " 'MLPAP_TJ-0706B12',\n",
       " 'MLPAP_TJ-0706B13',\n",
       " 'MLPAP_TJ-0706B14',\n",
       " 'MLPAP_TJ-0706B15',\n",
       " 'MLPAP_TJ-0706B16',\n",
       " 'MLPAP_TJ-0706B17',\n",
       " 'MLPAP_TJ-0706B18',\n",
       " 'MLPAP_TJ-0706B19',\n",
       " 'MLPAP_TJ-0706B20',\n",
       " 'MLPAP_TJ-0706B21',\n",
       " 'MLPAP_TJ-0706B22',\n",
       " 'MLPAP_TJ-0706B23',\n",
       " 'MLPAP_TJ-0706B24',\n",
       " 'MLPAP_TJ-0706C01',\n",
       " 'MLPAP_TJ-0706D01',\n",
       " 'MLPAP_TJ-0706E01',\n",
       " 'MLPAP_TJ-0716A01',\n",
       " 'MLPAP_TJ-0716B01',\n",
       " 'MLPAP_TJ-0716C01',\n",
       " 'MLPAP_TJ-0716D01',\n",
       " 'MLPAP_TJ-0716D02',\n",
       " 'MLPAP_TJ-0716E01',\n",
       " 'MLPAP_TJ-0757B.PV',\n",
       " 'MLPAP_TJC-0757.PV',\n",
       " 'MLPAP_TJC-0757A.PV',\n",
       " 'MLPAP_TJC-1721.PV'}"
      ]
     },
     "execution_count": 16,
     "metadata": {},
     "output_type": "execute_result"
    }
   ],
   "source": [
    "set(df.columns)-set(tag.TAG)"
   ]
  },
  {
   "cell_type": "code",
   "execution_count": 17,
   "metadata": {},
   "outputs": [
    {
     "data": {
      "text/plain": [
       "{'MLPAP_TI-0706A01',\n",
       " 'MLPAP_TI-0706A02',\n",
       " 'MLPAP_TI-0706B01',\n",
       " 'MLPAP_TI-0706B02',\n",
       " 'MLPAP_TI-0706B03',\n",
       " 'MLPAP_TI-0706B04',\n",
       " 'MLPAP_TI-0706B05',\n",
       " 'MLPAP_TI-0706B06',\n",
       " 'MLPAP_TI-0706B07',\n",
       " 'MLPAP_TI-0706B08',\n",
       " 'MLPAP_TI-0706B09',\n",
       " 'MLPAP_TI-0706B10',\n",
       " 'MLPAP_TI-0706B11',\n",
       " 'MLPAP_TI-0706B12',\n",
       " 'MLPAP_TI-0706B13',\n",
       " 'MLPAP_TI-0706B14',\n",
       " 'MLPAP_TI-0706B15',\n",
       " 'MLPAP_TI-0706B16',\n",
       " 'MLPAP_TI-0706B17',\n",
       " 'MLPAP_TI-0706B18',\n",
       " 'MLPAP_TI-0706B19',\n",
       " 'MLPAP_TI-0706B20',\n",
       " 'MLPAP_TI-0706B21',\n",
       " 'MLPAP_TI-0706B22',\n",
       " 'MLPAP_TI-0706B23',\n",
       " 'MLPAP_TI-0706B24',\n",
       " 'MLPAP_TI-0706C01',\n",
       " 'MLPAP_TI-0706D01',\n",
       " 'MLPAP_TI-0706E01',\n",
       " 'MLPAP_TI-0716A01',\n",
       " 'MLPAP_TI-0716B01',\n",
       " 'MLPAP_TI-0716C01',\n",
       " 'MLPAP_TI-0716D01',\n",
       " 'MLPAP_TI-0716D02',\n",
       " 'MLPAP_TI-0716E01',\n",
       " 'MLPAP_TIC-0757.PV',\n",
       " 'MLPAP_TIC-0757A.PV',\n",
       " 'MLPAP_TIC-1721.PV',\n",
       " nan,\n",
       " '第二模型使用'}"
      ]
     },
     "execution_count": 17,
     "metadata": {},
     "output_type": "execute_result"
    }
   ],
   "source": [
    "set(tag.TAG)-set(df.columns)"
   ]
  },
  {
   "cell_type": "code",
   "execution_count": 18,
   "metadata": {},
   "outputs": [],
   "source": [
    "tag['TAG'] = [str(i).replace('TI','TJ') for i in tag['TAG'].values] "
   ]
  },
  {
   "cell_type": "code",
   "execution_count": 19,
   "metadata": {},
   "outputs": [
    {
     "data": {
      "text/plain": [
       "{'nan', '第二模型使用'}"
      ]
     },
     "execution_count": 19,
     "metadata": {},
     "output_type": "execute_result"
    }
   ],
   "source": [
    "set(tag.TAG)-set(df.columns)"
   ]
  },
  {
   "cell_type": "code",
   "execution_count": 20,
   "metadata": {},
   "outputs": [
    {
     "data": {
      "text/plain": [
       "{'MLPAP_TJ-0757B.PV'}"
      ]
     },
     "execution_count": 20,
     "metadata": {},
     "output_type": "execute_result"
    }
   ],
   "source": [
    "set(df.columns)-set(tag.TAG)"
   ]
  },
  {
   "cell_type": "code",
   "execution_count": 21,
   "metadata": {},
   "outputs": [
    {
     "data": {
      "text/plain": [
       "{'MLPAP_TJ-0757B.PV', 'nan', '第二模型使用'}"
      ]
     },
     "execution_count": 21,
     "metadata": {},
     "output_type": "execute_result"
    }
   ],
   "source": [
    "set(df.columns)^set(tag.TAG)"
   ]
  },
  {
   "cell_type": "code",
   "execution_count": 22,
   "metadata": {},
   "outputs": [
    {
     "name": "stderr",
     "output_type": "stream",
     "text": [
      "C:\\Users\\skywalker0803r\\Anaconda3\\lib\\site-packages\\ipykernel_launcher.py:2: SettingWithCopyWarning: \n",
      "A value is trying to be set on a copy of a slice from a DataFrame.\n",
      "Try using .loc[row_indexer,col_indexer] = value instead\n",
      "\n",
      "See the caveats in the documentation: http://pandas.pydata.org/pandas-docs/stable/user_guide/indexing.html#returning-a-view-versus-a-copy\n",
      "  \n"
     ]
    }
   ],
   "source": [
    "temp = tag[tag['TAG']=='MLPAP_TJC-0757A.PV']\n",
    "temp['TAG'] = 'MLPAP_TJ-0757B.PV'\n",
    "tag = tag.append(temp)"
   ]
  },
  {
   "cell_type": "code",
   "execution_count": 23,
   "metadata": {},
   "outputs": [
    {
     "data": {
      "text/plain": [
       "{'nan', '第二模型使用'}"
      ]
     },
     "execution_count": 23,
     "metadata": {},
     "output_type": "execute_result"
    }
   ],
   "source": [
    "set(df.columns)^set(tag.TAG)"
   ]
  },
  {
   "cell_type": "code",
   "execution_count": 24,
   "metadata": {},
   "outputs": [],
   "source": [
    "tag.to_csv('./data/tag盤點表_cleaned.csv')"
   ]
  },
  {
   "cell_type": "code",
   "execution_count": null,
   "metadata": {},
   "outputs": [],
   "source": []
  }
 ],
 "metadata": {
  "kernelspec": {
   "display_name": "Python 3",
   "language": "python",
   "name": "python3"
  },
  "language_info": {
   "codemirror_mode": {
    "name": "ipython",
    "version": 3
   },
   "file_extension": ".py",
   "mimetype": "text/x-python",
   "name": "python",
   "nbconvert_exporter": "python",
   "pygments_lexer": "ipython3",
   "version": "3.7.4"
  }
 },
 "nbformat": 4,
 "nbformat_minor": 2
}
