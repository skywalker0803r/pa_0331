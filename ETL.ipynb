{
 "cells": [
  {
   "cell_type": "code",
   "execution_count": 1,
   "metadata": {},
   "outputs": [
    {
     "data": {
      "text/plain": [
       "['PA_201605-2012001更新R7(20200323).xlsx', 'tag盤點表20200323.xlsx']"
      ]
     },
     "execution_count": 1,
     "metadata": {},
     "output_type": "execute_result"
    }
   ],
   "source": [
    "import os\n",
    "import numpy as np\n",
    "import pandas as pd\n",
    "import matplotlib.pyplot as plt\n",
    "import plotly.graph_objects as go\n",
    "import warnings;warnings.simplefilter('ignore')\n",
    "os.listdir('./data')"
   ]
  },
  {
   "cell_type": "code",
   "execution_count": 2,
   "metadata": {},
   "outputs": [
    {
     "data": {
      "text/html": [
       "<div>\n",
       "<style scoped>\n",
       "    .dataframe tbody tr th:only-of-type {\n",
       "        vertical-align: middle;\n",
       "    }\n",
       "\n",
       "    .dataframe tbody tr th {\n",
       "        vertical-align: top;\n",
       "    }\n",
       "\n",
       "    .dataframe thead th {\n",
       "        text-align: right;\n",
       "    }\n",
       "</style>\n",
       "<table border=\"1\" class=\"dataframe\">\n",
       "  <thead>\n",
       "    <tr style=\"text-align: right;\">\n",
       "      <th></th>\n",
       "      <th>MLPAP_TI-0706B02</th>\n",
       "      <th>MLPAP_TI-0706B03</th>\n",
       "      <th>MLPAP_TI-0706B04</th>\n",
       "      <th>MLPAP_TI-0706B05</th>\n",
       "      <th>MLPAP_TI-0706B06</th>\n",
       "      <th>MLPAP_TI-0706B07</th>\n",
       "      <th>MLPAP_TI-0706B08</th>\n",
       "      <th>MLPAP_TI-0706B09</th>\n",
       "      <th>MLPAP_TI-0706B10</th>\n",
       "      <th>MLPAP_TI-0706B11</th>\n",
       "      <th>...</th>\n",
       "      <th>MLPAP_FR-0755.PV</th>\n",
       "      <th>MLPAP_FR-0755PV(轉換後)</th>\n",
       "      <th>MLPAP_FR-0791.PV</th>\n",
       "      <th>MLPAP_FI-V211.PV</th>\n",
       "      <th>MLPAP_FI-V211.PV(轉換後)</th>\n",
       "      <th>MLPAP_PI-0658.PV</th>\n",
       "      <th>MLPAP_TIC-0757.PV</th>\n",
       "      <th>MLPAP_V125-PHD</th>\n",
       "      <th>MLPAP_PI-0771.PV</th>\n",
       "      <th>MLPAP_TRC-07471.PV</th>\n",
       "    </tr>\n",
       "  </thead>\n",
       "  <tbody>\n",
       "    <tr>\n",
       "      <td>2016-05-09 00:00:00</td>\n",
       "      <td>400</td>\n",
       "      <td>401.957</td>\n",
       "      <td>400.752</td>\n",
       "      <td>402.251</td>\n",
       "      <td>401.149</td>\n",
       "      <td>401</td>\n",
       "      <td>400.05</td>\n",
       "      <td>403</td>\n",
       "      <td>402</td>\n",
       "      <td>401</td>\n",
       "      <td>...</td>\n",
       "      <td>4.05114</td>\n",
       "      <td>4.045683</td>\n",
       "      <td>6.48477</td>\n",
       "      <td>[-11059] No Good Data For Calculation</td>\n",
       "      <td>NaN</td>\n",
       "      <td>-1</td>\n",
       "      <td>1.63519</td>\n",
       "      <td>0.051</td>\n",
       "      <td>-1.38272</td>\n",
       "      <td>133.1</td>\n",
       "    </tr>\n",
       "    <tr>\n",
       "      <td>2016-05-09 00:10:00</td>\n",
       "      <td>400</td>\n",
       "      <td>401.943</td>\n",
       "      <td>400.95</td>\n",
       "      <td>402.249</td>\n",
       "      <td>401</td>\n",
       "      <td>401</td>\n",
       "      <td>400.25</td>\n",
       "      <td>403</td>\n",
       "      <td>402</td>\n",
       "      <td>401</td>\n",
       "      <td>...</td>\n",
       "      <td>4.15786</td>\n",
       "      <td>4.152250</td>\n",
       "      <td>6.44989</td>\n",
       "      <td>[-11059] No Good Data For Calculation</td>\n",
       "      <td>NaN</td>\n",
       "      <td>-1</td>\n",
       "      <td>1.62501</td>\n",
       "      <td>0.051</td>\n",
       "      <td>-1.38273</td>\n",
       "      <td>133.1</td>\n",
       "    </tr>\n",
       "    <tr>\n",
       "      <td>2016-05-09 00:20:00</td>\n",
       "      <td>400</td>\n",
       "      <td>401.9</td>\n",
       "      <td>400.9</td>\n",
       "      <td>402.101</td>\n",
       "      <td>401</td>\n",
       "      <td>401</td>\n",
       "      <td>400.1</td>\n",
       "      <td>403</td>\n",
       "      <td>402</td>\n",
       "      <td>401</td>\n",
       "      <td>...</td>\n",
       "      <td>4.20812</td>\n",
       "      <td>4.202449</td>\n",
       "      <td>6.4405</td>\n",
       "      <td>[-11059] No Good Data For Calculation</td>\n",
       "      <td>NaN</td>\n",
       "      <td>-0.898558</td>\n",
       "      <td>1.64978</td>\n",
       "      <td>0.051</td>\n",
       "      <td>-1.4</td>\n",
       "      <td>133.1</td>\n",
       "    </tr>\n",
       "    <tr>\n",
       "      <td>2016-05-09 00:30:00</td>\n",
       "      <td>400</td>\n",
       "      <td>401.95</td>\n",
       "      <td>400.9</td>\n",
       "      <td>402.3</td>\n",
       "      <td>401</td>\n",
       "      <td>401</td>\n",
       "      <td>400.145</td>\n",
       "      <td>403</td>\n",
       "      <td>402</td>\n",
       "      <td>401</td>\n",
       "      <td>...</td>\n",
       "      <td>4.15232</td>\n",
       "      <td>4.146723</td>\n",
       "      <td>6.46365</td>\n",
       "      <td>[-11059] No Good Data For Calculation</td>\n",
       "      <td>NaN</td>\n",
       "      <td>-0.50901</td>\n",
       "      <td>1.63519</td>\n",
       "      <td>0.051</td>\n",
       "      <td>-1.4</td>\n",
       "      <td>133.2</td>\n",
       "    </tr>\n",
       "    <tr>\n",
       "      <td>2016-05-09 00:40:00</td>\n",
       "      <td>400</td>\n",
       "      <td>402</td>\n",
       "      <td>400.85</td>\n",
       "      <td>402.176</td>\n",
       "      <td>401</td>\n",
       "      <td>401</td>\n",
       "      <td>400.405</td>\n",
       "      <td>403</td>\n",
       "      <td>402</td>\n",
       "      <td>401</td>\n",
       "      <td>...</td>\n",
       "      <td>4.01671</td>\n",
       "      <td>4.011298</td>\n",
       "      <td>6.4148</td>\n",
       "      <td>[-11059] No Good Data For Calculation</td>\n",
       "      <td>NaN</td>\n",
       "      <td>-0.992771</td>\n",
       "      <td>1.65426</td>\n",
       "      <td>0.051</td>\n",
       "      <td>-1.3</td>\n",
       "      <td>133.1</td>\n",
       "    </tr>\n",
       "  </tbody>\n",
       "</table>\n",
       "<p>5 rows × 95 columns</p>\n",
       "</div>"
      ],
      "text/plain": [
       "                    MLPAP_TI-0706B02 MLPAP_TI-0706B03 MLPAP_TI-0706B04  \\\n",
       "2016-05-09 00:00:00              400          401.957          400.752   \n",
       "2016-05-09 00:10:00              400          401.943           400.95   \n",
       "2016-05-09 00:20:00              400            401.9            400.9   \n",
       "2016-05-09 00:30:00              400           401.95            400.9   \n",
       "2016-05-09 00:40:00              400              402           400.85   \n",
       "\n",
       "                    MLPAP_TI-0706B05 MLPAP_TI-0706B06 MLPAP_TI-0706B07  \\\n",
       "2016-05-09 00:00:00          402.251          401.149              401   \n",
       "2016-05-09 00:10:00          402.249              401              401   \n",
       "2016-05-09 00:20:00          402.101              401              401   \n",
       "2016-05-09 00:30:00            402.3              401              401   \n",
       "2016-05-09 00:40:00          402.176              401              401   \n",
       "\n",
       "                    MLPAP_TI-0706B08 MLPAP_TI-0706B09 MLPAP_TI-0706B10  \\\n",
       "2016-05-09 00:00:00           400.05              403              402   \n",
       "2016-05-09 00:10:00           400.25              403              402   \n",
       "2016-05-09 00:20:00            400.1              403              402   \n",
       "2016-05-09 00:30:00          400.145              403              402   \n",
       "2016-05-09 00:40:00          400.405              403              402   \n",
       "\n",
       "                    MLPAP_TI-0706B11  ... MLPAP_FR-0755.PV  \\\n",
       "2016-05-09 00:00:00              401  ...          4.05114   \n",
       "2016-05-09 00:10:00              401  ...          4.15786   \n",
       "2016-05-09 00:20:00              401  ...          4.20812   \n",
       "2016-05-09 00:30:00              401  ...          4.15232   \n",
       "2016-05-09 00:40:00              401  ...          4.01671   \n",
       "\n",
       "                    MLPAP_FR-0755PV(轉換後) MLPAP_FR-0791.PV  \\\n",
       "2016-05-09 00:00:00             4.045683          6.48477   \n",
       "2016-05-09 00:10:00             4.152250          6.44989   \n",
       "2016-05-09 00:20:00             4.202449           6.4405   \n",
       "2016-05-09 00:30:00             4.146723          6.46365   \n",
       "2016-05-09 00:40:00             4.011298           6.4148   \n",
       "\n",
       "                                          MLPAP_FI-V211.PV  \\\n",
       "2016-05-09 00:00:00  [-11059] No Good Data For Calculation   \n",
       "2016-05-09 00:10:00  [-11059] No Good Data For Calculation   \n",
       "2016-05-09 00:20:00  [-11059] No Good Data For Calculation   \n",
       "2016-05-09 00:30:00  [-11059] No Good Data For Calculation   \n",
       "2016-05-09 00:40:00  [-11059] No Good Data For Calculation   \n",
       "\n",
       "                    MLPAP_FI-V211.PV(轉換後) MLPAP_PI-0658.PV MLPAP_TIC-0757.PV  \\\n",
       "2016-05-09 00:00:00                   NaN               -1           1.63519   \n",
       "2016-05-09 00:10:00                   NaN               -1           1.62501   \n",
       "2016-05-09 00:20:00                   NaN        -0.898558           1.64978   \n",
       "2016-05-09 00:30:00                   NaN         -0.50901           1.63519   \n",
       "2016-05-09 00:40:00                   NaN        -0.992771           1.65426   \n",
       "\n",
       "                    MLPAP_V125-PHD MLPAP_PI-0771.PV MLPAP_TRC-07471.PV  \n",
       "2016-05-09 00:00:00          0.051         -1.38272              133.1  \n",
       "2016-05-09 00:10:00          0.051         -1.38273              133.1  \n",
       "2016-05-09 00:20:00          0.051             -1.4              133.1  \n",
       "2016-05-09 00:30:00          0.051             -1.4              133.2  \n",
       "2016-05-09 00:40:00          0.051             -1.3              133.1  \n",
       "\n",
       "[5 rows x 95 columns]"
      ]
     },
     "execution_count": 2,
     "metadata": {},
     "output_type": "execute_result"
    }
   ],
   "source": [
    "df = pd.read_excel('./data/PA_201605-2012001更新R7(20200323).xlsx',\n",
    "                   index_col=0,\n",
    "                   parse_dates=True)\n",
    "df.head()"
   ]
  },
  {
   "cell_type": "code",
   "execution_count": 3,
   "metadata": {},
   "outputs": [
    {
     "name": "stdout",
     "output_type": "stream",
     "text": [
      "(94, 10)\n"
     ]
    },
    {
     "data": {
      "text/html": [
       "<div>\n",
       "<style scoped>\n",
       "    .dataframe tbody tr th:only-of-type {\n",
       "        vertical-align: middle;\n",
       "    }\n",
       "\n",
       "    .dataframe tbody tr th {\n",
       "        vertical-align: top;\n",
       "    }\n",
       "\n",
       "    .dataframe thead th {\n",
       "        text-align: right;\n",
       "    }\n",
       "</style>\n",
       "<table border=\"1\" class=\"dataframe\">\n",
       "  <thead>\n",
       "    <tr style=\"text-align: right;\">\n",
       "      <th></th>\n",
       "      <th>item</th>\n",
       "      <th>TAG</th>\n",
       "      <th>chinese</th>\n",
       "      <th>character</th>\n",
       "      <th>unit</th>\n",
       "      <th>category</th>\n",
       "      <th>period</th>\n",
       "      <th>min</th>\n",
       "      <th>max</th>\n",
       "      <th>推測顯著性(依製程經驗)</th>\n",
       "    </tr>\n",
       "  </thead>\n",
       "  <tbody>\n",
       "    <tr>\n",
       "      <td>0</td>\n",
       "      <td>1.0</td>\n",
       "      <td>MLPAP_TJC-0627.PV</td>\n",
       "      <td>OX預熱器出口溫度</td>\n",
       "      <td>溫度</td>\n",
       "      <td>℃</td>\n",
       "      <td>可控制因子</td>\n",
       "      <td>1分鐘2筆</td>\n",
       "      <td>140</td>\n",
       "      <td>160</td>\n",
       "      <td>***</td>\n",
       "    </tr>\n",
       "    <tr>\n",
       "      <td>1</td>\n",
       "      <td>2.0</td>\n",
       "      <td>MLPAP_TRC-0610.PV</td>\n",
       "      <td>空氣預熱器出口溫度</td>\n",
       "      <td>溫度</td>\n",
       "      <td>℃</td>\n",
       "      <td>可控制因子</td>\n",
       "      <td>1分鐘2筆</td>\n",
       "      <td>160</td>\n",
       "      <td>200</td>\n",
       "      <td>***</td>\n",
       "    </tr>\n",
       "    <tr>\n",
       "      <td>2</td>\n",
       "      <td>3.0</td>\n",
       "      <td>MLPAP_FR-0632.PV</td>\n",
       "      <td>汽機風量</td>\n",
       "      <td>流量</td>\n",
       "      <td>KNM3/HR</td>\n",
       "      <td>可控制因子</td>\n",
       "      <td>1分鐘2筆</td>\n",
       "      <td>30</td>\n",
       "      <td>90</td>\n",
       "      <td>****</td>\n",
       "    </tr>\n",
       "    <tr>\n",
       "      <td>3</td>\n",
       "      <td>4.0</td>\n",
       "      <td>MLPAP_FQ-0619.PV</td>\n",
       "      <td>OX入料量</td>\n",
       "      <td>流量</td>\n",
       "      <td>kg/HR</td>\n",
       "      <td>可控制因子</td>\n",
       "      <td>1分鐘2筆</td>\n",
       "      <td>2000</td>\n",
       "      <td>8000</td>\n",
       "      <td>****</td>\n",
       "    </tr>\n",
       "    <tr>\n",
       "      <td>4</td>\n",
       "      <td>5.0</td>\n",
       "      <td>MLPAP_TIC-0757A.PV</td>\n",
       "      <td>反應槽鹽浴溫度</td>\n",
       "      <td>溫度</td>\n",
       "      <td>℃</td>\n",
       "      <td>可控制因子</td>\n",
       "      <td>1分鐘2筆</td>\n",
       "      <td>345</td>\n",
       "      <td>365</td>\n",
       "      <td>****</td>\n",
       "    </tr>\n",
       "  </tbody>\n",
       "</table>\n",
       "</div>"
      ],
      "text/plain": [
       "   item                 TAG    chinese character     unit category period  \\\n",
       "0   1.0   MLPAP_TJC-0627.PV  OX預熱器出口溫度        溫度        ℃    可控制因子  1分鐘2筆   \n",
       "1   2.0   MLPAP_TRC-0610.PV  空氣預熱器出口溫度        溫度        ℃    可控制因子  1分鐘2筆   \n",
       "2   3.0    MLPAP_FR-0632.PV       汽機風量        流量  KNM3/HR    可控制因子  1分鐘2筆   \n",
       "3   4.0    MLPAP_FQ-0619.PV      OX入料量        流量    kg/HR    可控制因子  1分鐘2筆   \n",
       "4   5.0  MLPAP_TIC-0757A.PV    反應槽鹽浴溫度        溫度        ℃    可控制因子  1分鐘2筆   \n",
       "\n",
       "    min   max 推測顯著性(依製程經驗)  \n",
       "0   140   160          ***  \n",
       "1   160   200          ***  \n",
       "2    30    90         ****  \n",
       "3  2000  8000         ****  \n",
       "4   345   365         ****  "
      ]
     },
     "execution_count": 3,
     "metadata": {},
     "output_type": "execute_result"
    }
   ],
   "source": [
    "tag = pd.read_excel('./data/tag盤點表20200323.xlsx')\n",
    "print(tag.shape)\n",
    "tag.head()"
   ]
  },
  {
   "cell_type": "code",
   "execution_count": 4,
   "metadata": {},
   "outputs": [
    {
     "name": "stdout",
     "output_type": "stream",
     "text": [
      "only in df:\n"
     ]
    },
    {
     "data": {
      "text/plain": [
       "{'MLPAP_FI-V211.PV',\n",
       " 'MLPAP_FR-0755.PV',\n",
       " 'MLPAP_TI-0716A02',\n",
       " 'MLPAP_TI-0716A03',\n",
       " 'MLPAP_TI-0716A04',\n",
       " 'MLPAP_TI-0716A05',\n",
       " 'MLPAP_TI-0716A06',\n",
       " 'MLPAP_TI-0716A07',\n",
       " 'MLPAP_TI-0716A08',\n",
       " 'MLPAP_TI-0716A09',\n",
       " 'MLPAP_TI-0716A10',\n",
       " 'MLPAP_TI-0716A11',\n",
       " 'MLPAP_TI-0716A12',\n",
       " 'MLPAP_TI-0716A13',\n",
       " 'MLPAP_TI-0716A14',\n",
       " 'MLPAP_TI-0716A15',\n",
       " 'MLPAP_TI-0716A16',\n",
       " 'MLPAP_TI-0716A17',\n",
       " 'MLPAP_TI-0716A18',\n",
       " 'MLPAP_TI-0716A19',\n",
       " 'MLPAP_TI-0716A20',\n",
       " 'MLPAP_TI-0716A21',\n",
       " 'MLPAP_TI-0716A22',\n",
       " 'MLPAP_TI-0716A23',\n",
       " 'MLPAP_TI-0757B.PV',\n",
       " 'MLPAP_TRC-07471.PV'}"
      ]
     },
     "execution_count": 4,
     "metadata": {},
     "output_type": "execute_result"
    }
   ],
   "source": [
    "print('only in df:')\n",
    "set(df.columns)-set(tag['TAG'])"
   ]
  },
  {
   "cell_type": "code",
   "execution_count": 5,
   "metadata": {},
   "outputs": [
    {
     "name": "stdout",
     "output_type": "stream",
     "text": [
      "only in tag:\n"
     ]
    },
    {
     "data": {
      "text/plain": [
       "{'MLPAP_TJ-0716A02',\n",
       " 'MLPAP_TJ-0716A03',\n",
       " 'MLPAP_TJ-0716A04',\n",
       " 'MLPAP_TJ-0716A05',\n",
       " 'MLPAP_TJ-0716A06',\n",
       " 'MLPAP_TJ-0716A07',\n",
       " 'MLPAP_TJ-0716A08',\n",
       " 'MLPAP_TJ-0716A09',\n",
       " 'MLPAP_TJ-0716A10',\n",
       " 'MLPAP_TJ-0716A11',\n",
       " 'MLPAP_TJ-0716A12',\n",
       " 'MLPAP_TJ-0716A13',\n",
       " 'MLPAP_TJ-0716A14',\n",
       " 'MLPAP_TJ-0716A15',\n",
       " 'MLPAP_TJ-0716A16',\n",
       " 'MLPAP_TJ-0716A17',\n",
       " 'MLPAP_TJ-0716A18',\n",
       " 'MLPAP_TJ-0716A19',\n",
       " 'MLPAP_TJ-0716A20',\n",
       " 'MLPAP_TJ-0716A21',\n",
       " 'MLPAP_TJ-0716A22',\n",
       " 'MLPAP_TJ-0716A23',\n",
       " 'MLPAP_TRC-0747.PV',\n",
       " nan,\n",
       " '第二模型使用'}"
      ]
     },
     "execution_count": 5,
     "metadata": {},
     "output_type": "execute_result"
    }
   ],
   "source": [
    "print('only in tag:')\n",
    "set(tag['TAG'])-set(df.columns)"
   ]
  },
  {
   "cell_type": "markdown",
   "metadata": {},
   "source": [
    "# replace('TI','TJ')"
   ]
  },
  {
   "cell_type": "code",
   "execution_count": 6,
   "metadata": {},
   "outputs": [],
   "source": [
    "df.columns = [str(i).replace('TI','TJ') for i in df.columns]\n",
    "tag.TAG = [str(i).replace('TI','TJ') for i in tag.TAG]"
   ]
  },
  {
   "cell_type": "code",
   "execution_count": 7,
   "metadata": {},
   "outputs": [
    {
     "name": "stdout",
     "output_type": "stream",
     "text": [
      "only in tag:\n"
     ]
    },
    {
     "data": {
      "text/plain": [
       "{'MLPAP_TRC-0747.PV', 'nan', '第二模型使用'}"
      ]
     },
     "execution_count": 7,
     "metadata": {},
     "output_type": "execute_result"
    }
   ],
   "source": [
    "print('only in tag:')\n",
    "set(tag['TAG'])-set(df.columns)"
   ]
  },
  {
   "cell_type": "code",
   "execution_count": 8,
   "metadata": {},
   "outputs": [
    {
     "name": "stdout",
     "output_type": "stream",
     "text": [
      "only in df:\n"
     ]
    },
    {
     "data": {
      "text/plain": [
       "{'MLPAP_FI-V211.PV',\n",
       " 'MLPAP_FR-0755.PV',\n",
       " 'MLPAP_TJ-0757B.PV',\n",
       " 'MLPAP_TRC-07471.PV'}"
      ]
     },
     "execution_count": 8,
     "metadata": {},
     "output_type": "execute_result"
    }
   ],
   "source": [
    "print('only in df:')\n",
    "set(df.columns)-set(tag['TAG'])"
   ]
  },
  {
   "cell_type": "markdown",
   "metadata": {},
   "source": [
    "# drop two column"
   ]
  },
  {
   "cell_type": "code",
   "execution_count": 9,
   "metadata": {},
   "outputs": [
    {
     "name": "stdout",
     "output_type": "stream",
     "text": [
      "(193825, 95)\n",
      "(193825, 93)\n"
     ]
    }
   ],
   "source": [
    "print(df.shape)\n",
    "df = df.drop(['MLPAP_FR-0755.PV','MLPAP_FI-V211.PV'],axis=1)\n",
    "print(df.shape)"
   ]
  },
  {
   "cell_type": "markdown",
   "metadata": {},
   "source": [
    "# rename column"
   ]
  },
  {
   "cell_type": "code",
   "execution_count": 10,
   "metadata": {},
   "outputs": [],
   "source": [
    "df = df.rename(columns={'MLPAP_TRC-07471.PV':'MLPAP_TRC-0747.PV'})"
   ]
  },
  {
   "cell_type": "markdown",
   "metadata": {},
   "source": [
    "# add 'MLPAP_TJ-0757B.PV'"
   ]
  },
  {
   "cell_type": "code",
   "execution_count": 11,
   "metadata": {},
   "outputs": [],
   "source": [
    "temp = tag[tag['TAG'] == tag['TAG'][tag['TAG'].str.contains('0757A')].values[0]].copy()\n",
    "temp['TAG'] = 'MLPAP_TJ-0757B.PV'\n",
    "tag = tag.append(temp)"
   ]
  },
  {
   "cell_type": "code",
   "execution_count": 12,
   "metadata": {},
   "outputs": [
    {
     "data": {
      "text/html": [
       "<div>\n",
       "<style scoped>\n",
       "    .dataframe tbody tr th:only-of-type {\n",
       "        vertical-align: middle;\n",
       "    }\n",
       "\n",
       "    .dataframe tbody tr th {\n",
       "        vertical-align: top;\n",
       "    }\n",
       "\n",
       "    .dataframe thead th {\n",
       "        text-align: right;\n",
       "    }\n",
       "</style>\n",
       "<table border=\"1\" class=\"dataframe\">\n",
       "  <thead>\n",
       "    <tr style=\"text-align: right;\">\n",
       "      <th></th>\n",
       "      <th>item</th>\n",
       "      <th>TAG</th>\n",
       "      <th>chinese</th>\n",
       "      <th>character</th>\n",
       "      <th>unit</th>\n",
       "      <th>category</th>\n",
       "      <th>period</th>\n",
       "      <th>min</th>\n",
       "      <th>max</th>\n",
       "      <th>推測顯著性(依製程經驗)</th>\n",
       "    </tr>\n",
       "  </thead>\n",
       "  <tbody>\n",
       "    <tr>\n",
       "      <td>90</td>\n",
       "      <td>91.0</td>\n",
       "      <td>MLPAP_TRC-0747.PV</td>\n",
       "      <td>E220出口溫度</td>\n",
       "      <td>溫度</td>\n",
       "      <td>℃</td>\n",
       "      <td>可控制因子</td>\n",
       "      <td>1分鐘2筆</td>\n",
       "      <td>100</td>\n",
       "      <td>200</td>\n",
       "      <td>***</td>\n",
       "    </tr>\n",
       "    <tr>\n",
       "      <td>91</td>\n",
       "      <td>NaN</td>\n",
       "      <td>nan</td>\n",
       "      <td>NaN</td>\n",
       "      <td>NaN</td>\n",
       "      <td>NaN</td>\n",
       "      <td>NaN</td>\n",
       "      <td>NaN</td>\n",
       "      <td>NaN</td>\n",
       "      <td>NaN</td>\n",
       "      <td>NaN</td>\n",
       "    </tr>\n",
       "    <tr>\n",
       "      <td>92</td>\n",
       "      <td>NaN</td>\n",
       "      <td>第二模型使用</td>\n",
       "      <td>NaN</td>\n",
       "      <td>NaN</td>\n",
       "      <td>NaN</td>\n",
       "      <td>NaN</td>\n",
       "      <td>NaN</td>\n",
       "      <td>NaN</td>\n",
       "      <td>NaN</td>\n",
       "      <td>NaN</td>\n",
       "    </tr>\n",
       "    <tr>\n",
       "      <td>93</td>\n",
       "      <td>92.0</td>\n",
       "      <td>MLPAP_V125-PHD</td>\n",
       "      <td>粗PA儲槽PHD</td>\n",
       "      <td>組成</td>\n",
       "      <td>%</td>\n",
       "      <td>不可控制因子</td>\n",
       "      <td>1天1筆</td>\n",
       "      <td>0</td>\n",
       "      <td>0.1</td>\n",
       "      <td>***</td>\n",
       "    </tr>\n",
       "    <tr>\n",
       "      <td>4</td>\n",
       "      <td>5.0</td>\n",
       "      <td>MLPAP_TJ-0757B.PV</td>\n",
       "      <td>反應槽鹽浴溫度</td>\n",
       "      <td>溫度</td>\n",
       "      <td>℃</td>\n",
       "      <td>可控制因子</td>\n",
       "      <td>1分鐘2筆</td>\n",
       "      <td>345</td>\n",
       "      <td>365</td>\n",
       "      <td>****</td>\n",
       "    </tr>\n",
       "  </tbody>\n",
       "</table>\n",
       "</div>"
      ],
      "text/plain": [
       "    item                TAG   chinese character unit category period  min  \\\n",
       "90  91.0  MLPAP_TRC-0747.PV  E220出口溫度        溫度    ℃    可控制因子  1分鐘2筆  100   \n",
       "91   NaN                nan       NaN       NaN  NaN      NaN    NaN  NaN   \n",
       "92   NaN             第二模型使用       NaN       NaN  NaN      NaN    NaN  NaN   \n",
       "93  92.0     MLPAP_V125-PHD  粗PA儲槽PHD        組成    %   不可控制因子   1天1筆    0   \n",
       "4    5.0  MLPAP_TJ-0757B.PV   反應槽鹽浴溫度        溫度    ℃    可控制因子  1分鐘2筆  345   \n",
       "\n",
       "    max 推測顯著性(依製程經驗)  \n",
       "90  200          ***  \n",
       "91  NaN          NaN  \n",
       "92  NaN          NaN  \n",
       "93  0.1          ***  \n",
       "4   365         ****  "
      ]
     },
     "execution_count": 12,
     "metadata": {},
     "output_type": "execute_result"
    }
   ],
   "source": [
    "tag.tail()"
   ]
  },
  {
   "cell_type": "markdown",
   "metadata": {},
   "source": [
    "# check tag sheet and df.columns"
   ]
  },
  {
   "cell_type": "code",
   "execution_count": 13,
   "metadata": {},
   "outputs": [
    {
     "name": "stdout",
     "output_type": "stream",
     "text": [
      "only in df:\n"
     ]
    },
    {
     "data": {
      "text/plain": [
       "set()"
      ]
     },
     "execution_count": 13,
     "metadata": {},
     "output_type": "execute_result"
    }
   ],
   "source": [
    "print('only in df:')\n",
    "set(df.columns)-set(tag['TAG'])"
   ]
  },
  {
   "cell_type": "code",
   "execution_count": 14,
   "metadata": {},
   "outputs": [
    {
     "name": "stdout",
     "output_type": "stream",
     "text": [
      "only in tag:\n"
     ]
    },
    {
     "data": {
      "text/plain": [
       "{'nan', '第二模型使用'}"
      ]
     },
     "execution_count": 14,
     "metadata": {},
     "output_type": "execute_result"
    }
   ],
   "source": [
    "print('only in tag:')\n",
    "set(tag['TAG'])-set(df.columns)"
   ]
  },
  {
   "cell_type": "code",
   "execution_count": 15,
   "metadata": {},
   "outputs": [
    {
     "name": "stdout",
     "output_type": "stream",
     "text": [
      "(193824, 93)\n"
     ]
    }
   ],
   "source": [
    "df = df.iloc[:-1,:]\n",
    "print(df.shape)"
   ]
  },
  {
   "cell_type": "markdown",
   "metadata": {},
   "source": [
    "# 欄位轉換"
   ]
  },
  {
   "cell_type": "code",
   "execution_count": 16,
   "metadata": {},
   "outputs": [
    {
     "data": {
      "text/html": [
       "<div>\n",
       "<style scoped>\n",
       "    .dataframe tbody tr th:only-of-type {\n",
       "        vertical-align: middle;\n",
       "    }\n",
       "\n",
       "    .dataframe tbody tr th {\n",
       "        vertical-align: top;\n",
       "    }\n",
       "\n",
       "    .dataframe thead th {\n",
       "        text-align: right;\n",
       "    }\n",
       "</style>\n",
       "<table border=\"1\" class=\"dataframe\">\n",
       "  <thead>\n",
       "    <tr style=\"text-align: right;\">\n",
       "      <th></th>\n",
       "      <th>DATA OF USE</th>\n",
       "    </tr>\n",
       "  </thead>\n",
       "  <tbody>\n",
       "    <tr>\n",
       "      <td>2018-02-04 19:20:00</td>\n",
       "      <td>0.436173</td>\n",
       "    </tr>\n",
       "    <tr>\n",
       "      <td>2017-11-16 19:10:00</td>\n",
       "      <td>0.381374</td>\n",
       "    </tr>\n",
       "    <tr>\n",
       "      <td>2019-07-12 17:00:00</td>\n",
       "      <td>0.794326</td>\n",
       "    </tr>\n",
       "    <tr>\n",
       "      <td>2017-05-18 11:10:00</td>\n",
       "      <td>0.256488</td>\n",
       "    </tr>\n",
       "    <tr>\n",
       "      <td>2019-10-04 11:30:00</td>\n",
       "      <td>0.851703</td>\n",
       "    </tr>\n",
       "  </tbody>\n",
       "</table>\n",
       "</div>"
      ],
      "text/plain": [
       "                     DATA OF USE\n",
       "2018-02-04 19:20:00     0.436173\n",
       "2017-11-16 19:10:00     0.381374\n",
       "2019-07-12 17:00:00     0.794326\n",
       "2017-05-18 11:10:00     0.256488\n",
       "2019-10-04 11:30:00     0.851703"
      ]
     },
     "execution_count": 16,
     "metadata": {},
     "output_type": "execute_result"
    }
   ],
   "source": [
    "def f(x):\n",
    "    a,b = str(x).split('*')\n",
    "    return float(a)*float(b)\n",
    "\n",
    "df['DATA OF USE'] = [f(i) for i in df['DATA OF USE']]\n",
    "df[['DATA OF USE']].sample(5)"
   ]
  },
  {
   "cell_type": "code",
   "execution_count": 17,
   "metadata": {},
   "outputs": [],
   "source": [
    "df = df.replace('[-11059] No Good Data For Calculation',np.nan)"
   ]
  },
  {
   "cell_type": "code",
   "execution_count": 18,
   "metadata": {},
   "outputs": [],
   "source": [
    "df = df.replace('Scan Off',np.nan)"
   ]
  },
  {
   "cell_type": "code",
   "execution_count": 19,
   "metadata": {},
   "outputs": [],
   "source": [
    "df = df.replace('Not Connect',np.nan)"
   ]
  },
  {
   "cell_type": "code",
   "execution_count": 20,
   "metadata": {},
   "outputs": [],
   "source": [
    "df = df.replace('I/O Timeout',np.nan)"
   ]
  },
  {
   "cell_type": "code",
   "execution_count": 21,
   "metadata": {},
   "outputs": [],
   "source": [
    "df = df.replace('Bad',np.nan)"
   ]
  },
  {
   "cell_type": "code",
   "execution_count": 22,
   "metadata": {},
   "outputs": [
    {
     "data": {
      "text/plain": [
       "MLPAP_TJ-0706B02     float32\n",
       "MLPAP_TJ-0706B03     float32\n",
       "MLPAP_TJ-0706B04     float32\n",
       "MLPAP_TJ-0706B05     float32\n",
       "MLPAP_TJ-0706B06     float32\n",
       "                      ...   \n",
       "MLPAP_PI-0658.PV     float32\n",
       "MLPAP_TJC-0757.PV    float32\n",
       "MLPAP_V125-PHD       float32\n",
       "MLPAP_PI-0771.PV     float32\n",
       "MLPAP_TRC-0747.PV    float32\n",
       "Length: 93, dtype: object"
      ]
     },
     "execution_count": 22,
     "metadata": {},
     "output_type": "execute_result"
    }
   ],
   "source": [
    "df = df.astype('float32')\n",
    "df.dtypes"
   ]
  },
  {
   "cell_type": "markdown",
   "metadata": {},
   "source": [
    "# check"
   ]
  },
  {
   "cell_type": "code",
   "execution_count": 23,
   "metadata": {},
   "outputs": [],
   "source": [
    "def get_col(name):\n",
    "    return df.columns[df.columns.str.contains(name)].tolist()"
   ]
  },
  {
   "cell_type": "code",
   "execution_count": 24,
   "metadata": {},
   "outputs": [
    {
     "data": {
      "text/plain": [
       "<matplotlib.axes._subplots.AxesSubplot at 0x278f345e288>"
      ]
     },
     "execution_count": 24,
     "metadata": {},
     "output_type": "execute_result"
    },
    {
     "data": {
      "image/png": "[encoded data removed]",
      "text/plain": [
       "<Figure size 432x288 with 1 Axes>"
      ]
     },
     "metadata": {
      "needs_background": "light"
     },
     "output_type": "display_data"
    }
   ],
   "source": [
    "col1 = get_col('0997')\n",
    "col2 = get_col('0619')\n",
    "df[col1+col2].plot()"
   ]
  },
  {
   "cell_type": "code",
   "execution_count": 25,
   "metadata": {},
   "outputs": [
    {
     "name": "stdout",
     "output_type": "stream",
     "text": [
      "done\n"
     ]
    }
   ],
   "source": [
    "df.to_csv('./data/train_cleaned.csv')\n",
    "print('done')"
   ]
  },
  {
   "cell_type": "code",
   "execution_count": null,
   "metadata": {},
   "outputs": [],
   "source": []
  },
  {
   "cell_type": "code",
   "execution_count": null,
   "metadata": {},
   "outputs": [],
   "source": []
  },
  {
   "cell_type": "code",
   "execution_count": null,
   "metadata": {},
   "outputs": [],
   "source": []
  },
  {
   "cell_type": "code",
   "execution_count": null,
   "metadata": {},
   "outputs": [],
   "source": []
  }
 ],
 "metadata": {
  "kernelspec": {
   "display_name": "Python 3",
   "language": "python",
   "name": "python3"
  },
  "language_info": {
   "codemirror_mode": {
    "name": "ipython",
    "version": 3
   },
   "file_extension": ".py",
   "mimetype": "text/x-python",
   "name": "python",
   "nbconvert_exporter": "python",
   "pygments_lexer": "ipython3",
   "version": "3.7.4"
  }
 },
 "nbformat": 4,
 "nbformat_minor": 2
}
