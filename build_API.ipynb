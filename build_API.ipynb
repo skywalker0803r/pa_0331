{
 "cells": [
  {
   "cell_type": "code",
   "execution_count": 1,
   "metadata": {},
   "outputs": [
    {
     "data": {
      "text/plain": [
       "True"
      ]
     },
     "execution_count": 1,
     "metadata": {},
     "output_type": "execute_result"
    }
   ],
   "source": [
    "import pandas as pd\n",
    "import joblib\n",
    "from tqdm import tqdm_notebook as tqdm\n",
    "import numpy as np\n",
    "import pandas as pd\n",
    "import torch\n",
    "import os\n",
    "import torch.optim as optim\n",
    "import warnings \n",
    "warnings.simplefilter('ignore')\n",
    "from torch.nn import Linear,ReLU,Sigmoid\n",
    "from utils import *\n",
    "torch.cuda.is_available()"
   ]
  },
  {
   "cell_type": "code",
   "execution_count": 2,
   "metadata": {},
   "outputs": [
    {
     "data": {
      "text/plain": [
       "['train_preprocessed',\n",
       " 'tag盤點表20200323.xlsx',\n",
       " 'pred_0997_all.csv',\n",
       " 'tag盤點表_cleaned.csv',\n",
       " 'train_cleaned.csv',\n",
       " 'PA_201605-2012001更新R7(20200323).xlsx']"
      ]
     },
     "execution_count": 2,
     "metadata": {},
     "output_type": "execute_result"
    }
   ],
   "source": [
    "os.listdir('./data')"
   ]
  },
  {
   "cell_type": "markdown",
   "metadata": {},
   "source": [
    "# load pretrained model"
   ]
  },
  {
   "cell_type": "code",
   "execution_count": 3,
   "metadata": {},
   "outputs": [],
   "source": [
    "critic = joblib.load('./model/net.pkl')\n",
    "critic = critic.eval()\n",
    "mm_x = joblib.load('./model/mm_x.pkl')\n",
    "mm_y = joblib.load('./model/mm_y.pkl')"
   ]
  },
  {
   "cell_type": "code",
   "execution_count": 4,
   "metadata": {},
   "outputs": [],
   "source": [
    "data = joblib.load('./data/train_preprocessed')"
   ]
  },
  {
   "cell_type": "code",
   "execution_count": 5,
   "metadata": {},
   "outputs": [],
   "source": [
    "x_cols = data['x_col']\n",
    "y_cols = data['y_col']"
   ]
  },
  {
   "cell_type": "code",
   "execution_count": 6,
   "metadata": {},
   "outputs": [],
   "source": [
    "tag = pd.read_csv('./data/tag盤點表_cleaned.csv')\n",
    "tag_map = dict(zip(tag['TAG'],tag['chinese']))"
   ]
  },
  {
   "cell_type": "markdown",
   "metadata": {},
   "source": [
    "# API"
   ]
  },
  {
   "cell_type": "code",
   "execution_count": 7,
   "metadata": {},
   "outputs": [],
   "source": [
    "'''\n",
    "input: 0997 value\n",
    "output: control advice\n",
    "'''\n",
    "class API(object):\n",
    "    def __init__(self,critic,mm_x,mm_y,x_cols,y_cols,tag_map):\n",
    "        self.critic = critic\n",
    "        self.mm_x = mm_x\n",
    "        self.mm_y = mm_y\n",
    "        self.x_cols = x_cols\n",
    "        self.y_cols = y_cols\n",
    "        # Generator\n",
    "        self.generator = self._build_generator(1,37*14).double().cuda()\n",
    "        self.generator.apply(self._init_weights)\n",
    "        # bound\n",
    "        self.sc_min = mm_y.data_min_[0]\n",
    "        self.sc_max = mm_y.data_max_[0]\n",
    "        # target\n",
    "        self.target = None\n",
    "        # noise_iter and optimizer\n",
    "        self.noise_iter = self._build_noise_iter()\n",
    "        self.optimizer = optim.Adam(self.generator.parameters(),lr=1e-4)\n",
    "        # obj\n",
    "        self.obj_function = self._obj_function\n",
    "        # tag_map\n",
    "        self.tag_map = tag_map\n",
    "        # noise\n",
    "        self.noise = torch.tensor(np.random.normal(loc=0,scale=1,size=(5000,1))).cuda()\n",
    "    \n",
    "    def get_advice(self,target):\n",
    "        # set user want target value\n",
    "        self.target = target\n",
    "        \n",
    "        # train the generator close to target \n",
    "        self.generator = self._train(self.generator,self.noise_iter,self.obj_function,\n",
    "                                     self.optimizer,num_epochs=100)\n",
    "        # after training get output\n",
    "        output = self.critic(self.generator(self.noise)).detach().cpu().numpy()\n",
    "        output = self.mm_y.inverse_transform(output)\n",
    "        output = pd.DataFrame(output,columns=['0997'])\n",
    "        \n",
    "        # get best result base on output\n",
    "        best_idx = np.argmin((output-self.target).values)\n",
    "        result = pd.DataFrame(self.generator(self.noise).detach().cpu().numpy())\n",
    "        result[:] = self.mm_x.inverse_transform(result)\n",
    "        r1 = result.iloc[best_idx,:].values.reshape(37,14)\n",
    "        r1 = pd.DataFrame(r1,columns=self.x_cols)\n",
    "        \n",
    "        # calculate best result's median max and min\n",
    "        r1.loc['median'] = r1.median(axis=0)\n",
    "        r1.loc['max'] = r1.max(axis=0)\n",
    "        r1.loc['min'] = r1.min(axis=0)\n",
    "        \n",
    "        # add chinese tag\n",
    "        r1 = r1.iloc[-3:].T\n",
    "        r1['chinese'] = r1.index.map(self.tag_map)\n",
    "        r1 = r1[['chinese','median','max','min']]\n",
    "        \n",
    "        # return control advice and 0997_value\n",
    "        return r1,output.loc[[best_idx]]\n",
    "    \n",
    "    @staticmethod\n",
    "    def _build_generator(input_shape,output_shape):\n",
    "        net = torch.nn.Sequential(\n",
    "            Linear(input_shape,256),ReLU(),\n",
    "            Linear(256,output_shape),Sigmoid())\n",
    "        return net\n",
    "    \n",
    "    @staticmethod\n",
    "    def _init_weights(m):\n",
    "        if hasattr(m,'weight'):\n",
    "            torch.nn.init.xavier_uniform(m.weight)\n",
    "        if hasattr(m,'bias'):  \n",
    "            m.bias.data.fill_(0)\n",
    "    \n",
    "    def _obj_function(self,x):\n",
    "        y = self.critic(x)\n",
    "        y = (self.sc_max-self.sc_min)*y + self.sc_min\n",
    "        loss = ((y-self.target)**2)**(0.5)\n",
    "        return loss.mean()\n",
    "    \n",
    "    @staticmethod\n",
    "    def _build_noise_iter():\n",
    "        noise = torch.tensor(np.random.normal(loc=0,scale=1,size=(5000,1))).cuda()\n",
    "        noise_datasets = torch.utils.data.TensorDataset(noise)\n",
    "        noise_iter = torch.utils.data.DataLoader(noise_datasets,batch_size=256)\n",
    "        return noise_iter\n",
    "    \n",
    "    @staticmethod\n",
    "    def _train(net,noise_iter,obj_function,optimizer,num_epochs=100):\n",
    "        train_history = []\n",
    "        for epoch in tqdm(range(num_epochs)):\n",
    "            train_avg_loss = 0\n",
    "            t = 0\n",
    "            for noise in noise_iter:\n",
    "                noise = noise[0]\n",
    "                z = net(noise).cuda()\n",
    "                loss = obj_function(z)\n",
    "                loss.backward()\n",
    "                optimizer.step()\n",
    "                optimizer.zero_grad()\n",
    "                train_avg_loss += loss.item()\n",
    "                t += 1\n",
    "            train_avg_loss /= t\n",
    "            #print(\"epochs {} loss {:.4f}\".format(epoch,train_avg_loss))\n",
    "            train_history.append(train_avg_loss)\n",
    "        # plt train loss\n",
    "        #plt.plot(np.array(train_history))\n",
    "        #plt.title('train loss')\n",
    "        # return trained net\n",
    "        return net"
   ]
  },
  {
   "cell_type": "code",
   "execution_count": 8,
   "metadata": {},
   "outputs": [],
   "source": [
    "A = API(critic,mm_x,mm_y,x_cols,y_cols,tag_map)"
   ]
  },
  {
   "cell_type": "code",
   "execution_count": 9,
   "metadata": {},
   "outputs": [
    {
     "data": {
      "application/vnd.jupyter.widget-view+json": {
       "model_id": "99e01e21db3b48c182e97dcbee4b324c",
       "version_major": 2,
       "version_minor": 0
      },
      "text/plain": [
       "HBox(children=(FloatProgress(value=0.0), HTML(value='')))"
      ]
     },
     "metadata": {},
     "output_type": "display_data"
    },
    {
     "name": "stdout",
     "output_type": "stream",
     "text": [
      "\n"
     ]
    }
   ],
   "source": [
    "advice,value = A.get_advice(7000)"
   ]
  },
  {
   "cell_type": "code",
   "execution_count": 10,
   "metadata": {},
   "outputs": [
    {
     "data": {
      "text/html": [
       "<div>\n",
       "<style scoped>\n",
       "    .dataframe tbody tr th:only-of-type {\n",
       "        vertical-align: middle;\n",
       "    }\n",
       "\n",
       "    .dataframe tbody tr th {\n",
       "        vertical-align: top;\n",
       "    }\n",
       "\n",
       "    .dataframe thead th {\n",
       "        text-align: right;\n",
       "    }\n",
       "</style>\n",
       "<table border=\"1\" class=\"dataframe\">\n",
       "  <thead>\n",
       "    <tr style=\"text-align: right;\">\n",
       "      <th></th>\n",
       "      <th>chinese</th>\n",
       "      <th>median</th>\n",
       "      <th>max</th>\n",
       "      <th>min</th>\n",
       "    </tr>\n",
       "  </thead>\n",
       "  <tbody>\n",
       "    <tr>\n",
       "      <th>MLPAP_FQ-0619.PV</th>\n",
       "      <td>OX入料量</td>\n",
       "      <td>6602.686979</td>\n",
       "      <td>6880.164993</td>\n",
       "      <td>5903.049214</td>\n",
       "    </tr>\n",
       "    <tr>\n",
       "      <th>MLPAP_FR-0632.PV</th>\n",
       "      <td>汽機風量</td>\n",
       "      <td>79.663580</td>\n",
       "      <td>80.641300</td>\n",
       "      <td>63.847267</td>\n",
       "    </tr>\n",
       "    <tr>\n",
       "      <th>MLPAP_LIC-0738.PV</th>\n",
       "      <td>汽鼓(V211)鍋爐水液位</td>\n",
       "      <td>35.970720</td>\n",
       "      <td>36.286459</td>\n",
       "      <td>34.740894</td>\n",
       "    </tr>\n",
       "    <tr>\n",
       "      <th>MLPAP_LRC-0729.PV</th>\n",
       "      <td>鍋爐水液位控制</td>\n",
       "      <td>44.928308</td>\n",
       "      <td>47.118155</td>\n",
       "      <td>41.459878</td>\n",
       "    </tr>\n",
       "    <tr>\n",
       "      <th>MLPAP_PIC-0761.PV</th>\n",
       "      <td>鹽浴冷卻器(E112)出口壓力</td>\n",
       "      <td>49.450470</td>\n",
       "      <td>49.490387</td>\n",
       "      <td>49.420309</td>\n",
       "    </tr>\n",
       "    <tr>\n",
       "      <th>MLPAP_TJ-0757B.PV</th>\n",
       "      <td>反應槽鹽浴溫度</td>\n",
       "      <td>354.346206</td>\n",
       "      <td>355.905518</td>\n",
       "      <td>353.090225</td>\n",
       "    </tr>\n",
       "    <tr>\n",
       "      <th>MLPAP_TJC-0627.PV</th>\n",
       "      <td>OX預熱器出口溫度</td>\n",
       "      <td>149.423875</td>\n",
       "      <td>150.749087</td>\n",
       "      <td>148.399281</td>\n",
       "    </tr>\n",
       "    <tr>\n",
       "      <th>MLPAP_TJC-0757.PV</th>\n",
       "      <td>反應器A/B側鹽浴溫度差</td>\n",
       "      <td>0.554237</td>\n",
       "      <td>0.988008</td>\n",
       "      <td>0.203618</td>\n",
       "    </tr>\n",
       "    <tr>\n",
       "      <th>MLPAP_TJC-0757A.PV</th>\n",
       "      <td>反應槽鹽浴溫度</td>\n",
       "      <td>353.412876</td>\n",
       "      <td>354.943897</td>\n",
       "      <td>352.266139</td>\n",
       "    </tr>\n",
       "    <tr>\n",
       "      <th>MLPAP_TJC-1721.PV</th>\n",
       "      <td>轉換式冷凝器冷油溫度</td>\n",
       "      <td>60.804608</td>\n",
       "      <td>61.928917</td>\n",
       "      <td>59.957190</td>\n",
       "    </tr>\n",
       "    <tr>\n",
       "      <th>MLPAP_TRC-0610.PV</th>\n",
       "      <td>空氣預熱器出口溫度</td>\n",
       "      <td>177.168942</td>\n",
       "      <td>179.171331</td>\n",
       "      <td>174.712209</td>\n",
       "    </tr>\n",
       "    <tr>\n",
       "      <th>MLPAP_TRC-0747.PV</th>\n",
       "      <td>E220出口溫度</td>\n",
       "      <td>175.585148</td>\n",
       "      <td>176.213631</td>\n",
       "      <td>174.074742</td>\n",
       "    </tr>\n",
       "    <tr>\n",
       "      <th>MLPAP_TRC-0762.PV</th>\n",
       "      <td>鹽浴冷卻器(E112)入口溫度</td>\n",
       "      <td>357.004898</td>\n",
       "      <td>358.000695</td>\n",
       "      <td>356.016167</td>\n",
       "    </tr>\n",
       "    <tr>\n",
       "      <th>MLPAP_TRC-1734.PV</th>\n",
       "      <td>轉換式冷凝器熱油溫度</td>\n",
       "      <td>179.391857</td>\n",
       "      <td>182.744123</td>\n",
       "      <td>173.339574</td>\n",
       "    </tr>\n",
       "  </tbody>\n",
       "</table>\n",
       "</div>"
      ],
      "text/plain": [
       "                            chinese       median          max          min\n",
       "MLPAP_FQ-0619.PV              OX入料量  6602.686979  6880.164993  5903.049214\n",
       "MLPAP_FR-0632.PV               汽機風量    79.663580    80.641300    63.847267\n",
       "MLPAP_LIC-0738.PV     汽鼓(V211)鍋爐水液位    35.970720    36.286459    34.740894\n",
       "MLPAP_LRC-0729.PV           鍋爐水液位控制    44.928308    47.118155    41.459878\n",
       "MLPAP_PIC-0761.PV   鹽浴冷卻器(E112)出口壓力    49.450470    49.490387    49.420309\n",
       "MLPAP_TJ-0757B.PV           反應槽鹽浴溫度   354.346206   355.905518   353.090225\n",
       "MLPAP_TJC-0627.PV         OX預熱器出口溫度   149.423875   150.749087   148.399281\n",
       "MLPAP_TJC-0757.PV      反應器A/B側鹽浴溫度差     0.554237     0.988008     0.203618\n",
       "MLPAP_TJC-0757A.PV          反應槽鹽浴溫度   353.412876   354.943897   352.266139\n",
       "MLPAP_TJC-1721.PV        轉換式冷凝器冷油溫度    60.804608    61.928917    59.957190\n",
       "MLPAP_TRC-0610.PV         空氣預熱器出口溫度   177.168942   179.171331   174.712209\n",
       "MLPAP_TRC-0747.PV          E220出口溫度   175.585148   176.213631   174.074742\n",
       "MLPAP_TRC-0762.PV   鹽浴冷卻器(E112)入口溫度   357.004898   358.000695   356.016167\n",
       "MLPAP_TRC-1734.PV        轉換式冷凝器熱油溫度   179.391857   182.744123   173.339574"
      ]
     },
     "execution_count": 10,
     "metadata": {},
     "output_type": "execute_result"
    }
   ],
   "source": [
    "advice"
   ]
  },
  {
   "cell_type": "code",
   "execution_count": 11,
   "metadata": {},
   "outputs": [
    {
     "data": {
      "text/html": [
       "<div>\n",
       "<style scoped>\n",
       "    .dataframe tbody tr th:only-of-type {\n",
       "        vertical-align: middle;\n",
       "    }\n",
       "\n",
       "    .dataframe tbody tr th {\n",
       "        vertical-align: top;\n",
       "    }\n",
       "\n",
       "    .dataframe thead th {\n",
       "        text-align: right;\n",
       "    }\n",
       "</style>\n",
       "<table border=\"1\" class=\"dataframe\">\n",
       "  <thead>\n",
       "    <tr style=\"text-align: right;\">\n",
       "      <th></th>\n",
       "      <th>0997</th>\n",
       "    </tr>\n",
       "  </thead>\n",
       "  <tbody>\n",
       "    <tr>\n",
       "      <th>1167</th>\n",
       "      <td>6998.286363</td>\n",
       "    </tr>\n",
       "  </tbody>\n",
       "</table>\n",
       "</div>"
      ],
      "text/plain": [
       "             0997\n",
       "1167  6998.286363"
      ]
     },
     "execution_count": 11,
     "metadata": {},
     "output_type": "execute_result"
    }
   ],
   "source": [
    "value"
   ]
  },
  {
   "cell_type": "code",
   "execution_count": null,
   "metadata": {},
   "outputs": [],
   "source": []
  }
 ],
 "metadata": {
  "kernelspec": {
   "display_name": "Python 3",
   "language": "python",
   "name": "python3"
  },
  "language_info": {
   "codemirror_mode": {
    "name": "ipython",
    "version": 3
   },
   "file_extension": ".py",
   "mimetype": "text/x-python",
   "name": "python",
   "nbconvert_exporter": "python",
   "pygments_lexer": "ipython3",
   "version": "3.7.6"
  }
 },
 "nbformat": 4,
 "nbformat_minor": 4
}
