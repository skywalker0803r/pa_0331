{
 "cells": [
  {
   "cell_type": "code",
   "execution_count": 1,
   "metadata": {},
   "outputs": [
    {
     "data": {
      "text/plain": [
       "True"
      ]
     },
     "execution_count": 1,
     "metadata": {},
     "output_type": "execute_result"
    }
   ],
   "source": [
    "import pandas as pd\n",
    "import joblib\n",
    "import numpy as np\n",
    "import pandas as pd\n",
    "import torch\n",
    "import os\n",
    "import torch.optim as optim\n",
    "import warnings \n",
    "warnings.simplefilter('ignore')\n",
    "from torch.nn import Linear,ReLU,Sigmoid\n",
    "from utils import *\n",
    "torch.cuda.is_available()"
   ]
  },
  {
   "cell_type": "code",
   "execution_count": 2,
   "metadata": {},
   "outputs": [
    {
     "data": {
      "text/plain": [
       "['train_preprocessed',\n",
       " 'PA_201605-2020001更新R8(20200423).csv',\n",
       " 'tag盤點表20200423.xlsx',\n",
       " 'pred_0997_all.csv',\n",
       " 'train_cleaned.csv',\n",
       " 'tag_cleaned.csv']"
      ]
     },
     "execution_count": 2,
     "metadata": {},
     "output_type": "execute_result"
    }
   ],
   "source": [
    "os.listdir('./data')"
   ]
  },
  {
   "cell_type": "markdown",
   "metadata": {},
   "source": [
    "# load data,tag,critic,mm_x,mm_y"
   ]
  },
  {
   "cell_type": "code",
   "execution_count": 3,
   "metadata": {},
   "outputs": [],
   "source": [
    "data = joblib.load('./data/train_preprocessed')"
   ]
  },
  {
   "cell_type": "code",
   "execution_count": 4,
   "metadata": {},
   "outputs": [],
   "source": [
    "tag = pd.read_csv('./data/tag_cleaned.csv')\n",
    "tag_map = dict(zip(tag['TAG'],tag['chinese']))"
   ]
  },
  {
   "cell_type": "code",
   "execution_count": 5,
   "metadata": {},
   "outputs": [],
   "source": [
    "critic = joblib.load('./model/net.pkl')\n",
    "critic = critic.eval()\n",
    "mm_x = joblib.load('./model/mm_x.pkl')\n",
    "mm_y = joblib.load('./model/mm_y.pkl')"
   ]
  },
  {
   "cell_type": "markdown",
   "metadata": {},
   "source": [
    "# def columns"
   ]
  },
  {
   "cell_type": "code",
   "execution_count": 6,
   "metadata": {},
   "outputs": [],
   "source": [
    "x_cols = data['x_col']\n",
    "y_cols = data['y_col']"
   ]
  },
  {
   "cell_type": "code",
   "execution_count": 7,
   "metadata": {},
   "outputs": [
    {
     "data": {
      "text/plain": [
       "['MLPAP_FQ-0619.PV',\n",
       " 'MLPAP_FR-0632.PV',\n",
       " 'MLPAP_LIC-0738.PV',\n",
       " 'MLPAP_LRC-0729.PV',\n",
       " 'MLPAP_PIC-0761.PV',\n",
       " 'MLPAP_TJ-0757B.PV',\n",
       " 'MLPAP_TJC-0627.PV',\n",
       " 'MLPAP_TJC-0757A.PV',\n",
       " 'MLPAP_TJC-1721.PV',\n",
       " 'MLPAP_TRC-0610.PV',\n",
       " 'MLPAP_TRC-0747.PV',\n",
       " 'MLPAP_TRC-0762.PV',\n",
       " 'MLPAP_TRC-1734.PV']"
      ]
     },
     "execution_count": 7,
     "metadata": {},
     "output_type": "execute_result"
    }
   ],
   "source": [
    "x_cols"
   ]
  },
  {
   "cell_type": "code",
   "execution_count": 8,
   "metadata": {},
   "outputs": [
    {
     "data": {
      "text/plain": [
       "['MLPAP_FQI-0997.PV']"
      ]
     },
     "execution_count": 8,
     "metadata": {},
     "output_type": "execute_result"
    }
   ],
   "source": [
    "y_cols"
   ]
  },
  {
   "cell_type": "markdown",
   "metadata": {},
   "source": [
    "# critic forward test"
   ]
  },
  {
   "cell_type": "code",
   "execution_count": 9,
   "metadata": {},
   "outputs": [
    {
     "data": {
      "text/plain": [
       "(39, 13)"
      ]
     },
     "execution_count": 9,
     "metadata": {},
     "output_type": "execute_result"
    }
   ],
   "source": [
    "t = critic.time_step\n",
    "n = critic.num_sensor\n",
    "t,n"
   ]
  },
  {
   "cell_type": "code",
   "execution_count": 10,
   "metadata": {},
   "outputs": [
    {
     "data": {
      "text/html": [
       "<div>\n",
       "<style scoped>\n",
       "    .dataframe tbody tr th:only-of-type {\n",
       "        vertical-align: middle;\n",
       "    }\n",
       "\n",
       "    .dataframe tbody tr th {\n",
       "        vertical-align: top;\n",
       "    }\n",
       "\n",
       "    .dataframe thead th {\n",
       "        text-align: right;\n",
       "    }\n",
       "</style>\n",
       "<table border=\"1\" class=\"dataframe\">\n",
       "  <thead>\n",
       "    <tr style=\"text-align: right;\">\n",
       "      <th></th>\n",
       "      <th>MLPAP_FQ-0619.PV</th>\n",
       "      <th>MLPAP_FR-0632.PV</th>\n",
       "      <th>MLPAP_LIC-0738.PV</th>\n",
       "      <th>MLPAP_LRC-0729.PV</th>\n",
       "      <th>MLPAP_PIC-0761.PV</th>\n",
       "      <th>MLPAP_TJ-0757B.PV</th>\n",
       "      <th>MLPAP_TJC-0627.PV</th>\n",
       "      <th>MLPAP_TJC-0757A.PV</th>\n",
       "      <th>MLPAP_TJC-1721.PV</th>\n",
       "      <th>MLPAP_TRC-0610.PV</th>\n",
       "      <th>MLPAP_TRC-0747.PV</th>\n",
       "      <th>MLPAP_TRC-0762.PV</th>\n",
       "      <th>MLPAP_TRC-1734.PV</th>\n",
       "    </tr>\n",
       "  </thead>\n",
       "  <tbody>\n",
       "    <tr>\n",
       "      <th>0</th>\n",
       "      <td>0.764491</td>\n",
       "      <td>0.793647</td>\n",
       "      <td>0.493109</td>\n",
       "      <td>0.402323</td>\n",
       "      <td>0.121288</td>\n",
       "      <td>0.220604</td>\n",
       "      <td>0.845217</td>\n",
       "      <td>0.341748</td>\n",
       "      <td>0.828474</td>\n",
       "      <td>0.104861</td>\n",
       "      <td>0.854533</td>\n",
       "      <td>0.836063</td>\n",
       "      <td>0.077833</td>\n",
       "    </tr>\n",
       "    <tr>\n",
       "      <th>1</th>\n",
       "      <td>0.449790</td>\n",
       "      <td>0.207589</td>\n",
       "      <td>0.617783</td>\n",
       "      <td>0.979570</td>\n",
       "      <td>0.249947</td>\n",
       "      <td>0.698360</td>\n",
       "      <td>0.760960</td>\n",
       "      <td>0.551403</td>\n",
       "      <td>0.612575</td>\n",
       "      <td>0.752106</td>\n",
       "      <td>0.748944</td>\n",
       "      <td>0.044459</td>\n",
       "      <td>0.401593</td>\n",
       "    </tr>\n",
       "    <tr>\n",
       "      <th>2</th>\n",
       "      <td>0.743973</td>\n",
       "      <td>0.234615</td>\n",
       "      <td>0.737070</td>\n",
       "      <td>0.981238</td>\n",
       "      <td>0.043582</td>\n",
       "      <td>0.611680</td>\n",
       "      <td>0.489980</td>\n",
       "      <td>0.776774</td>\n",
       "      <td>0.744538</td>\n",
       "      <td>0.360018</td>\n",
       "      <td>0.749893</td>\n",
       "      <td>0.935489</td>\n",
       "      <td>0.210700</td>\n",
       "    </tr>\n",
       "    <tr>\n",
       "      <th>3</th>\n",
       "      <td>0.043282</td>\n",
       "      <td>0.464800</td>\n",
       "      <td>0.680941</td>\n",
       "      <td>0.566165</td>\n",
       "      <td>0.258945</td>\n",
       "      <td>0.406038</td>\n",
       "      <td>0.644817</td>\n",
       "      <td>0.078222</td>\n",
       "      <td>0.584410</td>\n",
       "      <td>0.370124</td>\n",
       "      <td>0.172916</td>\n",
       "      <td>0.839875</td>\n",
       "      <td>0.400485</td>\n",
       "    </tr>\n",
       "    <tr>\n",
       "      <th>4</th>\n",
       "      <td>0.618680</td>\n",
       "      <td>0.412412</td>\n",
       "      <td>0.900306</td>\n",
       "      <td>0.970726</td>\n",
       "      <td>0.315137</td>\n",
       "      <td>0.081503</td>\n",
       "      <td>0.182594</td>\n",
       "      <td>0.966963</td>\n",
       "      <td>0.089190</td>\n",
       "      <td>0.550365</td>\n",
       "      <td>0.494926</td>\n",
       "      <td>0.072660</td>\n",
       "      <td>0.212647</td>\n",
       "    </tr>\n",
       "  </tbody>\n",
       "</table>\n",
       "</div>"
      ],
      "text/plain": [
       "   MLPAP_FQ-0619.PV  MLPAP_FR-0632.PV  MLPAP_LIC-0738.PV  MLPAP_LRC-0729.PV  \\\n",
       "0          0.764491          0.793647           0.493109           0.402323   \n",
       "1          0.449790          0.207589           0.617783           0.979570   \n",
       "2          0.743973          0.234615           0.737070           0.981238   \n",
       "3          0.043282          0.464800           0.680941           0.566165   \n",
       "4          0.618680          0.412412           0.900306           0.970726   \n",
       "\n",
       "   MLPAP_PIC-0761.PV  MLPAP_TJ-0757B.PV  MLPAP_TJC-0627.PV  \\\n",
       "0           0.121288           0.220604           0.845217   \n",
       "1           0.249947           0.698360           0.760960   \n",
       "2           0.043582           0.611680           0.489980   \n",
       "3           0.258945           0.406038           0.644817   \n",
       "4           0.315137           0.081503           0.182594   \n",
       "\n",
       "   MLPAP_TJC-0757A.PV  MLPAP_TJC-1721.PV  MLPAP_TRC-0610.PV  \\\n",
       "0            0.341748           0.828474           0.104861   \n",
       "1            0.551403           0.612575           0.752106   \n",
       "2            0.776774           0.744538           0.360018   \n",
       "3            0.078222           0.584410           0.370124   \n",
       "4            0.966963           0.089190           0.550365   \n",
       "\n",
       "   MLPAP_TRC-0747.PV  MLPAP_TRC-0762.PV  MLPAP_TRC-1734.PV  \n",
       "0           0.854533           0.836063           0.077833  \n",
       "1           0.748944           0.044459           0.401593  \n",
       "2           0.749893           0.935489           0.210700  \n",
       "3           0.172916           0.839875           0.400485  \n",
       "4           0.494926           0.072660           0.212647  "
      ]
     },
     "execution_count": 10,
     "metadata": {},
     "output_type": "execute_result"
    }
   ],
   "source": [
    "x = np.random.uniform(0,1,size=(t,n))\n",
    "x = pd.DataFrame(x,columns=x_cols)\n",
    "x.head()"
   ]
  },
  {
   "cell_type": "code",
   "execution_count": 11,
   "metadata": {},
   "outputs": [
    {
     "name": "stdout",
     "output_type": "stream",
     "text": [
      "tensor([[0.5076]], device='cuda:0', dtype=torch.float64,\n",
      "       grad_fn=<SigmoidBackward>)\n"
     ]
    },
    {
     "data": {
      "text/plain": [
       "array([[7540.6914638]])"
      ]
     },
     "execution_count": 11,
     "metadata": {},
     "output_type": "execute_result"
    }
   ],
   "source": [
    "y = critic(torch.tensor(x.values.reshape(-1,t*n)).cuda())\n",
    "print(y)\n",
    "y = mm_y.inverse_transform(y.detach().cpu().numpy())\n",
    "y"
   ]
  },
  {
   "cell_type": "markdown",
   "metadata": {},
   "source": [
    "# build Actor input set_point output feed and control_factor"
   ]
  },
  {
   "cell_type": "code",
   "execution_count": 12,
   "metadata": {},
   "outputs": [],
   "source": [
    "def build_Actor(input_shape,output_shape):\n",
    "    net = torch.nn.Sequential(\n",
    "        Linear(input_shape,256),\n",
    "        ReLU(),\n",
    "        Linear(256,output_shape),\n",
    "        Sigmoid()\n",
    "    )\n",
    "    return net"
   ]
  },
  {
   "cell_type": "code",
   "execution_count": 13,
   "metadata": {},
   "outputs": [],
   "source": [
    "def init_weights(m):\n",
    "  if hasattr(m,'weight'):\n",
    "    torch.nn.init.xavier_uniform(m.weight)\n",
    "  if hasattr(m,'bias'):  \n",
    "    m.bias.data.fill_(0)"
   ]
  },
  {
   "cell_type": "code",
   "execution_count": 14,
   "metadata": {},
   "outputs": [
    {
     "data": {
      "text/plain": [
       "Sequential(\n",
       "  (0): Linear(in_features=1, out_features=256, bias=True)\n",
       "  (1): ReLU()\n",
       "  (2): Linear(in_features=256, out_features=507, bias=True)\n",
       "  (3): Sigmoid()\n",
       ")"
      ]
     },
     "execution_count": 14,
     "metadata": {},
     "output_type": "execute_result"
    }
   ],
   "source": [
    "net = build_Actor(1,t*n).double().cuda()\n",
    "net.apply(init_weights)\n",
    "net"
   ]
  },
  {
   "cell_type": "markdown",
   "metadata": {},
   "source": [
    "# st_iter"
   ]
  },
  {
   "cell_type": "code",
   "execution_count": 15,
   "metadata": {},
   "outputs": [
    {
     "data": {
      "text/plain": [
       "<torch.utils.data.dataloader.DataLoader at 0x7fe2dcc93b50>"
      ]
     },
     "execution_count": 15,
     "metadata": {},
     "output_type": "execute_result"
    }
   ],
   "source": [
    "st = torch.tensor(np.random.uniform(0,1,size=(5000,1))).cuda()\n",
    "st_datasets = torch.utils.data.TensorDataset(st)\n",
    "st_iter = torch.utils.data.DataLoader(st_datasets,batch_size=128)\n",
    "st_iter"
   ]
  },
  {
   "cell_type": "markdown",
   "metadata": {},
   "source": [
    "# obj function"
   ]
  },
  {
   "cell_type": "code",
   "execution_count": 16,
   "metadata": {},
   "outputs": [],
   "source": [
    "def obj_function(x,set_point):\n",
    "    y = critic(x)\n",
    "    loss = (set_point - y)**2\n",
    "    return loss.mean()"
   ]
  },
  {
   "cell_type": "markdown",
   "metadata": {},
   "source": [
    "# optimizer"
   ]
  },
  {
   "cell_type": "code",
   "execution_count": 17,
   "metadata": {},
   "outputs": [],
   "source": [
    "optimizer = optim.Adam(net.parameters(),lr=1e-4)"
   ]
  },
  {
   "cell_type": "markdown",
   "metadata": {},
   "source": [
    "# train"
   ]
  },
  {
   "cell_type": "code",
   "execution_count": 18,
   "metadata": {},
   "outputs": [],
   "source": [
    "def train(net,st_iter,obj_function,optimizer,num_epochs=100):\n",
    "    train_history = []\n",
    "    for epoch in range(num_epochs):\n",
    "        train_avg_loss = 0\n",
    "        t = 0\n",
    "        for st in st_iter:\n",
    "            st = st[0]\n",
    "            z = net(st).cuda()\n",
    "            loss = obj_function(z,st)\n",
    "            loss.backward()\n",
    "            optimizer.step()\n",
    "            optimizer.zero_grad()\n",
    "            train_avg_loss += loss.item()\n",
    "            t += 1\n",
    "        train_avg_loss /= t\n",
    "        print(\"epochs {} loss {:.4f}\".format(epoch,train_avg_loss))\n",
    "        train_history.append(train_avg_loss)\n",
    "    # plt train loss\n",
    "    plt.plot(np.array(train_history))\n",
    "    plt.title('train loss')\n",
    "    # return trained net\n",
    "    return net"
   ]
  },
  {
   "cell_type": "code",
   "execution_count": 19,
   "metadata": {},
   "outputs": [
    {
     "name": "stdout",
     "output_type": "stream",
     "text": [
      "epochs 0 loss 0.0764\n",
      "epochs 1 loss 0.0567\n",
      "epochs 2 loss 0.0473\n",
      "epochs 3 loss 0.0400\n",
      "epochs 4 loss 0.0344\n",
      "epochs 5 loss 0.0297\n",
      "epochs 6 loss 0.0258\n",
      "epochs 7 loss 0.0225\n",
      "epochs 8 loss 0.0197\n",
      "epochs 9 loss 0.0172\n",
      "epochs 10 loss 0.0152\n",
      "epochs 11 loss 0.0135\n",
      "epochs 12 loss 0.0121\n",
      "epochs 13 loss 0.0110\n",
      "epochs 14 loss 0.0100\n",
      "epochs 15 loss 0.0092\n",
      "epochs 16 loss 0.0085\n",
      "epochs 17 loss 0.0079\n",
      "epochs 18 loss 0.0074\n",
      "epochs 19 loss 0.0069\n",
      "epochs 20 loss 0.0065\n",
      "epochs 21 loss 0.0061\n",
      "epochs 22 loss 0.0058\n",
      "epochs 23 loss 0.0055\n",
      "epochs 24 loss 0.0052\n",
      "epochs 25 loss 0.0050\n",
      "epochs 26 loss 0.0048\n",
      "epochs 27 loss 0.0045\n",
      "epochs 28 loss 0.0043\n",
      "epochs 29 loss 0.0042\n",
      "epochs 30 loss 0.0040\n",
      "epochs 31 loss 0.0039\n",
      "epochs 32 loss 0.0038\n",
      "epochs 33 loss 0.0037\n",
      "epochs 34 loss 0.0036\n",
      "epochs 35 loss 0.0035\n",
      "epochs 36 loss 0.0034\n",
      "epochs 37 loss 0.0033\n",
      "epochs 38 loss 0.0032\n",
      "epochs 39 loss 0.0032\n",
      "epochs 40 loss 0.0031\n",
      "epochs 41 loss 0.0031\n",
      "epochs 42 loss 0.0030\n",
      "epochs 43 loss 0.0029\n",
      "epochs 44 loss 0.0029\n",
      "epochs 45 loss 0.0029\n",
      "epochs 46 loss 0.0028\n",
      "epochs 47 loss 0.0028\n",
      "epochs 48 loss 0.0027\n",
      "epochs 49 loss 0.0027\n",
      "epochs 50 loss 0.0027\n",
      "epochs 51 loss 0.0026\n",
      "epochs 52 loss 0.0026\n",
      "epochs 53 loss 0.0026\n",
      "epochs 54 loss 0.0025\n",
      "epochs 55 loss 0.0025\n",
      "epochs 56 loss 0.0025\n",
      "epochs 57 loss 0.0025\n",
      "epochs 58 loss 0.0024\n",
      "epochs 59 loss 0.0024\n",
      "epochs 60 loss 0.0024\n",
      "epochs 61 loss 0.0023\n",
      "epochs 62 loss 0.0023\n",
      "epochs 63 loss 0.0023\n",
      "epochs 64 loss 0.0023\n",
      "epochs 65 loss 0.0022\n",
      "epochs 66 loss 0.0022\n",
      "epochs 67 loss 0.0022\n",
      "epochs 68 loss 0.0022\n",
      "epochs 69 loss 0.0021\n",
      "epochs 70 loss 0.0021\n",
      "epochs 71 loss 0.0021\n",
      "epochs 72 loss 0.0021\n",
      "epochs 73 loss 0.0020\n",
      "epochs 74 loss 0.0020\n",
      "epochs 75 loss 0.0020\n",
      "epochs 76 loss 0.0020\n",
      "epochs 77 loss 0.0020\n",
      "epochs 78 loss 0.0019\n",
      "epochs 79 loss 0.0019\n",
      "epochs 80 loss 0.0019\n",
      "epochs 81 loss 0.0019\n",
      "epochs 82 loss 0.0018\n",
      "epochs 83 loss 0.0018\n",
      "epochs 84 loss 0.0018\n",
      "epochs 85 loss 0.0018\n",
      "epochs 86 loss 0.0018\n",
      "epochs 87 loss 0.0018\n",
      "epochs 88 loss 0.0017\n",
      "epochs 89 loss 0.0017\n",
      "epochs 90 loss 0.0017\n",
      "epochs 91 loss 0.0017\n",
      "epochs 92 loss 0.0017\n",
      "epochs 93 loss 0.0016\n",
      "epochs 94 loss 0.0016\n",
      "epochs 95 loss 0.0016\n",
      "epochs 96 loss 0.0016\n",
      "epochs 97 loss 0.0016\n",
      "epochs 98 loss 0.0016\n",
      "epochs 99 loss 0.0016\n"
     ]
    },
    {
     "data": {
      "image/png": "[encoded data removed]",
      "text/plain": [
       "<Figure size 432x288 with 1 Axes>"
      ]
     },
     "metadata": {
      "needs_background": "light"
     },
     "output_type": "display_data"
    }
   ],
   "source": [
    "net = train(net,st_iter,obj_function,optimizer,num_epochs=100)"
   ]
  },
  {
   "cell_type": "markdown",
   "metadata": {},
   "source": [
    "# result"
   ]
  },
  {
   "cell_type": "code",
   "execution_count": 20,
   "metadata": {},
   "outputs": [],
   "source": [
    "set_point = mm_y.inverse_transform(st.detach().cpu().numpy())\n",
    "critic_output = mm_y.inverse_transform(critic(net(st)).detach().cpu().numpy())"
   ]
  },
  {
   "cell_type": "code",
   "execution_count": 21,
   "metadata": {},
   "outputs": [
    {
     "name": "stdout",
     "output_type": "stream",
     "text": [
      "user_want:[9298.47894371] critic_output[9283.66674413]\n",
      "user_want:[8190.36430589] critic_output[8286.60260731]\n",
      "user_want:[6252.60632995] critic_output[6191.54909943]\n",
      "user_want:[7401.44545944] critic_output[7387.33835278]\n",
      "user_want:[8576.3829697] critic_output[8690.8518816]\n",
      "user_want:[5618.36438416] critic_output[5815.71660951]\n",
      "user_want:[8507.91238595] critic_output[8621.33991322]\n",
      "user_want:[8694.35240213] critic_output[8806.24238317]\n",
      "user_want:[9997.53818224] critic_output[9623.48673483]\n",
      "user_want:[7213.57247758] critic_output[7168.34416866]\n"
     ]
    }
   ],
   "source": [
    "for i,j in zip(set_point[:10],critic_output[:10]):\n",
    "    print('user_want:{} critic_output{}'.format(i,j))"
   ]
  },
  {
   "cell_type": "markdown",
   "metadata": {},
   "source": [
    "# build api"
   ]
  },
  {
   "cell_type": "code",
   "execution_count": 22,
   "metadata": {},
   "outputs": [],
   "source": [
    "def get_advice(set_point):\n",
    "    st = mm_y.transform(np.array([[set_point]]))\n",
    "    st = torch.tensor(st).cuda()\n",
    "    z = net(st)\n",
    "    return z"
   ]
  },
  {
   "cell_type": "code",
   "execution_count": 23,
   "metadata": {},
   "outputs": [],
   "source": [
    "def get_critic_output(advice):\n",
    "    return mm_y.inverse_transform(critic(advice).detach().cpu().numpy())"
   ]
  },
  {
   "cell_type": "markdown",
   "metadata": {},
   "source": [
    "# test api"
   ]
  },
  {
   "cell_type": "code",
   "execution_count": 24,
   "metadata": {},
   "outputs": [],
   "source": [
    "advice = get_advice(8000)\n",
    "get_critic_output(advice)"
   ]
  },
  {
   "cell_type": "code",
   "execution_count": 25,
   "metadata": {},
   "outputs": [
    {
     "data": {
      "text/plain": [
       "array([[8079.31917769]])"
      ]
     },
     "execution_count": 25,
     "metadata": {},
     "output_type": "execute_result"
    }
   ],
   "source": []
  },
  {
   "cell_type": "code",
   "execution_count": null,
   "metadata": {},
   "outputs": [],
   "source": []
  }
 ],
 "metadata": {
  "kernelspec": {
   "display_name": "Python 3",
   "language": "python",
   "name": "python3"
  },
  "language_info": {
   "codemirror_mode": {
    "name": "ipython",
    "version": 3
   },
   "file_extension": ".py",
   "mimetype": "text/x-python",
   "name": "python",
   "nbconvert_exporter": "python",
   "pygments_lexer": "ipython3",
   "version": "3.7.6"
  }
 },
 "nbformat": 4,
 "nbformat_minor": 2
}
